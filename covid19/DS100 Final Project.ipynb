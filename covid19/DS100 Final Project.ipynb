{
 "cells": [
  {
   "cell_type": "markdown",
   "metadata": {},
   "source": [
    "# DS 100 Final Project - Estimating Covid-19 Deaths by Counties"
   ]
  },
  {
   "cell_type": "markdown",
   "metadata": {},
   "source": [
    "By Sunny Shen, Jerome Chen, and Olivia Zhang"
   ]
  },
  {
   "cell_type": "code",
   "execution_count": 957,
   "metadata": {},
   "outputs": [],
   "source": [
    "import numpy as np\n",
    "import pandas as pd\n",
    "import datetime as dt\n",
    "\n",
    "import matplotlib.pyplot as plt\n",
    "%matplotlib inline\n",
    "\n",
    "import seaborn as sns\n",
    "sns.set(style = \"whitegrid\", \n",
    "        color_codes = True,\n",
    "        font_scale = 1.5)"
   ]
  },
  {
   "cell_type": "markdown",
   "metadata": {},
   "source": [
    "# 1. EDA and Data Cleaning"
   ]
  },
  {
   "cell_type": "markdown",
   "metadata": {},
   "source": [
    "## 1.1 Clean Abridged_counties Data"
   ]
  },
  {
   "cell_type": "code",
   "execution_count": 958,
   "metadata": {},
   "outputs": [
    {
     "data": {
      "text/html": [
       "<div>\n",
       "<style scoped>\n",
       "    .dataframe tbody tr th:only-of-type {\n",
       "        vertical-align: middle;\n",
       "    }\n",
       "\n",
       "    .dataframe tbody tr th {\n",
       "        vertical-align: top;\n",
       "    }\n",
       "\n",
       "    .dataframe thead th {\n",
       "        text-align: right;\n",
       "    }\n",
       "</style>\n",
       "<table border=\"1\" class=\"dataframe\">\n",
       "  <thead>\n",
       "    <tr style=\"text-align: right;\">\n",
       "      <th></th>\n",
       "      <th>countyFIPS</th>\n",
       "      <th>STATEFP</th>\n",
       "      <th>COUNTYFP</th>\n",
       "      <th>CountyName</th>\n",
       "      <th>StateName</th>\n",
       "      <th>State</th>\n",
       "      <th>lat</th>\n",
       "      <th>lon</th>\n",
       "      <th>POP_LATITUDE</th>\n",
       "      <th>POP_LONGITUDE</th>\n",
       "      <th>...</th>\n",
       "      <th>&gt;500 gatherings</th>\n",
       "      <th>public schools</th>\n",
       "      <th>restaurant dine-in</th>\n",
       "      <th>entertainment/gym</th>\n",
       "      <th>federal guidelines</th>\n",
       "      <th>foreign travel ban</th>\n",
       "      <th>SVIPercentile</th>\n",
       "      <th>HPSAShortage</th>\n",
       "      <th>HPSAServedPop</th>\n",
       "      <th>HPSAUnderservedPop</th>\n",
       "    </tr>\n",
       "  </thead>\n",
       "  <tbody>\n",
       "    <tr>\n",
       "      <th>0</th>\n",
       "      <td>01001</td>\n",
       "      <td>1.0</td>\n",
       "      <td>1.0</td>\n",
       "      <td>Autauga</td>\n",
       "      <td>AL</td>\n",
       "      <td>Alabama</td>\n",
       "      <td>32.540091</td>\n",
       "      <td>-86.645649</td>\n",
       "      <td>32.500389</td>\n",
       "      <td>-86.494165</td>\n",
       "      <td>...</td>\n",
       "      <td>737497.0</td>\n",
       "      <td>737500.0</td>\n",
       "      <td>737503.0</td>\n",
       "      <td>737512.0</td>\n",
       "      <td>737500.0</td>\n",
       "      <td>737495.0</td>\n",
       "      <td>0.4354</td>\n",
       "      <td>NaN</td>\n",
       "      <td>NaN</td>\n",
       "      <td>NaN</td>\n",
       "    </tr>\n",
       "    <tr>\n",
       "      <th>1</th>\n",
       "      <td>01003</td>\n",
       "      <td>1.0</td>\n",
       "      <td>3.0</td>\n",
       "      <td>Baldwin</td>\n",
       "      <td>AL</td>\n",
       "      <td>Alabama</td>\n",
       "      <td>30.738314</td>\n",
       "      <td>-87.726272</td>\n",
       "      <td>30.548923</td>\n",
       "      <td>-87.762381</td>\n",
       "      <td>...</td>\n",
       "      <td>737497.0</td>\n",
       "      <td>737500.0</td>\n",
       "      <td>737503.0</td>\n",
       "      <td>737512.0</td>\n",
       "      <td>737500.0</td>\n",
       "      <td>737495.0</td>\n",
       "      <td>0.2162</td>\n",
       "      <td>NaN</td>\n",
       "      <td>NaN</td>\n",
       "      <td>NaN</td>\n",
       "    </tr>\n",
       "    <tr>\n",
       "      <th>2</th>\n",
       "      <td>01005</td>\n",
       "      <td>1.0</td>\n",
       "      <td>5.0</td>\n",
       "      <td>Barbour</td>\n",
       "      <td>AL</td>\n",
       "      <td>Alabama</td>\n",
       "      <td>31.874030</td>\n",
       "      <td>-85.397327</td>\n",
       "      <td>31.844036</td>\n",
       "      <td>-85.310038</td>\n",
       "      <td>...</td>\n",
       "      <td>737497.0</td>\n",
       "      <td>737500.0</td>\n",
       "      <td>737503.0</td>\n",
       "      <td>737512.0</td>\n",
       "      <td>737500.0</td>\n",
       "      <td>737495.0</td>\n",
       "      <td>0.9959</td>\n",
       "      <td>6.08</td>\n",
       "      <td>5400.0</td>\n",
       "      <td>18241.0</td>\n",
       "    </tr>\n",
       "    <tr>\n",
       "      <th>3</th>\n",
       "      <td>01007</td>\n",
       "      <td>1.0</td>\n",
       "      <td>7.0</td>\n",
       "      <td>Bibb</td>\n",
       "      <td>AL</td>\n",
       "      <td>Alabama</td>\n",
       "      <td>32.999024</td>\n",
       "      <td>-87.125260</td>\n",
       "      <td>33.030921</td>\n",
       "      <td>-87.127659</td>\n",
       "      <td>...</td>\n",
       "      <td>737497.0</td>\n",
       "      <td>737500.0</td>\n",
       "      <td>737503.0</td>\n",
       "      <td>737512.0</td>\n",
       "      <td>737500.0</td>\n",
       "      <td>737495.0</td>\n",
       "      <td>0.6003</td>\n",
       "      <td>2.75</td>\n",
       "      <td>14980.0</td>\n",
       "      <td>6120.0</td>\n",
       "    </tr>\n",
       "    <tr>\n",
       "      <th>4</th>\n",
       "      <td>01009</td>\n",
       "      <td>1.0</td>\n",
       "      <td>9.0</td>\n",
       "      <td>Blount</td>\n",
       "      <td>AL</td>\n",
       "      <td>Alabama</td>\n",
       "      <td>33.990440</td>\n",
       "      <td>-86.562711</td>\n",
       "      <td>33.955243</td>\n",
       "      <td>-86.591491</td>\n",
       "      <td>...</td>\n",
       "      <td>737497.0</td>\n",
       "      <td>737500.0</td>\n",
       "      <td>737503.0</td>\n",
       "      <td>737512.0</td>\n",
       "      <td>737500.0</td>\n",
       "      <td>737495.0</td>\n",
       "      <td>0.4242</td>\n",
       "      <td>7.21</td>\n",
       "      <td>31850.0</td>\n",
       "      <td>25233.0</td>\n",
       "    </tr>\n",
       "  </tbody>\n",
       "</table>\n",
       "<p>5 rows × 87 columns</p>\n",
       "</div>"
      ],
      "text/plain": [
       "  countyFIPS  STATEFP  COUNTYFP CountyName StateName    State        lat  \\\n",
       "0      01001      1.0       1.0    Autauga        AL  Alabama  32.540091   \n",
       "1      01003      1.0       3.0    Baldwin        AL  Alabama  30.738314   \n",
       "2      01005      1.0       5.0    Barbour        AL  Alabama  31.874030   \n",
       "3      01007      1.0       7.0       Bibb        AL  Alabama  32.999024   \n",
       "4      01009      1.0       9.0     Blount        AL  Alabama  33.990440   \n",
       "\n",
       "         lon  POP_LATITUDE  POP_LONGITUDE  ... >500 gatherings public schools  \\\n",
       "0 -86.645649     32.500389     -86.494165  ...        737497.0       737500.0   \n",
       "1 -87.726272     30.548923     -87.762381  ...        737497.0       737500.0   \n",
       "2 -85.397327     31.844036     -85.310038  ...        737497.0       737500.0   \n",
       "3 -87.125260     33.030921     -87.127659  ...        737497.0       737500.0   \n",
       "4 -86.562711     33.955243     -86.591491  ...        737497.0       737500.0   \n",
       "\n",
       "   restaurant dine-in  entertainment/gym  federal guidelines  \\\n",
       "0            737503.0           737512.0            737500.0   \n",
       "1            737503.0           737512.0            737500.0   \n",
       "2            737503.0           737512.0            737500.0   \n",
       "3            737503.0           737512.0            737500.0   \n",
       "4            737503.0           737512.0            737500.0   \n",
       "\n",
       "   foreign travel ban  SVIPercentile  HPSAShortage  HPSAServedPop  \\\n",
       "0            737495.0         0.4354           NaN            NaN   \n",
       "1            737495.0         0.2162           NaN            NaN   \n",
       "2            737495.0         0.9959          6.08         5400.0   \n",
       "3            737495.0         0.6003          2.75        14980.0   \n",
       "4            737495.0         0.4242          7.21        31850.0   \n",
       "\n",
       "   HPSAUnderservedPop  \n",
       "0                 NaN  \n",
       "1                 NaN  \n",
       "2             18241.0  \n",
       "3              6120.0  \n",
       "4             25233.0  \n",
       "\n",
       "[5 rows x 87 columns]"
      ]
     },
     "execution_count": 958,
     "metadata": {},
     "output_type": "execute_result"
    }
   ],
   "source": [
    "abridged_couties = pd.read_csv('abridged_couties.csv')\n",
    "abridged_couties.head()"
   ]
  },
  {
   "cell_type": "code",
   "execution_count": 959,
   "metadata": {},
   "outputs": [
    {
     "data": {
      "text/plain": [
       "(3244, 87)"
      ]
     },
     "execution_count": 959,
     "metadata": {},
     "output_type": "execute_result"
    }
   ],
   "source": [
    "abridged_couties.shape"
   ]
  },
  {
   "cell_type": "code",
   "execution_count": 960,
   "metadata": {},
   "outputs": [
    {
     "data": {
      "text/plain": [
       "countyFIPS           0\n",
       "CountyName           0\n",
       "StateName            0\n",
       "PopMale5-92010      19\n",
       "PopFmle5-92010      19\n",
       "PopMale10-142010    19\n",
       "PopFmle10-142010    19\n",
       "PopMale15-192010    19\n",
       "PopFmle15-192010    19\n",
       "PopFmle20-242010    19\n",
       "dtype: int64"
      ]
     },
     "execution_count": 960,
     "metadata": {},
     "output_type": "execute_result"
    }
   ],
   "source": [
    "abridged_couties.isna().sum().sort_values().head(10)"
   ]
  },
  {
   "cell_type": "markdown",
   "metadata": {},
   "source": [
    "Only 3 columns have non null values. There are null values in column state. Therefore, we import states.csv in order to fill in the Nah values of column \"State\" in Abridged counties"
   ]
  },
  {
   "cell_type": "code",
   "execution_count": 961,
   "metadata": {},
   "outputs": [],
   "source": [
    "state_name = pd.read_csv('states.csv')\n",
    "state_name = state_name.append({'State':'Puerto Rico', 'Abbreviation':'PR'},ignore_index=True)"
   ]
  },
  {
   "cell_type": "code",
   "execution_count": 962,
   "metadata": {},
   "outputs": [],
   "source": [
    "#fill in rows that have \"State\" as NaN\n",
    "clean_counties = pd.merge(left=abridged_couties, right=state_name, \n",
    "                           left_on='StateName',right_on='Abbreviation',\n",
    "                           how='left').drop(['StateName','State_x'],axis=1)\n",
    "clean_counties = clean_counties.rename(columns={'State_y':'State'})\n",
    "clean_counties = clean_counties[clean_counties['State'].isnull()==False]\n",
    "#right now, all State & State Abbreviation are not null"
   ]
  },
  {
   "cell_type": "code",
   "execution_count": 963,
   "metadata": {},
   "outputs": [],
   "source": [
    "clean_counties['countyFIPS'] = clean_counties['countyFIPS'].astype(str)"
   ]
  },
  {
   "cell_type": "code",
   "execution_count": 964,
   "metadata": {},
   "outputs": [
    {
     "data": {
      "text/plain": [
       "52"
      ]
     },
     "execution_count": 964,
     "metadata": {},
     "output_type": "execute_result"
    }
   ],
   "source": [
    "len(clean_counties['State'].unique()) #There're 52 states"
   ]
  },
  {
   "cell_type": "code",
   "execution_count": 965,
   "metadata": {},
   "outputs": [
    {
     "data": {
      "text/html": [
       "<div>\n",
       "<style scoped>\n",
       "    .dataframe tbody tr th:only-of-type {\n",
       "        vertical-align: middle;\n",
       "    }\n",
       "\n",
       "    .dataframe tbody tr th {\n",
       "        vertical-align: top;\n",
       "    }\n",
       "\n",
       "    .dataframe thead th {\n",
       "        text-align: right;\n",
       "    }\n",
       "</style>\n",
       "<table border=\"1\" class=\"dataframe\">\n",
       "  <thead>\n",
       "    <tr style=\"text-align: right;\">\n",
       "      <th></th>\n",
       "      <th>0</th>\n",
       "    </tr>\n",
       "  </thead>\n",
       "  <tbody>\n",
       "    <tr>\n",
       "      <th>3-YrMortalityAge1-4Years2015-17</th>\n",
       "      <td>3165</td>\n",
       "    </tr>\n",
       "    <tr>\n",
       "      <th>mortality2015-17Estimated</th>\n",
       "      <td>3135</td>\n",
       "    </tr>\n",
       "    <tr>\n",
       "      <th>3-YrMortalityAge5-14Years2015-17</th>\n",
       "      <td>3135</td>\n",
       "    </tr>\n",
       "    <tr>\n",
       "      <th>3-YrMortalityAge&lt;1Year2015-17</th>\n",
       "      <td>2760</td>\n",
       "    </tr>\n",
       "    <tr>\n",
       "      <th>3-YrMortalityAge15-24Years2015-17</th>\n",
       "      <td>2599</td>\n",
       "    </tr>\n",
       "    <tr>\n",
       "      <th>3-YrMortalityAge25-34Years2015-17</th>\n",
       "      <td>2259</td>\n",
       "    </tr>\n",
       "    <tr>\n",
       "      <th>3-YrMortalityAge35-44Years2015-17</th>\n",
       "      <td>1906</td>\n",
       "    </tr>\n",
       "    <tr>\n",
       "      <th>3-YrDiabetes2015-17</th>\n",
       "      <td>1734</td>\n",
       "    </tr>\n",
       "    <tr>\n",
       "      <th>HPSAUnderservedPop</th>\n",
       "      <td>1141</td>\n",
       "    </tr>\n",
       "    <tr>\n",
       "      <th>HPSAServedPop</th>\n",
       "      <td>1141</td>\n",
       "    </tr>\n",
       "    <tr>\n",
       "      <th>HPSAShortage</th>\n",
       "      <td>1141</td>\n",
       "    </tr>\n",
       "    <tr>\n",
       "      <th>3-YrMortalityAge45-54Years2015-17</th>\n",
       "      <td>1061</td>\n",
       "    </tr>\n",
       "    <tr>\n",
       "      <th>stay at home</th>\n",
       "      <td>578</td>\n",
       "    </tr>\n",
       "    <tr>\n",
       "      <th>3-YrMortalityAge55-64Years2015-17</th>\n",
       "      <td>482</td>\n",
       "    </tr>\n",
       "    <tr>\n",
       "      <th>3-YrMortalityAge65-74Years2015-17</th>\n",
       "      <td>320</td>\n",
       "    </tr>\n",
       "    <tr>\n",
       "      <th>3-YrMortalityAge75-84Years2015-17</th>\n",
       "      <td>227</td>\n",
       "    </tr>\n",
       "    <tr>\n",
       "      <th>&gt;50 gatherings</th>\n",
       "      <td>207</td>\n",
       "    </tr>\n",
       "    <tr>\n",
       "      <th>&gt;500 gatherings</th>\n",
       "      <td>207</td>\n",
       "    </tr>\n",
       "    <tr>\n",
       "      <th>3-YrMortalityAge85+Years2015-17</th>\n",
       "      <td>171</td>\n",
       "    </tr>\n",
       "    <tr>\n",
       "      <th>lat</th>\n",
       "      <td>155</td>\n",
       "    </tr>\n",
       "  </tbody>\n",
       "</table>\n",
       "</div>"
      ],
      "text/plain": [
       "                                      0\n",
       "3-YrMortalityAge1-4Years2015-17    3165\n",
       "mortality2015-17Estimated          3135\n",
       "3-YrMortalityAge5-14Years2015-17   3135\n",
       "3-YrMortalityAge<1Year2015-17      2760\n",
       "3-YrMortalityAge15-24Years2015-17  2599\n",
       "3-YrMortalityAge25-34Years2015-17  2259\n",
       "3-YrMortalityAge35-44Years2015-17  1906\n",
       "3-YrDiabetes2015-17                1734\n",
       "HPSAUnderservedPop                 1141\n",
       "HPSAServedPop                      1141\n",
       "HPSAShortage                       1141\n",
       "3-YrMortalityAge45-54Years2015-17  1061\n",
       "stay at home                        578\n",
       "3-YrMortalityAge55-64Years2015-17   482\n",
       "3-YrMortalityAge65-74Years2015-17   320\n",
       "3-YrMortalityAge75-84Years2015-17   227\n",
       ">50 gatherings                      207\n",
       ">500 gatherings                     207\n",
       "3-YrMortalityAge85+Years2015-17     171\n",
       "lat                                 155"
      ]
     },
     "execution_count": 965,
     "metadata": {},
     "output_type": "execute_result"
    }
   ],
   "source": [
    "pd.DataFrame(clean_counties.isna().sum().sort_values(ascending=False)).head(20)"
   ]
  },
  {
   "cell_type": "markdown",
   "metadata": {},
   "source": [
    "There are large amount of null values in columns of information about 3-year mortality, and there're also a lot of null values in columns of inofrmation about hopsital shortage. For those columns, it doesn't make sense to fill them with national averae, so we will drop them later on (after we get the final merged dataframe)"
   ]
  },
  {
   "cell_type": "markdown",
   "metadata": {},
   "source": [
    "## 1.2 Clean Deaths by County Data"
   ]
  },
  {
   "cell_type": "code",
   "execution_count": 966,
   "metadata": {},
   "outputs": [
    {
     "name": "stdout",
     "output_type": "stream",
     "text": [
      "This table has data for 55 different states\n"
     ]
    }
   ],
   "source": [
    "county_death = pd.read_csv('us-counties.csv')\n",
    "print('This table has data for', len(county_death['state'].unique()), 'different states')"
   ]
  },
  {
   "cell_type": "code",
   "execution_count": 967,
   "metadata": {},
   "outputs": [
    {
     "data": {
      "text/plain": [
       "date         0\n",
       "county       0\n",
       "state        0\n",
       "fips      1372\n",
       "cases        0\n",
       "deaths       0\n",
       "dtype: int64"
      ]
     },
     "execution_count": 967,
     "metadata": {},
     "output_type": "execute_result"
    }
   ],
   "source": [
    "county_death.isna().sum()"
   ]
  },
  {
   "cell_type": "code",
   "execution_count": 968,
   "metadata": {},
   "outputs": [
    {
     "data": {
      "text/html": [
       "<div>\n",
       "<style scoped>\n",
       "    .dataframe tbody tr th:only-of-type {\n",
       "        vertical-align: middle;\n",
       "    }\n",
       "\n",
       "    .dataframe tbody tr th {\n",
       "        vertical-align: top;\n",
       "    }\n",
       "\n",
       "    .dataframe thead th {\n",
       "        text-align: right;\n",
       "    }\n",
       "</style>\n",
       "<table border=\"1\" class=\"dataframe\">\n",
       "  <thead>\n",
       "    <tr style=\"text-align: right;\">\n",
       "      <th></th>\n",
       "      <th>date</th>\n",
       "      <th>county</th>\n",
       "      <th>state</th>\n",
       "      <th>fips</th>\n",
       "      <th>cases</th>\n",
       "      <th>deaths</th>\n",
       "    </tr>\n",
       "  </thead>\n",
       "  <tbody>\n",
       "    <tr>\n",
       "      <th>416</th>\n",
       "      <td>2020-03-01</td>\n",
       "      <td>New York City</td>\n",
       "      <td>New York</td>\n",
       "      <td>NaN</td>\n",
       "      <td>1</td>\n",
       "      <td>0</td>\n",
       "    </tr>\n",
       "    <tr>\n",
       "      <th>418</th>\n",
       "      <td>2020-03-01</td>\n",
       "      <td>Unknown</td>\n",
       "      <td>Rhode Island</td>\n",
       "      <td>NaN</td>\n",
       "      <td>2</td>\n",
       "      <td>0</td>\n",
       "    </tr>\n",
       "    <tr>\n",
       "      <th>448</th>\n",
       "      <td>2020-03-02</td>\n",
       "      <td>New York City</td>\n",
       "      <td>New York</td>\n",
       "      <td>NaN</td>\n",
       "      <td>1</td>\n",
       "      <td>0</td>\n",
       "    </tr>\n",
       "    <tr>\n",
       "      <th>450</th>\n",
       "      <td>2020-03-02</td>\n",
       "      <td>Unknown</td>\n",
       "      <td>Rhode Island</td>\n",
       "      <td>NaN</td>\n",
       "      <td>2</td>\n",
       "      <td>0</td>\n",
       "    </tr>\n",
       "    <tr>\n",
       "      <th>482</th>\n",
       "      <td>2020-03-03</td>\n",
       "      <td>New York City</td>\n",
       "      <td>New York</td>\n",
       "      <td>NaN</td>\n",
       "      <td>2</td>\n",
       "      <td>0</td>\n",
       "    </tr>\n",
       "    <tr>\n",
       "      <th>...</th>\n",
       "      <td>...</td>\n",
       "      <td>...</td>\n",
       "      <td>...</td>\n",
       "      <td>...</td>\n",
       "      <td>...</td>\n",
       "      <td>...</td>\n",
       "    </tr>\n",
       "    <tr>\n",
       "      <th>117591</th>\n",
       "      <td>2020-05-05</td>\n",
       "      <td>Unknown</td>\n",
       "      <td>Rhode Island</td>\n",
       "      <td>NaN</td>\n",
       "      <td>1414</td>\n",
       "      <td>36</td>\n",
       "    </tr>\n",
       "    <tr>\n",
       "      <th>118015</th>\n",
       "      <td>2020-05-05</td>\n",
       "      <td>Unknown</td>\n",
       "      <td>Utah</td>\n",
       "      <td>NaN</td>\n",
       "      <td>0</td>\n",
       "      <td>3</td>\n",
       "    </tr>\n",
       "    <tr>\n",
       "      <th>118031</th>\n",
       "      <td>2020-05-05</td>\n",
       "      <td>Unknown</td>\n",
       "      <td>Vermont</td>\n",
       "      <td>NaN</td>\n",
       "      <td>4</td>\n",
       "      <td>0</td>\n",
       "    </tr>\n",
       "    <tr>\n",
       "      <th>118035</th>\n",
       "      <td>2020-05-05</td>\n",
       "      <td>Unknown</td>\n",
       "      <td>Virgin Islands</td>\n",
       "      <td>NaN</td>\n",
       "      <td>66</td>\n",
       "      <td>4</td>\n",
       "    </tr>\n",
       "    <tr>\n",
       "      <th>118154</th>\n",
       "      <td>2020-05-05</td>\n",
       "      <td>Unknown</td>\n",
       "      <td>Virginia</td>\n",
       "      <td>NaN</td>\n",
       "      <td>2</td>\n",
       "      <td>0</td>\n",
       "    </tr>\n",
       "  </tbody>\n",
       "</table>\n",
       "<p>1372 rows × 6 columns</p>\n",
       "</div>"
      ],
      "text/plain": [
       "              date         county           state  fips  cases  deaths\n",
       "416     2020-03-01  New York City        New York   NaN      1       0\n",
       "418     2020-03-01        Unknown    Rhode Island   NaN      2       0\n",
       "448     2020-03-02  New York City        New York   NaN      1       0\n",
       "450     2020-03-02        Unknown    Rhode Island   NaN      2       0\n",
       "482     2020-03-03  New York City        New York   NaN      2       0\n",
       "...            ...            ...             ...   ...    ...     ...\n",
       "117591  2020-05-05        Unknown    Rhode Island   NaN   1414      36\n",
       "118015  2020-05-05        Unknown            Utah   NaN      0       3\n",
       "118031  2020-05-05        Unknown         Vermont   NaN      4       0\n",
       "118035  2020-05-05        Unknown  Virgin Islands   NaN     66       4\n",
       "118154  2020-05-05        Unknown        Virginia   NaN      2       0\n",
       "\n",
       "[1372 rows x 6 columns]"
      ]
     },
     "execution_count": 968,
     "metadata": {},
     "output_type": "execute_result"
    }
   ],
   "source": [
    "county_death[county_death['fips'].isnull()]"
   ]
  },
  {
   "cell_type": "markdown",
   "metadata": {},
   "source": [
    "the rows with null FIPS column also have “unknown” as county names. Therefore we cannot know which county the rows refer to, so we drop the rows with “Unknown” in the county column. We name the dataframe clean_death afterwards."
   ]
  },
  {
   "cell_type": "code",
   "execution_count": 969,
   "metadata": {},
   "outputs": [],
   "source": [
    "#use the most updated data -- May 5th\n",
    "clean_death = county_death[county_death['date']=='2020-05-05']\n",
    "#drop all counties that are \"Unknown\"\n",
    "clean_death = clean_death[clean_death['county']!='Unknown']\n",
    "\n",
    "#NYC and Kansas are special (see https://github.com/nytimes/covid-19-data)\n",
    "\n",
    "clean_death = clean_death.fillna(0) #fill fips for NYC and Kansas\n",
    "clean_death['fips'] = clean_death['fips'].astype(int).astype(str)"
   ]
  },
  {
   "cell_type": "code",
   "execution_count": 970,
   "metadata": {},
   "outputs": [],
   "source": [
    "merge_county_deaths = pd.merge(left=clean_counties, right=clean_death,\n",
    "                               left_on='countyFIPS',right_on='fips')"
   ]
  },
  {
   "cell_type": "code",
   "execution_count": 971,
   "metadata": {},
   "outputs": [
    {
     "data": {
      "text/html": [
       "<div>\n",
       "<style scoped>\n",
       "    .dataframe tbody tr th:only-of-type {\n",
       "        vertical-align: middle;\n",
       "    }\n",
       "\n",
       "    .dataframe tbody tr th {\n",
       "        vertical-align: top;\n",
       "    }\n",
       "\n",
       "    .dataframe thead th {\n",
       "        text-align: right;\n",
       "    }\n",
       "</style>\n",
       "<table border=\"1\" class=\"dataframe\">\n",
       "  <thead>\n",
       "    <tr style=\"text-align: right;\">\n",
       "      <th></th>\n",
       "      <th>countyFIPS</th>\n",
       "      <th>STATEFP</th>\n",
       "      <th>COUNTYFP</th>\n",
       "      <th>CountyName</th>\n",
       "      <th>lat</th>\n",
       "      <th>lon</th>\n",
       "      <th>POP_LATITUDE</th>\n",
       "      <th>POP_LONGITUDE</th>\n",
       "      <th>CensusRegionName</th>\n",
       "      <th>CensusDivisionName</th>\n",
       "      <th>...</th>\n",
       "      <th>HPSAServedPop</th>\n",
       "      <th>HPSAUnderservedPop</th>\n",
       "      <th>State</th>\n",
       "      <th>Abbreviation</th>\n",
       "      <th>date</th>\n",
       "      <th>county</th>\n",
       "      <th>state</th>\n",
       "      <th>fips</th>\n",
       "      <th>cases</th>\n",
       "      <th>deaths</th>\n",
       "    </tr>\n",
       "  </thead>\n",
       "  <tbody>\n",
       "    <tr>\n",
       "      <th>0</th>\n",
       "      <td>10001</td>\n",
       "      <td>10.0</td>\n",
       "      <td>1.0</td>\n",
       "      <td>Kent</td>\n",
       "      <td>39.087654</td>\n",
       "      <td>-75.573876</td>\n",
       "      <td>39.123220</td>\n",
       "      <td>-75.558604</td>\n",
       "      <td>South</td>\n",
       "      <td>South Atlantic</td>\n",
       "      <td>...</td>\n",
       "      <td>0.0</td>\n",
       "      <td>52966.0</td>\n",
       "      <td>Delaware</td>\n",
       "      <td>DE</td>\n",
       "      <td>2020-05-05</td>\n",
       "      <td>Kent</td>\n",
       "      <td>Delaware</td>\n",
       "      <td>10001</td>\n",
       "      <td>847</td>\n",
       "      <td>32</td>\n",
       "    </tr>\n",
       "    <tr>\n",
       "      <th>1</th>\n",
       "      <td>10003</td>\n",
       "      <td>10.0</td>\n",
       "      <td>3.0</td>\n",
       "      <td>New Castle</td>\n",
       "      <td>39.583358</td>\n",
       "      <td>-75.655191</td>\n",
       "      <td>39.685020</td>\n",
       "      <td>-75.634376</td>\n",
       "      <td>South</td>\n",
       "      <td>South Atlantic</td>\n",
       "      <td>...</td>\n",
       "      <td>NaN</td>\n",
       "      <td>NaN</td>\n",
       "      <td>Delaware</td>\n",
       "      <td>DE</td>\n",
       "      <td>2020-05-05</td>\n",
       "      <td>New Castle</td>\n",
       "      <td>Delaware</td>\n",
       "      <td>10003</td>\n",
       "      <td>1979</td>\n",
       "      <td>83</td>\n",
       "    </tr>\n",
       "    <tr>\n",
       "      <th>2</th>\n",
       "      <td>10005</td>\n",
       "      <td>10.0</td>\n",
       "      <td>5.0</td>\n",
       "      <td>Sussex</td>\n",
       "      <td>38.665735</td>\n",
       "      <td>-75.406689</td>\n",
       "      <td>38.662387</td>\n",
       "      <td>-75.346649</td>\n",
       "      <td>South</td>\n",
       "      <td>South Atlantic</td>\n",
       "      <td>...</td>\n",
       "      <td>0.0</td>\n",
       "      <td>65373.0</td>\n",
       "      <td>Delaware</td>\n",
       "      <td>DE</td>\n",
       "      <td>2020-05-05</td>\n",
       "      <td>Sussex</td>\n",
       "      <td>Delaware</td>\n",
       "      <td>10005</td>\n",
       "      <td>2520</td>\n",
       "      <td>72</td>\n",
       "    </tr>\n",
       "    <tr>\n",
       "      <th>3</th>\n",
       "      <td>11001</td>\n",
       "      <td>11.0</td>\n",
       "      <td>1.0</td>\n",
       "      <td>Washington</td>\n",
       "      <td>38.910787</td>\n",
       "      <td>-77.034099</td>\n",
       "      <td>38.910270</td>\n",
       "      <td>-77.014468</td>\n",
       "      <td>South</td>\n",
       "      <td>South Atlantic</td>\n",
       "      <td>...</td>\n",
       "      <td>NaN</td>\n",
       "      <td>NaN</td>\n",
       "      <td>District of Columbia</td>\n",
       "      <td>DC</td>\n",
       "      <td>2020-05-05</td>\n",
       "      <td>District of Columbia</td>\n",
       "      <td>District of Columbia</td>\n",
       "      <td>11001</td>\n",
       "      <td>5322</td>\n",
       "      <td>264</td>\n",
       "    </tr>\n",
       "    <tr>\n",
       "      <th>4</th>\n",
       "      <td>12001</td>\n",
       "      <td>12.0</td>\n",
       "      <td>1.0</td>\n",
       "      <td>Alachua</td>\n",
       "      <td>29.669178</td>\n",
       "      <td>-82.357751</td>\n",
       "      <td>29.665903</td>\n",
       "      <td>-82.386845</td>\n",
       "      <td>South</td>\n",
       "      <td>South Atlantic</td>\n",
       "      <td>...</td>\n",
       "      <td>12780.0</td>\n",
       "      <td>89514.0</td>\n",
       "      <td>Florida</td>\n",
       "      <td>FL</td>\n",
       "      <td>2020-05-05</td>\n",
       "      <td>Alachua</td>\n",
       "      <td>Florida</td>\n",
       "      <td>12001</td>\n",
       "      <td>289</td>\n",
       "      <td>5</td>\n",
       "    </tr>\n",
       "  </tbody>\n",
       "</table>\n",
       "<p>5 rows × 93 columns</p>\n",
       "</div>"
      ],
      "text/plain": [
       "  countyFIPS  STATEFP  COUNTYFP  CountyName        lat        lon  \\\n",
       "0      10001     10.0       1.0        Kent  39.087654 -75.573876   \n",
       "1      10003     10.0       3.0  New Castle  39.583358 -75.655191   \n",
       "2      10005     10.0       5.0      Sussex  38.665735 -75.406689   \n",
       "3      11001     11.0       1.0  Washington  38.910787 -77.034099   \n",
       "4      12001     12.0       1.0     Alachua  29.669178 -82.357751   \n",
       "\n",
       "   POP_LATITUDE  POP_LONGITUDE CensusRegionName CensusDivisionName  ...  \\\n",
       "0     39.123220     -75.558604            South     South Atlantic  ...   \n",
       "1     39.685020     -75.634376            South     South Atlantic  ...   \n",
       "2     38.662387     -75.346649            South     South Atlantic  ...   \n",
       "3     38.910270     -77.014468            South     South Atlantic  ...   \n",
       "4     29.665903     -82.386845            South     South Atlantic  ...   \n",
       "\n",
       "   HPSAServedPop  HPSAUnderservedPop                 State  Abbreviation  \\\n",
       "0            0.0             52966.0              Delaware            DE   \n",
       "1            NaN                 NaN              Delaware            DE   \n",
       "2            0.0             65373.0              Delaware            DE   \n",
       "3            NaN                 NaN  District of Columbia            DC   \n",
       "4        12780.0             89514.0               Florida            FL   \n",
       "\n",
       "         date                county                 state   fips  cases  \\\n",
       "0  2020-05-05                  Kent              Delaware  10001    847   \n",
       "1  2020-05-05            New Castle              Delaware  10003   1979   \n",
       "2  2020-05-05                Sussex              Delaware  10005   2520   \n",
       "3  2020-05-05  District of Columbia  District of Columbia  11001   5322   \n",
       "4  2020-05-05               Alachua               Florida  12001    289   \n",
       "\n",
       "   deaths  \n",
       "0      32  \n",
       "1      83  \n",
       "2      72  \n",
       "3     264  \n",
       "4       5  \n",
       "\n",
       "[5 rows x 93 columns]"
      ]
     },
     "execution_count": 971,
     "metadata": {},
     "output_type": "execute_result"
    }
   ],
   "source": [
    "#merge county demographic features & county deaths\n",
    "#NYC and Kansas are unique cases, they're left out in this table becuase it was inner merge\n",
    "merge_county_deaths.head()"
   ]
  },
  {
   "cell_type": "code",
   "execution_count": 972,
   "metadata": {},
   "outputs": [
    {
     "data": {
      "text/plain": [
       "(2572, 93)"
      ]
     },
     "execution_count": 972,
     "metadata": {},
     "output_type": "execute_result"
    }
   ],
   "source": [
    "merge_county_deaths.shape"
   ]
  },
  {
   "cell_type": "code",
   "execution_count": 973,
   "metadata": {},
   "outputs": [],
   "source": [
    "# we drop columns that either have way too many null values or aren't useful to our project (like latitude/longitude)\n",
    "\n",
    "useful_col = merge_county_deaths.drop(['STATEFP', 'COUNTYFP','lat', 'lon',\n",
    "       'POP_LATITUDE', 'POP_LONGITUDE', 'CensusRegionName','PopTotalMale2017', 'PopTotalFemale2017',\n",
    "       'FracMale2017',\n",
    "       'CensusDivisionName', 'Rural-UrbanContinuumCode2013','date','county','state','fips'\n",
    "                          ,'3-YrMortalityAge<1Year2015-17',\n",
    "       '3-YrMortalityAge1-4Years2015-17', '3-YrMortalityAge5-14Years2015-17',\n",
    "       '3-YrMortalityAge15-24Years2015-17',\n",
    "       '3-YrMortalityAge25-34Years2015-17',\n",
    "       '3-YrMortalityAge35-44Years2015-17',\n",
    "       '3-YrMortalityAge45-54Years2015-17',\n",
    "       '3-YrMortalityAge55-64Years2015-17',\n",
    "       '3-YrMortalityAge65-74Years2015-17',\n",
    "       '3-YrMortalityAge75-84Years2015-17', '3-YrMortalityAge85+Years2015-17','3-YrDiabetes2015-17',\n",
    "        'HPSAShortage', 'HPSAServedPop', 'HPSAUnderservedPop','Abbreviation','mortality2015-17Estimated'],axis=1)\n",
    "cols = useful_col.columns.to_list()"
   ]
  },
  {
   "cell_type": "code",
   "execution_count": 974,
   "metadata": {},
   "outputs": [
    {
     "data": {
      "text/plain": [
       "(2572, 60)"
      ]
     },
     "execution_count": 974,
     "metadata": {},
     "output_type": "execute_result"
    }
   ],
   "source": [
    "useful_col.shape"
   ]
  },
  {
   "cell_type": "code",
   "execution_count": 975,
   "metadata": {},
   "outputs": [
    {
     "data": {
      "text/plain": [
       "Text(0.5, 1.0, 'Number of null values in useful_col')"
      ]
     },
     "execution_count": 975,
     "metadata": {},
     "output_type": "execute_result"
    },
    {
     "data": {
      "image/png": "[encoded data removed]",
      "text/plain": [
       "<Figure size 432x288 with 1 Axes>"
      ]
     },
     "metadata": {},
     "output_type": "display_data"
    }
   ],
   "source": [
    "null = pd.DataFrame(useful_col.isna().sum().sort_values(ascending=False)).head(10)\n",
    "plt.barh(null.index, null[0])\n",
    "plt.title('Number of null values in useful_col')"
   ]
  },
  {
   "cell_type": "markdown",
   "metadata": {},
   "source": [
    "We explore the null values in the dataframe useful_col, and we find that there are still null values of policy columns like “stay at home”, “>500 gaterings”, “>50 gatherings”, etc. After some online research we find out that for counties that have null values in those columns, they do not have those policies restricting people’s activities in their counties, and therefore we wiill fill the values with the ordinal numbers of today’s date, assuming the dates of the start of the policies would have an impact on deaths (this happens later on in the notebook)\n"
   ]
  },
  {
   "cell_type": "code",
   "execution_count": 976,
   "metadata": {},
   "outputs": [
    {
     "data": {
      "text/html": [
       "<div>\n",
       "<style scoped>\n",
       "    .dataframe tbody tr th:only-of-type {\n",
       "        vertical-align: middle;\n",
       "    }\n",
       "\n",
       "    .dataframe tbody tr th {\n",
       "        vertical-align: top;\n",
       "    }\n",
       "\n",
       "    .dataframe thead th {\n",
       "        text-align: right;\n",
       "    }\n",
       "</style>\n",
       "<table border=\"1\" class=\"dataframe\">\n",
       "  <thead>\n",
       "    <tr style=\"text-align: right;\">\n",
       "      <th></th>\n",
       "      <th>countyFIPS</th>\n",
       "      <th>CountyName</th>\n",
       "      <th>State</th>\n",
       "      <th>cases</th>\n",
       "      <th>deaths</th>\n",
       "      <th>PopulationEstimate2018</th>\n",
       "      <th>PopulationEstimate65+2017</th>\n",
       "      <th>PopulationDensityperSqMile2010</th>\n",
       "      <th>CensusPopulation2010</th>\n",
       "      <th>MedianAge2010</th>\n",
       "      <th>...</th>\n",
       "      <th>PopFmle&gt;842010</th>\n",
       "      <th>stay at home</th>\n",
       "      <th>&gt;50 gatherings</th>\n",
       "      <th>&gt;500 gatherings</th>\n",
       "      <th>public schools</th>\n",
       "      <th>restaurant dine-in</th>\n",
       "      <th>entertainment/gym</th>\n",
       "      <th>federal guidelines</th>\n",
       "      <th>foreign travel ban</th>\n",
       "      <th>SVIPercentile</th>\n",
       "    </tr>\n",
       "  </thead>\n",
       "  <tbody>\n",
       "    <tr>\n",
       "      <th>0</th>\n",
       "      <td>10001</td>\n",
       "      <td>Kent</td>\n",
       "      <td>Delaware</td>\n",
       "      <td>847</td>\n",
       "      <td>32</td>\n",
       "      <td>178550.0</td>\n",
       "      <td>29407.0</td>\n",
       "      <td>276.9</td>\n",
       "      <td>162310.0</td>\n",
       "      <td>36.6</td>\n",
       "      <td>...</td>\n",
       "      <td>1643.0</td>\n",
       "      <td>737508.0</td>\n",
       "      <td>737508.0</td>\n",
       "      <td>737508.0</td>\n",
       "      <td>737500.0</td>\n",
       "      <td>737496.0</td>\n",
       "      <td>737496.0</td>\n",
       "      <td>737500.0</td>\n",
       "      <td>737495.0</td>\n",
       "      <td>0.7268</td>\n",
       "    </tr>\n",
       "    <tr>\n",
       "      <th>1</th>\n",
       "      <td>10003</td>\n",
       "      <td>New Castle</td>\n",
       "      <td>Delaware</td>\n",
       "      <td>1979</td>\n",
       "      <td>83</td>\n",
       "      <td>559335.0</td>\n",
       "      <td>84505.0</td>\n",
       "      <td>1263.2</td>\n",
       "      <td>538479.0</td>\n",
       "      <td>37.2</td>\n",
       "      <td>...</td>\n",
       "      <td>6204.0</td>\n",
       "      <td>737508.0</td>\n",
       "      <td>737508.0</td>\n",
       "      <td>737508.0</td>\n",
       "      <td>737500.0</td>\n",
       "      <td>737496.0</td>\n",
       "      <td>737496.0</td>\n",
       "      <td>737500.0</td>\n",
       "      <td>737495.0</td>\n",
       "      <td>0.3761</td>\n",
       "    </tr>\n",
       "    <tr>\n",
       "      <th>2</th>\n",
       "      <td>10005</td>\n",
       "      <td>Sussex</td>\n",
       "      <td>Delaware</td>\n",
       "      <td>2520</td>\n",
       "      <td>72</td>\n",
       "      <td>229286.0</td>\n",
       "      <td>60216.0</td>\n",
       "      <td>210.6</td>\n",
       "      <td>197145.0</td>\n",
       "      <td>45.4</td>\n",
       "      <td>...</td>\n",
       "      <td>2783.0</td>\n",
       "      <td>737508.0</td>\n",
       "      <td>737508.0</td>\n",
       "      <td>737508.0</td>\n",
       "      <td>737500.0</td>\n",
       "      <td>737496.0</td>\n",
       "      <td>737496.0</td>\n",
       "      <td>737500.0</td>\n",
       "      <td>737495.0</td>\n",
       "      <td>0.4019</td>\n",
       "    </tr>\n",
       "    <tr>\n",
       "      <th>3</th>\n",
       "      <td>11001</td>\n",
       "      <td>Washington</td>\n",
       "      <td>District of Columbia</td>\n",
       "      <td>5322</td>\n",
       "      <td>264</td>\n",
       "      <td>702455.0</td>\n",
       "      <td>83734.0</td>\n",
       "      <td>9856.5</td>\n",
       "      <td>601723.0</td>\n",
       "      <td>33.8</td>\n",
       "      <td>...</td>\n",
       "      <td>7198.0</td>\n",
       "      <td>737516.0</td>\n",
       "      <td>737509.0</td>\n",
       "      <td>737509.0</td>\n",
       "      <td>737500.0</td>\n",
       "      <td>737500.0</td>\n",
       "      <td>737500.0</td>\n",
       "      <td>737500.0</td>\n",
       "      <td>737495.0</td>\n",
       "      <td>0.5965</td>\n",
       "    </tr>\n",
       "    <tr>\n",
       "      <th>4</th>\n",
       "      <td>12001</td>\n",
       "      <td>Alachua</td>\n",
       "      <td>Florida</td>\n",
       "      <td>289</td>\n",
       "      <td>5</td>\n",
       "      <td>269956.0</td>\n",
       "      <td>36299.0</td>\n",
       "      <td>282.7</td>\n",
       "      <td>247336.0</td>\n",
       "      <td>30.1</td>\n",
       "      <td>...</td>\n",
       "      <td>2427.0</td>\n",
       "      <td>737509.0</td>\n",
       "      <td>737501.0</td>\n",
       "      <td>737501.0</td>\n",
       "      <td>737500.0</td>\n",
       "      <td>737504.0</td>\n",
       "      <td>737504.0</td>\n",
       "      <td>737500.0</td>\n",
       "      <td>737495.0</td>\n",
       "      <td>0.4729</td>\n",
       "    </tr>\n",
       "  </tbody>\n",
       "</table>\n",
       "<p>5 rows × 60 columns</p>\n",
       "</div>"
      ],
      "text/plain": [
       "  countyFIPS  CountyName                 State  cases  deaths  \\\n",
       "0      10001        Kent              Delaware    847      32   \n",
       "1      10003  New Castle              Delaware   1979      83   \n",
       "2      10005      Sussex              Delaware   2520      72   \n",
       "3      11001  Washington  District of Columbia   5322     264   \n",
       "4      12001     Alachua               Florida    289       5   \n",
       "\n",
       "   PopulationEstimate2018  PopulationEstimate65+2017  \\\n",
       "0                178550.0                    29407.0   \n",
       "1                559335.0                    84505.0   \n",
       "2                229286.0                    60216.0   \n",
       "3                702455.0                    83734.0   \n",
       "4                269956.0                    36299.0   \n",
       "\n",
       "   PopulationDensityperSqMile2010  CensusPopulation2010  MedianAge2010  ...  \\\n",
       "0                           276.9              162310.0           36.6  ...   \n",
       "1                          1263.2              538479.0           37.2  ...   \n",
       "2                           210.6              197145.0           45.4  ...   \n",
       "3                          9856.5              601723.0           33.8  ...   \n",
       "4                           282.7              247336.0           30.1  ...   \n",
       "\n",
       "   PopFmle>842010  stay at home  >50 gatherings  >500 gatherings  \\\n",
       "0          1643.0      737508.0        737508.0         737508.0   \n",
       "1          6204.0      737508.0        737508.0         737508.0   \n",
       "2          2783.0      737508.0        737508.0         737508.0   \n",
       "3          7198.0      737516.0        737509.0         737509.0   \n",
       "4          2427.0      737509.0        737501.0         737501.0   \n",
       "\n",
       "   public schools  restaurant dine-in  entertainment/gym  federal guidelines  \\\n",
       "0        737500.0            737496.0           737496.0            737500.0   \n",
       "1        737500.0            737496.0           737496.0            737500.0   \n",
       "2        737500.0            737496.0           737496.0            737500.0   \n",
       "3        737500.0            737500.0           737500.0            737500.0   \n",
       "4        737500.0            737504.0           737504.0            737500.0   \n",
       "\n",
       "   foreign travel ban  SVIPercentile  \n",
       "0            737495.0         0.7268  \n",
       "1            737495.0         0.3761  \n",
       "2            737495.0         0.4019  \n",
       "3            737495.0         0.5965  \n",
       "4            737495.0         0.4729  \n",
       "\n",
       "[5 rows x 60 columns]"
      ]
     },
     "execution_count": 976,
     "metadata": {},
     "output_type": "execute_result"
    }
   ],
   "source": [
    "#just change the column order so that it's easier to read\n",
    "\n",
    "re_col = cols[:2] + cols[-3:] + cols[2:-3]\n",
    "re_col_dt = useful_col[re_col]\n",
    "re_col_dt.head()"
   ]
  },
  {
   "cell_type": "markdown",
   "metadata": {},
   "source": [
    "## 1.3 Clean poverty data"
   ]
  },
  {
   "cell_type": "code",
   "execution_count": 977,
   "metadata": {},
   "outputs": [],
   "source": [
    "PovertyEstimates = pd.read_csv('PovertyEstimates.csv')"
   ]
  },
  {
   "cell_type": "code",
   "execution_count": 978,
   "metadata": {},
   "outputs": [
    {
     "data": {
      "text/html": [
       "<div>\n",
       "<style scoped>\n",
       "    .dataframe tbody tr th:only-of-type {\n",
       "        vertical-align: middle;\n",
       "    }\n",
       "\n",
       "    .dataframe tbody tr th {\n",
       "        vertical-align: top;\n",
       "    }\n",
       "\n",
       "    .dataframe thead th {\n",
       "        text-align: right;\n",
       "    }\n",
       "</style>\n",
       "<table border=\"1\" class=\"dataframe\">\n",
       "  <thead>\n",
       "    <tr style=\"text-align: right;\">\n",
       "      <th></th>\n",
       "      <th>countyFIPS</th>\n",
       "      <th>Poverty Pct All Ages 2018</th>\n",
       "      <th>Median Household Income 2018</th>\n",
       "    </tr>\n",
       "  </thead>\n",
       "  <tbody>\n",
       "    <tr>\n",
       "      <th>0</th>\n",
       "      <td>1001</td>\n",
       "      <td>13.8</td>\n",
       "      <td>59338</td>\n",
       "    </tr>\n",
       "    <tr>\n",
       "      <th>1</th>\n",
       "      <td>1003</td>\n",
       "      <td>9.8</td>\n",
       "      <td>57588</td>\n",
       "    </tr>\n",
       "    <tr>\n",
       "      <th>2</th>\n",
       "      <td>1005</td>\n",
       "      <td>30.9</td>\n",
       "      <td>34382</td>\n",
       "    </tr>\n",
       "    <tr>\n",
       "      <th>3</th>\n",
       "      <td>1007</td>\n",
       "      <td>21.8</td>\n",
       "      <td>46064</td>\n",
       "    </tr>\n",
       "    <tr>\n",
       "      <th>4</th>\n",
       "      <td>1009</td>\n",
       "      <td>13.2</td>\n",
       "      <td>50412</td>\n",
       "    </tr>\n",
       "  </tbody>\n",
       "</table>\n",
       "</div>"
      ],
      "text/plain": [
       "  countyFIPS  Poverty Pct All Ages 2018  Median Household Income 2018\n",
       "0       1001                       13.8                         59338\n",
       "1       1003                        9.8                         57588\n",
       "2       1005                       30.9                         34382\n",
       "3       1007                       21.8                         46064\n",
       "4       1009                       13.2                         50412"
      ]
     },
     "execution_count": 978,
     "metadata": {},
     "output_type": "execute_result"
    }
   ],
   "source": [
    "poverty = PovertyEstimates[['countyFIPS','Poverty Pct All Ages 2018','Median Household Income 2018']]\n",
    "poverty['countyFIPS'] = poverty['countyFIPS'].astype(str)\n",
    "poverty.head()"
   ]
  },
  {
   "cell_type": "code",
   "execution_count": 979,
   "metadata": {},
   "outputs": [
    {
     "data": {
      "text/html": [
       "<div>\n",
       "<style scoped>\n",
       "    .dataframe tbody tr th:only-of-type {\n",
       "        vertical-align: middle;\n",
       "    }\n",
       "\n",
       "    .dataframe tbody tr th {\n",
       "        vertical-align: top;\n",
       "    }\n",
       "\n",
       "    .dataframe thead th {\n",
       "        text-align: right;\n",
       "    }\n",
       "</style>\n",
       "<table border=\"1\" class=\"dataframe\">\n",
       "  <thead>\n",
       "    <tr style=\"text-align: right;\">\n",
       "      <th></th>\n",
       "      <th>countyFIPS</th>\n",
       "      <th>CountyName</th>\n",
       "      <th>State</th>\n",
       "      <th>cases</th>\n",
       "      <th>deaths</th>\n",
       "      <th>PopulationEstimate2018</th>\n",
       "      <th>PopulationEstimate65+2017</th>\n",
       "      <th>PopulationDensityperSqMile2010</th>\n",
       "      <th>CensusPopulation2010</th>\n",
       "      <th>MedianAge2010</th>\n",
       "      <th>...</th>\n",
       "      <th>&gt;50 gatherings</th>\n",
       "      <th>&gt;500 gatherings</th>\n",
       "      <th>public schools</th>\n",
       "      <th>restaurant dine-in</th>\n",
       "      <th>entertainment/gym</th>\n",
       "      <th>federal guidelines</th>\n",
       "      <th>foreign travel ban</th>\n",
       "      <th>SVIPercentile</th>\n",
       "      <th>Poverty Pct All Ages 2018</th>\n",
       "      <th>Median Household Income 2018</th>\n",
       "    </tr>\n",
       "  </thead>\n",
       "  <tbody>\n",
       "    <tr>\n",
       "      <th>0</th>\n",
       "      <td>10001</td>\n",
       "      <td>Kent</td>\n",
       "      <td>Delaware</td>\n",
       "      <td>847</td>\n",
       "      <td>32</td>\n",
       "      <td>178550.0</td>\n",
       "      <td>29407.0</td>\n",
       "      <td>276.9</td>\n",
       "      <td>162310.0</td>\n",
       "      <td>36.6</td>\n",
       "      <td>...</td>\n",
       "      <td>737508.0</td>\n",
       "      <td>737508.0</td>\n",
       "      <td>737500.0</td>\n",
       "      <td>737496.0</td>\n",
       "      <td>737496.0</td>\n",
       "      <td>737500.0</td>\n",
       "      <td>737495.0</td>\n",
       "      <td>0.7268</td>\n",
       "      <td>13.8</td>\n",
       "      <td>54980</td>\n",
       "    </tr>\n",
       "    <tr>\n",
       "      <th>1</th>\n",
       "      <td>10003</td>\n",
       "      <td>New Castle</td>\n",
       "      <td>Delaware</td>\n",
       "      <td>1979</td>\n",
       "      <td>83</td>\n",
       "      <td>559335.0</td>\n",
       "      <td>84505.0</td>\n",
       "      <td>1263.2</td>\n",
       "      <td>538479.0</td>\n",
       "      <td>37.2</td>\n",
       "      <td>...</td>\n",
       "      <td>737508.0</td>\n",
       "      <td>737508.0</td>\n",
       "      <td>737500.0</td>\n",
       "      <td>737496.0</td>\n",
       "      <td>737496.0</td>\n",
       "      <td>737500.0</td>\n",
       "      <td>737495.0</td>\n",
       "      <td>0.3761</td>\n",
       "      <td>11.6</td>\n",
       "      <td>69562</td>\n",
       "    </tr>\n",
       "    <tr>\n",
       "      <th>2</th>\n",
       "      <td>10005</td>\n",
       "      <td>Sussex</td>\n",
       "      <td>Delaware</td>\n",
       "      <td>2520</td>\n",
       "      <td>72</td>\n",
       "      <td>229286.0</td>\n",
       "      <td>60216.0</td>\n",
       "      <td>210.6</td>\n",
       "      <td>197145.0</td>\n",
       "      <td>45.4</td>\n",
       "      <td>...</td>\n",
       "      <td>737508.0</td>\n",
       "      <td>737508.0</td>\n",
       "      <td>737500.0</td>\n",
       "      <td>737496.0</td>\n",
       "      <td>737496.0</td>\n",
       "      <td>737500.0</td>\n",
       "      <td>737495.0</td>\n",
       "      <td>0.4019</td>\n",
       "      <td>12.3</td>\n",
       "      <td>59821</td>\n",
       "    </tr>\n",
       "    <tr>\n",
       "      <th>3</th>\n",
       "      <td>11001</td>\n",
       "      <td>Washington</td>\n",
       "      <td>District of Columbia</td>\n",
       "      <td>5322</td>\n",
       "      <td>264</td>\n",
       "      <td>702455.0</td>\n",
       "      <td>83734.0</td>\n",
       "      <td>9856.5</td>\n",
       "      <td>601723.0</td>\n",
       "      <td>33.8</td>\n",
       "      <td>...</td>\n",
       "      <td>737509.0</td>\n",
       "      <td>737509.0</td>\n",
       "      <td>737500.0</td>\n",
       "      <td>737500.0</td>\n",
       "      <td>737500.0</td>\n",
       "      <td>737500.0</td>\n",
       "      <td>737495.0</td>\n",
       "      <td>0.5965</td>\n",
       "      <td>16.1</td>\n",
       "      <td>82533</td>\n",
       "    </tr>\n",
       "    <tr>\n",
       "      <th>4</th>\n",
       "      <td>12001</td>\n",
       "      <td>Alachua</td>\n",
       "      <td>Florida</td>\n",
       "      <td>289</td>\n",
       "      <td>5</td>\n",
       "      <td>269956.0</td>\n",
       "      <td>36299.0</td>\n",
       "      <td>282.7</td>\n",
       "      <td>247336.0</td>\n",
       "      <td>30.1</td>\n",
       "      <td>...</td>\n",
       "      <td>737501.0</td>\n",
       "      <td>737501.0</td>\n",
       "      <td>737500.0</td>\n",
       "      <td>737504.0</td>\n",
       "      <td>737504.0</td>\n",
       "      <td>737500.0</td>\n",
       "      <td>737495.0</td>\n",
       "      <td>0.4729</td>\n",
       "      <td>19.8</td>\n",
       "      <td>51026</td>\n",
       "    </tr>\n",
       "  </tbody>\n",
       "</table>\n",
       "<p>5 rows × 62 columns</p>\n",
       "</div>"
      ],
      "text/plain": [
       "  countyFIPS  CountyName                 State  cases  deaths  \\\n",
       "0      10001        Kent              Delaware    847      32   \n",
       "1      10003  New Castle              Delaware   1979      83   \n",
       "2      10005      Sussex              Delaware   2520      72   \n",
       "3      11001  Washington  District of Columbia   5322     264   \n",
       "4      12001     Alachua               Florida    289       5   \n",
       "\n",
       "   PopulationEstimate2018  PopulationEstimate65+2017  \\\n",
       "0                178550.0                    29407.0   \n",
       "1                559335.0                    84505.0   \n",
       "2                229286.0                    60216.0   \n",
       "3                702455.0                    83734.0   \n",
       "4                269956.0                    36299.0   \n",
       "\n",
       "   PopulationDensityperSqMile2010  CensusPopulation2010  MedianAge2010  ...  \\\n",
       "0                           276.9              162310.0           36.6  ...   \n",
       "1                          1263.2              538479.0           37.2  ...   \n",
       "2                           210.6              197145.0           45.4  ...   \n",
       "3                          9856.5              601723.0           33.8  ...   \n",
       "4                           282.7              247336.0           30.1  ...   \n",
       "\n",
       "   >50 gatherings  >500 gatherings  public schools  restaurant dine-in  \\\n",
       "0        737508.0         737508.0        737500.0            737496.0   \n",
       "1        737508.0         737508.0        737500.0            737496.0   \n",
       "2        737508.0         737508.0        737500.0            737496.0   \n",
       "3        737509.0         737509.0        737500.0            737500.0   \n",
       "4        737501.0         737501.0        737500.0            737504.0   \n",
       "\n",
       "   entertainment/gym  federal guidelines  foreign travel ban  SVIPercentile  \\\n",
       "0           737496.0            737500.0            737495.0         0.7268   \n",
       "1           737496.0            737500.0            737495.0         0.3761   \n",
       "2           737496.0            737500.0            737495.0         0.4019   \n",
       "3           737500.0            737500.0            737495.0         0.5965   \n",
       "4           737504.0            737500.0            737495.0         0.4729   \n",
       "\n",
       "   Poverty Pct All Ages 2018  Median Household Income 2018  \n",
       "0                       13.8                         54980  \n",
       "1                       11.6                         69562  \n",
       "2                       12.3                         59821  \n",
       "3                       16.1                         82533  \n",
       "4                       19.8                         51026  \n",
       "\n",
       "[5 rows x 62 columns]"
      ]
     },
     "execution_count": 979,
     "metadata": {},
     "output_type": "execute_result"
    }
   ],
   "source": [
    "pov_death_county = pd.merge(left=re_col_dt,right = poverty, on='countyFIPS',how='left')\n",
    "pov_death_county.head()"
   ]
  },
  {
   "cell_type": "code",
   "execution_count": 980,
   "metadata": {},
   "outputs": [
    {
     "data": {
      "text/plain": [
       "stay at home                      333\n",
       ">50 gatherings                     83\n",
       ">500 gatherings                    83\n",
       "entertainment/gym                  46\n",
       "MedicareEnrollment,AgedTot2017      4\n",
       "                                 ... \n",
       "PopMale25-292010                    0\n",
       "PopFmle20-242010                    0\n",
       "PopMale20-242010                    0\n",
       "Poverty Pct All Ages 2018           0\n",
       "countyFIPS                          0\n",
       "Length: 62, dtype: int64"
      ]
     },
     "execution_count": 980,
     "metadata": {},
     "output_type": "execute_result"
    }
   ],
   "source": [
    "pov_death_county.isna().sum().sort_values(ascending=False)"
   ]
  },
  {
   "cell_type": "code",
   "execution_count": 981,
   "metadata": {},
   "outputs": [
    {
     "data": {
      "text/plain": [
       "South Dakota    46\n",
       "North Dakota    37\n",
       "Name: State, dtype: int64"
      ]
     },
     "execution_count": 981,
     "metadata": {},
     "output_type": "execute_result"
    }
   ],
   "source": [
    "pov_death_county[pov_death_county['>50 gatherings'].isnull()][['CountyName',\n",
    "                                                             'State','stay at home']]['State'].value_counts()\n",
    "#North Dakota, Nebraska, Iowa and Arkansas are the only states where no one is under a stay-at-home order.\n",
    "#assume the nan values mean that the counties don't haave stay at home order -- we can fill the NaN with today's date"
   ]
  },
  {
   "cell_type": "markdown",
   "metadata": {},
   "source": [
    "Based on previous reasoning, counties that have null values in those columns, they do not have those policies restricting people’s activities in their counties, so we fill the values with the ordinal numbers of today’s date, assuming the dates of the start of the policies would have an impact on deaths."
   ]
  },
  {
   "cell_type": "code",
   "execution_count": 982,
   "metadata": {},
   "outputs": [],
   "source": [
    "may7= pd.to_datetime('today').toordinal() #todays date in ordinal"
   ]
  },
  {
   "cell_type": "code",
   "execution_count": 983,
   "metadata": {},
   "outputs": [],
   "source": [
    "fill_with_date = {'stay at home': pd.to_datetime('today').toordinal(),\n",
    "                  '>50 gatherings': pd.to_datetime('today').toordinal(),\n",
    "                 '>500 gatherings':pd.to_datetime('today').toordinal(),\n",
    "                 'entertainment/gym':pd.to_datetime('today').toordinal()}\n",
    "pov_death_county = pov_death_county.fillna(fill_with_date)"
   ]
  },
  {
   "cell_type": "code",
   "execution_count": 984,
   "metadata": {},
   "outputs": [
    {
     "data": {
      "text/plain": [
       "MedicareEnrollment,AgedTot2017      4\n",
       "SVIPercentile                       1\n",
       "Median Household Income 2018        0\n",
       "Smokers_Percentage                  0\n",
       "PopMale10-142010                    0\n",
       "PopFmle5-92010                      0\n",
       "PopMale5-92010                      0\n",
       "PopFmle<52010                       0\n",
       "PopMale<52010                       0\n",
       "dem_to_rep_ratio                    0\n",
       "#ICU_beds                           0\n",
       "#Hospitals                          0\n",
       "#HospParticipatinginNetwork2017     0\n",
       "TotalM.D.'s,TotNon-FedandFed2017    0\n",
       "#FTEHospitalTotal2017               0\n",
       "RespMortalityRate2014               0\n",
       "HeartDiseaseMortality               0\n",
       "StrokeMortality                     0\n",
       "PopMale15-192010                    0\n",
       "DiabetesPercentage                  0\n",
       "dtype: int64"
      ]
     },
     "execution_count": 984,
     "metadata": {},
     "output_type": "execute_result"
    }
   ],
   "source": [
    "pov_death_county.isna().sum().sort_values(ascending=False).head(20)"
   ]
  },
  {
   "cell_type": "code",
   "execution_count": 985,
   "metadata": {},
   "outputs": [],
   "source": [
    "#fill in medicare enrollment by estimating the overall percentage of people in medicare throughout the country\n",
    "medicare_perc = sum(pov_death_county['MedicareEnrollment,AgedTot2017'].fillna(0))/sum(pov_death_county['PopulationEstimate2018'])\n",
    "\n",
    "#index of null medicare\n",
    "index= pov_death_county[pov_death_county['MedicareEnrollment,AgedTot2017'].isnull()].index\n",
    "#fill in values = pop * %of people in medicare\n",
    "for x in index:\n",
    "    pov_death_county.loc[x, 'MedicareEnrollment,AgedTot2017'] = medicare_perc * pov_death_county.loc[x, 'PopulationEstimate2018']"
   ]
  },
  {
   "cell_type": "code",
   "execution_count": 986,
   "metadata": {},
   "outputs": [],
   "source": [
    "#fill in nan values for SVIPercentile column with the nation average\n",
    "index2= pov_death_county[pov_death_county['SVIPercentile'].isnull()].index\n",
    "pov_death_county.loc[index2, 'SVIPercentile'] = np.mean(pov_death_county['SVIPercentile'].fillna(0))"
   ]
  },
  {
   "cell_type": "code",
   "execution_count": 987,
   "metadata": {},
   "outputs": [
    {
     "data": {
      "text/plain": [
       "Median Household Income 2018    0\n",
       "Smokers_Percentage              0\n",
       "PopFmle10-142010                0\n",
       "PopMale10-142010                0\n",
       "PopFmle5-92010                  0\n",
       "                               ..\n",
       "PopFmle30-342010                0\n",
       "PopMale30-342010                0\n",
       "PopFmle25-292010                0\n",
       "PopMale25-292010                0\n",
       "countyFIPS                      0\n",
       "Length: 62, dtype: int64"
      ]
     },
     "execution_count": 987,
     "metadata": {},
     "output_type": "execute_result"
    }
   ],
   "source": [
    "pov_death_county.isnull().sum().sort_values(ascending=False)\n",
    "#NO MORE NAN VALUES"
   ]
  },
  {
   "cell_type": "code",
   "execution_count": 988,
   "metadata": {},
   "outputs": [
    {
     "data": {
      "text/html": [
       "<div>\n",
       "<style scoped>\n",
       "    .dataframe tbody tr th:only-of-type {\n",
       "        vertical-align: middle;\n",
       "    }\n",
       "\n",
       "    .dataframe tbody tr th {\n",
       "        vertical-align: top;\n",
       "    }\n",
       "\n",
       "    .dataframe thead th {\n",
       "        text-align: right;\n",
       "    }\n",
       "</style>\n",
       "<table border=\"1\" class=\"dataframe\">\n",
       "  <thead>\n",
       "    <tr style=\"text-align: right;\">\n",
       "      <th></th>\n",
       "      <th>countyFIPS</th>\n",
       "      <th>CountyName</th>\n",
       "      <th>State</th>\n",
       "      <th>cases</th>\n",
       "      <th>deaths</th>\n",
       "      <th>PopulationEstimate2018</th>\n",
       "      <th>PopulationEstimate65+2017</th>\n",
       "      <th>PopulationDensityperSqMile2010</th>\n",
       "      <th>CensusPopulation2010</th>\n",
       "      <th>MedianAge2010</th>\n",
       "      <th>...</th>\n",
       "      <th>&gt;50 gatherings</th>\n",
       "      <th>&gt;500 gatherings</th>\n",
       "      <th>public schools</th>\n",
       "      <th>restaurant dine-in</th>\n",
       "      <th>entertainment/gym</th>\n",
       "      <th>federal guidelines</th>\n",
       "      <th>foreign travel ban</th>\n",
       "      <th>SVIPercentile</th>\n",
       "      <th>Poverty Pct All Ages 2018</th>\n",
       "      <th>Median Household Income 2018</th>\n",
       "    </tr>\n",
       "  </thead>\n",
       "  <tbody>\n",
       "    <tr>\n",
       "      <th>0</th>\n",
       "      <td>10001</td>\n",
       "      <td>Kent</td>\n",
       "      <td>Delaware</td>\n",
       "      <td>847</td>\n",
       "      <td>32</td>\n",
       "      <td>178550.0</td>\n",
       "      <td>29407.0</td>\n",
       "      <td>276.9</td>\n",
       "      <td>162310.0</td>\n",
       "      <td>36.6</td>\n",
       "      <td>...</td>\n",
       "      <td>737508.0</td>\n",
       "      <td>737508.0</td>\n",
       "      <td>737500.0</td>\n",
       "      <td>737496.0</td>\n",
       "      <td>737496.0</td>\n",
       "      <td>737500.0</td>\n",
       "      <td>737495.0</td>\n",
       "      <td>0.7268</td>\n",
       "      <td>13.8</td>\n",
       "      <td>54980</td>\n",
       "    </tr>\n",
       "    <tr>\n",
       "      <th>1</th>\n",
       "      <td>10003</td>\n",
       "      <td>New Castle</td>\n",
       "      <td>Delaware</td>\n",
       "      <td>1979</td>\n",
       "      <td>83</td>\n",
       "      <td>559335.0</td>\n",
       "      <td>84505.0</td>\n",
       "      <td>1263.2</td>\n",
       "      <td>538479.0</td>\n",
       "      <td>37.2</td>\n",
       "      <td>...</td>\n",
       "      <td>737508.0</td>\n",
       "      <td>737508.0</td>\n",
       "      <td>737500.0</td>\n",
       "      <td>737496.0</td>\n",
       "      <td>737496.0</td>\n",
       "      <td>737500.0</td>\n",
       "      <td>737495.0</td>\n",
       "      <td>0.3761</td>\n",
       "      <td>11.6</td>\n",
       "      <td>69562</td>\n",
       "    </tr>\n",
       "    <tr>\n",
       "      <th>2</th>\n",
       "      <td>10005</td>\n",
       "      <td>Sussex</td>\n",
       "      <td>Delaware</td>\n",
       "      <td>2520</td>\n",
       "      <td>72</td>\n",
       "      <td>229286.0</td>\n",
       "      <td>60216.0</td>\n",
       "      <td>210.6</td>\n",
       "      <td>197145.0</td>\n",
       "      <td>45.4</td>\n",
       "      <td>...</td>\n",
       "      <td>737508.0</td>\n",
       "      <td>737508.0</td>\n",
       "      <td>737500.0</td>\n",
       "      <td>737496.0</td>\n",
       "      <td>737496.0</td>\n",
       "      <td>737500.0</td>\n",
       "      <td>737495.0</td>\n",
       "      <td>0.4019</td>\n",
       "      <td>12.3</td>\n",
       "      <td>59821</td>\n",
       "    </tr>\n",
       "    <tr>\n",
       "      <th>3</th>\n",
       "      <td>11001</td>\n",
       "      <td>Washington</td>\n",
       "      <td>District of Columbia</td>\n",
       "      <td>5322</td>\n",
       "      <td>264</td>\n",
       "      <td>702455.0</td>\n",
       "      <td>83734.0</td>\n",
       "      <td>9856.5</td>\n",
       "      <td>601723.0</td>\n",
       "      <td>33.8</td>\n",
       "      <td>...</td>\n",
       "      <td>737509.0</td>\n",
       "      <td>737509.0</td>\n",
       "      <td>737500.0</td>\n",
       "      <td>737500.0</td>\n",
       "      <td>737500.0</td>\n",
       "      <td>737500.0</td>\n",
       "      <td>737495.0</td>\n",
       "      <td>0.5965</td>\n",
       "      <td>16.1</td>\n",
       "      <td>82533</td>\n",
       "    </tr>\n",
       "    <tr>\n",
       "      <th>4</th>\n",
       "      <td>12001</td>\n",
       "      <td>Alachua</td>\n",
       "      <td>Florida</td>\n",
       "      <td>289</td>\n",
       "      <td>5</td>\n",
       "      <td>269956.0</td>\n",
       "      <td>36299.0</td>\n",
       "      <td>282.7</td>\n",
       "      <td>247336.0</td>\n",
       "      <td>30.1</td>\n",
       "      <td>...</td>\n",
       "      <td>737501.0</td>\n",
       "      <td>737501.0</td>\n",
       "      <td>737500.0</td>\n",
       "      <td>737504.0</td>\n",
       "      <td>737504.0</td>\n",
       "      <td>737500.0</td>\n",
       "      <td>737495.0</td>\n",
       "      <td>0.4729</td>\n",
       "      <td>19.8</td>\n",
       "      <td>51026</td>\n",
       "    </tr>\n",
       "  </tbody>\n",
       "</table>\n",
       "<p>5 rows × 62 columns</p>\n",
       "</div>"
      ],
      "text/plain": [
       "  countyFIPS  CountyName                 State  cases  deaths  \\\n",
       "0      10001        Kent              Delaware    847      32   \n",
       "1      10003  New Castle              Delaware   1979      83   \n",
       "2      10005      Sussex              Delaware   2520      72   \n",
       "3      11001  Washington  District of Columbia   5322     264   \n",
       "4      12001     Alachua               Florida    289       5   \n",
       "\n",
       "   PopulationEstimate2018  PopulationEstimate65+2017  \\\n",
       "0                178550.0                    29407.0   \n",
       "1                559335.0                    84505.0   \n",
       "2                229286.0                    60216.0   \n",
       "3                702455.0                    83734.0   \n",
       "4                269956.0                    36299.0   \n",
       "\n",
       "   PopulationDensityperSqMile2010  CensusPopulation2010  MedianAge2010  ...  \\\n",
       "0                           276.9              162310.0           36.6  ...   \n",
       "1                          1263.2              538479.0           37.2  ...   \n",
       "2                           210.6              197145.0           45.4  ...   \n",
       "3                          9856.5              601723.0           33.8  ...   \n",
       "4                           282.7              247336.0           30.1  ...   \n",
       "\n",
       "   >50 gatherings  >500 gatherings  public schools  restaurant dine-in  \\\n",
       "0        737508.0         737508.0        737500.0            737496.0   \n",
       "1        737508.0         737508.0        737500.0            737496.0   \n",
       "2        737508.0         737508.0        737500.0            737496.0   \n",
       "3        737509.0         737509.0        737500.0            737500.0   \n",
       "4        737501.0         737501.0        737500.0            737504.0   \n",
       "\n",
       "   entertainment/gym  federal guidelines  foreign travel ban  SVIPercentile  \\\n",
       "0           737496.0            737500.0            737495.0         0.7268   \n",
       "1           737496.0            737500.0            737495.0         0.3761   \n",
       "2           737496.0            737500.0            737495.0         0.4019   \n",
       "3           737500.0            737500.0            737495.0         0.5965   \n",
       "4           737504.0            737500.0            737495.0         0.4729   \n",
       "\n",
       "   Poverty Pct All Ages 2018  Median Household Income 2018  \n",
       "0                       13.8                         54980  \n",
       "1                       11.6                         69562  \n",
       "2                       12.3                         59821  \n",
       "3                       16.1                         82533  \n",
       "4                       19.8                         51026  \n",
       "\n",
       "[5 rows x 62 columns]"
      ]
     },
     "execution_count": 988,
     "metadata": {},
     "output_type": "execute_result"
    }
   ],
   "source": [
    "pov_death_county.head()"
   ]
  },
  {
   "cell_type": "code",
   "execution_count": 989,
   "metadata": {},
   "outputs": [
    {
     "data": {
      "text/plain": [
       "(2572, 62)"
      ]
     },
     "execution_count": 989,
     "metadata": {},
     "output_type": "execute_result"
    }
   ],
   "source": [
    "pov_death_county.shape"
   ]
  },
  {
   "cell_type": "code",
   "execution_count": 990,
   "metadata": {},
   "outputs": [],
   "source": [
    "#change all the percentage data into counts of ___(smokers/diabetes/poverty). \n",
    "#Becuase here we're estimating death counts not death rates\n",
    "\n",
    "pov_death_county['Smokers'] = pov_death_county['Smokers_Percentage'] * pov_death_county['PopulationEstimate2018']/100\n",
    "pov_death_county['Diabetes'] = pov_death_county['DiabetesPercentage'] *pov_death_county['PopulationEstimate2018']/100\n",
    "pov_death_county['Poverty'] = pov_death_county['Poverty Pct All Ages 2018']*pov_death_county['PopulationEstimate2018']/100\n",
    "\n",
    "pov_death_county = pov_death_county.drop(['Smokers_Percentage','DiabetesPercentage','Poverty Pct All Ages 2018'],axis=1)\n"
   ]
  },
  {
   "cell_type": "code",
   "execution_count": 991,
   "metadata": {},
   "outputs": [
    {
     "data": {
      "text/plain": [
       "(2572, 62)"
      ]
     },
     "execution_count": 991,
     "metadata": {},
     "output_type": "execute_result"
    }
   ],
   "source": [
    "pov_death_county.shape"
   ]
  },
  {
   "cell_type": "code",
   "execution_count": 992,
   "metadata": {},
   "outputs": [],
   "source": [
    "# END OF DATA CLEANING"
   ]
  },
  {
   "cell_type": "markdown",
   "metadata": {},
   "source": [
    "## 1.4 Some scatterplots to plot relationship between death counts and some features"
   ]
  },
  {
   "cell_type": "markdown",
   "metadata": {},
   "source": [
    "Intuitively, we think that there may be a positive relationship between deaths and features like number of confirmed cases, number of older people, or number of people living in poverty. There may be a negative relationship between deaths and features like number of hospitals, median income. Here are some scatter plots exploring the relationship among features.\n"
   ]
  },
  {
   "cell_type": "code",
   "execution_count": 993,
   "metadata": {},
   "outputs": [
    {
     "data": {
      "text/plain": [
       "<matplotlib.axes._subplots.AxesSubplot at 0x7f5b2deb5c10>"
      ]
     },
     "execution_count": 993,
     "metadata": {},
     "output_type": "execute_result"
    },
    {
     "data": {
      "image/png": "[encoded data removed]",
      "text/plain": [
       "<Figure size 432x288 with 1 Axes>"
      ]
     },
     "metadata": {},
     "output_type": "display_data"
    }
   ],
   "source": [
    "sns.scatterplot('cases', 'deaths',data=pov_death_county )"
   ]
  },
  {
   "cell_type": "code",
   "execution_count": 994,
   "metadata": {},
   "outputs": [
    {
     "data": {
      "text/plain": [
       "Text(0.5, 0, 'Population of Female older than 84')"
      ]
     },
     "execution_count": 994,
     "metadata": {},
     "output_type": "execute_result"
    },
    {
     "data": {
      "image/png": "[encoded data removed]",
      "text/plain": [
       "<Figure size 432x288 with 1 Axes>"
      ]
     },
     "metadata": {},
     "output_type": "display_data"
    }
   ],
   "source": [
    "sns.scatterplot('PopFmle>842010', 'deaths',data=pov_death_county)\n",
    "plt.xlabel('Population of Female older than 84')"
   ]
  },
  {
   "cell_type": "code",
   "execution_count": 995,
   "metadata": {},
   "outputs": [
    {
     "data": {
      "text/plain": [
       "Text(0.5, 0, 'Population of male older than 84')"
      ]
     },
     "execution_count": 995,
     "metadata": {},
     "output_type": "execute_result"
    },
    {
     "data": {
      "image/png": "[encoded data removed]",
      "text/plain": [
       "<Figure size 432x288 with 1 Axes>"
      ]
     },
     "metadata": {},
     "output_type": "display_data"
    }
   ],
   "source": [
    "sns.scatterplot('PopMale>842010', 'deaths',data=pov_death_county)\n",
    "plt.xlabel('Population of male older than 84')"
   ]
  },
  {
   "cell_type": "code",
   "execution_count": 996,
   "metadata": {},
   "outputs": [
    {
     "data": {
      "text/plain": [
       "Text(0.5, 0, 'Number of people living in poverty')"
      ]
     },
     "execution_count": 996,
     "metadata": {},
     "output_type": "execute_result"
    },
    {
     "data": {
      "image/png": "[encoded data removed]",
      "text/plain": [
       "<Figure size 432x288 with 1 Axes>"
      ]
     },
     "metadata": {},
     "output_type": "display_data"
    }
   ],
   "source": [
    "sns.scatterplot('Poverty', 'deaths',data=pov_death_county)\n",
    "plt.xlabel('Number of people living in poverty')"
   ]
  },
  {
   "cell_type": "code",
   "execution_count": 997,
   "metadata": {},
   "outputs": [
    {
     "data": {
      "text/plain": [
       "<matplotlib.axes._subplots.AxesSubplot at 0x7f5b2f997b50>"
      ]
     },
     "execution_count": 997,
     "metadata": {},
     "output_type": "execute_result"
    },
    {
     "data": {
      "image/png": "[encoded data removed]",
      "text/plain": [
       "<Figure size 432x288 with 1 Axes>"
      ]
     },
     "metadata": {},
     "output_type": "display_data"
    }
   ],
   "source": [
    "sns.scatterplot('Median Household Income 2018', 'deaths',data=pov_death_county)"
   ]
  },
  {
   "cell_type": "code",
   "execution_count": 998,
   "metadata": {},
   "outputs": [
    {
     "data": {
      "text/plain": [
       "<matplotlib.axes._subplots.AxesSubplot at 0x7f5b2efefc50>"
      ]
     },
     "execution_count": 998,
     "metadata": {},
     "output_type": "execute_result"
    },
    {
     "data": {
      "image/png": "[encoded data removed]",
      "text/plain": [
       "<Figure size 432x288 with 1 Axes>"
      ]
     },
     "metadata": {},
     "output_type": "display_data"
    }
   ],
   "source": [
    "sns.scatterplot('#Hospitals', 'deaths',data=pov_death_county)"
   ]
  },
  {
   "cell_type": "markdown",
   "metadata": {},
   "source": [
    "While there seems to be a linear relationship between cases and deaths, between the older population and deaths, between people living in poverty and deaths, we don’t see an obvious relationship between median income and death. While we expected to see a negative relationship between the number of hospitals and deaths because there are more medical resources, there seems to be a slightly positive relationship. One explanation could be that counties with large numbers of hospitals also have a large population, so there may be more deaths in those counties."
   ]
  },
  {
   "cell_type": "code",
   "execution_count": 999,
   "metadata": {},
   "outputs": [],
   "source": [
    "## a function to compare models\n",
    "\n",
    "\n",
    "def compare_models(models):\n",
    "    # training error for each model\n",
    "    training_rmse = [rmse_score(model, train, Y_train) for model in models.values()]\n",
    "    # cross validation error for each model\n",
    "    validation_rmse = [np.mean(cross_val_score(model, train, Y_train, scoring=rmse_score, cv=5)) \n",
    "                       for model in models.values()]\n",
    "    \n",
    "    #x_pos = [i for i, _ in enumerate(models.keys())]\n",
    "\n",
    "    ind = np.arange(len(models)) \n",
    "    width = 0.2\n",
    "    #names = list(models.keys())\n",
    "    \n",
    "    fig, ax = plt.subplots(figsize=(10, 5))\n",
    "\n",
    "    \n",
    "    plt.bar(ind,training_rmse,width, label='Train RMSE' )\n",
    "    plt.bar(ind+width, validation_rmse, width, label='CV RMSE')\n",
    "    \n",
    "    \n",
    "    plt.xticks(ind + width / 2, models.keys())\n",
    "    plt.legend(loc='best')\n",
    "    plt.show()\n",
    "    \n",
    "    #print(training_rmse)"
   ]
  },
  {
   "cell_type": "markdown",
   "metadata": {},
   "source": [
    "# 2 Modeling"
   ]
  },
  {
   "cell_type": "code",
   "execution_count": 1000,
   "metadata": {},
   "outputs": [],
   "source": [
    "from sklearn.linear_model import LinearRegression\n",
    "from sklearn.model_selection import train_test_split\n",
    "from sklearn.model_selection import cross_val_score\n",
    "from sklearn.feature_selection import f_regression\n",
    "\n",
    "from sklearn.pipeline import Pipeline\n",
    "from sklearn.compose import ColumnTransformer\n",
    "from sklearn.linear_model import Ridge"
   ]
  },
  {
   "cell_type": "code",
   "execution_count": 1001,
   "metadata": {},
   "outputs": [],
   "source": [
    "#models\n",
    "models = {}"
   ]
  },
  {
   "cell_type": "markdown",
   "metadata": {},
   "source": [
    "## 2.1 Train/Test Split"
   ]
  },
  {
   "cell_type": "code",
   "execution_count": 1002,
   "metadata": {},
   "outputs": [],
   "source": [
    "train, test = train_test_split(pov_death_county, test_size=0.2, random_state=83)"
   ]
  },
  {
   "cell_type": "code",
   "execution_count": 1003,
   "metadata": {},
   "outputs": [],
   "source": [
    "Y_train = train.iloc[:,4]\n",
    "Y_test = test.iloc[:,4]"
   ]
  },
  {
   "cell_type": "code",
   "execution_count": 1004,
   "metadata": {},
   "outputs": [],
   "source": [
    "final_col = pov_death_county.columns.to_list()\n",
    "X_col = [final_col[3]]+final_col[5:62]\n",
    "X_train = train[X_col]\n",
    "X_test = test[X_col]"
   ]
  },
  {
   "cell_type": "code",
   "execution_count": 1005,
   "metadata": {},
   "outputs": [
    {
     "data": {
      "text/plain": [
       "58"
      ]
     },
     "execution_count": 1005,
     "metadata": {},
     "output_type": "execute_result"
    }
   ],
   "source": [
    "len(X_col)"
   ]
  },
  {
   "cell_type": "code",
   "execution_count": 1006,
   "metadata": {},
   "outputs": [],
   "source": [
    "from sklearn.preprocessing import StandardScaler\n",
    "X_train_norm = StandardScaler().fit_transform(X_train)"
   ]
  },
  {
   "cell_type": "markdown",
   "metadata": {},
   "source": [
    "## 2.2 Linear Model without Regularization"
   ]
  },
  {
   "cell_type": "code",
   "execution_count": 1007,
   "metadata": {},
   "outputs": [
    {
     "data": {
      "text/plain": [
       "array([171.44446487,  -3.98959251,  -1.33343444, ..., 203.32753773,\n",
       "        -3.94721836,  -4.52072569])"
      ]
     },
     "execution_count": 1007,
     "metadata": {},
     "output_type": "execute_result"
    }
   ],
   "source": [
    "lin_model = Pipeline([\n",
    "        (\"SelectColumns\", ColumnTransformer([\n",
    "            (\"keep\", StandardScaler(), X_col),\n",
    "        ])),\n",
    "        (\"LinearModel\", LinearRegression())\n",
    "    ])\n",
    "\n",
    "lin_model.fit(train,Y_train)\n",
    "lin_model.predict(train)"
   ]
  },
  {
   "cell_type": "code",
   "execution_count": 1008,
   "metadata": {},
   "outputs": [],
   "source": [
    "def rmse(y, yhat):\n",
    "    return np.sqrt(np.mean((y - yhat)**2))"
   ]
  },
  {
   "cell_type": "code",
   "execution_count": 1009,
   "metadata": {},
   "outputs": [
    {
     "name": "stdout",
     "output_type": "stream",
     "text": [
      "Training Error (RMSE): 28.032548068290136\n"
     ]
    }
   ],
   "source": [
    "print(\"Training Error (RMSE):\", rmse(Y_train, lin_model.predict(train)))"
   ]
  },
  {
   "cell_type": "code",
   "execution_count": 1010,
   "metadata": {},
   "outputs": [],
   "source": [
    "def rmse_score(model, X, y):\n",
    "    return np.sqrt(np.mean((y - model.predict(X))**2))"
   ]
  },
  {
   "cell_type": "code",
   "execution_count": 1011,
   "metadata": {},
   "outputs": [
    {
     "name": "stdout",
     "output_type": "stream",
     "text": [
      "CV Error (RMSE): 37.68185507462386\n"
     ]
    }
   ],
   "source": [
    "print(\"CV Error (RMSE):\",np.mean(cross_val_score(lin_model, train, Y_train, scoring=rmse_score, cv=5)))"
   ]
  },
  {
   "cell_type": "markdown",
   "metadata": {},
   "source": [
    "CV Error is a lot larger than Training error. The model overfits."
   ]
  },
  {
   "cell_type": "code",
   "execution_count": 1012,
   "metadata": {},
   "outputs": [],
   "source": [
    "importance = lin_model[\"LinearModel\"].coef_"
   ]
  },
  {
   "cell_type": "code",
   "execution_count": 1013,
   "metadata": {},
   "outputs": [
    {
     "data": {
      "text/plain": [
       "array([ 1.01820154e+02,  3.04999917e+01, -2.22604867e+02,  5.39879439e+00,\n",
       "        2.09329110e+00, -3.10225748e+00,  2.90898331e+02, -3.55876830e+02,\n",
       "        8.59986492e-01,  1.00520431e+00, -2.28285197e+00, -1.26689434e+01,\n",
       "        1.06194338e+01, -2.03017624e+00, -6.13838315e-01, -2.78360788e+00,\n",
       "       -2.61829977e+00, -3.05453424e+02,  1.84422335e+02,  1.57711812e+02,\n",
       "        7.93801927e+01, -1.61883211e+02,  9.70971560e+01, -7.63600802e+01,\n",
       "       -5.75311873e+01, -3.50150280e+01,  8.48316392e+01,  6.11386409e+01,\n",
       "       -8.27840287e+01, -1.96028835e+02, -5.44536762e+00,  1.87870518e+02,\n",
       "        6.06708191e+01,  1.59957858e+01, -2.63910524e+02,  2.20372656e+02,\n",
       "        1.08870721e+02, -3.18240806e+02,  4.78498109e+02,  1.08966714e+02,\n",
       "       -2.36965138e+02,  1.11214148e+02,  8.32060024e+01,  7.66940197e+01,\n",
       "       -1.00792906e+02,  6.59432956e-01,  9.67861248e-01, -3.70856964e-02,\n",
       "        5.93972764e-02,  1.15315290e-01, -3.24236439e-01,  0.00000000e+00,\n",
       "        6.57252031e-14, -4.58037275e+00, -4.30802401e+00, -6.90264614e+00,\n",
       "       -2.36555035e+01,  1.19458909e+01])"
      ]
     },
     "execution_count": 1013,
     "metadata": {},
     "output_type": "execute_result"
    }
   ],
   "source": [
    "importance"
   ]
  },
  {
   "cell_type": "code",
   "execution_count": 1014,
   "metadata": {},
   "outputs": [
    {
     "data": {
      "image/png": "[encoded data removed]",
      "text/plain": [
       "<Figure size 1440x2880 with 1 Axes>"
      ]
     },
     "metadata": {},
     "output_type": "display_data"
    }
   ],
   "source": [
    "fig, ax = plt.subplots(figsize=(20, 40))\n",
    "\n",
    "plt.barh([x for x in X_col], importance)\n",
    "\n",
    "plt.savefig('linear.jpg')"
   ]
  },
  {
   "cell_type": "markdown",
   "metadata": {},
   "source": [
    "Although this model overfits, it tells us a bit about feature importance. "
   ]
  },
  {
   "cell_type": "code",
   "execution_count": 1015,
   "metadata": {},
   "outputs": [],
   "source": [
    "models['linear'] = lin_model"
   ]
  },
  {
   "cell_type": "markdown",
   "metadata": {},
   "source": [
    "## 2.2 Ridge regularization"
   ]
  },
  {
   "cell_type": "code",
   "execution_count": 1016,
   "metadata": {},
   "outputs": [],
   "source": [
    "ridge_model = Pipeline([\n",
    "    (\"SelectColumns\", ColumnTransformer([\n",
    "            (\"keep\", StandardScaler(), X_col),\n",
    "        ])),\n",
    "        (\"LinearModel\", Ridge(alpha=0.5\n",
    "                             ))\n",
    "    ])"
   ]
  },
  {
   "cell_type": "code",
   "execution_count": 1017,
   "metadata": {},
   "outputs": [
    {
     "data": {
      "text/plain": [
       "Pipeline(memory=None,\n",
       "         steps=[('SelectColumns',\n",
       "                 ColumnTransformer(n_jobs=None, remainder='drop',\n",
       "                                   sparse_threshold=0.3,\n",
       "                                   transformer_weights=None,\n",
       "                                   transformers=[('keep',\n",
       "                                                  StandardScaler(copy=True,\n",
       "                                                                 with_mean=True,\n",
       "                                                                 with_std=True),\n",
       "                                                  ['cases',\n",
       "                                                   'PopulationEstimate2018',\n",
       "                                                   'PopulationEstimate65+2017',\n",
       "                                                   'PopulationDensityperSqMile2010',\n",
       "                                                   'CensusPopulation2010',\n",
       "                                                   'MedianAge2010',\n",
       "                                                   '...\n",
       "                                                   'PopFmle5-92010',\n",
       "                                                   'PopMale10-142010',\n",
       "                                                   'PopFmle10-142010',\n",
       "                                                   'PopMale15-192010',\n",
       "                                                   'PopFmle15-192010',\n",
       "                                                   'PopMale20-242010',\n",
       "                                                   'PopFmle20-242010',\n",
       "                                                   'PopMale25-292010',\n",
       "                                                   'PopFmle25-292010',\n",
       "                                                   'PopMale30-342010', ...])],\n",
       "                                   verbose=False)),\n",
       "                ('LinearModel',\n",
       "                 Ridge(alpha=0.5, copy_X=True, fit_intercept=True,\n",
       "                       max_iter=None, normalize=False, random_state=None,\n",
       "                       solver='auto', tol=0.001))],\n",
       "         verbose=False)"
      ]
     },
     "execution_count": 1017,
     "metadata": {},
     "output_type": "execute_result"
    }
   ],
   "source": [
    "ridge_model.fit(train, Y_train)"
   ]
  },
  {
   "cell_type": "code",
   "execution_count": 1018,
   "metadata": {},
   "outputs": [
    {
     "name": "stdout",
     "output_type": "stream",
     "text": [
      "Training Error (RMSE): 28.976104724276492\n",
      "CV Error: 38.022584230068695\n"
     ]
    }
   ],
   "source": [
    "print(\"Training Error (RMSE):\", rmse(Y_train, ridge_model.predict(train)))\n",
    "print('CV Error:', np.mean(cross_val_score(ridge_model, train, Y_train, scoring=rmse_score, cv=5)))"
   ]
  },
  {
   "cell_type": "markdown",
   "metadata": {},
   "source": [
    "Alpha value of 0.5 still makes it overfit. Let us try to find the best alpha value"
   ]
  },
  {
   "cell_type": "code",
   "execution_count": 1019,
   "metadata": {},
   "outputs": [],
   "source": [
    "models['ridge'] = ridge_model"
   ]
  },
  {
   "cell_type": "code",
   "execution_count": 1020,
   "metadata": {},
   "outputs": [],
   "source": [
    "best_ridge = Pipeline([\n",
    "    (\"SelectColumns\", ColumnTransformer([\n",
    "            (\"keep\", StandardScaler(), X_col),\n",
    "        ])),\n",
    "        (\"LinearModel\", Ridge(alpha=0.5\n",
    "                             ))\n",
    "    ])"
   ]
  },
  {
   "cell_type": "code",
   "execution_count": 1021,
   "metadata": {},
   "outputs": [],
   "source": [
    "alphas = np.linspace(10, 80, 80)\n",
    "cv_values = []\n",
    "train_values = []\n",
    "test_values = []\n",
    "for alpha in alphas:\n",
    "    best_ridge.set_params(LinearModel__alpha=alpha)\n",
    "    best_ridge.fit(train, Y_train)\n",
    "    cv_values.append(np.mean(cross_val_score(best_ridge, train, Y_train, scoring=rmse_score, cv=5)))\n",
    "    train_values.append(rmse_score(best_ridge, train, Y_train))"
   ]
  },
  {
   "cell_type": "code",
   "execution_count": 1022,
   "metadata": {},
   "outputs": [
    {
     "data": {
      "text/html": [
       "        <script type=\"text/javascript\">\n",
       "        window.PlotlyConfig = {MathJaxConfig: 'local'};\n",
       "        if (window.MathJax) {MathJax.Hub.Config({SVG: {font: \"STIX-Web\"}});}\n",
       "        if (typeof require !== 'undefined') {\n",
       "        require.undef(\"plotly\");\n",
       "        requirejs.config({\n",
       "            paths: {\n",
       "                'plotly': ['https://cdn.plot.ly/plotly-latest.min']\n",
       "            }\n",
       "        });\n",
       "        require(['plotly'], function(Plotly) {\n",
       "            window._Plotly = Plotly;\n",
       "        });\n",
       "        }\n",
       "        </script>\n",
       "        "
      ]
     },
     "metadata": {},
     "output_type": "display_data"
    }
   ],
   "source": [
    "import plotly.offline as py\n",
    "import plotly.express as px\n",
    "import plotly.graph_objects as go\n",
    "from plotly.subplots import make_subplots\n",
    "import plotly.figure_factory as ff\n",
    "import cufflinks as cf\n",
    "import os\n",
    "cf.set_config_file(offline=True, sharing=False, theme='ggplot');"
   ]
  },
  {
   "cell_type": "code",
   "execution_count": 1023,
   "metadata": {},
   "outputs": [
    {
     "data": {
      "application/vnd.plotly.v1+json": {
       "config": {
        "plotlyServerURL": "https://plot.ly"
       },
       "data": [
        {
         "mode": "lines+markers",
         "name": "Train",
         "type": "scatter",
         "x": [
          10,
          10.886075949367088,
          11.772151898734178,
          12.658227848101266,
          13.544303797468354,
          14.430379746835442,
          15.316455696202532,
          16.20253164556962,
          17.088607594936708,
          17.974683544303797,
          18.860759493670884,
          19.746835443037973,
          20.632911392405063,
          21.518987341772153,
          22.40506329113924,
          23.29113924050633,
          24.177215189873415,
          25.063291139240505,
          25.949367088607595,
          26.83544303797468,
          27.72151898734177,
          28.60759493670886,
          29.493670886075947,
          30.379746835443036,
          31.265822784810126,
          32.15189873417721,
          33.037974683544306,
          33.92405063291139,
          34.81012658227848,
          35.69620253164557,
          36.58227848101266,
          37.46835443037975,
          38.35443037974683,
          39.24050632911393,
          40.12658227848101,
          41.0126582278481,
          41.89873417721519,
          42.78481012658228,
          43.67088607594936,
          44.55696202531645,
          45.44303797468354,
          46.32911392405063,
          47.21518987341772,
          48.10126582278481,
          48.98734177215189,
          49.87341772151898,
          50.75949367088607,
          51.64556962025316,
          52.53164556962025,
          53.41772151898734,
          54.303797468354425,
          55.189873417721515,
          56.075949367088604,
          56.962025316455694,
          57.848101265822784,
          58.734177215189874,
          59.62025316455696,
          60.506329113924046,
          61.392405063291136,
          62.278481012658226,
          63.164556962025316,
          64.0506329113924,
          64.9367088607595,
          65.82278481012658,
          66.70886075949366,
          67.59493670886076,
          68.48101265822785,
          69.36708860759492,
          70.25316455696202,
          71.13924050632912,
          72.0253164556962,
          72.91139240506328,
          73.79746835443038,
          74.68354430379746,
          75.56962025316456,
          76.45569620253164,
          77.34177215189872,
          78.22784810126582,
          79.1139240506329,
          80
         ],
         "y": [
          31.830702088033533,
          31.909788694596365,
          31.982741881694135,
          32.05056240826905,
          32.11403195027905,
          32.17377142856009,
          32.23028143399893,
          32.2839708815982,
          32.33517773137127,
          32.38418424354517,
          32.43122839281475,
          32.476512534706316,
          32.52021007383934,
          32.56247065758033,
          32.60342426653837,
          32.64318446940533,
          32.68185103743824,
          32.71951206297786,
          32.75624569002022,
          32.792121538530886,
          32.82720188491137,
          32.86154264675174,
          32.89519420932519,
          32.92820212321185,
          32.96060769629402,
          32.992448498634886,
          33.02375879509329,
          33.05456991766456,
          33.08491058728852,
          33.11480719308591,
          33.144284035562215,
          33.17336353918295,
          33.202066438803215,
          33.230411943692545,
          33.25841788228741,
          33.286100830307824,
          33.313476224464274,
          33.340558463643575,
          33.36736099918038,
          33.39389641558754,
          33.420176502921514,
          33.446212321794604,
          33.472014261906374,
          33.49759209484888,
          33.522955021841035,
          33.548111716960484,
          33.57307036637094,
          33.59783870397841,
          33.62242404389752,
          33.64683331006214,
          33.67107306327468,
          33.69514952595421,
          33.71906860481305,
          33.74283591166555,
          33.76645678254962,
          33.78993629532212,
          33.81327928587146,
          33.836490363074816,
          33.85957392261532,
          33.88253415976077,
          33.90537508119648,
          33.928100515994714,
          33.95071412579489,
          33.97321941426224,
          33.995619735884596,
          34.017918304162556,
          34.04011819924284,
          34.06222237503877,
          34.08423366587967,
          34.10615479272557,
          34.12798836898103,
          34.14973690593902,
          34.1714028178826,
          34.192988426869846,
          34.21449596722582,
          34.23592758976263,
          34.25728536574709,
          34.27857129063435,
          34.299787287583534,
          34.320935210770855
         ]
        },
        {
         "mode": "lines+markers",
         "name": "CV",
         "type": "scatter",
         "x": [
          10,
          10.886075949367088,
          11.772151898734178,
          12.658227848101266,
          13.544303797468354,
          14.430379746835442,
          15.316455696202532,
          16.20253164556962,
          17.088607594936708,
          17.974683544303797,
          18.860759493670884,
          19.746835443037973,
          20.632911392405063,
          21.518987341772153,
          22.40506329113924,
          23.29113924050633,
          24.177215189873415,
          25.063291139240505,
          25.949367088607595,
          26.83544303797468,
          27.72151898734177,
          28.60759493670886,
          29.493670886075947,
          30.379746835443036,
          31.265822784810126,
          32.15189873417721,
          33.037974683544306,
          33.92405063291139,
          34.81012658227848,
          35.69620253164557,
          36.58227848101266,
          37.46835443037975,
          38.35443037974683,
          39.24050632911393,
          40.12658227848101,
          41.0126582278481,
          41.89873417721519,
          42.78481012658228,
          43.67088607594936,
          44.55696202531645,
          45.44303797468354,
          46.32911392405063,
          47.21518987341772,
          48.10126582278481,
          48.98734177215189,
          49.87341772151898,
          50.75949367088607,
          51.64556962025316,
          52.53164556962025,
          53.41772151898734,
          54.303797468354425,
          55.189873417721515,
          56.075949367088604,
          56.962025316455694,
          57.848101265822784,
          58.734177215189874,
          59.62025316455696,
          60.506329113924046,
          61.392405063291136,
          62.278481012658226,
          63.164556962025316,
          64.0506329113924,
          64.9367088607595,
          65.82278481012658,
          66.70886075949366,
          67.59493670886076,
          68.48101265822785,
          69.36708860759492,
          70.25316455696202,
          71.13924050632912,
          72.0253164556962,
          72.91139240506328,
          73.79746835443038,
          74.68354430379746,
          75.56962025316456,
          76.45569620253164,
          77.34177215189872,
          78.22784810126582,
          79.1139240506329,
          80
         ],
         "y": [
          38.03037317515149,
          37.97687769563612,
          37.927806546008306,
          37.88276703649616,
          37.84140362213675,
          37.803397571505734,
          37.768464329664184,
          37.736350096038294,
          37.706828315537166,
          37.67969638679771,
          37.654772701679875,
          37.6318940402163,
          37.61091330452875,
          37.591697558830205,
          37.574126338050824,
          37.55809018856085,
          37.543489407743415,
          37.53023295321972,
          37.51823749658928,
          37.50742660028892,
          37.497729999469925,
          37.48908297362759,
          37.4814257951207,
          37.47470324373789,
          37.46886417816057,
          37.46386115658297,
          37.4596500999301,
          37.45618999209783,
          37.45344261246545,
          37.451372296619155,
          37.44994572180654,
          37.449131714129834,
          37.44890107489854,
          37.44922642391077,
          37.45008205773016,
          37.45144382127582,
          37.45328899126134,
          37.455596170200536,
          37.458345189857724,
          37.46151702315781,
          37.46509370368675,
          37.46905825201708,
          37.473394608181934,
          37.47808756969582,
          37.48312273459015,
          37.48848644898856,
          37.49416575879913,
          37.500148365145904,
          37.506422583201086,
          37.512977304115296,
          37.51980195977366,
          37.52688649013241,
          37.53422131291631,
          37.54179729547714,
          37.54960572863421,
          37.55763830233367,
          37.56588708297926,
          37.5743444923014,
          37.58300328764215,
          37.591856543546236,
          37.60089763455719,
          37.6101202191267,
          37.61951822455387,
          37.62908583287667,
          37.63881746764689,
          37.64870778152315,
          37.65875164462389,
          37.66894413358577,
          37.679280521278244,
          37.68975626712817,
          37.700367008012876,
          37.7111085496826,
          37.72197685867643,
          37.7329680546996,
          37.744078403430414,
          37.755304309729624,
          37.76664231122572,
          37.778089072252136,
          37.78964137811404,
          37.80129612966338
         ]
        }
       ],
       "layout": {
        "template": {
         "data": {
          "bar": [
           {
            "error_x": {
             "color": "#2a3f5f"
            },
            "error_y": {
             "color": "#2a3f5f"
            },
            "marker": {
             "line": {
              "color": "#E5ECF6",
              "width": 0.5
             }
            },
            "type": "bar"
           }
          ],
          "barpolar": [
           {
            "marker": {
             "line": {
              "color": "#E5ECF6",
              "width": 0.5
             }
            },
            "type": "barpolar"
           }
          ],
          "carpet": [
           {
            "aaxis": {
             "endlinecolor": "#2a3f5f",
             "gridcolor": "white",
             "linecolor": "white",
             "minorgridcolor": "white",
             "startlinecolor": "#2a3f5f"
            },
            "baxis": {
             "endlinecolor": "#2a3f5f",
             "gridcolor": "white",
             "linecolor": "white",
             "minorgridcolor": "white",
             "startlinecolor": "#2a3f5f"
            },
            "type": "carpet"
           }
          ],
          "choropleth": [
           {
            "colorbar": {
             "outlinewidth": 0,
             "ticks": ""
            },
            "type": "choropleth"
           }
          ],
          "contour": [
           {
            "colorbar": {
             "outlinewidth": 0,
             "ticks": ""
            },
            "colorscale": [
             [
              0,
              "#0d0887"
             ],
             [
              0.1111111111111111,
              "#46039f"
             ],
             [
              0.2222222222222222,
              "#7201a8"
             ],
             [
              0.3333333333333333,
              "#9c179e"
             ],
             [
              0.4444444444444444,
              "#bd3786"
             ],
             [
              0.5555555555555556,
              "#d8576b"
             ],
             [
              0.6666666666666666,
              "#ed7953"
             ],
             [
              0.7777777777777778,
              "#fb9f3a"
             ],
             [
              0.8888888888888888,
              "#fdca26"
             ],
             [
              1,
              "#f0f921"
             ]
            ],
            "type": "contour"
           }
          ],
          "contourcarpet": [
           {
            "colorbar": {
             "outlinewidth": 0,
             "ticks": ""
            },
            "type": "contourcarpet"
           }
          ],
          "heatmap": [
           {
            "colorbar": {
             "outlinewidth": 0,
             "ticks": ""
            },
            "colorscale": [
             [
              0,
              "#0d0887"
             ],
             [
              0.1111111111111111,
              "#46039f"
             ],
             [
              0.2222222222222222,
              "#7201a8"
             ],
             [
              0.3333333333333333,
              "#9c179e"
             ],
             [
              0.4444444444444444,
              "#bd3786"
             ],
             [
              0.5555555555555556,
              "#d8576b"
             ],
             [
              0.6666666666666666,
              "#ed7953"
             ],
             [
              0.7777777777777778,
              "#fb9f3a"
             ],
             [
              0.8888888888888888,
              "#fdca26"
             ],
             [
              1,
              "#f0f921"
             ]
            ],
            "type": "heatmap"
           }
          ],
          "heatmapgl": [
           {
            "colorbar": {
             "outlinewidth": 0,
             "ticks": ""
            },
            "colorscale": [
             [
              0,
              "#0d0887"
             ],
             [
              0.1111111111111111,
              "#46039f"
             ],
             [
              0.2222222222222222,
              "#7201a8"
             ],
             [
              0.3333333333333333,
              "#9c179e"
             ],
             [
              0.4444444444444444,
              "#bd3786"
             ],
             [
              0.5555555555555556,
              "#d8576b"
             ],
             [
              0.6666666666666666,
              "#ed7953"
             ],
             [
              0.7777777777777778,
              "#fb9f3a"
             ],
             [
              0.8888888888888888,
              "#fdca26"
             ],
             [
              1,
              "#f0f921"
             ]
            ],
            "type": "heatmapgl"
           }
          ],
          "histogram": [
           {
            "marker": {
             "colorbar": {
              "outlinewidth": 0,
              "ticks": ""
             }
            },
            "type": "histogram"
           }
          ],
          "histogram2d": [
           {
            "colorbar": {
             "outlinewidth": 0,
             "ticks": ""
            },
            "colorscale": [
             [
              0,
              "#0d0887"
             ],
             [
              0.1111111111111111,
              "#46039f"
             ],
             [
              0.2222222222222222,
              "#7201a8"
             ],
             [
              0.3333333333333333,
              "#9c179e"
             ],
             [
              0.4444444444444444,
              "#bd3786"
             ],
             [
              0.5555555555555556,
              "#d8576b"
             ],
             [
              0.6666666666666666,
              "#ed7953"
             ],
             [
              0.7777777777777778,
              "#fb9f3a"
             ],
             [
              0.8888888888888888,
              "#fdca26"
             ],
             [
              1,
              "#f0f921"
             ]
            ],
            "type": "histogram2d"
           }
          ],
          "histogram2dcontour": [
           {
            "colorbar": {
             "outlinewidth": 0,
             "ticks": ""
            },
            "colorscale": [
             [
              0,
              "#0d0887"
             ],
             [
              0.1111111111111111,
              "#46039f"
             ],
             [
              0.2222222222222222,
              "#7201a8"
             ],
             [
              0.3333333333333333,
              "#9c179e"
             ],
             [
              0.4444444444444444,
              "#bd3786"
             ],
             [
              0.5555555555555556,
              "#d8576b"
             ],
             [
              0.6666666666666666,
              "#ed7953"
             ],
             [
              0.7777777777777778,
              "#fb9f3a"
             ],
             [
              0.8888888888888888,
              "#fdca26"
             ],
             [
              1,
              "#f0f921"
             ]
            ],
            "type": "histogram2dcontour"
           }
          ],
          "mesh3d": [
           {
            "colorbar": {
             "outlinewidth": 0,
             "ticks": ""
            },
            "type": "mesh3d"
           }
          ],
          "parcoords": [
           {
            "line": {
             "colorbar": {
              "outlinewidth": 0,
              "ticks": ""
             }
            },
            "type": "parcoords"
           }
          ],
          "pie": [
           {
            "automargin": true,
            "type": "pie"
           }
          ],
          "scatter": [
           {
            "marker": {
             "colorbar": {
              "outlinewidth": 0,
              "ticks": ""
             }
            },
            "type": "scatter"
           }
          ],
          "scatter3d": [
           {
            "line": {
             "colorbar": {
              "outlinewidth": 0,
              "ticks": ""
             }
            },
            "marker": {
             "colorbar": {
              "outlinewidth": 0,
              "ticks": ""
             }
            },
            "type": "scatter3d"
           }
          ],
          "scattercarpet": [
           {
            "marker": {
             "colorbar": {
              "outlinewidth": 0,
              "ticks": ""
             }
            },
            "type": "scattercarpet"
           }
          ],
          "scattergeo": [
           {
            "marker": {
             "colorbar": {
              "outlinewidth": 0,
              "ticks": ""
             }
            },
            "type": "scattergeo"
           }
          ],
          "scattergl": [
           {
            "marker": {
             "colorbar": {
              "outlinewidth": 0,
              "ticks": ""
             }
            },
            "type": "scattergl"
           }
          ],
          "scattermapbox": [
           {
            "marker": {
             "colorbar": {
              "outlinewidth": 0,
              "ticks": ""
             }
            },
            "type": "scattermapbox"
           }
          ],
          "scatterpolar": [
           {
            "marker": {
             "colorbar": {
              "outlinewidth": 0,
              "ticks": ""
             }
            },
            "type": "scatterpolar"
           }
          ],
          "scatterpolargl": [
           {
            "marker": {
             "colorbar": {
              "outlinewidth": 0,
              "ticks": ""
             }
            },
            "type": "scatterpolargl"
           }
          ],
          "scatterternary": [
           {
            "marker": {
             "colorbar": {
              "outlinewidth": 0,
              "ticks": ""
             }
            },
            "type": "scatterternary"
           }
          ],
          "surface": [
           {
            "colorbar": {
             "outlinewidth": 0,
             "ticks": ""
            },
            "colorscale": [
             [
              0,
              "#0d0887"
             ],
             [
              0.1111111111111111,
              "#46039f"
             ],
             [
              0.2222222222222222,
              "#7201a8"
             ],
             [
              0.3333333333333333,
              "#9c179e"
             ],
             [
              0.4444444444444444,
              "#bd3786"
             ],
             [
              0.5555555555555556,
              "#d8576b"
             ],
             [
              0.6666666666666666,
              "#ed7953"
             ],
             [
              0.7777777777777778,
              "#fb9f3a"
             ],
             [
              0.8888888888888888,
              "#fdca26"
             ],
             [
              1,
              "#f0f921"
             ]
            ],
            "type": "surface"
           }
          ],
          "table": [
           {
            "cells": {
             "fill": {
              "color": "#EBF0F8"
             },
             "line": {
              "color": "white"
             }
            },
            "header": {
             "fill": {
              "color": "#C8D4E3"
             },
             "line": {
              "color": "white"
             }
            },
            "type": "table"
           }
          ]
         },
         "layout": {
          "annotationdefaults": {
           "arrowcolor": "#2a3f5f",
           "arrowhead": 0,
           "arrowwidth": 1
          },
          "coloraxis": {
           "colorbar": {
            "outlinewidth": 0,
            "ticks": ""
           }
          },
          "colorscale": {
           "diverging": [
            [
             0,
             "#8e0152"
            ],
            [
             0.1,
             "#c51b7d"
            ],
            [
             0.2,
             "#de77ae"
            ],
            [
             0.3,
             "#f1b6da"
            ],
            [
             0.4,
             "#fde0ef"
            ],
            [
             0.5,
             "#f7f7f7"
            ],
            [
             0.6,
             "#e6f5d0"
            ],
            [
             0.7,
             "#b8e186"
            ],
            [
             0.8,
             "#7fbc41"
            ],
            [
             0.9,
             "#4d9221"
            ],
            [
             1,
             "#276419"
            ]
           ],
           "sequential": [
            [
             0,
             "#0d0887"
            ],
            [
             0.1111111111111111,
             "#46039f"
            ],
            [
             0.2222222222222222,
             "#7201a8"
            ],
            [
             0.3333333333333333,
             "#9c179e"
            ],
            [
             0.4444444444444444,
             "#bd3786"
            ],
            [
             0.5555555555555556,
             "#d8576b"
            ],
            [
             0.6666666666666666,
             "#ed7953"
            ],
            [
             0.7777777777777778,
             "#fb9f3a"
            ],
            [
             0.8888888888888888,
             "#fdca26"
            ],
            [
             1,
             "#f0f921"
            ]
           ],
           "sequentialminus": [
            [
             0,
             "#0d0887"
            ],
            [
             0.1111111111111111,
             "#46039f"
            ],
            [
             0.2222222222222222,
             "#7201a8"
            ],
            [
             0.3333333333333333,
             "#9c179e"
            ],
            [
             0.4444444444444444,
             "#bd3786"
            ],
            [
             0.5555555555555556,
             "#d8576b"
            ],
            [
             0.6666666666666666,
             "#ed7953"
            ],
            [
             0.7777777777777778,
             "#fb9f3a"
            ],
            [
             0.8888888888888888,
             "#fdca26"
            ],
            [
             1,
             "#f0f921"
            ]
           ]
          },
          "colorway": [
           "#636efa",
           "#EF553B",
           "#00cc96",
           "#ab63fa",
           "#FFA15A",
           "#19d3f3",
           "#FF6692",
           "#B6E880",
           "#FF97FF",
           "#FECB52"
          ],
          "font": {
           "color": "#2a3f5f"
          },
          "geo": {
           "bgcolor": "white",
           "lakecolor": "white",
           "landcolor": "#E5ECF6",
           "showlakes": true,
           "showland": true,
           "subunitcolor": "white"
          },
          "hoverlabel": {
           "align": "left"
          },
          "hovermode": "closest",
          "mapbox": {
           "style": "light"
          },
          "paper_bgcolor": "white",
          "plot_bgcolor": "#E5ECF6",
          "polar": {
           "angularaxis": {
            "gridcolor": "white",
            "linecolor": "white",
            "ticks": ""
           },
           "bgcolor": "#E5ECF6",
           "radialaxis": {
            "gridcolor": "white",
            "linecolor": "white",
            "ticks": ""
           }
          },
          "scene": {
           "xaxis": {
            "backgroundcolor": "#E5ECF6",
            "gridcolor": "white",
            "gridwidth": 2,
            "linecolor": "white",
            "showbackground": true,
            "ticks": "",
            "zerolinecolor": "white"
           },
           "yaxis": {
            "backgroundcolor": "#E5ECF6",
            "gridcolor": "white",
            "gridwidth": 2,
            "linecolor": "white",
            "showbackground": true,
            "ticks": "",
            "zerolinecolor": "white"
           },
           "zaxis": {
            "backgroundcolor": "#E5ECF6",
            "gridcolor": "white",
            "gridwidth": 2,
            "linecolor": "white",
            "showbackground": true,
            "ticks": "",
            "zerolinecolor": "white"
           }
          },
          "shapedefaults": {
           "line": {
            "color": "#2a3f5f"
           }
          },
          "ternary": {
           "aaxis": {
            "gridcolor": "white",
            "linecolor": "white",
            "ticks": ""
           },
           "baxis": {
            "gridcolor": "white",
            "linecolor": "white",
            "ticks": ""
           },
           "bgcolor": "#E5ECF6",
           "caxis": {
            "gridcolor": "white",
            "linecolor": "white",
            "ticks": ""
           }
          },
          "title": {
           "x": 0.05
          },
          "xaxis": {
           "automargin": true,
           "gridcolor": "white",
           "linecolor": "white",
           "ticks": "",
           "title": {
            "standoff": 15
           },
           "zerolinecolor": "white",
           "zerolinewidth": 2
          },
          "yaxis": {
           "automargin": true,
           "gridcolor": "white",
           "linecolor": "white",
           "ticks": "",
           "title": {
            "standoff": 15
           },
           "zerolinecolor": "white",
           "zerolinewidth": 2
          }
         }
        },
        "title": {
         "text": "Train and CV RMSE"
        },
        "xaxis": {
         "title": {
          "text": "$\\alpha$"
         }
        },
        "yaxis": {
         "title": {
          "text": "CV RMSE"
         }
        }
       }
      },
      "text/html": [
       "<div>\n",
       "        \n",
       "        \n",
       "            <div id=\"c2d594e8-8deb-4ce8-a469-7d5fa5cf83e5\" class=\"plotly-graph-div\" style=\"height:525px; width:100%;\"></div>\n",
       "            <script type=\"text/javascript\">\n",
       "                require([\"plotly\"], function(Plotly) {\n",
       "                    window.PLOTLYENV=window.PLOTLYENV || {};\n",
       "                    \n",
       "                if (document.getElementById(\"c2d594e8-8deb-4ce8-a469-7d5fa5cf83e5\")) {\n",
       "                    Plotly.newPlot(\n",
       "                        'c2d594e8-8deb-4ce8-a469-7d5fa5cf83e5',\n",
       "                        [{\"mode\": \"lines+markers\", \"name\": \"Train\", \"type\": \"scatter\", \"x\": [10.0, 10.886075949367088, 11.772151898734178, 12.658227848101266, 13.544303797468354, 14.430379746835442, 15.316455696202532, 16.20253164556962, 17.088607594936708, 17.974683544303797, 18.860759493670884, 19.746835443037973, 20.632911392405063, 21.518987341772153, 22.40506329113924, 23.29113924050633, 24.177215189873415, 25.063291139240505, 25.949367088607595, 26.83544303797468, 27.72151898734177, 28.60759493670886, 29.493670886075947, 30.379746835443036, 31.265822784810126, 32.15189873417721, 33.037974683544306, 33.92405063291139, 34.81012658227848, 35.69620253164557, 36.58227848101266, 37.46835443037975, 38.35443037974683, 39.24050632911393, 40.12658227848101, 41.0126582278481, 41.89873417721519, 42.78481012658228, 43.67088607594936, 44.55696202531645, 45.44303797468354, 46.32911392405063, 47.21518987341772, 48.10126582278481, 48.98734177215189, 49.87341772151898, 50.75949367088607, 51.64556962025316, 52.53164556962025, 53.41772151898734, 54.303797468354425, 55.189873417721515, 56.075949367088604, 56.962025316455694, 57.848101265822784, 58.734177215189874, 59.62025316455696, 60.506329113924046, 61.392405063291136, 62.278481012658226, 63.164556962025316, 64.0506329113924, 64.9367088607595, 65.82278481012658, 66.70886075949366, 67.59493670886076, 68.48101265822785, 69.36708860759492, 70.25316455696202, 71.13924050632912, 72.0253164556962, 72.91139240506328, 73.79746835443038, 74.68354430379746, 75.56962025316456, 76.45569620253164, 77.34177215189872, 78.22784810126582, 79.1139240506329, 80.0], \"y\": [31.830702088033533, 31.909788694596365, 31.982741881694135, 32.05056240826905, 32.11403195027905, 32.17377142856009, 32.23028143399893, 32.2839708815982, 32.33517773137127, 32.38418424354517, 32.43122839281475, 32.476512534706316, 32.52021007383934, 32.56247065758033, 32.60342426653837, 32.64318446940533, 32.68185103743824, 32.71951206297786, 32.75624569002022, 32.792121538530886, 32.82720188491137, 32.86154264675174, 32.89519420932519, 32.92820212321185, 32.96060769629402, 32.992448498634886, 33.02375879509329, 33.05456991766456, 33.08491058728852, 33.11480719308591, 33.144284035562215, 33.17336353918295, 33.202066438803215, 33.230411943692545, 33.25841788228741, 33.286100830307824, 33.313476224464274, 33.340558463643575, 33.36736099918038, 33.39389641558754, 33.420176502921514, 33.446212321794604, 33.472014261906374, 33.49759209484888, 33.522955021841035, 33.548111716960484, 33.57307036637094, 33.59783870397841, 33.62242404389752, 33.64683331006214, 33.67107306327468, 33.69514952595421, 33.71906860481305, 33.74283591166555, 33.76645678254962, 33.78993629532212, 33.81327928587146, 33.836490363074816, 33.85957392261532, 33.88253415976077, 33.90537508119648, 33.928100515994714, 33.95071412579489, 33.97321941426224, 33.995619735884596, 34.017918304162556, 34.04011819924284, 34.06222237503877, 34.08423366587967, 34.10615479272557, 34.12798836898103, 34.14973690593902, 34.1714028178826, 34.192988426869846, 34.21449596722582, 34.23592758976263, 34.25728536574709, 34.27857129063435, 34.299787287583534, 34.320935210770855]}, {\"mode\": \"lines+markers\", \"name\": \"CV\", \"type\": \"scatter\", \"x\": [10.0, 10.886075949367088, 11.772151898734178, 12.658227848101266, 13.544303797468354, 14.430379746835442, 15.316455696202532, 16.20253164556962, 17.088607594936708, 17.974683544303797, 18.860759493670884, 19.746835443037973, 20.632911392405063, 21.518987341772153, 22.40506329113924, 23.29113924050633, 24.177215189873415, 25.063291139240505, 25.949367088607595, 26.83544303797468, 27.72151898734177, 28.60759493670886, 29.493670886075947, 30.379746835443036, 31.265822784810126, 32.15189873417721, 33.037974683544306, 33.92405063291139, 34.81012658227848, 35.69620253164557, 36.58227848101266, 37.46835443037975, 38.35443037974683, 39.24050632911393, 40.12658227848101, 41.0126582278481, 41.89873417721519, 42.78481012658228, 43.67088607594936, 44.55696202531645, 45.44303797468354, 46.32911392405063, 47.21518987341772, 48.10126582278481, 48.98734177215189, 49.87341772151898, 50.75949367088607, 51.64556962025316, 52.53164556962025, 53.41772151898734, 54.303797468354425, 55.189873417721515, 56.075949367088604, 56.962025316455694, 57.848101265822784, 58.734177215189874, 59.62025316455696, 60.506329113924046, 61.392405063291136, 62.278481012658226, 63.164556962025316, 64.0506329113924, 64.9367088607595, 65.82278481012658, 66.70886075949366, 67.59493670886076, 68.48101265822785, 69.36708860759492, 70.25316455696202, 71.13924050632912, 72.0253164556962, 72.91139240506328, 73.79746835443038, 74.68354430379746, 75.56962025316456, 76.45569620253164, 77.34177215189872, 78.22784810126582, 79.1139240506329, 80.0], \"y\": [38.03037317515149, 37.97687769563612, 37.927806546008306, 37.88276703649616, 37.84140362213675, 37.803397571505734, 37.768464329664184, 37.736350096038294, 37.706828315537166, 37.67969638679771, 37.654772701679875, 37.6318940402163, 37.61091330452875, 37.591697558830205, 37.574126338050824, 37.55809018856085, 37.543489407743415, 37.53023295321972, 37.51823749658928, 37.50742660028892, 37.497729999469925, 37.48908297362759, 37.4814257951207, 37.47470324373789, 37.46886417816057, 37.46386115658297, 37.4596500999301, 37.45618999209783, 37.45344261246545, 37.451372296619155, 37.44994572180654, 37.449131714129834, 37.44890107489854, 37.44922642391077, 37.45008205773016, 37.45144382127582, 37.45328899126134, 37.455596170200536, 37.458345189857724, 37.46151702315781, 37.46509370368675, 37.46905825201708, 37.473394608181934, 37.47808756969582, 37.48312273459015, 37.48848644898856, 37.49416575879913, 37.500148365145904, 37.506422583201086, 37.512977304115296, 37.51980195977366, 37.52688649013241, 37.53422131291631, 37.54179729547714, 37.54960572863421, 37.55763830233367, 37.56588708297926, 37.5743444923014, 37.58300328764215, 37.591856543546236, 37.60089763455719, 37.6101202191267, 37.61951822455387, 37.62908583287667, 37.63881746764689, 37.64870778152315, 37.65875164462389, 37.66894413358577, 37.679280521278244, 37.68975626712817, 37.700367008012876, 37.7111085496826, 37.72197685867643, 37.7329680546996, 37.744078403430414, 37.755304309729624, 37.76664231122572, 37.778089072252136, 37.78964137811404, 37.80129612966338]}],\n",
       "                        {\"template\": {\"data\": {\"bar\": [{\"error_x\": {\"color\": \"#2a3f5f\"}, \"error_y\": {\"color\": \"#2a3f5f\"}, \"marker\": {\"line\": {\"color\": \"#E5ECF6\", \"width\": 0.5}}, \"type\": \"bar\"}], \"barpolar\": [{\"marker\": {\"line\": {\"color\": \"#E5ECF6\", \"width\": 0.5}}, \"type\": \"barpolar\"}], \"carpet\": [{\"aaxis\": {\"endlinecolor\": \"#2a3f5f\", \"gridcolor\": \"white\", \"linecolor\": \"white\", \"minorgridcolor\": \"white\", \"startlinecolor\": \"#2a3f5f\"}, \"baxis\": {\"endlinecolor\": \"#2a3f5f\", \"gridcolor\": \"white\", \"linecolor\": \"white\", \"minorgridcolor\": \"white\", \"startlinecolor\": \"#2a3f5f\"}, \"type\": \"carpet\"}], \"choropleth\": [{\"colorbar\": {\"outlinewidth\": 0, \"ticks\": \"\"}, \"type\": \"choropleth\"}], \"contour\": [{\"colorbar\": {\"outlinewidth\": 0, \"ticks\": \"\"}, \"colorscale\": [[0.0, \"#0d0887\"], [0.1111111111111111, \"#46039f\"], [0.2222222222222222, \"#7201a8\"], [0.3333333333333333, \"#9c179e\"], [0.4444444444444444, \"#bd3786\"], [0.5555555555555556, \"#d8576b\"], [0.6666666666666666, \"#ed7953\"], [0.7777777777777778, \"#fb9f3a\"], [0.8888888888888888, \"#fdca26\"], [1.0, \"#f0f921\"]], \"type\": \"contour\"}], \"contourcarpet\": [{\"colorbar\": {\"outlinewidth\": 0, \"ticks\": \"\"}, \"type\": \"contourcarpet\"}], \"heatmap\": [{\"colorbar\": {\"outlinewidth\": 0, \"ticks\": \"\"}, \"colorscale\": [[0.0, \"#0d0887\"], [0.1111111111111111, \"#46039f\"], [0.2222222222222222, \"#7201a8\"], [0.3333333333333333, \"#9c179e\"], [0.4444444444444444, \"#bd3786\"], [0.5555555555555556, \"#d8576b\"], [0.6666666666666666, \"#ed7953\"], [0.7777777777777778, \"#fb9f3a\"], [0.8888888888888888, \"#fdca26\"], [1.0, \"#f0f921\"]], \"type\": \"heatmap\"}], \"heatmapgl\": [{\"colorbar\": {\"outlinewidth\": 0, \"ticks\": \"\"}, \"colorscale\": [[0.0, \"#0d0887\"], [0.1111111111111111, \"#46039f\"], [0.2222222222222222, \"#7201a8\"], [0.3333333333333333, \"#9c179e\"], [0.4444444444444444, \"#bd3786\"], [0.5555555555555556, \"#d8576b\"], [0.6666666666666666, \"#ed7953\"], [0.7777777777777778, \"#fb9f3a\"], [0.8888888888888888, \"#fdca26\"], [1.0, \"#f0f921\"]], \"type\": \"heatmapgl\"}], \"histogram\": [{\"marker\": {\"colorbar\": {\"outlinewidth\": 0, \"ticks\": \"\"}}, \"type\": \"histogram\"}], \"histogram2d\": [{\"colorbar\": {\"outlinewidth\": 0, \"ticks\": \"\"}, \"colorscale\": [[0.0, \"#0d0887\"], [0.1111111111111111, \"#46039f\"], [0.2222222222222222, \"#7201a8\"], [0.3333333333333333, \"#9c179e\"], [0.4444444444444444, \"#bd3786\"], [0.5555555555555556, \"#d8576b\"], [0.6666666666666666, \"#ed7953\"], [0.7777777777777778, \"#fb9f3a\"], [0.8888888888888888, \"#fdca26\"], [1.0, \"#f0f921\"]], \"type\": \"histogram2d\"}], \"histogram2dcontour\": [{\"colorbar\": {\"outlinewidth\": 0, \"ticks\": \"\"}, \"colorscale\": [[0.0, \"#0d0887\"], [0.1111111111111111, \"#46039f\"], [0.2222222222222222, \"#7201a8\"], [0.3333333333333333, \"#9c179e\"], [0.4444444444444444, \"#bd3786\"], [0.5555555555555556, \"#d8576b\"], [0.6666666666666666, \"#ed7953\"], [0.7777777777777778, \"#fb9f3a\"], [0.8888888888888888, \"#fdca26\"], [1.0, \"#f0f921\"]], \"type\": \"histogram2dcontour\"}], \"mesh3d\": [{\"colorbar\": {\"outlinewidth\": 0, \"ticks\": \"\"}, \"type\": \"mesh3d\"}], \"parcoords\": [{\"line\": {\"colorbar\": {\"outlinewidth\": 0, \"ticks\": \"\"}}, \"type\": \"parcoords\"}], \"pie\": [{\"automargin\": true, \"type\": \"pie\"}], \"scatter\": [{\"marker\": {\"colorbar\": {\"outlinewidth\": 0, \"ticks\": \"\"}}, \"type\": \"scatter\"}], \"scatter3d\": [{\"line\": {\"colorbar\": {\"outlinewidth\": 0, \"ticks\": \"\"}}, \"marker\": {\"colorbar\": {\"outlinewidth\": 0, \"ticks\": \"\"}}, \"type\": \"scatter3d\"}], \"scattercarpet\": [{\"marker\": {\"colorbar\": {\"outlinewidth\": 0, \"ticks\": \"\"}}, \"type\": \"scattercarpet\"}], \"scattergeo\": [{\"marker\": {\"colorbar\": {\"outlinewidth\": 0, \"ticks\": \"\"}}, \"type\": \"scattergeo\"}], \"scattergl\": [{\"marker\": {\"colorbar\": {\"outlinewidth\": 0, \"ticks\": \"\"}}, \"type\": \"scattergl\"}], \"scattermapbox\": [{\"marker\": {\"colorbar\": {\"outlinewidth\": 0, \"ticks\": \"\"}}, \"type\": \"scattermapbox\"}], \"scatterpolar\": [{\"marker\": {\"colorbar\": {\"outlinewidth\": 0, \"ticks\": \"\"}}, \"type\": \"scatterpolar\"}], \"scatterpolargl\": [{\"marker\": {\"colorbar\": {\"outlinewidth\": 0, \"ticks\": \"\"}}, \"type\": \"scatterpolargl\"}], \"scatterternary\": [{\"marker\": {\"colorbar\": {\"outlinewidth\": 0, \"ticks\": \"\"}}, \"type\": \"scatterternary\"}], \"surface\": [{\"colorbar\": {\"outlinewidth\": 0, \"ticks\": \"\"}, \"colorscale\": [[0.0, \"#0d0887\"], [0.1111111111111111, \"#46039f\"], [0.2222222222222222, \"#7201a8\"], [0.3333333333333333, \"#9c179e\"], [0.4444444444444444, \"#bd3786\"], [0.5555555555555556, \"#d8576b\"], [0.6666666666666666, \"#ed7953\"], [0.7777777777777778, \"#fb9f3a\"], [0.8888888888888888, \"#fdca26\"], [1.0, \"#f0f921\"]], \"type\": \"surface\"}], \"table\": [{\"cells\": {\"fill\": {\"color\": \"#EBF0F8\"}, \"line\": {\"color\": \"white\"}}, \"header\": {\"fill\": {\"color\": \"#C8D4E3\"}, \"line\": {\"color\": \"white\"}}, \"type\": \"table\"}]}, \"layout\": {\"annotationdefaults\": {\"arrowcolor\": \"#2a3f5f\", \"arrowhead\": 0, \"arrowwidth\": 1}, \"coloraxis\": {\"colorbar\": {\"outlinewidth\": 0, \"ticks\": \"\"}}, \"colorscale\": {\"diverging\": [[0, \"#8e0152\"], [0.1, \"#c51b7d\"], [0.2, \"#de77ae\"], [0.3, \"#f1b6da\"], [0.4, \"#fde0ef\"], [0.5, \"#f7f7f7\"], [0.6, \"#e6f5d0\"], [0.7, \"#b8e186\"], [0.8, \"#7fbc41\"], [0.9, \"#4d9221\"], [1, \"#276419\"]], \"sequential\": [[0.0, \"#0d0887\"], [0.1111111111111111, \"#46039f\"], [0.2222222222222222, \"#7201a8\"], [0.3333333333333333, \"#9c179e\"], [0.4444444444444444, \"#bd3786\"], [0.5555555555555556, \"#d8576b\"], [0.6666666666666666, \"#ed7953\"], [0.7777777777777778, \"#fb9f3a\"], [0.8888888888888888, \"#fdca26\"], [1.0, \"#f0f921\"]], \"sequentialminus\": [[0.0, \"#0d0887\"], [0.1111111111111111, \"#46039f\"], [0.2222222222222222, \"#7201a8\"], [0.3333333333333333, \"#9c179e\"], [0.4444444444444444, \"#bd3786\"], [0.5555555555555556, \"#d8576b\"], [0.6666666666666666, \"#ed7953\"], [0.7777777777777778, \"#fb9f3a\"], [0.8888888888888888, \"#fdca26\"], [1.0, \"#f0f921\"]]}, \"colorway\": [\"#636efa\", \"#EF553B\", \"#00cc96\", \"#ab63fa\", \"#FFA15A\", \"#19d3f3\", \"#FF6692\", \"#B6E880\", \"#FF97FF\", \"#FECB52\"], \"font\": {\"color\": \"#2a3f5f\"}, \"geo\": {\"bgcolor\": \"white\", \"lakecolor\": \"white\", \"landcolor\": \"#E5ECF6\", \"showlakes\": true, \"showland\": true, \"subunitcolor\": \"white\"}, \"hoverlabel\": {\"align\": \"left\"}, \"hovermode\": \"closest\", \"mapbox\": {\"style\": \"light\"}, \"paper_bgcolor\": \"white\", \"plot_bgcolor\": \"#E5ECF6\", \"polar\": {\"angularaxis\": {\"gridcolor\": \"white\", \"linecolor\": \"white\", \"ticks\": \"\"}, \"bgcolor\": \"#E5ECF6\", \"radialaxis\": {\"gridcolor\": \"white\", \"linecolor\": \"white\", \"ticks\": \"\"}}, \"scene\": {\"xaxis\": {\"backgroundcolor\": \"#E5ECF6\", \"gridcolor\": \"white\", \"gridwidth\": 2, \"linecolor\": \"white\", \"showbackground\": true, \"ticks\": \"\", \"zerolinecolor\": \"white\"}, \"yaxis\": {\"backgroundcolor\": \"#E5ECF6\", \"gridcolor\": \"white\", \"gridwidth\": 2, \"linecolor\": \"white\", \"showbackground\": true, \"ticks\": \"\", \"zerolinecolor\": \"white\"}, \"zaxis\": {\"backgroundcolor\": \"#E5ECF6\", \"gridcolor\": \"white\", \"gridwidth\": 2, \"linecolor\": \"white\", \"showbackground\": true, \"ticks\": \"\", \"zerolinecolor\": \"white\"}}, \"shapedefaults\": {\"line\": {\"color\": \"#2a3f5f\"}}, \"ternary\": {\"aaxis\": {\"gridcolor\": \"white\", \"linecolor\": \"white\", \"ticks\": \"\"}, \"baxis\": {\"gridcolor\": \"white\", \"linecolor\": \"white\", \"ticks\": \"\"}, \"bgcolor\": \"#E5ECF6\", \"caxis\": {\"gridcolor\": \"white\", \"linecolor\": \"white\", \"ticks\": \"\"}}, \"title\": {\"x\": 0.05}, \"xaxis\": {\"automargin\": true, \"gridcolor\": \"white\", \"linecolor\": \"white\", \"ticks\": \"\", \"title\": {\"standoff\": 15}, \"zerolinecolor\": \"white\", \"zerolinewidth\": 2}, \"yaxis\": {\"automargin\": true, \"gridcolor\": \"white\", \"linecolor\": \"white\", \"ticks\": \"\", \"title\": {\"standoff\": 15}, \"zerolinecolor\": \"white\", \"zerolinewidth\": 2}}}, \"title\": {\"text\": \"Train and CV RMSE\"}, \"xaxis\": {\"title\": {\"text\": \"$\\\\alpha$\"}}, \"yaxis\": {\"title\": {\"text\": \"CV RMSE\"}}},\n",
       "                        {\"responsive\": true}\n",
       "                    ).then(function(){\n",
       "                            \n",
       "var gd = document.getElementById('c2d594e8-8deb-4ce8-a469-7d5fa5cf83e5');\n",
       "var x = new MutationObserver(function (mutations, observer) {{\n",
       "        var display = window.getComputedStyle(gd).display;\n",
       "        if (!display || display === 'none') {{\n",
       "            console.log([gd, 'removed!']);\n",
       "            Plotly.purge(gd);\n",
       "            observer.disconnect();\n",
       "        }}\n",
       "}});\n",
       "\n",
       "// Listen for the removal of the full notebook cells\n",
       "var notebookContainer = gd.closest('#notebook-container');\n",
       "if (notebookContainer) {{\n",
       "    x.observe(notebookContainer, {childList: true});\n",
       "}}\n",
       "\n",
       "// Listen for the clearing of the current output cell\n",
       "var outputEl = gd.closest('.output');\n",
       "if (outputEl) {{\n",
       "    x.observe(outputEl, {childList: true});\n",
       "}}\n",
       "\n",
       "                        })\n",
       "                };\n",
       "                });\n",
       "            </script>\n",
       "        </div>"
      ]
     },
     "metadata": {},
     "output_type": "display_data"
    }
   ],
   "source": [
    "fig = go.Figure()\n",
    "fig.add_trace(go.Scatter(x = alphas, y = train_values, mode=\"lines+markers\", name=\"Train\"))\n",
    "fig.add_trace(go.Scatter(x = alphas, y = cv_values, mode=\"lines+markers\", name=\"CV\"))\n",
    "fig.update_layout(title = 'Train and CV RMSE', xaxis_title=r\"$\\alpha$\", yaxis_title=\"CV RMSE\")"
   ]
  },
  {
   "cell_type": "code",
   "execution_count": 1024,
   "metadata": {},
   "outputs": [
    {
     "data": {
      "text/plain": [
       "38.35443037974683"
      ]
     },
     "execution_count": 1024,
     "metadata": {},
     "output_type": "execute_result"
    }
   ],
   "source": [
    "best_alpha = alphas[np.argmin(cv_values)]\n",
    "best_alpha"
   ]
  },
  {
   "cell_type": "code",
   "execution_count": 1025,
   "metadata": {},
   "outputs": [],
   "source": [
    "models[\"best ridge\"] = best_ridge"
   ]
  },
  {
   "cell_type": "code",
   "execution_count": 1026,
   "metadata": {},
   "outputs": [
    {
     "name": "stdout",
     "output_type": "stream",
     "text": [
      "Training Error (RMSE): 34.320935210770855\n",
      "CV Error: 37.80129612966338\n"
     ]
    }
   ],
   "source": [
    "print(\"Training Error (RMSE):\", rmse(Y_train, best_ridge.predict(train)))\n",
    "print('CV Error:', np.mean(cross_val_score(best_ridge, train, Y_train, scoring=rmse_score, cv=5)))"
   ]
  },
  {
   "cell_type": "markdown",
   "metadata": {},
   "source": [
    "The best ridge model doens't overfit"
   ]
  },
  {
   "cell_type": "code",
   "execution_count": 1027,
   "metadata": {},
   "outputs": [
    {
     "data": {
      "image/png": "[encoded data removed]",
      "text/plain": [
       "<Figure size 720x360 with 1 Axes>"
      ]
     },
     "metadata": {},
     "output_type": "display_data"
    }
   ],
   "source": [
    "ridge_model.set_params(LinearModel__alpha=best_alpha)\n",
    "ridge_model.fit(train, Y_train)\n",
    "compare_models(models)"
   ]
  },
  {
   "cell_type": "markdown",
   "metadata": {},
   "source": [
    "## 2.3 Lasso Regularization\n",
    "Lasso is  good for selecting features"
   ]
  },
  {
   "cell_type": "code",
   "execution_count": 1028,
   "metadata": {},
   "outputs": [],
   "source": [
    "from sklearn.linear_model import Lasso, LassoCV"
   ]
  },
  {
   "cell_type": "code",
   "execution_count": 1029,
   "metadata": {},
   "outputs": [],
   "source": [
    "lasso_model = Pipeline([\n",
    "    (\"SelectColumns\", ColumnTransformer([\n",
    "        (\"keep\", StandardScaler(), X_col)\n",
    "    ])),\n",
    "    (\"LinearModel\", Lasso())\n",
    "])"
   ]
  },
  {
   "cell_type": "code",
   "execution_count": 1030,
   "metadata": {},
   "outputs": [
    {
     "name": "stderr",
     "output_type": "stream",
     "text": [
      "/srv/conda/envs/data100/lib/python3.7/site-packages/sklearn/compose/_column_transformer.py:430: FutureWarning:\n",
      "\n",
      "Given feature/column names or counts do not match the ones for the data given during fit. This will fail from v0.24.\n",
      "\n"
     ]
    },
    {
     "data": {
      "image/png": "[encoded data removed]",
      "text/plain": [
       "<Figure size 720x360 with 1 Axes>"
      ]
     },
     "metadata": {},
     "output_type": "display_data"
    }
   ],
   "source": [
    "lasso_model.fit(X_train, Y_train)\n",
    "models[\"Lasso\"] = lasso_model\n",
    "compare_models(models)"
   ]
  },
  {
   "cell_type": "code",
   "execution_count": 1031,
   "metadata": {},
   "outputs": [
    {
     "name": "stdout",
     "output_type": "stream",
     "text": [
      "Training Error (RMSE): 35.58686436138654\n",
      "CV Error: 37.320070922968426\n"
     ]
    },
    {
     "name": "stderr",
     "output_type": "stream",
     "text": [
      "/srv/conda/envs/data100/lib/python3.7/site-packages/sklearn/compose/_column_transformer.py:430: FutureWarning:\n",
      "\n",
      "Given feature/column names or counts do not match the ones for the data given during fit. This will fail from v0.24.\n",
      "\n"
     ]
    }
   ],
   "source": [
    "print(\"Training Error (RMSE):\", rmse(Y_train, lasso_model.predict(train)))\n",
    "print('CV Error:', np.mean(cross_val_score(lasso_model, train, Y_train, scoring=rmse_score, cv=5)))"
   ]
  },
  {
   "cell_type": "markdown",
   "metadata": {},
   "source": [
    "## 2.4 find good features -- Use Lasso bc it's good to find features"
   ]
  },
  {
   "cell_type": "code",
   "execution_count": 1032,
   "metadata": {},
   "outputs": [],
   "source": [
    "ct = models['Lasso']['SelectColumns']\n",
    "feature_names = np.array(X_col)"
   ]
  },
  {
   "cell_type": "code",
   "execution_count": 1033,
   "metadata": {},
   "outputs": [
    {
     "data": {
      "text/plain": [
       "array([101.67012384,   0.        ,   0.        ,   3.71782894,\n",
       "         0.        ,   0.        ,   0.        ,   0.        ,\n",
       "         0.75176975,   0.        ,  -0.        ,  -0.        ,\n",
       "        -0.        ,  -0.        ,  -0.        ,  -0.        ,\n",
       "        -0.        ,  -0.        ,  -0.        ,   0.        ,\n",
       "         0.        ,   0.        ,   0.        ,   0.        ,\n",
       "         0.        ,  -0.        ,  -0.        , -32.68439801,\n",
       "        -0.        ,  -0.        ,  -0.        ,   0.        ,\n",
       "         0.        ,   0.        ,   0.        ,  19.65500777,\n",
       "         0.        ,   0.        ,   0.        ,   0.        ,\n",
       "         0.        ,   0.        ,   0.        ,   3.82318644,\n",
       "         5.20437586,  -0.        ,   0.        ,   0.        ,\n",
       "        -0.        ,  -0.        ,  -0.        ,   0.        ,\n",
       "         0.        ,  -0.        ,   0.        ,   0.        ,\n",
       "         0.        ,   0.        ])"
      ]
     },
     "execution_count": 1033,
     "metadata": {},
     "output_type": "execute_result"
    }
   ],
   "source": [
    "coeffs = models['Lasso'][\"LinearModel\"].coef_\n",
    "coeffs"
   ]
  },
  {
   "cell_type": "code",
   "execution_count": 1034,
   "metadata": {},
   "outputs": [
    {
     "data": {
      "text/plain": [
       "array(['cases', 'PopulationDensityperSqMile2010', 'HeartDiseaseMortality',\n",
       "       'PopMale25-292010', 'PopMale55-592010', 'PopMale>842010',\n",
       "       'PopFmle>842010'], dtype='<U32')"
      ]
     },
     "execution_count": 1034,
     "metadata": {},
     "output_type": "execute_result"
    }
   ],
   "source": [
    "kept = ~np.isclose(models['Lasso'][\"LinearModel\"].coef_, 0)\n",
    "good_feature = feature_names[kept]\n",
    "good_feature"
   ]
  },
  {
   "cell_type": "markdown",
   "metadata": {},
   "source": [
    "These features are probably good for estimating death counts"
   ]
  },
  {
   "cell_type": "code",
   "execution_count": 1035,
   "metadata": {},
   "outputs": [],
   "source": [
    "good_coef = np.array([101.67012384, 3.71782894,0.75176975,-32.68439801,19.65500777,3.82318644,5.20437586])"
   ]
  },
  {
   "cell_type": "code",
   "execution_count": 1036,
   "metadata": {},
   "outputs": [
    {
     "data": {
      "image/png": "[encoded data removed]",
      "text/plain": [
       "<Figure size 1440x720 with 1 Axes>"
      ]
     },
     "metadata": {},
     "output_type": "display_data"
    }
   ],
   "source": [
    "fig, ax = plt.subplots(figsize=(20, 10))\n",
    "\n",
    "plt.barh([x for x in good_feature], good_coef)\n",
    "\n",
    "plt.xlabel('Coefficient')\n",
    "plt.title('Feature Importance')\n",
    "\n",
    "plt.savefig('Lasso.jpg')"
   ]
  },
  {
   "cell_type": "markdown",
   "metadata": {},
   "source": [
    "The features with coefficients that are not close to 0 are the features that are important in estimating death numbers due to Covid-19. We see that population of both male and female older than 84, population of male between 55-59 years old, population of male between 25-29 years old, people who died of heart disease, population density, and confirmed cases are the most important features in estimating deaths. We see that there is a very strong positive relationship between number of confirmed cases and number of deaths, and there is a positive relationship between the number of older people and number of deaths while there is a negative relationship between the number of young people and deaths. We also see a positive relationship between the number of deaths in covid and population density & heart disease mortality. \n"
   ]
  },
  {
   "cell_type": "markdown",
   "metadata": {},
   "source": [
    "# 3 Testing models on the Test set"
   ]
  },
  {
   "cell_type": "code",
   "execution_count": 1037,
   "metadata": {},
   "outputs": [
    {
     "name": "stdout",
     "output_type": "stream",
     "text": [
      "RMSE of test set on Lasso: 28.019447991905448\n",
      "RMSE of test set on Ridge: 27.984900460096153\n",
      "RMSE of test set without regularization: 35.39974311615905\n"
     ]
    },
    {
     "name": "stderr",
     "output_type": "stream",
     "text": [
      "/srv/conda/envs/data100/lib/python3.7/site-packages/sklearn/compose/_column_transformer.py:430: FutureWarning:\n",
      "\n",
      "Given feature/column names or counts do not match the ones for the data given during fit. This will fail from v0.24.\n",
      "\n"
     ]
    }
   ],
   "source": [
    "print('RMSE of test set on Lasso:', rmse_score(lasso_model, test, Y_test))\n",
    "print('RMSE of test set on Ridge:', rmse_score(ridge_model, test, Y_test))\n",
    "print('RMSE of test set without regularization:', rmse_score(lin_model, test, Y_test))"
   ]
  },
  {
   "cell_type": "code",
   "execution_count": 1038,
   "metadata": {},
   "outputs": [
    {
     "name": "stderr",
     "output_type": "stream",
     "text": [
      "/srv/conda/envs/data100/lib/python3.7/site-packages/sklearn/compose/_column_transformer.py:430: FutureWarning:\n",
      "\n",
      "Given feature/column names or counts do not match the ones for the data given during fit. This will fail from v0.24.\n",
      "\n"
     ]
    },
    {
     "data": {
      "text/plain": [
       "Text(0.5, 0, 'RMSE of differnet models on testing set')"
      ]
     },
     "execution_count": 1038,
     "metadata": {},
     "output_type": "execute_result"
    },
    {
     "data": {
      "image/png": "[encoded data removed]",
      "text/plain": [
       "<Figure size 432x288 with 1 Axes>"
      ]
     },
     "metadata": {},
     "output_type": "display_data"
    }
   ],
   "source": [
    "models = ['Linear', 'Ridge', 'Lasso']\n",
    "RMSEs = [rmse_score(lin_model, test, Y_test), rmse_score(ridge_model, test, Y_test), rmse_score(lasso_model, test, Y_test)]\n",
    "\n",
    "plt.bar(models,RMSEs)\n",
    "plt.xlabel('RMSE of differnet models on testing set')"
   ]
  },
  {
   "cell_type": "markdown",
   "metadata": {},
   "source": [
    "Then, we use our Lasso model on the testing set and get a RMSE of 28.02. To further justify the use of the Lasso model, we also use the ridge model and the linear model without regularization on the testing set. The ridge model gives us a RMSE of 27.98, which is very close to the result of the Lasso model. The linear model without regularization gives us a RMSE of 35.39, which again proves that this model overfits and justifies the use of regularization.\n"
   ]
  }
 ],
 "metadata": {
  "kernelspec": {
   "display_name": "Python 3",
   "language": "python",
   "name": "python3"
  },
  "language_info": {
   "codemirror_mode": {
    "name": "ipython",
    "version": 3
   },
   "file_extension": ".py",
   "mimetype": "text/x-python",
   "name": "python",
   "nbconvert_exporter": "python",
   "pygments_lexer": "ipython3",
   "version": "3.7.6"
  }
 },
 "nbformat": 4,
 "nbformat_minor": 4
}
