{
 "cells": [
  {
   "cell_type": "code",
   "execution_count": 734,
   "metadata": {},
   "outputs": [],
   "source": [
    "import numpy as np\n",
    "import pandas as pd\n",
    "\n",
    "import matplotlib.pyplot as plt\n",
    "%matplotlib inline\n",
    "\n",
    "import seaborn as sns\n",
    "sns.set(style = \"whitegrid\", \n",
    "        color_codes = True,\n",
    "        font_scale = 1.5)"
   ]
  },
  {
   "cell_type": "code",
   "execution_count": 735,
   "metadata": {},
   "outputs": [],
   "source": [
    "#states = pd.read_csv('05-04-2020.csv')\n",
    "#states.head()"
   ]
  },
  {
   "cell_type": "code",
   "execution_count": 736,
   "metadata": {},
   "outputs": [],
   "source": [
    "#states.isna().sum()"
   ]
  },
  {
   "cell_type": "code",
   "execution_count": 737,
   "metadata": {},
   "outputs": [],
   "source": [
    "#us_confirmed = pd.read_csv('5:3_time_series_covid19_confirmed_US.csv')\n",
    "#us_confirmed.head()"
   ]
  },
  {
   "cell_type": "code",
   "execution_count": 738,
   "metadata": {},
   "outputs": [],
   "source": [
    "#us_confirmed.isna().sum()"
   ]
  },
  {
   "cell_type": "code",
   "execution_count": 739,
   "metadata": {},
   "outputs": [],
   "source": [
    "#us_confirmed.nunique()[:11]"
   ]
  },
  {
   "cell_type": "code",
   "execution_count": 740,
   "metadata": {},
   "outputs": [],
   "source": [
    "#us_death = pd.read_csv('5:3_time_series_covid19_deaths_US.csv')\n",
    "#us_death.head()"
   ]
  },
  {
   "cell_type": "code",
   "execution_count": 741,
   "metadata": {},
   "outputs": [],
   "source": [
    "#us_death.isna().sum()"
   ]
  },
  {
   "cell_type": "code",
   "execution_count": 742,
   "metadata": {},
   "outputs": [],
   "source": [
    "#us_confirmed.keys()[11:]\n",
    "#eariliest available data: 1/22/20"
   ]
  },
  {
   "cell_type": "code",
   "execution_count": 743,
   "metadata": {},
   "outputs": [],
   "source": [
    "#us_death.keys()[12:]\n",
    "#eariliest available data: 1/22/20"
   ]
  },
  {
   "cell_type": "code",
   "execution_count": 744,
   "metadata": {},
   "outputs": [],
   "source": [
    "#sum us confirm cases\n",
    "#us_confirmed_sum = us_confirmed.iloc[:,11:].sum(axis=0)\n",
    "#us_death_sum = us_death.iloc[:, 12:].sum(axis=0)\n",
    "#new_confirmed = np.diff(us_confirmed_sum.values)\n",
    "#new_confirmed = np.append(0, new_confirmed)\n",
    "#new_deaths = np.diff(us_death_sum.values)\n",
    "#new_deaths = np.append(0, new_deaths)"
   ]
  },
  {
   "cell_type": "code",
   "execution_count": 745,
   "metadata": {},
   "outputs": [],
   "source": [
    "#us_data = pd.DataFrame(data={'Date':range(len(us_confirmed_sum)), 'Confirmed':us_confirmed_sum, 'Deaths': us_death_sum,\n",
    "                           # 'New confirmed': new_confirmed, 'New deaths': new_deaths})\n",
    "#us_data.head()"
   ]
  },
  {
   "cell_type": "markdown",
   "metadata": {},
   "source": [
    "fig, ax1 = plt.subplots(figsize=(15,10))\n",
    "\n",
    "style1 = dict(c=\"r\",linewidth=3, linestyle='-', marker='o',markersize=5, markerfacecolor='w')\n",
    "style2 = dict(c=\"b\",linewidth=3, linestyle='-', marker='o',markersize=5, markerfacecolor='w')\n",
    "\n",
    "\n",
    "ax1.plot(us_data['Date'], us_data['Confirmed'],**style1)\n",
    "ax1.set_xlabel('Date since 1/22/2020')\n",
    "ax1.set_ylabel('Number of confirmed cases')\n",
    "ax1.tick_params(axis='y', labelcolor='r')\n",
    "\n",
    "ax2 = ax1.twinx()\n",
    "ax2.plot(us_data['Date'], us_data['New confirmed'], **style2)\n",
    "ax2.set_ylabel('Number of increase cases')\n",
    "ax2.tick_params(axis='y', labelcolor='b')\n",
    "\n",
    "\n",
    "plt.title('US confirmed cases & increase cases over time')"
   ]
  },
  {
   "cell_type": "markdown",
   "metadata": {},
   "source": [
    "fig, ax3 = plt.subplots(figsize=(15,10))\n",
    "\n",
    "ax3.plot(us_data['Date'], us_data['Deaths'],**style1)\n",
    "ax3.set_xlabel('Date since 1/22/2020')\n",
    "ax3.set_ylabel('Number of deahts')\n",
    "ax3.tick_params(axis='y', labelcolor='r')\n",
    "\n",
    "ax4 = ax3.twinx()\n",
    "ax4.plot(us_data['Date'], us_data['New deaths'],**style2)\n",
    "ax4.set_ylabel('Number of increase deaths')\n",
    "ax4.tick_params(axis='y', labelcolor='b')\n",
    "\n",
    "plt.title('US deaths over time')"
   ]
  },
  {
   "cell_type": "markdown",
   "metadata": {},
   "source": [
    "## Clean Abridged_counties Data"
   ]
  },
  {
   "cell_type": "code",
   "execution_count": 746,
   "metadata": {},
   "outputs": [
    {
     "data": {
      "text/html": [
       "<div>\n",
       "<style scoped>\n",
       "    .dataframe tbody tr th:only-of-type {\n",
       "        vertical-align: middle;\n",
       "    }\n",
       "\n",
       "    .dataframe tbody tr th {\n",
       "        vertical-align: top;\n",
       "    }\n",
       "\n",
       "    .dataframe thead th {\n",
       "        text-align: right;\n",
       "    }\n",
       "</style>\n",
       "<table border=\"1\" class=\"dataframe\">\n",
       "  <thead>\n",
       "    <tr style=\"text-align: right;\">\n",
       "      <th></th>\n",
       "      <th>countyFIPS</th>\n",
       "      <th>STATEFP</th>\n",
       "      <th>COUNTYFP</th>\n",
       "      <th>CountyName</th>\n",
       "      <th>StateName</th>\n",
       "      <th>State</th>\n",
       "      <th>lat</th>\n",
       "      <th>lon</th>\n",
       "      <th>POP_LATITUDE</th>\n",
       "      <th>POP_LONGITUDE</th>\n",
       "      <th>...</th>\n",
       "      <th>&gt;500 gatherings</th>\n",
       "      <th>public schools</th>\n",
       "      <th>restaurant dine-in</th>\n",
       "      <th>entertainment/gym</th>\n",
       "      <th>federal guidelines</th>\n",
       "      <th>foreign travel ban</th>\n",
       "      <th>SVIPercentile</th>\n",
       "      <th>HPSAShortage</th>\n",
       "      <th>HPSAServedPop</th>\n",
       "      <th>HPSAUnderservedPop</th>\n",
       "    </tr>\n",
       "  </thead>\n",
       "  <tbody>\n",
       "    <tr>\n",
       "      <th>0</th>\n",
       "      <td>01001</td>\n",
       "      <td>1.0</td>\n",
       "      <td>1.0</td>\n",
       "      <td>Autauga</td>\n",
       "      <td>AL</td>\n",
       "      <td>Alabama</td>\n",
       "      <td>32.540091</td>\n",
       "      <td>-86.645649</td>\n",
       "      <td>32.500389</td>\n",
       "      <td>-86.494165</td>\n",
       "      <td>...</td>\n",
       "      <td>737497.0</td>\n",
       "      <td>737500.0</td>\n",
       "      <td>737503.0</td>\n",
       "      <td>737512.0</td>\n",
       "      <td>737500.0</td>\n",
       "      <td>737495.0</td>\n",
       "      <td>0.4354</td>\n",
       "      <td>NaN</td>\n",
       "      <td>NaN</td>\n",
       "      <td>NaN</td>\n",
       "    </tr>\n",
       "    <tr>\n",
       "      <th>1</th>\n",
       "      <td>01003</td>\n",
       "      <td>1.0</td>\n",
       "      <td>3.0</td>\n",
       "      <td>Baldwin</td>\n",
       "      <td>AL</td>\n",
       "      <td>Alabama</td>\n",
       "      <td>30.738314</td>\n",
       "      <td>-87.726272</td>\n",
       "      <td>30.548923</td>\n",
       "      <td>-87.762381</td>\n",
       "      <td>...</td>\n",
       "      <td>737497.0</td>\n",
       "      <td>737500.0</td>\n",
       "      <td>737503.0</td>\n",
       "      <td>737512.0</td>\n",
       "      <td>737500.0</td>\n",
       "      <td>737495.0</td>\n",
       "      <td>0.2162</td>\n",
       "      <td>NaN</td>\n",
       "      <td>NaN</td>\n",
       "      <td>NaN</td>\n",
       "    </tr>\n",
       "    <tr>\n",
       "      <th>2</th>\n",
       "      <td>01005</td>\n",
       "      <td>1.0</td>\n",
       "      <td>5.0</td>\n",
       "      <td>Barbour</td>\n",
       "      <td>AL</td>\n",
       "      <td>Alabama</td>\n",
       "      <td>31.874030</td>\n",
       "      <td>-85.397327</td>\n",
       "      <td>31.844036</td>\n",
       "      <td>-85.310038</td>\n",
       "      <td>...</td>\n",
       "      <td>737497.0</td>\n",
       "      <td>737500.0</td>\n",
       "      <td>737503.0</td>\n",
       "      <td>737512.0</td>\n",
       "      <td>737500.0</td>\n",
       "      <td>737495.0</td>\n",
       "      <td>0.9959</td>\n",
       "      <td>6.08</td>\n",
       "      <td>5400.0</td>\n",
       "      <td>18241.0</td>\n",
       "    </tr>\n",
       "    <tr>\n",
       "      <th>3</th>\n",
       "      <td>01007</td>\n",
       "      <td>1.0</td>\n",
       "      <td>7.0</td>\n",
       "      <td>Bibb</td>\n",
       "      <td>AL</td>\n",
       "      <td>Alabama</td>\n",
       "      <td>32.999024</td>\n",
       "      <td>-87.125260</td>\n",
       "      <td>33.030921</td>\n",
       "      <td>-87.127659</td>\n",
       "      <td>...</td>\n",
       "      <td>737497.0</td>\n",
       "      <td>737500.0</td>\n",
       "      <td>737503.0</td>\n",
       "      <td>737512.0</td>\n",
       "      <td>737500.0</td>\n",
       "      <td>737495.0</td>\n",
       "      <td>0.6003</td>\n",
       "      <td>2.75</td>\n",
       "      <td>14980.0</td>\n",
       "      <td>6120.0</td>\n",
       "    </tr>\n",
       "    <tr>\n",
       "      <th>4</th>\n",
       "      <td>01009</td>\n",
       "      <td>1.0</td>\n",
       "      <td>9.0</td>\n",
       "      <td>Blount</td>\n",
       "      <td>AL</td>\n",
       "      <td>Alabama</td>\n",
       "      <td>33.990440</td>\n",
       "      <td>-86.562711</td>\n",
       "      <td>33.955243</td>\n",
       "      <td>-86.591491</td>\n",
       "      <td>...</td>\n",
       "      <td>737497.0</td>\n",
       "      <td>737500.0</td>\n",
       "      <td>737503.0</td>\n",
       "      <td>737512.0</td>\n",
       "      <td>737500.0</td>\n",
       "      <td>737495.0</td>\n",
       "      <td>0.4242</td>\n",
       "      <td>7.21</td>\n",
       "      <td>31850.0</td>\n",
       "      <td>25233.0</td>\n",
       "    </tr>\n",
       "  </tbody>\n",
       "</table>\n",
       "<p>5 rows × 87 columns</p>\n",
       "</div>"
      ],
      "text/plain": [
       "  countyFIPS  STATEFP  COUNTYFP CountyName StateName    State        lat  \\\n",
       "0      01001      1.0       1.0    Autauga        AL  Alabama  32.540091   \n",
       "1      01003      1.0       3.0    Baldwin        AL  Alabama  30.738314   \n",
       "2      01005      1.0       5.0    Barbour        AL  Alabama  31.874030   \n",
       "3      01007      1.0       7.0       Bibb        AL  Alabama  32.999024   \n",
       "4      01009      1.0       9.0     Blount        AL  Alabama  33.990440   \n",
       "\n",
       "         lon  POP_LATITUDE  POP_LONGITUDE  ... >500 gatherings public schools  \\\n",
       "0 -86.645649     32.500389     -86.494165  ...        737497.0       737500.0   \n",
       "1 -87.726272     30.548923     -87.762381  ...        737497.0       737500.0   \n",
       "2 -85.397327     31.844036     -85.310038  ...        737497.0       737500.0   \n",
       "3 -87.125260     33.030921     -87.127659  ...        737497.0       737500.0   \n",
       "4 -86.562711     33.955243     -86.591491  ...        737497.0       737500.0   \n",
       "\n",
       "   restaurant dine-in  entertainment/gym  federal guidelines  \\\n",
       "0            737503.0           737512.0            737500.0   \n",
       "1            737503.0           737512.0            737500.0   \n",
       "2            737503.0           737512.0            737500.0   \n",
       "3            737503.0           737512.0            737500.0   \n",
       "4            737503.0           737512.0            737500.0   \n",
       "\n",
       "   foreign travel ban  SVIPercentile  HPSAShortage  HPSAServedPop  \\\n",
       "0            737495.0         0.4354           NaN            NaN   \n",
       "1            737495.0         0.2162           NaN            NaN   \n",
       "2            737495.0         0.9959          6.08         5400.0   \n",
       "3            737495.0         0.6003          2.75        14980.0   \n",
       "4            737495.0         0.4242          7.21        31850.0   \n",
       "\n",
       "   HPSAUnderservedPop  \n",
       "0                 NaN  \n",
       "1                 NaN  \n",
       "2             18241.0  \n",
       "3              6120.0  \n",
       "4             25233.0  \n",
       "\n",
       "[5 rows x 87 columns]"
      ]
     },
     "execution_count": 746,
     "metadata": {},
     "output_type": "execute_result"
    }
   ],
   "source": [
    "abridged_couties = pd.read_csv('abridged_couties.csv')\n",
    "abridged_couties.head()"
   ]
  },
  {
   "cell_type": "code",
   "execution_count": 747,
   "metadata": {},
   "outputs": [
    {
     "data": {
      "text/plain": [
       "(3244, 87)"
      ]
     },
     "execution_count": 747,
     "metadata": {},
     "output_type": "execute_result"
    }
   ],
   "source": [
    "abridged_couties.shape"
   ]
  },
  {
   "cell_type": "code",
   "execution_count": 748,
   "metadata": {},
   "outputs": [],
   "source": [
    "# drop rows that aren't counties -- NYC and Kansas\n",
    "#clean_counties = abridged_couties.drop([3242,3243])\n",
    "#clean_counties['countyFIPS'] = clean_counties['countyFIPS'].astype(int)"
   ]
  },
  {
   "cell_type": "code",
   "execution_count": 749,
   "metadata": {},
   "outputs": [],
   "source": [
    "state_name = pd.read_csv('states.csv')\n",
    "state_name = state_name.append({'State':'Puerto Rico', 'Abbreviation':'PR'},ignore_index=True)"
   ]
  },
  {
   "cell_type": "code",
   "execution_count": 750,
   "metadata": {},
   "outputs": [],
   "source": [
    "#fill in rows that have \"StateName\" as NaN\n",
    "clean_counties = pd.merge(left=abridged_couties, right=state_name, \n",
    "                           left_on='StateName',right_on='Abbreviation',\n",
    "                           how='left').drop(['StateName','State_x'],axis=1)\n",
    "clean_counties = clean_counties.rename(columns={'State_y':'State'})\n",
    "clean_counties = clean_counties[clean_counties['State'].isnull()==False]\n",
    "#right now, all State & State Abbreviation are not null"
   ]
  },
  {
   "cell_type": "code",
   "execution_count": 751,
   "metadata": {},
   "outputs": [],
   "source": [
    "clean_counties['countyFIPS'] = clean_counties['countyFIPS'].astype(str)"
   ]
  },
  {
   "cell_type": "code",
   "execution_count": 752,
   "metadata": {},
   "outputs": [
    {
     "data": {
      "text/html": [
       "<div>\n",
       "<style scoped>\n",
       "    .dataframe tbody tr th:only-of-type {\n",
       "        vertical-align: middle;\n",
       "    }\n",
       "\n",
       "    .dataframe tbody tr th {\n",
       "        vertical-align: top;\n",
       "    }\n",
       "\n",
       "    .dataframe thead th {\n",
       "        text-align: right;\n",
       "    }\n",
       "</style>\n",
       "<table border=\"1\" class=\"dataframe\">\n",
       "  <thead>\n",
       "    <tr style=\"text-align: right;\">\n",
       "      <th></th>\n",
       "      <th>countyFIPS</th>\n",
       "      <th>STATEFP</th>\n",
       "      <th>COUNTYFP</th>\n",
       "      <th>CountyName</th>\n",
       "      <th>lat</th>\n",
       "      <th>lon</th>\n",
       "      <th>POP_LATITUDE</th>\n",
       "      <th>POP_LONGITUDE</th>\n",
       "      <th>CensusRegionName</th>\n",
       "      <th>CensusDivisionName</th>\n",
       "      <th>...</th>\n",
       "      <th>restaurant dine-in</th>\n",
       "      <th>entertainment/gym</th>\n",
       "      <th>federal guidelines</th>\n",
       "      <th>foreign travel ban</th>\n",
       "      <th>SVIPercentile</th>\n",
       "      <th>HPSAShortage</th>\n",
       "      <th>HPSAServedPop</th>\n",
       "      <th>HPSAUnderservedPop</th>\n",
       "      <th>State</th>\n",
       "      <th>Abbreviation</th>\n",
       "    </tr>\n",
       "  </thead>\n",
       "  <tbody>\n",
       "    <tr>\n",
       "      <th>0</th>\n",
       "      <td>01001</td>\n",
       "      <td>1.0</td>\n",
       "      <td>1.0</td>\n",
       "      <td>Autauga</td>\n",
       "      <td>32.540091</td>\n",
       "      <td>-86.645649</td>\n",
       "      <td>32.500389</td>\n",
       "      <td>-86.494165</td>\n",
       "      <td>South</td>\n",
       "      <td>East South Central</td>\n",
       "      <td>...</td>\n",
       "      <td>737503.0</td>\n",
       "      <td>737512.0</td>\n",
       "      <td>737500.0</td>\n",
       "      <td>737495.0</td>\n",
       "      <td>0.4354</td>\n",
       "      <td>NaN</td>\n",
       "      <td>NaN</td>\n",
       "      <td>NaN</td>\n",
       "      <td>Alabama</td>\n",
       "      <td>AL</td>\n",
       "    </tr>\n",
       "    <tr>\n",
       "      <th>1</th>\n",
       "      <td>01003</td>\n",
       "      <td>1.0</td>\n",
       "      <td>3.0</td>\n",
       "      <td>Baldwin</td>\n",
       "      <td>30.738314</td>\n",
       "      <td>-87.726272</td>\n",
       "      <td>30.548923</td>\n",
       "      <td>-87.762381</td>\n",
       "      <td>South</td>\n",
       "      <td>East South Central</td>\n",
       "      <td>...</td>\n",
       "      <td>737503.0</td>\n",
       "      <td>737512.0</td>\n",
       "      <td>737500.0</td>\n",
       "      <td>737495.0</td>\n",
       "      <td>0.2162</td>\n",
       "      <td>NaN</td>\n",
       "      <td>NaN</td>\n",
       "      <td>NaN</td>\n",
       "      <td>Alabama</td>\n",
       "      <td>AL</td>\n",
       "    </tr>\n",
       "    <tr>\n",
       "      <th>2</th>\n",
       "      <td>01005</td>\n",
       "      <td>1.0</td>\n",
       "      <td>5.0</td>\n",
       "      <td>Barbour</td>\n",
       "      <td>31.874030</td>\n",
       "      <td>-85.397327</td>\n",
       "      <td>31.844036</td>\n",
       "      <td>-85.310038</td>\n",
       "      <td>South</td>\n",
       "      <td>East South Central</td>\n",
       "      <td>...</td>\n",
       "      <td>737503.0</td>\n",
       "      <td>737512.0</td>\n",
       "      <td>737500.0</td>\n",
       "      <td>737495.0</td>\n",
       "      <td>0.9959</td>\n",
       "      <td>6.08</td>\n",
       "      <td>5400.0</td>\n",
       "      <td>18241.0</td>\n",
       "      <td>Alabama</td>\n",
       "      <td>AL</td>\n",
       "    </tr>\n",
       "    <tr>\n",
       "      <th>3</th>\n",
       "      <td>01007</td>\n",
       "      <td>1.0</td>\n",
       "      <td>7.0</td>\n",
       "      <td>Bibb</td>\n",
       "      <td>32.999024</td>\n",
       "      <td>-87.125260</td>\n",
       "      <td>33.030921</td>\n",
       "      <td>-87.127659</td>\n",
       "      <td>South</td>\n",
       "      <td>East South Central</td>\n",
       "      <td>...</td>\n",
       "      <td>737503.0</td>\n",
       "      <td>737512.0</td>\n",
       "      <td>737500.0</td>\n",
       "      <td>737495.0</td>\n",
       "      <td>0.6003</td>\n",
       "      <td>2.75</td>\n",
       "      <td>14980.0</td>\n",
       "      <td>6120.0</td>\n",
       "      <td>Alabama</td>\n",
       "      <td>AL</td>\n",
       "    </tr>\n",
       "    <tr>\n",
       "      <th>4</th>\n",
       "      <td>01009</td>\n",
       "      <td>1.0</td>\n",
       "      <td>9.0</td>\n",
       "      <td>Blount</td>\n",
       "      <td>33.990440</td>\n",
       "      <td>-86.562711</td>\n",
       "      <td>33.955243</td>\n",
       "      <td>-86.591491</td>\n",
       "      <td>South</td>\n",
       "      <td>East South Central</td>\n",
       "      <td>...</td>\n",
       "      <td>737503.0</td>\n",
       "      <td>737512.0</td>\n",
       "      <td>737500.0</td>\n",
       "      <td>737495.0</td>\n",
       "      <td>0.4242</td>\n",
       "      <td>7.21</td>\n",
       "      <td>31850.0</td>\n",
       "      <td>25233.0</td>\n",
       "      <td>Alabama</td>\n",
       "      <td>AL</td>\n",
       "    </tr>\n",
       "    <tr>\n",
       "      <th>...</th>\n",
       "      <td>...</td>\n",
       "      <td>...</td>\n",
       "      <td>...</td>\n",
       "      <td>...</td>\n",
       "      <td>...</td>\n",
       "      <td>...</td>\n",
       "      <td>...</td>\n",
       "      <td>...</td>\n",
       "      <td>...</td>\n",
       "      <td>...</td>\n",
       "      <td>...</td>\n",
       "      <td>...</td>\n",
       "      <td>...</td>\n",
       "      <td>...</td>\n",
       "      <td>...</td>\n",
       "      <td>...</td>\n",
       "      <td>...</td>\n",
       "      <td>...</td>\n",
       "      <td>...</td>\n",
       "      <td>...</td>\n",
       "      <td>...</td>\n",
       "    </tr>\n",
       "    <tr>\n",
       "      <th>3239</th>\n",
       "      <td>15005</td>\n",
       "      <td>15.0</td>\n",
       "      <td>5.0</td>\n",
       "      <td>Kalawao</td>\n",
       "      <td>NaN</td>\n",
       "      <td>NaN</td>\n",
       "      <td>21.188495</td>\n",
       "      <td>-156.979972</td>\n",
       "      <td>West</td>\n",
       "      <td>Pacific</td>\n",
       "      <td>...</td>\n",
       "      <td>737504.0</td>\n",
       "      <td>737509.0</td>\n",
       "      <td>737500.0</td>\n",
       "      <td>737495.0</td>\n",
       "      <td>0.3162</td>\n",
       "      <td>NaN</td>\n",
       "      <td>NaN</td>\n",
       "      <td>NaN</td>\n",
       "      <td>Hawaii</td>\n",
       "      <td>HI</td>\n",
       "    </tr>\n",
       "    <tr>\n",
       "      <th>3240</th>\n",
       "      <td>72039</td>\n",
       "      <td>72.0</td>\n",
       "      <td>39.0</td>\n",
       "      <td>Ciales Municipio</td>\n",
       "      <td>NaN</td>\n",
       "      <td>NaN</td>\n",
       "      <td>18.314399</td>\n",
       "      <td>-66.494215</td>\n",
       "      <td>NaN</td>\n",
       "      <td>NaN</td>\n",
       "      <td>...</td>\n",
       "      <td>737499.0</td>\n",
       "      <td>737499.0</td>\n",
       "      <td>737500.0</td>\n",
       "      <td>737495.0</td>\n",
       "      <td>NaN</td>\n",
       "      <td>NaN</td>\n",
       "      <td>NaN</td>\n",
       "      <td>NaN</td>\n",
       "      <td>Puerto Rico</td>\n",
       "      <td>PR</td>\n",
       "    </tr>\n",
       "    <tr>\n",
       "      <th>3241</th>\n",
       "      <td>72069</td>\n",
       "      <td>72.0</td>\n",
       "      <td>69.0</td>\n",
       "      <td>Humacao Municipio</td>\n",
       "      <td>NaN</td>\n",
       "      <td>NaN</td>\n",
       "      <td>18.144804</td>\n",
       "      <td>-65.817109</td>\n",
       "      <td>NaN</td>\n",
       "      <td>NaN</td>\n",
       "      <td>...</td>\n",
       "      <td>737499.0</td>\n",
       "      <td>737499.0</td>\n",
       "      <td>737500.0</td>\n",
       "      <td>737495.0</td>\n",
       "      <td>NaN</td>\n",
       "      <td>NaN</td>\n",
       "      <td>NaN</td>\n",
       "      <td>NaN</td>\n",
       "      <td>Puerto Rico</td>\n",
       "      <td>PR</td>\n",
       "    </tr>\n",
       "    <tr>\n",
       "      <th>3242</th>\n",
       "      <td>NYC</td>\n",
       "      <td>NaN</td>\n",
       "      <td>NaN</td>\n",
       "      <td>New York City</td>\n",
       "      <td>NaN</td>\n",
       "      <td>NaN</td>\n",
       "      <td>NaN</td>\n",
       "      <td>NaN</td>\n",
       "      <td>NaN</td>\n",
       "      <td>NaN</td>\n",
       "      <td>...</td>\n",
       "      <td>NaN</td>\n",
       "      <td>NaN</td>\n",
       "      <td>NaN</td>\n",
       "      <td>NaN</td>\n",
       "      <td>NaN</td>\n",
       "      <td>NaN</td>\n",
       "      <td>NaN</td>\n",
       "      <td>NaN</td>\n",
       "      <td>New York</td>\n",
       "      <td>NY</td>\n",
       "    </tr>\n",
       "    <tr>\n",
       "      <th>3243</th>\n",
       "      <td>Kansas</td>\n",
       "      <td>NaN</td>\n",
       "      <td>NaN</td>\n",
       "      <td>Kansas City</td>\n",
       "      <td>NaN</td>\n",
       "      <td>NaN</td>\n",
       "      <td>NaN</td>\n",
       "      <td>NaN</td>\n",
       "      <td>NaN</td>\n",
       "      <td>NaN</td>\n",
       "      <td>...</td>\n",
       "      <td>NaN</td>\n",
       "      <td>NaN</td>\n",
       "      <td>NaN</td>\n",
       "      <td>NaN</td>\n",
       "      <td>NaN</td>\n",
       "      <td>NaN</td>\n",
       "      <td>NaN</td>\n",
       "      <td>NaN</td>\n",
       "      <td>Missouri</td>\n",
       "      <td>MO</td>\n",
       "    </tr>\n",
       "  </tbody>\n",
       "</table>\n",
       "<p>3230 rows × 87 columns</p>\n",
       "</div>"
      ],
      "text/plain": [
       "     countyFIPS  STATEFP  COUNTYFP         CountyName        lat        lon  \\\n",
       "0         01001      1.0       1.0            Autauga  32.540091 -86.645649   \n",
       "1         01003      1.0       3.0            Baldwin  30.738314 -87.726272   \n",
       "2         01005      1.0       5.0            Barbour  31.874030 -85.397327   \n",
       "3         01007      1.0       7.0               Bibb  32.999024 -87.125260   \n",
       "4         01009      1.0       9.0             Blount  33.990440 -86.562711   \n",
       "...         ...      ...       ...                ...        ...        ...   \n",
       "3239      15005     15.0       5.0            Kalawao        NaN        NaN   \n",
       "3240      72039     72.0      39.0   Ciales Municipio        NaN        NaN   \n",
       "3241      72069     72.0      69.0  Humacao Municipio        NaN        NaN   \n",
       "3242        NYC      NaN       NaN      New York City        NaN        NaN   \n",
       "3243     Kansas      NaN       NaN        Kansas City        NaN        NaN   \n",
       "\n",
       "      POP_LATITUDE  POP_LONGITUDE CensusRegionName  CensusDivisionName  ...  \\\n",
       "0        32.500389     -86.494165            South  East South Central  ...   \n",
       "1        30.548923     -87.762381            South  East South Central  ...   \n",
       "2        31.844036     -85.310038            South  East South Central  ...   \n",
       "3        33.030921     -87.127659            South  East South Central  ...   \n",
       "4        33.955243     -86.591491            South  East South Central  ...   \n",
       "...            ...            ...              ...                 ...  ...   \n",
       "3239     21.188495    -156.979972             West             Pacific  ...   \n",
       "3240     18.314399     -66.494215              NaN                 NaN  ...   \n",
       "3241     18.144804     -65.817109              NaN                 NaN  ...   \n",
       "3242           NaN            NaN              NaN                 NaN  ...   \n",
       "3243           NaN            NaN              NaN                 NaN  ...   \n",
       "\n",
       "      restaurant dine-in  entertainment/gym  federal guidelines  \\\n",
       "0               737503.0           737512.0            737500.0   \n",
       "1               737503.0           737512.0            737500.0   \n",
       "2               737503.0           737512.0            737500.0   \n",
       "3               737503.0           737512.0            737500.0   \n",
       "4               737503.0           737512.0            737500.0   \n",
       "...                  ...                ...                 ...   \n",
       "3239            737504.0           737509.0            737500.0   \n",
       "3240            737499.0           737499.0            737500.0   \n",
       "3241            737499.0           737499.0            737500.0   \n",
       "3242                 NaN                NaN                 NaN   \n",
       "3243                 NaN                NaN                 NaN   \n",
       "\n",
       "      foreign travel ban  SVIPercentile  HPSAShortage  HPSAServedPop  \\\n",
       "0               737495.0         0.4354           NaN            NaN   \n",
       "1               737495.0         0.2162           NaN            NaN   \n",
       "2               737495.0         0.9959          6.08         5400.0   \n",
       "3               737495.0         0.6003          2.75        14980.0   \n",
       "4               737495.0         0.4242          7.21        31850.0   \n",
       "...                  ...            ...           ...            ...   \n",
       "3239            737495.0         0.3162           NaN            NaN   \n",
       "3240            737495.0            NaN           NaN            NaN   \n",
       "3241            737495.0            NaN           NaN            NaN   \n",
       "3242                 NaN            NaN           NaN            NaN   \n",
       "3243                 NaN            NaN           NaN            NaN   \n",
       "\n",
       "      HPSAUnderservedPop        State  Abbreviation  \n",
       "0                    NaN      Alabama            AL  \n",
       "1                    NaN      Alabama            AL  \n",
       "2                18241.0      Alabama            AL  \n",
       "3                 6120.0      Alabama            AL  \n",
       "4                25233.0      Alabama            AL  \n",
       "...                  ...          ...           ...  \n",
       "3239                 NaN       Hawaii            HI  \n",
       "3240                 NaN  Puerto Rico            PR  \n",
       "3241                 NaN  Puerto Rico            PR  \n",
       "3242                 NaN     New York            NY  \n",
       "3243                 NaN     Missouri            MO  \n",
       "\n",
       "[3230 rows x 87 columns]"
      ]
     },
     "execution_count": 752,
     "metadata": {},
     "output_type": "execute_result"
    }
   ],
   "source": [
    "clean_counties = clean_counties.replace({'countyFIPS':{'City1':'NYC', 'City2':'Kansas'}})\n",
    "clean_counties"
   ]
  },
  {
   "cell_type": "code",
   "execution_count": 753,
   "metadata": {},
   "outputs": [
    {
     "data": {
      "text/plain": [
       "52"
      ]
     },
     "execution_count": 753,
     "metadata": {},
     "output_type": "execute_result"
    }
   ],
   "source": [
    "len(clean_counties['State'].unique()) #There're 52 states"
   ]
  },
  {
   "cell_type": "code",
   "execution_count": 754,
   "metadata": {},
   "outputs": [
    {
     "data": {
      "text/html": [
       "<div>\n",
       "<style scoped>\n",
       "    .dataframe tbody tr th:only-of-type {\n",
       "        vertical-align: middle;\n",
       "    }\n",
       "\n",
       "    .dataframe tbody tr th {\n",
       "        vertical-align: top;\n",
       "    }\n",
       "\n",
       "    .dataframe thead th {\n",
       "        text-align: right;\n",
       "    }\n",
       "</style>\n",
       "<table border=\"1\" class=\"dataframe\">\n",
       "  <thead>\n",
       "    <tr style=\"text-align: right;\">\n",
       "      <th></th>\n",
       "      <th>0</th>\n",
       "    </tr>\n",
       "  </thead>\n",
       "  <tbody>\n",
       "    <tr>\n",
       "      <th>3-YrMortalityAge1-4Years2015-17</th>\n",
       "      <td>3165</td>\n",
       "    </tr>\n",
       "    <tr>\n",
       "      <th>mortality2015-17Estimated</th>\n",
       "      <td>3135</td>\n",
       "    </tr>\n",
       "    <tr>\n",
       "      <th>3-YrMortalityAge5-14Years2015-17</th>\n",
       "      <td>3135</td>\n",
       "    </tr>\n",
       "    <tr>\n",
       "      <th>3-YrMortalityAge&lt;1Year2015-17</th>\n",
       "      <td>2760</td>\n",
       "    </tr>\n",
       "    <tr>\n",
       "      <th>3-YrMortalityAge15-24Years2015-17</th>\n",
       "      <td>2599</td>\n",
       "    </tr>\n",
       "    <tr>\n",
       "      <th>...</th>\n",
       "      <td>...</td>\n",
       "    </tr>\n",
       "    <tr>\n",
       "      <th>POP_LATITUDE</th>\n",
       "      <td>9</td>\n",
       "    </tr>\n",
       "    <tr>\n",
       "      <th>Abbreviation</th>\n",
       "      <td>0</td>\n",
       "    </tr>\n",
       "    <tr>\n",
       "      <th>CountyName</th>\n",
       "      <td>0</td>\n",
       "    </tr>\n",
       "    <tr>\n",
       "      <th>State</th>\n",
       "      <td>0</td>\n",
       "    </tr>\n",
       "    <tr>\n",
       "      <th>countyFIPS</th>\n",
       "      <td>0</td>\n",
       "    </tr>\n",
       "  </tbody>\n",
       "</table>\n",
       "<p>87 rows × 1 columns</p>\n",
       "</div>"
      ],
      "text/plain": [
       "                                      0\n",
       "3-YrMortalityAge1-4Years2015-17    3165\n",
       "mortality2015-17Estimated          3135\n",
       "3-YrMortalityAge5-14Years2015-17   3135\n",
       "3-YrMortalityAge<1Year2015-17      2760\n",
       "3-YrMortalityAge15-24Years2015-17  2599\n",
       "...                                 ...\n",
       "POP_LATITUDE                          9\n",
       "Abbreviation                          0\n",
       "CountyName                            0\n",
       "State                                 0\n",
       "countyFIPS                            0\n",
       "\n",
       "[87 rows x 1 columns]"
      ]
     },
     "execution_count": 754,
     "metadata": {},
     "output_type": "execute_result"
    }
   ],
   "source": [
    "pd.DataFrame(clean_counties.isna().sum().sort_values(ascending=False))"
   ]
  },
  {
   "cell_type": "code",
   "execution_count": 755,
   "metadata": {},
   "outputs": [],
   "source": [
    "import datetime as dt\n",
    "\n",
    "#[dt.date.fromordinal(int(x)) for x in abridged_couties[['stay at home']].dropna()['stay at home']]"
   ]
  },
  {
   "cell_type": "code",
   "execution_count": null,
   "metadata": {},
   "outputs": [],
   "source": []
  },
  {
   "cell_type": "markdown",
   "metadata": {},
   "source": [
    "## Deaths by County Data"
   ]
  },
  {
   "cell_type": "code",
   "execution_count": 756,
   "metadata": {},
   "outputs": [
    {
     "name": "stdout",
     "output_type": "stream",
     "text": [
      "This table has data for 55 different states\n"
     ]
    }
   ],
   "source": [
    "county_death = pd.read_csv('us-counties.csv')\n",
    "print('This table has data for', len(county_death['state'].unique()), 'different states')"
   ]
  },
  {
   "cell_type": "code",
   "execution_count": 757,
   "metadata": {},
   "outputs": [
    {
     "data": {
      "text/plain": [
       "date         0\n",
       "county       0\n",
       "state        0\n",
       "fips      1372\n",
       "cases        0\n",
       "deaths       0\n",
       "dtype: int64"
      ]
     },
     "execution_count": 757,
     "metadata": {},
     "output_type": "execute_result"
    }
   ],
   "source": [
    "county_death.isna().sum()"
   ]
  },
  {
   "cell_type": "code",
   "execution_count": 758,
   "metadata": {},
   "outputs": [],
   "source": [
    "clean_death = county_death[county_death['date']=='2020-05-05']\n",
    "#drop all counties that are \"Unknown\"\n",
    "clean_death = clean_death[clean_death['county']!='Unknown']\n",
    "#NYC and Kansas are special (see https://github.com/nytimes/covid-19-data)\n",
    "clean_death = clean_death.fillna(0) #fill fips for NYC and Kansas\n",
    "clean_death['fips'] = clean_death['fips'].astype(int).astype(str)\n",
    "\n",
    "#clean_death.loc[117161,'fips'] = 'NYC'\n",
    "#clean_death.loc[116905,'fips'] = 'Kansas'\n",
    "\n",
    "#maybe get rid of those two rows they're so annoying"
   ]
  },
  {
   "cell_type": "code",
   "execution_count": 759,
   "metadata": {},
   "outputs": [],
   "source": [
    "merge_county_deaths = pd.merge(left=clean_counties, right=clean_death,\n",
    "                               left_on='countyFIPS',right_on='fips')"
   ]
  },
  {
   "cell_type": "code",
   "execution_count": 760,
   "metadata": {},
   "outputs": [
    {
     "data": {
      "text/html": [
       "<div>\n",
       "<style scoped>\n",
       "    .dataframe tbody tr th:only-of-type {\n",
       "        vertical-align: middle;\n",
       "    }\n",
       "\n",
       "    .dataframe tbody tr th {\n",
       "        vertical-align: top;\n",
       "    }\n",
       "\n",
       "    .dataframe thead th {\n",
       "        text-align: right;\n",
       "    }\n",
       "</style>\n",
       "<table border=\"1\" class=\"dataframe\">\n",
       "  <thead>\n",
       "    <tr style=\"text-align: right;\">\n",
       "      <th></th>\n",
       "      <th>countyFIPS</th>\n",
       "      <th>STATEFP</th>\n",
       "      <th>COUNTYFP</th>\n",
       "      <th>CountyName</th>\n",
       "      <th>lat</th>\n",
       "      <th>lon</th>\n",
       "      <th>POP_LATITUDE</th>\n",
       "      <th>POP_LONGITUDE</th>\n",
       "      <th>CensusRegionName</th>\n",
       "      <th>CensusDivisionName</th>\n",
       "      <th>...</th>\n",
       "      <th>HPSAServedPop</th>\n",
       "      <th>HPSAUnderservedPop</th>\n",
       "      <th>State</th>\n",
       "      <th>Abbreviation</th>\n",
       "      <th>date</th>\n",
       "      <th>county</th>\n",
       "      <th>state</th>\n",
       "      <th>fips</th>\n",
       "      <th>cases</th>\n",
       "      <th>deaths</th>\n",
       "    </tr>\n",
       "  </thead>\n",
       "  <tbody>\n",
       "    <tr>\n",
       "      <th>0</th>\n",
       "      <td>10001</td>\n",
       "      <td>10.0</td>\n",
       "      <td>1.0</td>\n",
       "      <td>Kent</td>\n",
       "      <td>39.087654</td>\n",
       "      <td>-75.573876</td>\n",
       "      <td>39.123220</td>\n",
       "      <td>-75.558604</td>\n",
       "      <td>South</td>\n",
       "      <td>South Atlantic</td>\n",
       "      <td>...</td>\n",
       "      <td>0.0</td>\n",
       "      <td>52966.0</td>\n",
       "      <td>Delaware</td>\n",
       "      <td>DE</td>\n",
       "      <td>2020-05-05</td>\n",
       "      <td>Kent</td>\n",
       "      <td>Delaware</td>\n",
       "      <td>10001</td>\n",
       "      <td>847</td>\n",
       "      <td>32</td>\n",
       "    </tr>\n",
       "    <tr>\n",
       "      <th>1</th>\n",
       "      <td>10003</td>\n",
       "      <td>10.0</td>\n",
       "      <td>3.0</td>\n",
       "      <td>New Castle</td>\n",
       "      <td>39.583358</td>\n",
       "      <td>-75.655191</td>\n",
       "      <td>39.685020</td>\n",
       "      <td>-75.634376</td>\n",
       "      <td>South</td>\n",
       "      <td>South Atlantic</td>\n",
       "      <td>...</td>\n",
       "      <td>NaN</td>\n",
       "      <td>NaN</td>\n",
       "      <td>Delaware</td>\n",
       "      <td>DE</td>\n",
       "      <td>2020-05-05</td>\n",
       "      <td>New Castle</td>\n",
       "      <td>Delaware</td>\n",
       "      <td>10003</td>\n",
       "      <td>1979</td>\n",
       "      <td>83</td>\n",
       "    </tr>\n",
       "    <tr>\n",
       "      <th>2</th>\n",
       "      <td>10005</td>\n",
       "      <td>10.0</td>\n",
       "      <td>5.0</td>\n",
       "      <td>Sussex</td>\n",
       "      <td>38.665735</td>\n",
       "      <td>-75.406689</td>\n",
       "      <td>38.662387</td>\n",
       "      <td>-75.346649</td>\n",
       "      <td>South</td>\n",
       "      <td>South Atlantic</td>\n",
       "      <td>...</td>\n",
       "      <td>0.0</td>\n",
       "      <td>65373.0</td>\n",
       "      <td>Delaware</td>\n",
       "      <td>DE</td>\n",
       "      <td>2020-05-05</td>\n",
       "      <td>Sussex</td>\n",
       "      <td>Delaware</td>\n",
       "      <td>10005</td>\n",
       "      <td>2520</td>\n",
       "      <td>72</td>\n",
       "    </tr>\n",
       "    <tr>\n",
       "      <th>3</th>\n",
       "      <td>11001</td>\n",
       "      <td>11.0</td>\n",
       "      <td>1.0</td>\n",
       "      <td>Washington</td>\n",
       "      <td>38.910787</td>\n",
       "      <td>-77.034099</td>\n",
       "      <td>38.910270</td>\n",
       "      <td>-77.014468</td>\n",
       "      <td>South</td>\n",
       "      <td>South Atlantic</td>\n",
       "      <td>...</td>\n",
       "      <td>NaN</td>\n",
       "      <td>NaN</td>\n",
       "      <td>District of Columbia</td>\n",
       "      <td>DC</td>\n",
       "      <td>2020-05-05</td>\n",
       "      <td>District of Columbia</td>\n",
       "      <td>District of Columbia</td>\n",
       "      <td>11001</td>\n",
       "      <td>5322</td>\n",
       "      <td>264</td>\n",
       "    </tr>\n",
       "    <tr>\n",
       "      <th>4</th>\n",
       "      <td>12001</td>\n",
       "      <td>12.0</td>\n",
       "      <td>1.0</td>\n",
       "      <td>Alachua</td>\n",
       "      <td>29.669178</td>\n",
       "      <td>-82.357751</td>\n",
       "      <td>29.665903</td>\n",
       "      <td>-82.386845</td>\n",
       "      <td>South</td>\n",
       "      <td>South Atlantic</td>\n",
       "      <td>...</td>\n",
       "      <td>12780.0</td>\n",
       "      <td>89514.0</td>\n",
       "      <td>Florida</td>\n",
       "      <td>FL</td>\n",
       "      <td>2020-05-05</td>\n",
       "      <td>Alachua</td>\n",
       "      <td>Florida</td>\n",
       "      <td>12001</td>\n",
       "      <td>289</td>\n",
       "      <td>5</td>\n",
       "    </tr>\n",
       "    <tr>\n",
       "      <th>...</th>\n",
       "      <td>...</td>\n",
       "      <td>...</td>\n",
       "      <td>...</td>\n",
       "      <td>...</td>\n",
       "      <td>...</td>\n",
       "      <td>...</td>\n",
       "      <td>...</td>\n",
       "      <td>...</td>\n",
       "      <td>...</td>\n",
       "      <td>...</td>\n",
       "      <td>...</td>\n",
       "      <td>...</td>\n",
       "      <td>...</td>\n",
       "      <td>...</td>\n",
       "      <td>...</td>\n",
       "      <td>...</td>\n",
       "      <td>...</td>\n",
       "      <td>...</td>\n",
       "      <td>...</td>\n",
       "      <td>...</td>\n",
       "      <td>...</td>\n",
       "    </tr>\n",
       "    <tr>\n",
       "      <th>2567</th>\n",
       "      <td>56037</td>\n",
       "      <td>56.0</td>\n",
       "      <td>37.0</td>\n",
       "      <td>Sweetwater</td>\n",
       "      <td>41.656512</td>\n",
       "      <td>-108.878999</td>\n",
       "      <td>41.580266</td>\n",
       "      <td>-109.295115</td>\n",
       "      <td>West</td>\n",
       "      <td>Mountain</td>\n",
       "      <td>...</td>\n",
       "      <td>41825.0</td>\n",
       "      <td>1986.0</td>\n",
       "      <td>Wyoming</td>\n",
       "      <td>WY</td>\n",
       "      <td>2020-05-05</td>\n",
       "      <td>Sweetwater</td>\n",
       "      <td>Wyoming</td>\n",
       "      <td>56037</td>\n",
       "      <td>11</td>\n",
       "      <td>0</td>\n",
       "    </tr>\n",
       "    <tr>\n",
       "      <th>2568</th>\n",
       "      <td>56039</td>\n",
       "      <td>56.0</td>\n",
       "      <td>39.0</td>\n",
       "      <td>Teton</td>\n",
       "      <td>43.713556</td>\n",
       "      <td>-110.570974</td>\n",
       "      <td>43.494174</td>\n",
       "      <td>-110.784353</td>\n",
       "      <td>West</td>\n",
       "      <td>Mountain</td>\n",
       "      <td>...</td>\n",
       "      <td>NaN</td>\n",
       "      <td>NaN</td>\n",
       "      <td>Wyoming</td>\n",
       "      <td>WY</td>\n",
       "      <td>2020-05-05</td>\n",
       "      <td>Teton</td>\n",
       "      <td>Wyoming</td>\n",
       "      <td>56039</td>\n",
       "      <td>67</td>\n",
       "      <td>1</td>\n",
       "    </tr>\n",
       "    <tr>\n",
       "      <th>2569</th>\n",
       "      <td>56041</td>\n",
       "      <td>56.0</td>\n",
       "      <td>41.0</td>\n",
       "      <td>Uinta</td>\n",
       "      <td>41.289323</td>\n",
       "      <td>-110.553036</td>\n",
       "      <td>41.271860</td>\n",
       "      <td>-110.767519</td>\n",
       "      <td>West</td>\n",
       "      <td>Mountain</td>\n",
       "      <td>...</td>\n",
       "      <td>NaN</td>\n",
       "      <td>NaN</td>\n",
       "      <td>Wyoming</td>\n",
       "      <td>WY</td>\n",
       "      <td>2020-05-05</td>\n",
       "      <td>Uinta</td>\n",
       "      <td>Wyoming</td>\n",
       "      <td>56041</td>\n",
       "      <td>6</td>\n",
       "      <td>0</td>\n",
       "    </tr>\n",
       "    <tr>\n",
       "      <th>2570</th>\n",
       "      <td>56043</td>\n",
       "      <td>56.0</td>\n",
       "      <td>43.0</td>\n",
       "      <td>Washakie</td>\n",
       "      <td>43.909060</td>\n",
       "      <td>-107.679282</td>\n",
       "      <td>44.012142</td>\n",
       "      <td>-107.911552</td>\n",
       "      <td>West</td>\n",
       "      <td>Mountain</td>\n",
       "      <td>...</td>\n",
       "      <td>NaN</td>\n",
       "      <td>NaN</td>\n",
       "      <td>Wyoming</td>\n",
       "      <td>WY</td>\n",
       "      <td>2020-05-05</td>\n",
       "      <td>Washakie</td>\n",
       "      <td>Wyoming</td>\n",
       "      <td>56043</td>\n",
       "      <td>4</td>\n",
       "      <td>0</td>\n",
       "    </tr>\n",
       "    <tr>\n",
       "      <th>2571</th>\n",
       "      <td>12086</td>\n",
       "      <td>12.0</td>\n",
       "      <td>86.0</td>\n",
       "      <td>Miami-Dade</td>\n",
       "      <td>25.607895</td>\n",
       "      <td>-80.587502</td>\n",
       "      <td>25.774565</td>\n",
       "      <td>-80.298888</td>\n",
       "      <td>South</td>\n",
       "      <td>South Atlantic</td>\n",
       "      <td>...</td>\n",
       "      <td>NaN</td>\n",
       "      <td>NaN</td>\n",
       "      <td>Florida</td>\n",
       "      <td>FL</td>\n",
       "      <td>2020-05-05</td>\n",
       "      <td>Miami-Dade</td>\n",
       "      <td>Florida</td>\n",
       "      <td>12086</td>\n",
       "      <td>13223</td>\n",
       "      <td>407</td>\n",
       "    </tr>\n",
       "  </tbody>\n",
       "</table>\n",
       "<p>2572 rows × 93 columns</p>\n",
       "</div>"
      ],
      "text/plain": [
       "     countyFIPS  STATEFP  COUNTYFP  CountyName        lat         lon  \\\n",
       "0         10001     10.0       1.0        Kent  39.087654  -75.573876   \n",
       "1         10003     10.0       3.0  New Castle  39.583358  -75.655191   \n",
       "2         10005     10.0       5.0      Sussex  38.665735  -75.406689   \n",
       "3         11001     11.0       1.0  Washington  38.910787  -77.034099   \n",
       "4         12001     12.0       1.0     Alachua  29.669178  -82.357751   \n",
       "...         ...      ...       ...         ...        ...         ...   \n",
       "2567      56037     56.0      37.0  Sweetwater  41.656512 -108.878999   \n",
       "2568      56039     56.0      39.0       Teton  43.713556 -110.570974   \n",
       "2569      56041     56.0      41.0       Uinta  41.289323 -110.553036   \n",
       "2570      56043     56.0      43.0    Washakie  43.909060 -107.679282   \n",
       "2571      12086     12.0      86.0  Miami-Dade  25.607895  -80.587502   \n",
       "\n",
       "      POP_LATITUDE  POP_LONGITUDE CensusRegionName CensusDivisionName  ...  \\\n",
       "0        39.123220     -75.558604            South     South Atlantic  ...   \n",
       "1        39.685020     -75.634376            South     South Atlantic  ...   \n",
       "2        38.662387     -75.346649            South     South Atlantic  ...   \n",
       "3        38.910270     -77.014468            South     South Atlantic  ...   \n",
       "4        29.665903     -82.386845            South     South Atlantic  ...   \n",
       "...            ...            ...              ...                ...  ...   \n",
       "2567     41.580266    -109.295115             West           Mountain  ...   \n",
       "2568     43.494174    -110.784353             West           Mountain  ...   \n",
       "2569     41.271860    -110.767519             West           Mountain  ...   \n",
       "2570     44.012142    -107.911552             West           Mountain  ...   \n",
       "2571     25.774565     -80.298888            South     South Atlantic  ...   \n",
       "\n",
       "      HPSAServedPop  HPSAUnderservedPop                 State  Abbreviation  \\\n",
       "0               0.0             52966.0              Delaware            DE   \n",
       "1               NaN                 NaN              Delaware            DE   \n",
       "2               0.0             65373.0              Delaware            DE   \n",
       "3               NaN                 NaN  District of Columbia            DC   \n",
       "4           12780.0             89514.0               Florida            FL   \n",
       "...             ...                 ...                   ...           ...   \n",
       "2567        41825.0              1986.0               Wyoming            WY   \n",
       "2568            NaN                 NaN               Wyoming            WY   \n",
       "2569            NaN                 NaN               Wyoming            WY   \n",
       "2570            NaN                 NaN               Wyoming            WY   \n",
       "2571            NaN                 NaN               Florida            FL   \n",
       "\n",
       "            date                county                 state   fips  cases  \\\n",
       "0     2020-05-05                  Kent              Delaware  10001    847   \n",
       "1     2020-05-05            New Castle              Delaware  10003   1979   \n",
       "2     2020-05-05                Sussex              Delaware  10005   2520   \n",
       "3     2020-05-05  District of Columbia  District of Columbia  11001   5322   \n",
       "4     2020-05-05               Alachua               Florida  12001    289   \n",
       "...          ...                   ...                   ...    ...    ...   \n",
       "2567  2020-05-05            Sweetwater               Wyoming  56037     11   \n",
       "2568  2020-05-05                 Teton               Wyoming  56039     67   \n",
       "2569  2020-05-05                 Uinta               Wyoming  56041      6   \n",
       "2570  2020-05-05              Washakie               Wyoming  56043      4   \n",
       "2571  2020-05-05            Miami-Dade               Florida  12086  13223   \n",
       "\n",
       "      deaths  \n",
       "0         32  \n",
       "1         83  \n",
       "2         72  \n",
       "3        264  \n",
       "4          5  \n",
       "...      ...  \n",
       "2567       0  \n",
       "2568       1  \n",
       "2569       0  \n",
       "2570       0  \n",
       "2571     407  \n",
       "\n",
       "[2572 rows x 93 columns]"
      ]
     },
     "execution_count": 760,
     "metadata": {},
     "output_type": "execute_result"
    }
   ],
   "source": [
    "#merge county demographic features & county deaths\n",
    "#NYC and Kansas are unique cases \n",
    "merge_county_deaths"
   ]
  },
  {
   "cell_type": "code",
   "execution_count": 761,
   "metadata": {},
   "outputs": [
    {
     "data": {
      "text/plain": [
       "Index(['countyFIPS', 'STATEFP', 'COUNTYFP', 'CountyName', 'lat', 'lon',\n",
       "       'POP_LATITUDE', 'POP_LONGITUDE', 'CensusRegionName',\n",
       "       'CensusDivisionName', 'Rural-UrbanContinuumCode2013',\n",
       "       'PopulationEstimate2018', 'PopTotalMale2017', 'PopTotalFemale2017',\n",
       "       'FracMale2017', 'PopulationEstimate65+2017',\n",
       "       'PopulationDensityperSqMile2010', 'CensusPopulation2010',\n",
       "       'MedianAge2010', '#EligibleforMedicare2018',\n",
       "       'MedicareEnrollment,AgedTot2017', '3-YrDiabetes2015-17',\n",
       "       'DiabetesPercentage', 'HeartDiseaseMortality', 'StrokeMortality',\n",
       "       'Smokers_Percentage', 'RespMortalityRate2014', '#FTEHospitalTotal2017',\n",
       "       'TotalM.D.'s,TotNon-FedandFed2017', '#HospParticipatinginNetwork2017',\n",
       "       '#Hospitals', '#ICU_beds', 'dem_to_rep_ratio', 'PopMale<52010',\n",
       "       'PopFmle<52010', 'PopMale5-92010', 'PopFmle5-92010', 'PopMale10-142010',\n",
       "       'PopFmle10-142010', 'PopMale15-192010', 'PopFmle15-192010',\n",
       "       'PopMale20-242010', 'PopFmle20-242010', 'PopMale25-292010',\n",
       "       'PopFmle25-292010', 'PopMale30-342010', 'PopFmle30-342010',\n",
       "       'PopMale35-442010', 'PopFmle35-442010', 'PopMale45-542010',\n",
       "       'PopFmle45-542010', 'PopMale55-592010', 'PopFmle55-592010',\n",
       "       'PopMale60-642010', 'PopFmle60-642010', 'PopMale65-742010',\n",
       "       'PopFmle65-742010', 'PopMale75-842010', 'PopFmle75-842010',\n",
       "       'PopMale>842010', 'PopFmle>842010', '3-YrMortalityAge<1Year2015-17',\n",
       "       '3-YrMortalityAge1-4Years2015-17', '3-YrMortalityAge5-14Years2015-17',\n",
       "       '3-YrMortalityAge15-24Years2015-17',\n",
       "       '3-YrMortalityAge25-34Years2015-17',\n",
       "       '3-YrMortalityAge35-44Years2015-17',\n",
       "       '3-YrMortalityAge45-54Years2015-17',\n",
       "       '3-YrMortalityAge55-64Years2015-17',\n",
       "       '3-YrMortalityAge65-74Years2015-17',\n",
       "       '3-YrMortalityAge75-84Years2015-17', '3-YrMortalityAge85+Years2015-17',\n",
       "       'mortality2015-17Estimated', 'stay at home', '>50 gatherings',\n",
       "       '>500 gatherings', 'public schools', 'restaurant dine-in',\n",
       "       'entertainment/gym', 'federal guidelines', 'foreign travel ban',\n",
       "       'SVIPercentile', 'HPSAShortage', 'HPSAServedPop', 'HPSAUnderservedPop',\n",
       "       'State', 'Abbreviation', 'date', 'county', 'state', 'fips', 'cases',\n",
       "       'deaths'],\n",
       "      dtype='object')"
      ]
     },
     "execution_count": 761,
     "metadata": {},
     "output_type": "execute_result"
    }
   ],
   "source": [
    "merge_county_deaths.keys()"
   ]
  },
  {
   "cell_type": "code",
   "execution_count": 762,
   "metadata": {},
   "outputs": [
    {
     "data": {
      "text/html": [
       "<div>\n",
       "<style scoped>\n",
       "    .dataframe tbody tr th:only-of-type {\n",
       "        vertical-align: middle;\n",
       "    }\n",
       "\n",
       "    .dataframe tbody tr th {\n",
       "        vertical-align: top;\n",
       "    }\n",
       "\n",
       "    .dataframe thead th {\n",
       "        text-align: right;\n",
       "    }\n",
       "</style>\n",
       "<table border=\"1\" class=\"dataframe\">\n",
       "  <thead>\n",
       "    <tr style=\"text-align: right;\">\n",
       "      <th></th>\n",
       "      <th>0</th>\n",
       "    </tr>\n",
       "  </thead>\n",
       "  <tbody>\n",
       "    <tr>\n",
       "      <th>3-YrMortalityAge1-4Years2015-17</th>\n",
       "      <td>2523</td>\n",
       "    </tr>\n",
       "    <tr>\n",
       "      <th>mortality2015-17Estimated</th>\n",
       "      <td>2500</td>\n",
       "    </tr>\n",
       "    <tr>\n",
       "      <th>3-YrMortalityAge5-14Years2015-17</th>\n",
       "      <td>2500</td>\n",
       "    </tr>\n",
       "    <tr>\n",
       "      <th>3-YrMortalityAge&lt;1Year2015-17</th>\n",
       "      <td>2180</td>\n",
       "    </tr>\n",
       "    <tr>\n",
       "      <th>3-YrMortalityAge15-24Years2015-17</th>\n",
       "      <td>2047</td>\n",
       "    </tr>\n",
       "    <tr>\n",
       "      <th>3-YrMortalityAge25-34Years2015-17</th>\n",
       "      <td>1745</td>\n",
       "    </tr>\n",
       "    <tr>\n",
       "      <th>3-YrMortalityAge35-44Years2015-17</th>\n",
       "      <td>1430</td>\n",
       "    </tr>\n",
       "    <tr>\n",
       "      <th>3-YrDiabetes2015-17</th>\n",
       "      <td>1300</td>\n",
       "    </tr>\n",
       "    <tr>\n",
       "      <th>HPSAUnderservedPop</th>\n",
       "      <td>895</td>\n",
       "    </tr>\n",
       "    <tr>\n",
       "      <th>HPSAServedPop</th>\n",
       "      <td>895</td>\n",
       "    </tr>\n",
       "    <tr>\n",
       "      <th>HPSAShortage</th>\n",
       "      <td>895</td>\n",
       "    </tr>\n",
       "    <tr>\n",
       "      <th>3-YrMortalityAge45-54Years2015-17</th>\n",
       "      <td>718</td>\n",
       "    </tr>\n",
       "    <tr>\n",
       "      <th>stay at home</th>\n",
       "      <td>333</td>\n",
       "    </tr>\n",
       "    <tr>\n",
       "      <th>3-YrMortalityAge55-64Years2015-17</th>\n",
       "      <td>250</td>\n",
       "    </tr>\n",
       "    <tr>\n",
       "      <th>3-YrMortalityAge65-74Years2015-17</th>\n",
       "      <td>139</td>\n",
       "    </tr>\n",
       "    <tr>\n",
       "      <th>&gt;500 gatherings</th>\n",
       "      <td>83</td>\n",
       "    </tr>\n",
       "    <tr>\n",
       "      <th>&gt;50 gatherings</th>\n",
       "      <td>83</td>\n",
       "    </tr>\n",
       "    <tr>\n",
       "      <th>3-YrMortalityAge75-84Years2015-17</th>\n",
       "      <td>81</td>\n",
       "    </tr>\n",
       "    <tr>\n",
       "      <th>3-YrMortalityAge85+Years2015-17</th>\n",
       "      <td>52</td>\n",
       "    </tr>\n",
       "    <tr>\n",
       "      <th>entertainment/gym</th>\n",
       "      <td>46</td>\n",
       "    </tr>\n",
       "  </tbody>\n",
       "</table>\n",
       "</div>"
      ],
      "text/plain": [
       "                                      0\n",
       "3-YrMortalityAge1-4Years2015-17    2523\n",
       "mortality2015-17Estimated          2500\n",
       "3-YrMortalityAge5-14Years2015-17   2500\n",
       "3-YrMortalityAge<1Year2015-17      2180\n",
       "3-YrMortalityAge15-24Years2015-17  2047\n",
       "3-YrMortalityAge25-34Years2015-17  1745\n",
       "3-YrMortalityAge35-44Years2015-17  1430\n",
       "3-YrDiabetes2015-17                1300\n",
       "HPSAUnderservedPop                  895\n",
       "HPSAServedPop                       895\n",
       "HPSAShortage                        895\n",
       "3-YrMortalityAge45-54Years2015-17   718\n",
       "stay at home                        333\n",
       "3-YrMortalityAge55-64Years2015-17   250\n",
       "3-YrMortalityAge65-74Years2015-17   139\n",
       ">500 gatherings                      83\n",
       ">50 gatherings                       83\n",
       "3-YrMortalityAge75-84Years2015-17    81\n",
       "3-YrMortalityAge85+Years2015-17      52\n",
       "entertainment/gym                    46"
      ]
     },
     "execution_count": 762,
     "metadata": {},
     "output_type": "execute_result"
    }
   ],
   "source": [
    "pd.DataFrame(merge_county_deaths.isna().sum().sort_values(ascending=False)).head(20)"
   ]
  },
  {
   "cell_type": "code",
   "execution_count": 763,
   "metadata": {},
   "outputs": [],
   "source": [
    "useful_col = merge_county_deaths.drop(['STATEFP', 'COUNTYFP','lat', 'lon',\n",
    "       'POP_LATITUDE', 'POP_LONGITUDE', 'CensusRegionName','PopTotalMale2017', 'PopTotalFemale2017',\n",
    "       'FracMale2017',\n",
    "       'CensusDivisionName', 'Rural-UrbanContinuumCode2013','date','county','state','fips'\n",
    "                          ,'3-YrMortalityAge<1Year2015-17',\n",
    "       '3-YrMortalityAge1-4Years2015-17', '3-YrMortalityAge5-14Years2015-17',\n",
    "       '3-YrMortalityAge15-24Years2015-17',\n",
    "       '3-YrMortalityAge25-34Years2015-17',\n",
    "       '3-YrMortalityAge35-44Years2015-17',\n",
    "       '3-YrMortalityAge45-54Years2015-17',\n",
    "       '3-YrMortalityAge55-64Years2015-17',\n",
    "       '3-YrMortalityAge65-74Years2015-17',\n",
    "       '3-YrMortalityAge75-84Years2015-17', '3-YrMortalityAge85+Years2015-17','3-YrDiabetes2015-17',\n",
    "        'HPSAShortage', 'HPSAServedPop', 'HPSAUnderservedPop','Abbreviation','mortality2015-17Estimated'],axis=1)\n",
    "cols = useful_col.columns.to_list()"
   ]
  },
  {
   "cell_type": "code",
   "execution_count": 764,
   "metadata": {},
   "outputs": [
    {
     "data": {
      "text/html": [
       "<div>\n",
       "<style scoped>\n",
       "    .dataframe tbody tr th:only-of-type {\n",
       "        vertical-align: middle;\n",
       "    }\n",
       "\n",
       "    .dataframe tbody tr th {\n",
       "        vertical-align: top;\n",
       "    }\n",
       "\n",
       "    .dataframe thead th {\n",
       "        text-align: right;\n",
       "    }\n",
       "</style>\n",
       "<table border=\"1\" class=\"dataframe\">\n",
       "  <thead>\n",
       "    <tr style=\"text-align: right;\">\n",
       "      <th></th>\n",
       "      <th>0</th>\n",
       "    </tr>\n",
       "  </thead>\n",
       "  <tbody>\n",
       "    <tr>\n",
       "      <th>stay at home</th>\n",
       "      <td>333</td>\n",
       "    </tr>\n",
       "    <tr>\n",
       "      <th>&gt;500 gatherings</th>\n",
       "      <td>83</td>\n",
       "    </tr>\n",
       "    <tr>\n",
       "      <th>&gt;50 gatherings</th>\n",
       "      <td>83</td>\n",
       "    </tr>\n",
       "    <tr>\n",
       "      <th>entertainment/gym</th>\n",
       "      <td>46</td>\n",
       "    </tr>\n",
       "    <tr>\n",
       "      <th>MedicareEnrollment,AgedTot2017</th>\n",
       "      <td>4</td>\n",
       "    </tr>\n",
       "    <tr>\n",
       "      <th>SVIPercentile</th>\n",
       "      <td>1</td>\n",
       "    </tr>\n",
       "    <tr>\n",
       "      <th>TotalM.D.'s,TotNon-FedandFed2017</th>\n",
       "      <td>0</td>\n",
       "    </tr>\n",
       "    <tr>\n",
       "      <th>#HospParticipatinginNetwork2017</th>\n",
       "      <td>0</td>\n",
       "    </tr>\n",
       "    <tr>\n",
       "      <th>#Hospitals</th>\n",
       "      <td>0</td>\n",
       "    </tr>\n",
       "    <tr>\n",
       "      <th>#ICU_beds</th>\n",
       "      <td>0</td>\n",
       "    </tr>\n",
       "  </tbody>\n",
       "</table>\n",
       "</div>"
      ],
      "text/plain": [
       "                                    0\n",
       "stay at home                      333\n",
       ">500 gatherings                    83\n",
       ">50 gatherings                     83\n",
       "entertainment/gym                  46\n",
       "MedicareEnrollment,AgedTot2017      4\n",
       "SVIPercentile                       1\n",
       "TotalM.D.'s,TotNon-FedandFed2017    0\n",
       "#HospParticipatinginNetwork2017     0\n",
       "#Hospitals                          0\n",
       "#ICU_beds                           0"
      ]
     },
     "execution_count": 764,
     "metadata": {},
     "output_type": "execute_result"
    }
   ],
   "source": [
    "#For columns that have 2 null values, it's for NYC and Kansas (idk if we should delete those two rows yet)\n",
    "pd.DataFrame(useful_col.isna().sum().sort_values(ascending=False)).head(10)"
   ]
  },
  {
   "cell_type": "code",
   "execution_count": 765,
   "metadata": {},
   "outputs": [
    {
     "data": {
      "text/plain": [
       "(2572, 60)"
      ]
     },
     "execution_count": 765,
     "metadata": {},
     "output_type": "execute_result"
    }
   ],
   "source": [
    "useful_col.shape"
   ]
  },
  {
   "cell_type": "code",
   "execution_count": 766,
   "metadata": {},
   "outputs": [
    {
     "data": {
      "text/html": [
       "<div>\n",
       "<style scoped>\n",
       "    .dataframe tbody tr th:only-of-type {\n",
       "        vertical-align: middle;\n",
       "    }\n",
       "\n",
       "    .dataframe tbody tr th {\n",
       "        vertical-align: top;\n",
       "    }\n",
       "\n",
       "    .dataframe thead th {\n",
       "        text-align: right;\n",
       "    }\n",
       "</style>\n",
       "<table border=\"1\" class=\"dataframe\">\n",
       "  <thead>\n",
       "    <tr style=\"text-align: right;\">\n",
       "      <th></th>\n",
       "      <th>countyFIPS</th>\n",
       "      <th>CountyName</th>\n",
       "      <th>State</th>\n",
       "      <th>cases</th>\n",
       "      <th>deaths</th>\n",
       "      <th>PopulationEstimate2018</th>\n",
       "      <th>PopulationEstimate65+2017</th>\n",
       "      <th>PopulationDensityperSqMile2010</th>\n",
       "      <th>CensusPopulation2010</th>\n",
       "      <th>MedianAge2010</th>\n",
       "      <th>...</th>\n",
       "      <th>PopFmle&gt;842010</th>\n",
       "      <th>stay at home</th>\n",
       "      <th>&gt;50 gatherings</th>\n",
       "      <th>&gt;500 gatherings</th>\n",
       "      <th>public schools</th>\n",
       "      <th>restaurant dine-in</th>\n",
       "      <th>entertainment/gym</th>\n",
       "      <th>federal guidelines</th>\n",
       "      <th>foreign travel ban</th>\n",
       "      <th>SVIPercentile</th>\n",
       "    </tr>\n",
       "  </thead>\n",
       "  <tbody>\n",
       "    <tr>\n",
       "      <th>0</th>\n",
       "      <td>10001</td>\n",
       "      <td>Kent</td>\n",
       "      <td>Delaware</td>\n",
       "      <td>847</td>\n",
       "      <td>32</td>\n",
       "      <td>178550.0</td>\n",
       "      <td>29407.0</td>\n",
       "      <td>276.9</td>\n",
       "      <td>162310.0</td>\n",
       "      <td>36.6</td>\n",
       "      <td>...</td>\n",
       "      <td>1643.0</td>\n",
       "      <td>737508.0</td>\n",
       "      <td>737508.0</td>\n",
       "      <td>737508.0</td>\n",
       "      <td>737500.0</td>\n",
       "      <td>737496.0</td>\n",
       "      <td>737496.0</td>\n",
       "      <td>737500.0</td>\n",
       "      <td>737495.0</td>\n",
       "      <td>0.7268</td>\n",
       "    </tr>\n",
       "    <tr>\n",
       "      <th>1</th>\n",
       "      <td>10003</td>\n",
       "      <td>New Castle</td>\n",
       "      <td>Delaware</td>\n",
       "      <td>1979</td>\n",
       "      <td>83</td>\n",
       "      <td>559335.0</td>\n",
       "      <td>84505.0</td>\n",
       "      <td>1263.2</td>\n",
       "      <td>538479.0</td>\n",
       "      <td>37.2</td>\n",
       "      <td>...</td>\n",
       "      <td>6204.0</td>\n",
       "      <td>737508.0</td>\n",
       "      <td>737508.0</td>\n",
       "      <td>737508.0</td>\n",
       "      <td>737500.0</td>\n",
       "      <td>737496.0</td>\n",
       "      <td>737496.0</td>\n",
       "      <td>737500.0</td>\n",
       "      <td>737495.0</td>\n",
       "      <td>0.3761</td>\n",
       "    </tr>\n",
       "    <tr>\n",
       "      <th>2</th>\n",
       "      <td>10005</td>\n",
       "      <td>Sussex</td>\n",
       "      <td>Delaware</td>\n",
       "      <td>2520</td>\n",
       "      <td>72</td>\n",
       "      <td>229286.0</td>\n",
       "      <td>60216.0</td>\n",
       "      <td>210.6</td>\n",
       "      <td>197145.0</td>\n",
       "      <td>45.4</td>\n",
       "      <td>...</td>\n",
       "      <td>2783.0</td>\n",
       "      <td>737508.0</td>\n",
       "      <td>737508.0</td>\n",
       "      <td>737508.0</td>\n",
       "      <td>737500.0</td>\n",
       "      <td>737496.0</td>\n",
       "      <td>737496.0</td>\n",
       "      <td>737500.0</td>\n",
       "      <td>737495.0</td>\n",
       "      <td>0.4019</td>\n",
       "    </tr>\n",
       "    <tr>\n",
       "      <th>3</th>\n",
       "      <td>11001</td>\n",
       "      <td>Washington</td>\n",
       "      <td>District of Columbia</td>\n",
       "      <td>5322</td>\n",
       "      <td>264</td>\n",
       "      <td>702455.0</td>\n",
       "      <td>83734.0</td>\n",
       "      <td>9856.5</td>\n",
       "      <td>601723.0</td>\n",
       "      <td>33.8</td>\n",
       "      <td>...</td>\n",
       "      <td>7198.0</td>\n",
       "      <td>737516.0</td>\n",
       "      <td>737509.0</td>\n",
       "      <td>737509.0</td>\n",
       "      <td>737500.0</td>\n",
       "      <td>737500.0</td>\n",
       "      <td>737500.0</td>\n",
       "      <td>737500.0</td>\n",
       "      <td>737495.0</td>\n",
       "      <td>0.5965</td>\n",
       "    </tr>\n",
       "    <tr>\n",
       "      <th>4</th>\n",
       "      <td>12001</td>\n",
       "      <td>Alachua</td>\n",
       "      <td>Florida</td>\n",
       "      <td>289</td>\n",
       "      <td>5</td>\n",
       "      <td>269956.0</td>\n",
       "      <td>36299.0</td>\n",
       "      <td>282.7</td>\n",
       "      <td>247336.0</td>\n",
       "      <td>30.1</td>\n",
       "      <td>...</td>\n",
       "      <td>2427.0</td>\n",
       "      <td>737509.0</td>\n",
       "      <td>737501.0</td>\n",
       "      <td>737501.0</td>\n",
       "      <td>737500.0</td>\n",
       "      <td>737504.0</td>\n",
       "      <td>737504.0</td>\n",
       "      <td>737500.0</td>\n",
       "      <td>737495.0</td>\n",
       "      <td>0.4729</td>\n",
       "    </tr>\n",
       "    <tr>\n",
       "      <th>...</th>\n",
       "      <td>...</td>\n",
       "      <td>...</td>\n",
       "      <td>...</td>\n",
       "      <td>...</td>\n",
       "      <td>...</td>\n",
       "      <td>...</td>\n",
       "      <td>...</td>\n",
       "      <td>...</td>\n",
       "      <td>...</td>\n",
       "      <td>...</td>\n",
       "      <td>...</td>\n",
       "      <td>...</td>\n",
       "      <td>...</td>\n",
       "      <td>...</td>\n",
       "      <td>...</td>\n",
       "      <td>...</td>\n",
       "      <td>...</td>\n",
       "      <td>...</td>\n",
       "      <td>...</td>\n",
       "      <td>...</td>\n",
       "      <td>...</td>\n",
       "    </tr>\n",
       "    <tr>\n",
       "      <th>2567</th>\n",
       "      <td>56037</td>\n",
       "      <td>Sweetwater</td>\n",
       "      <td>Wyoming</td>\n",
       "      <td>11</td>\n",
       "      <td>0</td>\n",
       "      <td>43051.0</td>\n",
       "      <td>4952.0</td>\n",
       "      <td>4.2</td>\n",
       "      <td>43806.0</td>\n",
       "      <td>32.8</td>\n",
       "      <td>...</td>\n",
       "      <td>302.0</td>\n",
       "      <td>737512.0</td>\n",
       "      <td>737504.0</td>\n",
       "      <td>737504.0</td>\n",
       "      <td>737504.0</td>\n",
       "      <td>737503.0</td>\n",
       "      <td>737503.0</td>\n",
       "      <td>737500.0</td>\n",
       "      <td>737495.0</td>\n",
       "      <td>0.3701</td>\n",
       "    </tr>\n",
       "    <tr>\n",
       "      <th>2568</th>\n",
       "      <td>56039</td>\n",
       "      <td>Teton</td>\n",
       "      <td>Wyoming</td>\n",
       "      <td>67</td>\n",
       "      <td>1</td>\n",
       "      <td>23081.0</td>\n",
       "      <td>3349.0</td>\n",
       "      <td>5.3</td>\n",
       "      <td>21294.0</td>\n",
       "      <td>36.9</td>\n",
       "      <td>...</td>\n",
       "      <td>106.0</td>\n",
       "      <td>737512.0</td>\n",
       "      <td>737504.0</td>\n",
       "      <td>737504.0</td>\n",
       "      <td>737504.0</td>\n",
       "      <td>737503.0</td>\n",
       "      <td>737503.0</td>\n",
       "      <td>737500.0</td>\n",
       "      <td>737495.0</td>\n",
       "      <td>0.1127</td>\n",
       "    </tr>\n",
       "    <tr>\n",
       "      <th>2569</th>\n",
       "      <td>56041</td>\n",
       "      <td>Uinta</td>\n",
       "      <td>Wyoming</td>\n",
       "      <td>6</td>\n",
       "      <td>0</td>\n",
       "      <td>20299.0</td>\n",
       "      <td>2703.0</td>\n",
       "      <td>10.2</td>\n",
       "      <td>21118.0</td>\n",
       "      <td>33.9</td>\n",
       "      <td>...</td>\n",
       "      <td>123.0</td>\n",
       "      <td>737512.0</td>\n",
       "      <td>737504.0</td>\n",
       "      <td>737504.0</td>\n",
       "      <td>737504.0</td>\n",
       "      <td>737503.0</td>\n",
       "      <td>737503.0</td>\n",
       "      <td>737500.0</td>\n",
       "      <td>737495.0</td>\n",
       "      <td>0.4522</td>\n",
       "    </tr>\n",
       "    <tr>\n",
       "      <th>2570</th>\n",
       "      <td>56043</td>\n",
       "      <td>Washakie</td>\n",
       "      <td>Wyoming</td>\n",
       "      <td>4</td>\n",
       "      <td>0</td>\n",
       "      <td>7885.0</td>\n",
       "      <td>1678.0</td>\n",
       "      <td>3.8</td>\n",
       "      <td>8533.0</td>\n",
       "      <td>41.8</td>\n",
       "      <td>...</td>\n",
       "      <td>117.0</td>\n",
       "      <td>737512.0</td>\n",
       "      <td>737504.0</td>\n",
       "      <td>737504.0</td>\n",
       "      <td>737504.0</td>\n",
       "      <td>737503.0</td>\n",
       "      <td>737503.0</td>\n",
       "      <td>737500.0</td>\n",
       "      <td>737495.0</td>\n",
       "      <td>0.3732</td>\n",
       "    </tr>\n",
       "    <tr>\n",
       "      <th>2571</th>\n",
       "      <td>12086</td>\n",
       "      <td>Miami-Dade</td>\n",
       "      <td>Florida</td>\n",
       "      <td>13223</td>\n",
       "      <td>407</td>\n",
       "      <td>2761581.0</td>\n",
       "      <td>439045.0</td>\n",
       "      <td>1315.5</td>\n",
       "      <td>2496435.0</td>\n",
       "      <td>38.2</td>\n",
       "      <td>...</td>\n",
       "      <td>30860.0</td>\n",
       "      <td>737509.0</td>\n",
       "      <td>737501.0</td>\n",
       "      <td>737501.0</td>\n",
       "      <td>737500.0</td>\n",
       "      <td>737504.0</td>\n",
       "      <td>737504.0</td>\n",
       "      <td>737500.0</td>\n",
       "      <td>737495.0</td>\n",
       "      <td>0.8175</td>\n",
       "    </tr>\n",
       "  </tbody>\n",
       "</table>\n",
       "<p>2572 rows × 60 columns</p>\n",
       "</div>"
      ],
      "text/plain": [
       "     countyFIPS  CountyName                 State  cases  deaths  \\\n",
       "0         10001        Kent              Delaware    847      32   \n",
       "1         10003  New Castle              Delaware   1979      83   \n",
       "2         10005      Sussex              Delaware   2520      72   \n",
       "3         11001  Washington  District of Columbia   5322     264   \n",
       "4         12001     Alachua               Florida    289       5   \n",
       "...         ...         ...                   ...    ...     ...   \n",
       "2567      56037  Sweetwater               Wyoming     11       0   \n",
       "2568      56039       Teton               Wyoming     67       1   \n",
       "2569      56041       Uinta               Wyoming      6       0   \n",
       "2570      56043    Washakie               Wyoming      4       0   \n",
       "2571      12086  Miami-Dade               Florida  13223     407   \n",
       "\n",
       "      PopulationEstimate2018  PopulationEstimate65+2017  \\\n",
       "0                   178550.0                    29407.0   \n",
       "1                   559335.0                    84505.0   \n",
       "2                   229286.0                    60216.0   \n",
       "3                   702455.0                    83734.0   \n",
       "4                   269956.0                    36299.0   \n",
       "...                      ...                        ...   \n",
       "2567                 43051.0                     4952.0   \n",
       "2568                 23081.0                     3349.0   \n",
       "2569                 20299.0                     2703.0   \n",
       "2570                  7885.0                     1678.0   \n",
       "2571               2761581.0                   439045.0   \n",
       "\n",
       "      PopulationDensityperSqMile2010  CensusPopulation2010  MedianAge2010  \\\n",
       "0                              276.9              162310.0           36.6   \n",
       "1                             1263.2              538479.0           37.2   \n",
       "2                              210.6              197145.0           45.4   \n",
       "3                             9856.5              601723.0           33.8   \n",
       "4                              282.7              247336.0           30.1   \n",
       "...                              ...                   ...            ...   \n",
       "2567                             4.2               43806.0           32.8   \n",
       "2568                             5.3               21294.0           36.9   \n",
       "2569                            10.2               21118.0           33.9   \n",
       "2570                             3.8                8533.0           41.8   \n",
       "2571                          1315.5             2496435.0           38.2   \n",
       "\n",
       "      ...  PopFmle>842010  stay at home  >50 gatherings  >500 gatherings  \\\n",
       "0     ...          1643.0      737508.0        737508.0         737508.0   \n",
       "1     ...          6204.0      737508.0        737508.0         737508.0   \n",
       "2     ...          2783.0      737508.0        737508.0         737508.0   \n",
       "3     ...          7198.0      737516.0        737509.0         737509.0   \n",
       "4     ...          2427.0      737509.0        737501.0         737501.0   \n",
       "...   ...             ...           ...             ...              ...   \n",
       "2567  ...           302.0      737512.0        737504.0         737504.0   \n",
       "2568  ...           106.0      737512.0        737504.0         737504.0   \n",
       "2569  ...           123.0      737512.0        737504.0         737504.0   \n",
       "2570  ...           117.0      737512.0        737504.0         737504.0   \n",
       "2571  ...         30860.0      737509.0        737501.0         737501.0   \n",
       "\n",
       "      public schools  restaurant dine-in  entertainment/gym  \\\n",
       "0           737500.0            737496.0           737496.0   \n",
       "1           737500.0            737496.0           737496.0   \n",
       "2           737500.0            737496.0           737496.0   \n",
       "3           737500.0            737500.0           737500.0   \n",
       "4           737500.0            737504.0           737504.0   \n",
       "...              ...                 ...                ...   \n",
       "2567        737504.0            737503.0           737503.0   \n",
       "2568        737504.0            737503.0           737503.0   \n",
       "2569        737504.0            737503.0           737503.0   \n",
       "2570        737504.0            737503.0           737503.0   \n",
       "2571        737500.0            737504.0           737504.0   \n",
       "\n",
       "      federal guidelines  foreign travel ban  SVIPercentile  \n",
       "0               737500.0            737495.0         0.7268  \n",
       "1               737500.0            737495.0         0.3761  \n",
       "2               737500.0            737495.0         0.4019  \n",
       "3               737500.0            737495.0         0.5965  \n",
       "4               737500.0            737495.0         0.4729  \n",
       "...                  ...                 ...            ...  \n",
       "2567            737500.0            737495.0         0.3701  \n",
       "2568            737500.0            737495.0         0.1127  \n",
       "2569            737500.0            737495.0         0.4522  \n",
       "2570            737500.0            737495.0         0.3732  \n",
       "2571            737500.0            737495.0         0.8175  \n",
       "\n",
       "[2572 rows x 60 columns]"
      ]
     },
     "execution_count": 766,
     "metadata": {},
     "output_type": "execute_result"
    }
   ],
   "source": [
    "re_col = cols[:2] + cols[-3:] + cols[2:-3]\n",
    "re_col_dt = useful_col[re_col]\n",
    "re_col_dt"
   ]
  },
  {
   "cell_type": "code",
   "execution_count": 767,
   "metadata": {},
   "outputs": [],
   "source": [
    "#idk what to do with nyc and Kansas city  demographic data"
   ]
  },
  {
   "cell_type": "markdown",
   "metadata": {},
   "source": [
    "## poverty data"
   ]
  },
  {
   "cell_type": "code",
   "execution_count": 768,
   "metadata": {},
   "outputs": [
    {
     "name": "stdout",
     "output_type": "stream",
     "text": [
      "cleaned usda poverty successfully.\n"
     ]
    }
   ],
   "source": [
    "from os.path import join as oj\n",
    "\n",
    "def clean_usda_poverty(data_dir='../../raw/usda_poverty/', \n",
    "                      out_dir='.'):\n",
    "    ''' Clean US Dept of Agriculture Poverty Data 2018\n",
    "    \n",
    "    Parameters\n",
    "    ----------\n",
    "    data_dir : str; path to the data directory to find raw csv\n",
    "    \n",
    "    out_dir : str; path to the data directory to write cleaned csv\n",
    "    \n",
    "    Returns\n",
    "    -------\n",
    "    writes out cleaned csv file and returns clean data frame\n",
    "    '''\n",
    "    \n",
    "    # load in data\n",
    "    df = pd.read_excel(oj('PovertyEstimates.xls'), \n",
    "                        sheet_name=\"Poverty Data 2018\", skiprows=4)\n",
    "    # drop features\n",
    "    drop_keys = ['Rural-urban_Continuum_Code_2003','Urban_Influence_Code_2003', \n",
    "                 'Rural-urban_Continuum_Code_2013', 'CI90LBAll_2018',\n",
    "                 'CI90UBALL_2018','CI90LBALLP_2018','CI90UBALLP_2018',\t\t\n",
    "                 'CI90LB017_2018','CI90UB017_2018','CI90LB017P_2018',\n",
    "                 'CI90UB017P_2018','CI90LB517_2018','CI90UB517_2018',\n",
    "                 'CI90LB517P_2018', 'CI90UB517P_2018', 'CI90LBINC_2018',\n",
    "                 'CI90UBINC_2018','POV04_2018','CI90LB04_2018', 'CI90UB04_2018',\n",
    "                 'PCTPOV04_2018','CI90LB04P_2018','CI90UB04P_2018']\n",
    "\n",
    "\n",
    "  \n",
    "    df = df.drop(columns = drop_keys)\n",
    "    \n",
    "    # rename features\n",
    "    remap = {'FIPStxt': 'countyFIPS', 'Stabr': 'State', 'Area_name':'County',\t\n",
    "             'Urban_Influence_Code_2013':'Urban Influence Code 2013',\n",
    "             'POVALL_2018': 'Poverty Num All Ages 2018',\n",
    "             'PCTPOVALL_2018': 'Poverty Pct All Ages 2018',\n",
    "             'POV017_2018': 'Poverty Num Ages 0-17 2018',\n",
    "             'PCTPOV017_2018': 'Poverty Pct Ages 0-17 2018',\n",
    "             'POV517_2018': 'Poverty Num Ages 5-17 2018',\n",
    "             'PCTPOV517_2018': 'Poverty Pct Ages 5-17 2018',\n",
    "             'MEDHHINC_2018': 'Median Household Income 2018'}\n",
    "\n",
    " \n",
    "    df = df.rename(columns = remap)\n",
    "    df=df.dropna(axis=0, subset=['Urban Influence Code 2013'])\n",
    "\n",
    "    df[\"countyFIPS\"] = df[\"countyFIPS\"].astype(str).str.zfill(5)\n",
    "    \n",
    "    # write out to csv\n",
    "    df.to_csv(oj(out_dir, \"PovertyEstimates.csv\"), header=True, index=False)\n",
    "    \n",
    "    return df\n",
    "\n",
    "\n",
    "if __name__ == '__main__':\n",
    "    df = clean_usda_poverty()\n",
    "    print(\"cleaned usda poverty successfully.\")"
   ]
  },
  {
   "cell_type": "code",
   "execution_count": 769,
   "metadata": {},
   "outputs": [],
   "source": [
    "PovertyEstimates = pd.read_csv('PovertyEstimates.csv')"
   ]
  },
  {
   "cell_type": "code",
   "execution_count": 770,
   "metadata": {},
   "outputs": [
    {
     "data": {
      "text/html": [
       "<div>\n",
       "<style scoped>\n",
       "    .dataframe tbody tr th:only-of-type {\n",
       "        vertical-align: middle;\n",
       "    }\n",
       "\n",
       "    .dataframe tbody tr th {\n",
       "        vertical-align: top;\n",
       "    }\n",
       "\n",
       "    .dataframe thead th {\n",
       "        text-align: right;\n",
       "    }\n",
       "</style>\n",
       "<table border=\"1\" class=\"dataframe\">\n",
       "  <thead>\n",
       "    <tr style=\"text-align: right;\">\n",
       "      <th></th>\n",
       "      <th>countyFIPS</th>\n",
       "      <th>Poverty Pct All Ages 2018</th>\n",
       "      <th>Median Household Income 2018</th>\n",
       "    </tr>\n",
       "  </thead>\n",
       "  <tbody>\n",
       "    <tr>\n",
       "      <th>0</th>\n",
       "      <td>1001</td>\n",
       "      <td>13.8</td>\n",
       "      <td>59338</td>\n",
       "    </tr>\n",
       "    <tr>\n",
       "      <th>1</th>\n",
       "      <td>1003</td>\n",
       "      <td>9.8</td>\n",
       "      <td>57588</td>\n",
       "    </tr>\n",
       "    <tr>\n",
       "      <th>2</th>\n",
       "      <td>1005</td>\n",
       "      <td>30.9</td>\n",
       "      <td>34382</td>\n",
       "    </tr>\n",
       "    <tr>\n",
       "      <th>3</th>\n",
       "      <td>1007</td>\n",
       "      <td>21.8</td>\n",
       "      <td>46064</td>\n",
       "    </tr>\n",
       "    <tr>\n",
       "      <th>4</th>\n",
       "      <td>1009</td>\n",
       "      <td>13.2</td>\n",
       "      <td>50412</td>\n",
       "    </tr>\n",
       "  </tbody>\n",
       "</table>\n",
       "</div>"
      ],
      "text/plain": [
       "  countyFIPS  Poverty Pct All Ages 2018  Median Household Income 2018\n",
       "0       1001                       13.8                         59338\n",
       "1       1003                        9.8                         57588\n",
       "2       1005                       30.9                         34382\n",
       "3       1007                       21.8                         46064\n",
       "4       1009                       13.2                         50412"
      ]
     },
     "execution_count": 770,
     "metadata": {},
     "output_type": "execute_result"
    }
   ],
   "source": [
    "poverty = PovertyEstimates[['countyFIPS','Poverty Pct All Ages 2018','Median Household Income 2018']]\n",
    "poverty['countyFIPS'] = poverty['countyFIPS'].astype(str)\n",
    "poverty.head()"
   ]
  },
  {
   "cell_type": "code",
   "execution_count": 771,
   "metadata": {},
   "outputs": [
    {
     "data": {
      "text/html": [
       "<div>\n",
       "<style scoped>\n",
       "    .dataframe tbody tr th:only-of-type {\n",
       "        vertical-align: middle;\n",
       "    }\n",
       "\n",
       "    .dataframe tbody tr th {\n",
       "        vertical-align: top;\n",
       "    }\n",
       "\n",
       "    .dataframe thead th {\n",
       "        text-align: right;\n",
       "    }\n",
       "</style>\n",
       "<table border=\"1\" class=\"dataframe\">\n",
       "  <thead>\n",
       "    <tr style=\"text-align: right;\">\n",
       "      <th></th>\n",
       "      <th>countyFIPS</th>\n",
       "      <th>CountyName</th>\n",
       "      <th>State</th>\n",
       "      <th>cases</th>\n",
       "      <th>deaths</th>\n",
       "      <th>PopulationEstimate2018</th>\n",
       "      <th>PopulationEstimate65+2017</th>\n",
       "      <th>PopulationDensityperSqMile2010</th>\n",
       "      <th>CensusPopulation2010</th>\n",
       "      <th>MedianAge2010</th>\n",
       "      <th>...</th>\n",
       "      <th>&gt;50 gatherings</th>\n",
       "      <th>&gt;500 gatherings</th>\n",
       "      <th>public schools</th>\n",
       "      <th>restaurant dine-in</th>\n",
       "      <th>entertainment/gym</th>\n",
       "      <th>federal guidelines</th>\n",
       "      <th>foreign travel ban</th>\n",
       "      <th>SVIPercentile</th>\n",
       "      <th>Poverty Pct All Ages 2018</th>\n",
       "      <th>Median Household Income 2018</th>\n",
       "    </tr>\n",
       "  </thead>\n",
       "  <tbody>\n",
       "    <tr>\n",
       "      <th>0</th>\n",
       "      <td>10001</td>\n",
       "      <td>Kent</td>\n",
       "      <td>Delaware</td>\n",
       "      <td>847</td>\n",
       "      <td>32</td>\n",
       "      <td>178550.0</td>\n",
       "      <td>29407.0</td>\n",
       "      <td>276.9</td>\n",
       "      <td>162310.0</td>\n",
       "      <td>36.6</td>\n",
       "      <td>...</td>\n",
       "      <td>737508.0</td>\n",
       "      <td>737508.0</td>\n",
       "      <td>737500.0</td>\n",
       "      <td>737496.0</td>\n",
       "      <td>737496.0</td>\n",
       "      <td>737500.0</td>\n",
       "      <td>737495.0</td>\n",
       "      <td>0.7268</td>\n",
       "      <td>13.8</td>\n",
       "      <td>54980</td>\n",
       "    </tr>\n",
       "    <tr>\n",
       "      <th>1</th>\n",
       "      <td>10003</td>\n",
       "      <td>New Castle</td>\n",
       "      <td>Delaware</td>\n",
       "      <td>1979</td>\n",
       "      <td>83</td>\n",
       "      <td>559335.0</td>\n",
       "      <td>84505.0</td>\n",
       "      <td>1263.2</td>\n",
       "      <td>538479.0</td>\n",
       "      <td>37.2</td>\n",
       "      <td>...</td>\n",
       "      <td>737508.0</td>\n",
       "      <td>737508.0</td>\n",
       "      <td>737500.0</td>\n",
       "      <td>737496.0</td>\n",
       "      <td>737496.0</td>\n",
       "      <td>737500.0</td>\n",
       "      <td>737495.0</td>\n",
       "      <td>0.3761</td>\n",
       "      <td>11.6</td>\n",
       "      <td>69562</td>\n",
       "    </tr>\n",
       "    <tr>\n",
       "      <th>2</th>\n",
       "      <td>10005</td>\n",
       "      <td>Sussex</td>\n",
       "      <td>Delaware</td>\n",
       "      <td>2520</td>\n",
       "      <td>72</td>\n",
       "      <td>229286.0</td>\n",
       "      <td>60216.0</td>\n",
       "      <td>210.6</td>\n",
       "      <td>197145.0</td>\n",
       "      <td>45.4</td>\n",
       "      <td>...</td>\n",
       "      <td>737508.0</td>\n",
       "      <td>737508.0</td>\n",
       "      <td>737500.0</td>\n",
       "      <td>737496.0</td>\n",
       "      <td>737496.0</td>\n",
       "      <td>737500.0</td>\n",
       "      <td>737495.0</td>\n",
       "      <td>0.4019</td>\n",
       "      <td>12.3</td>\n",
       "      <td>59821</td>\n",
       "    </tr>\n",
       "    <tr>\n",
       "      <th>3</th>\n",
       "      <td>11001</td>\n",
       "      <td>Washington</td>\n",
       "      <td>District of Columbia</td>\n",
       "      <td>5322</td>\n",
       "      <td>264</td>\n",
       "      <td>702455.0</td>\n",
       "      <td>83734.0</td>\n",
       "      <td>9856.5</td>\n",
       "      <td>601723.0</td>\n",
       "      <td>33.8</td>\n",
       "      <td>...</td>\n",
       "      <td>737509.0</td>\n",
       "      <td>737509.0</td>\n",
       "      <td>737500.0</td>\n",
       "      <td>737500.0</td>\n",
       "      <td>737500.0</td>\n",
       "      <td>737500.0</td>\n",
       "      <td>737495.0</td>\n",
       "      <td>0.5965</td>\n",
       "      <td>16.1</td>\n",
       "      <td>82533</td>\n",
       "    </tr>\n",
       "    <tr>\n",
       "      <th>4</th>\n",
       "      <td>12001</td>\n",
       "      <td>Alachua</td>\n",
       "      <td>Florida</td>\n",
       "      <td>289</td>\n",
       "      <td>5</td>\n",
       "      <td>269956.0</td>\n",
       "      <td>36299.0</td>\n",
       "      <td>282.7</td>\n",
       "      <td>247336.0</td>\n",
       "      <td>30.1</td>\n",
       "      <td>...</td>\n",
       "      <td>737501.0</td>\n",
       "      <td>737501.0</td>\n",
       "      <td>737500.0</td>\n",
       "      <td>737504.0</td>\n",
       "      <td>737504.0</td>\n",
       "      <td>737500.0</td>\n",
       "      <td>737495.0</td>\n",
       "      <td>0.4729</td>\n",
       "      <td>19.8</td>\n",
       "      <td>51026</td>\n",
       "    </tr>\n",
       "  </tbody>\n",
       "</table>\n",
       "<p>5 rows × 62 columns</p>\n",
       "</div>"
      ],
      "text/plain": [
       "  countyFIPS  CountyName                 State  cases  deaths  \\\n",
       "0      10001        Kent              Delaware    847      32   \n",
       "1      10003  New Castle              Delaware   1979      83   \n",
       "2      10005      Sussex              Delaware   2520      72   \n",
       "3      11001  Washington  District of Columbia   5322     264   \n",
       "4      12001     Alachua               Florida    289       5   \n",
       "\n",
       "   PopulationEstimate2018  PopulationEstimate65+2017  \\\n",
       "0                178550.0                    29407.0   \n",
       "1                559335.0                    84505.0   \n",
       "2                229286.0                    60216.0   \n",
       "3                702455.0                    83734.0   \n",
       "4                269956.0                    36299.0   \n",
       "\n",
       "   PopulationDensityperSqMile2010  CensusPopulation2010  MedianAge2010  ...  \\\n",
       "0                           276.9              162310.0           36.6  ...   \n",
       "1                          1263.2              538479.0           37.2  ...   \n",
       "2                           210.6              197145.0           45.4  ...   \n",
       "3                          9856.5              601723.0           33.8  ...   \n",
       "4                           282.7              247336.0           30.1  ...   \n",
       "\n",
       "   >50 gatherings  >500 gatherings  public schools  restaurant dine-in  \\\n",
       "0        737508.0         737508.0        737500.0            737496.0   \n",
       "1        737508.0         737508.0        737500.0            737496.0   \n",
       "2        737508.0         737508.0        737500.0            737496.0   \n",
       "3        737509.0         737509.0        737500.0            737500.0   \n",
       "4        737501.0         737501.0        737500.0            737504.0   \n",
       "\n",
       "   entertainment/gym  federal guidelines  foreign travel ban  SVIPercentile  \\\n",
       "0           737496.0            737500.0            737495.0         0.7268   \n",
       "1           737496.0            737500.0            737495.0         0.3761   \n",
       "2           737496.0            737500.0            737495.0         0.4019   \n",
       "3           737500.0            737500.0            737495.0         0.5965   \n",
       "4           737504.0            737500.0            737495.0         0.4729   \n",
       "\n",
       "   Poverty Pct All Ages 2018  Median Household Income 2018  \n",
       "0                       13.8                         54980  \n",
       "1                       11.6                         69562  \n",
       "2                       12.3                         59821  \n",
       "3                       16.1                         82533  \n",
       "4                       19.8                         51026  \n",
       "\n",
       "[5 rows x 62 columns]"
      ]
     },
     "execution_count": 771,
     "metadata": {},
     "output_type": "execute_result"
    }
   ],
   "source": [
    "pov_death_county = pd.merge(left=re_col_dt,right = poverty, on='countyFIPS',how='left')\n",
    "pov_death_county.head()"
   ]
  },
  {
   "cell_type": "code",
   "execution_count": 772,
   "metadata": {},
   "outputs": [
    {
     "data": {
      "text/plain": [
       "stay at home                      333\n",
       ">50 gatherings                     83\n",
       ">500 gatherings                    83\n",
       "entertainment/gym                  46\n",
       "MedicareEnrollment,AgedTot2017      4\n",
       "                                 ... \n",
       "PopMale25-292010                    0\n",
       "PopFmle20-242010                    0\n",
       "PopMale20-242010                    0\n",
       "Poverty Pct All Ages 2018           0\n",
       "countyFIPS                          0\n",
       "Length: 62, dtype: int64"
      ]
     },
     "execution_count": 772,
     "metadata": {},
     "output_type": "execute_result"
    }
   ],
   "source": [
    "pov_death_county.isna().sum().sort_values(ascending=False)"
   ]
  },
  {
   "cell_type": "code",
   "execution_count": 773,
   "metadata": {},
   "outputs": [
    {
     "data": {
      "text/plain": [
       "South Dakota    46\n",
       "North Dakota    37\n",
       "Name: State, dtype: int64"
      ]
     },
     "execution_count": 773,
     "metadata": {},
     "output_type": "execute_result"
    }
   ],
   "source": [
    "pov_death_county[pov_death_county['>50 gatherings'].isnull()][['CountyName',\n",
    "                                                             'State','stay at home']]['State'].value_counts()\n",
    "\n",
    "#North Dakota, Nebraska, Iowa and Arkansas are the only states where no one is under a stay-at-home order.\n",
    "#assume the nan values mean that the counties don't haave stay at home order -- we can fill the NaN with today's date (May 6th)"
   ]
  },
  {
   "cell_type": "code",
   "execution_count": 774,
   "metadata": {},
   "outputs": [],
   "source": [
    "may7= pd.to_datetime('today').toordinal() #todays date in ordinal -- May 7th"
   ]
  },
  {
   "cell_type": "code",
   "execution_count": 775,
   "metadata": {},
   "outputs": [],
   "source": [
    "fill_with_date = {'stay at home': pd.to_datetime('today').toordinal(),\n",
    "                  '>50 gatherings': pd.to_datetime('today').toordinal(),\n",
    "                 '>500 gatherings':pd.to_datetime('today').toordinal(),\n",
    "                 'entertainment/gym':pd.to_datetime('today').toordinal()}\n",
    "pov_death_county = pov_death_county.fillna(fill_with_date)"
   ]
  },
  {
   "cell_type": "code",
   "execution_count": 776,
   "metadata": {},
   "outputs": [],
   "source": [
    "#change NYC date to March 22nd \n",
    "#change Kansas date to March 24th\n",
    "#pov_death_county.loc[2572,'stay at home'] = 737506\n",
    "#pov_death_county.loc[2573,'stay at home'] = 737508"
   ]
  },
  {
   "cell_type": "code",
   "execution_count": 777,
   "metadata": {},
   "outputs": [
    {
     "data": {
      "text/plain": [
       "MedicareEnrollment,AgedTot2017      4\n",
       "SVIPercentile                       1\n",
       "Median Household Income 2018        0\n",
       "Smokers_Percentage                  0\n",
       "PopMale10-142010                    0\n",
       "PopFmle5-92010                      0\n",
       "PopMale5-92010                      0\n",
       "PopFmle<52010                       0\n",
       "PopMale<52010                       0\n",
       "dem_to_rep_ratio                    0\n",
       "#ICU_beds                           0\n",
       "#Hospitals                          0\n",
       "#HospParticipatinginNetwork2017     0\n",
       "TotalM.D.'s,TotNon-FedandFed2017    0\n",
       "#FTEHospitalTotal2017               0\n",
       "RespMortalityRate2014               0\n",
       "HeartDiseaseMortality               0\n",
       "StrokeMortality                     0\n",
       "PopMale15-192010                    0\n",
       "DiabetesPercentage                  0\n",
       "dtype: int64"
      ]
     },
     "execution_count": 777,
     "metadata": {},
     "output_type": "execute_result"
    }
   ],
   "source": [
    "pov_death_county.isna().sum().sort_values(ascending=False).head(20)"
   ]
  },
  {
   "cell_type": "code",
   "execution_count": 778,
   "metadata": {},
   "outputs": [],
   "source": [
    "#fill in medicare enrollment by estimating the overall percentage of people in medicare throughout the country\n",
    "medicare_perc = sum(pov_death_county['MedicareEnrollment,AgedTot2017'].fillna(0))/sum(pov_death_county['PopulationEstimate2018'])\n",
    "\n",
    "#index of null medicare\n",
    "index= pov_death_county[pov_death_county['MedicareEnrollment,AgedTot2017'].isnull()].index\n",
    "#fill in values = pop * %of people in medicare\n",
    "for x in index:\n",
    "    pov_death_county.loc[x, 'MedicareEnrollment,AgedTot2017'] = medicare_perc * pov_death_county.loc[x, 'PopulationEstimate2018']"
   ]
  },
  {
   "cell_type": "code",
   "execution_count": 779,
   "metadata": {},
   "outputs": [],
   "source": [
    "#fill in nan values for SVIPercentile column with the nation average\n",
    "index2= pov_death_county[pov_death_county['SVIPercentile'].isnull()].index\n",
    "pov_death_county.loc[index2, 'SVIPercentile'] = np.mean(pov_death_county['SVIPercentile'].fillna(0))"
   ]
  },
  {
   "cell_type": "code",
   "execution_count": 780,
   "metadata": {},
   "outputs": [
    {
     "data": {
      "text/plain": [
       "Median Household Income 2018    0\n",
       "Smokers_Percentage              0\n",
       "PopFmle10-142010                0\n",
       "PopMale10-142010                0\n",
       "PopFmle5-92010                  0\n",
       "                               ..\n",
       "PopFmle30-342010                0\n",
       "PopMale30-342010                0\n",
       "PopFmle25-292010                0\n",
       "PopMale25-292010                0\n",
       "countyFIPS                      0\n",
       "Length: 62, dtype: int64"
      ]
     },
     "execution_count": 780,
     "metadata": {},
     "output_type": "execute_result"
    }
   ],
   "source": [
    "pov_death_county.isnull().sum().sort_values(ascending=False)\n",
    "#NO MORE NAN VALUES YAY"
   ]
  },
  {
   "cell_type": "code",
   "execution_count": 781,
   "metadata": {},
   "outputs": [
    {
     "data": {
      "text/html": [
       "<div>\n",
       "<style scoped>\n",
       "    .dataframe tbody tr th:only-of-type {\n",
       "        vertical-align: middle;\n",
       "    }\n",
       "\n",
       "    .dataframe tbody tr th {\n",
       "        vertical-align: top;\n",
       "    }\n",
       "\n",
       "    .dataframe thead th {\n",
       "        text-align: right;\n",
       "    }\n",
       "</style>\n",
       "<table border=\"1\" class=\"dataframe\">\n",
       "  <thead>\n",
       "    <tr style=\"text-align: right;\">\n",
       "      <th></th>\n",
       "      <th>countyFIPS</th>\n",
       "      <th>CountyName</th>\n",
       "      <th>State</th>\n",
       "      <th>cases</th>\n",
       "      <th>deaths</th>\n",
       "      <th>PopulationEstimate2018</th>\n",
       "      <th>PopulationEstimate65+2017</th>\n",
       "      <th>PopulationDensityperSqMile2010</th>\n",
       "      <th>CensusPopulation2010</th>\n",
       "      <th>MedianAge2010</th>\n",
       "      <th>...</th>\n",
       "      <th>&gt;50 gatherings</th>\n",
       "      <th>&gt;500 gatherings</th>\n",
       "      <th>public schools</th>\n",
       "      <th>restaurant dine-in</th>\n",
       "      <th>entertainment/gym</th>\n",
       "      <th>federal guidelines</th>\n",
       "      <th>foreign travel ban</th>\n",
       "      <th>SVIPercentile</th>\n",
       "      <th>Poverty Pct All Ages 2018</th>\n",
       "      <th>Median Household Income 2018</th>\n",
       "    </tr>\n",
       "  </thead>\n",
       "  <tbody>\n",
       "    <tr>\n",
       "      <th>0</th>\n",
       "      <td>10001</td>\n",
       "      <td>Kent</td>\n",
       "      <td>Delaware</td>\n",
       "      <td>847</td>\n",
       "      <td>32</td>\n",
       "      <td>178550.0</td>\n",
       "      <td>29407.0</td>\n",
       "      <td>276.9</td>\n",
       "      <td>162310.0</td>\n",
       "      <td>36.6</td>\n",
       "      <td>...</td>\n",
       "      <td>737508.0</td>\n",
       "      <td>737508.0</td>\n",
       "      <td>737500.0</td>\n",
       "      <td>737496.0</td>\n",
       "      <td>737496.0</td>\n",
       "      <td>737500.0</td>\n",
       "      <td>737495.0</td>\n",
       "      <td>0.7268</td>\n",
       "      <td>13.8</td>\n",
       "      <td>54980</td>\n",
       "    </tr>\n",
       "    <tr>\n",
       "      <th>1</th>\n",
       "      <td>10003</td>\n",
       "      <td>New Castle</td>\n",
       "      <td>Delaware</td>\n",
       "      <td>1979</td>\n",
       "      <td>83</td>\n",
       "      <td>559335.0</td>\n",
       "      <td>84505.0</td>\n",
       "      <td>1263.2</td>\n",
       "      <td>538479.0</td>\n",
       "      <td>37.2</td>\n",
       "      <td>...</td>\n",
       "      <td>737508.0</td>\n",
       "      <td>737508.0</td>\n",
       "      <td>737500.0</td>\n",
       "      <td>737496.0</td>\n",
       "      <td>737496.0</td>\n",
       "      <td>737500.0</td>\n",
       "      <td>737495.0</td>\n",
       "      <td>0.3761</td>\n",
       "      <td>11.6</td>\n",
       "      <td>69562</td>\n",
       "    </tr>\n",
       "    <tr>\n",
       "      <th>2</th>\n",
       "      <td>10005</td>\n",
       "      <td>Sussex</td>\n",
       "      <td>Delaware</td>\n",
       "      <td>2520</td>\n",
       "      <td>72</td>\n",
       "      <td>229286.0</td>\n",
       "      <td>60216.0</td>\n",
       "      <td>210.6</td>\n",
       "      <td>197145.0</td>\n",
       "      <td>45.4</td>\n",
       "      <td>...</td>\n",
       "      <td>737508.0</td>\n",
       "      <td>737508.0</td>\n",
       "      <td>737500.0</td>\n",
       "      <td>737496.0</td>\n",
       "      <td>737496.0</td>\n",
       "      <td>737500.0</td>\n",
       "      <td>737495.0</td>\n",
       "      <td>0.4019</td>\n",
       "      <td>12.3</td>\n",
       "      <td>59821</td>\n",
       "    </tr>\n",
       "    <tr>\n",
       "      <th>3</th>\n",
       "      <td>11001</td>\n",
       "      <td>Washington</td>\n",
       "      <td>District of Columbia</td>\n",
       "      <td>5322</td>\n",
       "      <td>264</td>\n",
       "      <td>702455.0</td>\n",
       "      <td>83734.0</td>\n",
       "      <td>9856.5</td>\n",
       "      <td>601723.0</td>\n",
       "      <td>33.8</td>\n",
       "      <td>...</td>\n",
       "      <td>737509.0</td>\n",
       "      <td>737509.0</td>\n",
       "      <td>737500.0</td>\n",
       "      <td>737500.0</td>\n",
       "      <td>737500.0</td>\n",
       "      <td>737500.0</td>\n",
       "      <td>737495.0</td>\n",
       "      <td>0.5965</td>\n",
       "      <td>16.1</td>\n",
       "      <td>82533</td>\n",
       "    </tr>\n",
       "    <tr>\n",
       "      <th>4</th>\n",
       "      <td>12001</td>\n",
       "      <td>Alachua</td>\n",
       "      <td>Florida</td>\n",
       "      <td>289</td>\n",
       "      <td>5</td>\n",
       "      <td>269956.0</td>\n",
       "      <td>36299.0</td>\n",
       "      <td>282.7</td>\n",
       "      <td>247336.0</td>\n",
       "      <td>30.1</td>\n",
       "      <td>...</td>\n",
       "      <td>737501.0</td>\n",
       "      <td>737501.0</td>\n",
       "      <td>737500.0</td>\n",
       "      <td>737504.0</td>\n",
       "      <td>737504.0</td>\n",
       "      <td>737500.0</td>\n",
       "      <td>737495.0</td>\n",
       "      <td>0.4729</td>\n",
       "      <td>19.8</td>\n",
       "      <td>51026</td>\n",
       "    </tr>\n",
       "    <tr>\n",
       "      <th>...</th>\n",
       "      <td>...</td>\n",
       "      <td>...</td>\n",
       "      <td>...</td>\n",
       "      <td>...</td>\n",
       "      <td>...</td>\n",
       "      <td>...</td>\n",
       "      <td>...</td>\n",
       "      <td>...</td>\n",
       "      <td>...</td>\n",
       "      <td>...</td>\n",
       "      <td>...</td>\n",
       "      <td>...</td>\n",
       "      <td>...</td>\n",
       "      <td>...</td>\n",
       "      <td>...</td>\n",
       "      <td>...</td>\n",
       "      <td>...</td>\n",
       "      <td>...</td>\n",
       "      <td>...</td>\n",
       "      <td>...</td>\n",
       "      <td>...</td>\n",
       "    </tr>\n",
       "    <tr>\n",
       "      <th>2567</th>\n",
       "      <td>56037</td>\n",
       "      <td>Sweetwater</td>\n",
       "      <td>Wyoming</td>\n",
       "      <td>11</td>\n",
       "      <td>0</td>\n",
       "      <td>43051.0</td>\n",
       "      <td>4952.0</td>\n",
       "      <td>4.2</td>\n",
       "      <td>43806.0</td>\n",
       "      <td>32.8</td>\n",
       "      <td>...</td>\n",
       "      <td>737504.0</td>\n",
       "      <td>737504.0</td>\n",
       "      <td>737504.0</td>\n",
       "      <td>737503.0</td>\n",
       "      <td>737503.0</td>\n",
       "      <td>737500.0</td>\n",
       "      <td>737495.0</td>\n",
       "      <td>0.3701</td>\n",
       "      <td>8.4</td>\n",
       "      <td>73315</td>\n",
       "    </tr>\n",
       "    <tr>\n",
       "      <th>2568</th>\n",
       "      <td>56039</td>\n",
       "      <td>Teton</td>\n",
       "      <td>Wyoming</td>\n",
       "      <td>67</td>\n",
       "      <td>1</td>\n",
       "      <td>23081.0</td>\n",
       "      <td>3349.0</td>\n",
       "      <td>5.3</td>\n",
       "      <td>21294.0</td>\n",
       "      <td>36.9</td>\n",
       "      <td>...</td>\n",
       "      <td>737504.0</td>\n",
       "      <td>737504.0</td>\n",
       "      <td>737504.0</td>\n",
       "      <td>737503.0</td>\n",
       "      <td>737503.0</td>\n",
       "      <td>737500.0</td>\n",
       "      <td>737495.0</td>\n",
       "      <td>0.1127</td>\n",
       "      <td>6.3</td>\n",
       "      <td>99087</td>\n",
       "    </tr>\n",
       "    <tr>\n",
       "      <th>2569</th>\n",
       "      <td>56041</td>\n",
       "      <td>Uinta</td>\n",
       "      <td>Wyoming</td>\n",
       "      <td>6</td>\n",
       "      <td>0</td>\n",
       "      <td>20299.0</td>\n",
       "      <td>2703.0</td>\n",
       "      <td>10.2</td>\n",
       "      <td>21118.0</td>\n",
       "      <td>33.9</td>\n",
       "      <td>...</td>\n",
       "      <td>737504.0</td>\n",
       "      <td>737504.0</td>\n",
       "      <td>737504.0</td>\n",
       "      <td>737503.0</td>\n",
       "      <td>737503.0</td>\n",
       "      <td>737500.0</td>\n",
       "      <td>737495.0</td>\n",
       "      <td>0.4522</td>\n",
       "      <td>10.0</td>\n",
       "      <td>63401</td>\n",
       "    </tr>\n",
       "    <tr>\n",
       "      <th>2570</th>\n",
       "      <td>56043</td>\n",
       "      <td>Washakie</td>\n",
       "      <td>Wyoming</td>\n",
       "      <td>4</td>\n",
       "      <td>0</td>\n",
       "      <td>7885.0</td>\n",
       "      <td>1678.0</td>\n",
       "      <td>3.8</td>\n",
       "      <td>8533.0</td>\n",
       "      <td>41.8</td>\n",
       "      <td>...</td>\n",
       "      <td>737504.0</td>\n",
       "      <td>737504.0</td>\n",
       "      <td>737504.0</td>\n",
       "      <td>737503.0</td>\n",
       "      <td>737503.0</td>\n",
       "      <td>737500.0</td>\n",
       "      <td>737495.0</td>\n",
       "      <td>0.3732</td>\n",
       "      <td>11.9</td>\n",
       "      <td>55190</td>\n",
       "    </tr>\n",
       "    <tr>\n",
       "      <th>2571</th>\n",
       "      <td>12086</td>\n",
       "      <td>Miami-Dade</td>\n",
       "      <td>Florida</td>\n",
       "      <td>13223</td>\n",
       "      <td>407</td>\n",
       "      <td>2761581.0</td>\n",
       "      <td>439045.0</td>\n",
       "      <td>1315.5</td>\n",
       "      <td>2496435.0</td>\n",
       "      <td>38.2</td>\n",
       "      <td>...</td>\n",
       "      <td>737501.0</td>\n",
       "      <td>737501.0</td>\n",
       "      <td>737500.0</td>\n",
       "      <td>737504.0</td>\n",
       "      <td>737504.0</td>\n",
       "      <td>737500.0</td>\n",
       "      <td>737495.0</td>\n",
       "      <td>0.8175</td>\n",
       "      <td>16.0</td>\n",
       "      <td>52043</td>\n",
       "    </tr>\n",
       "  </tbody>\n",
       "</table>\n",
       "<p>2572 rows × 62 columns</p>\n",
       "</div>"
      ],
      "text/plain": [
       "     countyFIPS  CountyName                 State  cases  deaths  \\\n",
       "0         10001        Kent              Delaware    847      32   \n",
       "1         10003  New Castle              Delaware   1979      83   \n",
       "2         10005      Sussex              Delaware   2520      72   \n",
       "3         11001  Washington  District of Columbia   5322     264   \n",
       "4         12001     Alachua               Florida    289       5   \n",
       "...         ...         ...                   ...    ...     ...   \n",
       "2567      56037  Sweetwater               Wyoming     11       0   \n",
       "2568      56039       Teton               Wyoming     67       1   \n",
       "2569      56041       Uinta               Wyoming      6       0   \n",
       "2570      56043    Washakie               Wyoming      4       0   \n",
       "2571      12086  Miami-Dade               Florida  13223     407   \n",
       "\n",
       "      PopulationEstimate2018  PopulationEstimate65+2017  \\\n",
       "0                   178550.0                    29407.0   \n",
       "1                   559335.0                    84505.0   \n",
       "2                   229286.0                    60216.0   \n",
       "3                   702455.0                    83734.0   \n",
       "4                   269956.0                    36299.0   \n",
       "...                      ...                        ...   \n",
       "2567                 43051.0                     4952.0   \n",
       "2568                 23081.0                     3349.0   \n",
       "2569                 20299.0                     2703.0   \n",
       "2570                  7885.0                     1678.0   \n",
       "2571               2761581.0                   439045.0   \n",
       "\n",
       "      PopulationDensityperSqMile2010  CensusPopulation2010  MedianAge2010  \\\n",
       "0                              276.9              162310.0           36.6   \n",
       "1                             1263.2              538479.0           37.2   \n",
       "2                              210.6              197145.0           45.4   \n",
       "3                             9856.5              601723.0           33.8   \n",
       "4                              282.7              247336.0           30.1   \n",
       "...                              ...                   ...            ...   \n",
       "2567                             4.2               43806.0           32.8   \n",
       "2568                             5.3               21294.0           36.9   \n",
       "2569                            10.2               21118.0           33.9   \n",
       "2570                             3.8                8533.0           41.8   \n",
       "2571                          1315.5             2496435.0           38.2   \n",
       "\n",
       "      ...  >50 gatherings  >500 gatherings  public schools  \\\n",
       "0     ...        737508.0         737508.0        737500.0   \n",
       "1     ...        737508.0         737508.0        737500.0   \n",
       "2     ...        737508.0         737508.0        737500.0   \n",
       "3     ...        737509.0         737509.0        737500.0   \n",
       "4     ...        737501.0         737501.0        737500.0   \n",
       "...   ...             ...              ...             ...   \n",
       "2567  ...        737504.0         737504.0        737504.0   \n",
       "2568  ...        737504.0         737504.0        737504.0   \n",
       "2569  ...        737504.0         737504.0        737504.0   \n",
       "2570  ...        737504.0         737504.0        737504.0   \n",
       "2571  ...        737501.0         737501.0        737500.0   \n",
       "\n",
       "      restaurant dine-in  entertainment/gym  federal guidelines  \\\n",
       "0               737496.0           737496.0            737500.0   \n",
       "1               737496.0           737496.0            737500.0   \n",
       "2               737496.0           737496.0            737500.0   \n",
       "3               737500.0           737500.0            737500.0   \n",
       "4               737504.0           737504.0            737500.0   \n",
       "...                  ...                ...                 ...   \n",
       "2567            737503.0           737503.0            737500.0   \n",
       "2568            737503.0           737503.0            737500.0   \n",
       "2569            737503.0           737503.0            737500.0   \n",
       "2570            737503.0           737503.0            737500.0   \n",
       "2571            737504.0           737504.0            737500.0   \n",
       "\n",
       "      foreign travel ban  SVIPercentile  Poverty Pct All Ages 2018  \\\n",
       "0               737495.0         0.7268                       13.8   \n",
       "1               737495.0         0.3761                       11.6   \n",
       "2               737495.0         0.4019                       12.3   \n",
       "3               737495.0         0.5965                       16.1   \n",
       "4               737495.0         0.4729                       19.8   \n",
       "...                  ...            ...                        ...   \n",
       "2567            737495.0         0.3701                        8.4   \n",
       "2568            737495.0         0.1127                        6.3   \n",
       "2569            737495.0         0.4522                       10.0   \n",
       "2570            737495.0         0.3732                       11.9   \n",
       "2571            737495.0         0.8175                       16.0   \n",
       "\n",
       "      Median Household Income 2018  \n",
       "0                            54980  \n",
       "1                            69562  \n",
       "2                            59821  \n",
       "3                            82533  \n",
       "4                            51026  \n",
       "...                            ...  \n",
       "2567                         73315  \n",
       "2568                         99087  \n",
       "2569                         63401  \n",
       "2570                         55190  \n",
       "2571                         52043  \n",
       "\n",
       "[2572 rows x 62 columns]"
      ]
     },
     "execution_count": 781,
     "metadata": {},
     "output_type": "execute_result"
    }
   ],
   "source": [
    "pov_death_county"
   ]
  },
  {
   "cell_type": "code",
   "execution_count": 782,
   "metadata": {},
   "outputs": [],
   "source": [
    "pov_death_county['death rate'] = pov_death_county.deaths / pov_death_county.cases"
   ]
  },
  {
   "cell_type": "code",
   "execution_count": 783,
   "metadata": {},
   "outputs": [
    {
     "data": {
      "text/html": [
       "<div>\n",
       "<style scoped>\n",
       "    .dataframe tbody tr th:only-of-type {\n",
       "        vertical-align: middle;\n",
       "    }\n",
       "\n",
       "    .dataframe tbody tr th {\n",
       "        vertical-align: top;\n",
       "    }\n",
       "\n",
       "    .dataframe thead th {\n",
       "        text-align: right;\n",
       "    }\n",
       "</style>\n",
       "<table border=\"1\" class=\"dataframe\">\n",
       "  <thead>\n",
       "    <tr style=\"text-align: right;\">\n",
       "      <th></th>\n",
       "      <th>countyFIPS</th>\n",
       "      <th>CountyName</th>\n",
       "      <th>State</th>\n",
       "      <th>cases</th>\n",
       "      <th>deaths</th>\n",
       "      <th>PopulationEstimate2018</th>\n",
       "      <th>PopulationEstimate65+2017</th>\n",
       "      <th>PopulationDensityperSqMile2010</th>\n",
       "      <th>CensusPopulation2010</th>\n",
       "      <th>MedianAge2010</th>\n",
       "      <th>...</th>\n",
       "      <th>&gt;500 gatherings</th>\n",
       "      <th>public schools</th>\n",
       "      <th>restaurant dine-in</th>\n",
       "      <th>entertainment/gym</th>\n",
       "      <th>federal guidelines</th>\n",
       "      <th>foreign travel ban</th>\n",
       "      <th>SVIPercentile</th>\n",
       "      <th>Poverty Pct All Ages 2018</th>\n",
       "      <th>Median Household Income 2018</th>\n",
       "      <th>death rate</th>\n",
       "    </tr>\n",
       "  </thead>\n",
       "  <tbody>\n",
       "    <tr>\n",
       "      <th>0</th>\n",
       "      <td>10001</td>\n",
       "      <td>Kent</td>\n",
       "      <td>Delaware</td>\n",
       "      <td>847</td>\n",
       "      <td>32</td>\n",
       "      <td>178550.0</td>\n",
       "      <td>29407.0</td>\n",
       "      <td>276.9</td>\n",
       "      <td>162310.0</td>\n",
       "      <td>36.6</td>\n",
       "      <td>...</td>\n",
       "      <td>737508.0</td>\n",
       "      <td>737500.0</td>\n",
       "      <td>737496.0</td>\n",
       "      <td>737496.0</td>\n",
       "      <td>737500.0</td>\n",
       "      <td>737495.0</td>\n",
       "      <td>0.7268</td>\n",
       "      <td>13.8</td>\n",
       "      <td>54980</td>\n",
       "      <td>0.037780</td>\n",
       "    </tr>\n",
       "    <tr>\n",
       "      <th>1</th>\n",
       "      <td>10003</td>\n",
       "      <td>New Castle</td>\n",
       "      <td>Delaware</td>\n",
       "      <td>1979</td>\n",
       "      <td>83</td>\n",
       "      <td>559335.0</td>\n",
       "      <td>84505.0</td>\n",
       "      <td>1263.2</td>\n",
       "      <td>538479.0</td>\n",
       "      <td>37.2</td>\n",
       "      <td>...</td>\n",
       "      <td>737508.0</td>\n",
       "      <td>737500.0</td>\n",
       "      <td>737496.0</td>\n",
       "      <td>737496.0</td>\n",
       "      <td>737500.0</td>\n",
       "      <td>737495.0</td>\n",
       "      <td>0.3761</td>\n",
       "      <td>11.6</td>\n",
       "      <td>69562</td>\n",
       "      <td>0.041940</td>\n",
       "    </tr>\n",
       "    <tr>\n",
       "      <th>2</th>\n",
       "      <td>10005</td>\n",
       "      <td>Sussex</td>\n",
       "      <td>Delaware</td>\n",
       "      <td>2520</td>\n",
       "      <td>72</td>\n",
       "      <td>229286.0</td>\n",
       "      <td>60216.0</td>\n",
       "      <td>210.6</td>\n",
       "      <td>197145.0</td>\n",
       "      <td>45.4</td>\n",
       "      <td>...</td>\n",
       "      <td>737508.0</td>\n",
       "      <td>737500.0</td>\n",
       "      <td>737496.0</td>\n",
       "      <td>737496.0</td>\n",
       "      <td>737500.0</td>\n",
       "      <td>737495.0</td>\n",
       "      <td>0.4019</td>\n",
       "      <td>12.3</td>\n",
       "      <td>59821</td>\n",
       "      <td>0.028571</td>\n",
       "    </tr>\n",
       "    <tr>\n",
       "      <th>3</th>\n",
       "      <td>11001</td>\n",
       "      <td>Washington</td>\n",
       "      <td>District of Columbia</td>\n",
       "      <td>5322</td>\n",
       "      <td>264</td>\n",
       "      <td>702455.0</td>\n",
       "      <td>83734.0</td>\n",
       "      <td>9856.5</td>\n",
       "      <td>601723.0</td>\n",
       "      <td>33.8</td>\n",
       "      <td>...</td>\n",
       "      <td>737509.0</td>\n",
       "      <td>737500.0</td>\n",
       "      <td>737500.0</td>\n",
       "      <td>737500.0</td>\n",
       "      <td>737500.0</td>\n",
       "      <td>737495.0</td>\n",
       "      <td>0.5965</td>\n",
       "      <td>16.1</td>\n",
       "      <td>82533</td>\n",
       "      <td>0.049605</td>\n",
       "    </tr>\n",
       "    <tr>\n",
       "      <th>4</th>\n",
       "      <td>12001</td>\n",
       "      <td>Alachua</td>\n",
       "      <td>Florida</td>\n",
       "      <td>289</td>\n",
       "      <td>5</td>\n",
       "      <td>269956.0</td>\n",
       "      <td>36299.0</td>\n",
       "      <td>282.7</td>\n",
       "      <td>247336.0</td>\n",
       "      <td>30.1</td>\n",
       "      <td>...</td>\n",
       "      <td>737501.0</td>\n",
       "      <td>737500.0</td>\n",
       "      <td>737504.0</td>\n",
       "      <td>737504.0</td>\n",
       "      <td>737500.0</td>\n",
       "      <td>737495.0</td>\n",
       "      <td>0.4729</td>\n",
       "      <td>19.8</td>\n",
       "      <td>51026</td>\n",
       "      <td>0.017301</td>\n",
       "    </tr>\n",
       "  </tbody>\n",
       "</table>\n",
       "<p>5 rows × 63 columns</p>\n",
       "</div>"
      ],
      "text/plain": [
       "  countyFIPS  CountyName                 State  cases  deaths  \\\n",
       "0      10001        Kent              Delaware    847      32   \n",
       "1      10003  New Castle              Delaware   1979      83   \n",
       "2      10005      Sussex              Delaware   2520      72   \n",
       "3      11001  Washington  District of Columbia   5322     264   \n",
       "4      12001     Alachua               Florida    289       5   \n",
       "\n",
       "   PopulationEstimate2018  PopulationEstimate65+2017  \\\n",
       "0                178550.0                    29407.0   \n",
       "1                559335.0                    84505.0   \n",
       "2                229286.0                    60216.0   \n",
       "3                702455.0                    83734.0   \n",
       "4                269956.0                    36299.0   \n",
       "\n",
       "   PopulationDensityperSqMile2010  CensusPopulation2010  MedianAge2010  ...  \\\n",
       "0                           276.9              162310.0           36.6  ...   \n",
       "1                          1263.2              538479.0           37.2  ...   \n",
       "2                           210.6              197145.0           45.4  ...   \n",
       "3                          9856.5              601723.0           33.8  ...   \n",
       "4                           282.7              247336.0           30.1  ...   \n",
       "\n",
       "   >500 gatherings  public schools  restaurant dine-in  entertainment/gym  \\\n",
       "0         737508.0        737500.0            737496.0           737496.0   \n",
       "1         737508.0        737500.0            737496.0           737496.0   \n",
       "2         737508.0        737500.0            737496.0           737496.0   \n",
       "3         737509.0        737500.0            737500.0           737500.0   \n",
       "4         737501.0        737500.0            737504.0           737504.0   \n",
       "\n",
       "   federal guidelines  foreign travel ban  SVIPercentile  \\\n",
       "0            737500.0            737495.0         0.7268   \n",
       "1            737500.0            737495.0         0.3761   \n",
       "2            737500.0            737495.0         0.4019   \n",
       "3            737500.0            737495.0         0.5965   \n",
       "4            737500.0            737495.0         0.4729   \n",
       "\n",
       "   Poverty Pct All Ages 2018  Median Household Income 2018  death rate  \n",
       "0                       13.8                         54980    0.037780  \n",
       "1                       11.6                         69562    0.041940  \n",
       "2                       12.3                         59821    0.028571  \n",
       "3                       16.1                         82533    0.049605  \n",
       "4                       19.8                         51026    0.017301  \n",
       "\n",
       "[5 rows x 63 columns]"
      ]
     },
     "execution_count": 783,
     "metadata": {},
     "output_type": "execute_result"
    }
   ],
   "source": [
    "pov_death_county.head()"
   ]
  },
  {
   "cell_type": "code",
   "execution_count": 784,
   "metadata": {},
   "outputs": [
    {
     "data": {
      "text/plain": [
       "<matplotlib.axes._subplots.AxesSubplot at 0x7fb7a3d3efd0>"
      ]
     },
     "execution_count": 784,
     "metadata": {},
     "output_type": "execute_result"
    },
    {
     "data": {
      "image/png": "[encoded data removed]",
      "text/plain": [
       "<Figure size 432x288 with 1 Axes>"
      ]
     },
     "metadata": {},
     "output_type": "display_data"
    }
   ],
   "source": [
    "sns.scatterplot('MedianAge2010','death rate',data=pov_death_county)"
   ]
  },
  {
   "cell_type": "code",
   "execution_count": 785,
   "metadata": {},
   "outputs": [
    {
     "data": {
      "text/plain": [
       "(2572, 63)"
      ]
     },
     "execution_count": 785,
     "metadata": {},
     "output_type": "execute_result"
    }
   ],
   "source": [
    "pov_death_county.shape"
   ]
  },
  {
   "cell_type": "code",
   "execution_count": 786,
   "metadata": {},
   "outputs": [],
   "source": [
    "#sns.pairplot(pov_death_county)\n"
   ]
  },
  {
   "cell_type": "markdown",
   "metadata": {},
   "source": [
    "## a func to compare models"
   ]
  },
  {
   "cell_type": "code",
   "execution_count": 822,
   "metadata": {},
   "outputs": [],
   "source": [
    "def compare_models(models):\n",
    "    # Compute the training error for each model\n",
    "    training_rmse = [rmse_score(model, train, Y_train) for model in models.values()]\n",
    "    # Compute the cross validation error for each model\n",
    "    validation_rmse = [np.mean(cross_val_score(model, train, Y_train, scoring=rmse_score, cv=5)) \n",
    "                       for model in models.values()]\n",
    "    \n",
    "    x_pos = [i for i, _ in enumerate(models.keys())]\n",
    "\n",
    "    \n",
    "    ind = np.arange(len(models)) \n",
    "    width = 0.2\n",
    "    names = list(models.keys())\n",
    "    plt.bar(ind,training_rmse,width, label='Train' )\n",
    "    plt.bar(ind+width, validation_rmse, width, label='CV')\n",
    "    \n",
    "    plt.xticks(ind + width / 2, models.keys())\n",
    "    plt.legend(loc='best')\n",
    "    plt.show()\n",
    "    \n",
    "    print(training_rmse)"
   ]
  },
  {
   "cell_type": "markdown",
   "metadata": {},
   "source": [
    "## Modeling"
   ]
  },
  {
   "cell_type": "code",
   "execution_count": 823,
   "metadata": {},
   "outputs": [],
   "source": [
    "from sklearn.linear_model import LinearRegression\n",
    "from sklearn.model_selection import train_test_split\n",
    "from sklearn.model_selection import cross_val_score\n",
    "from sklearn.feature_selection import f_regression"
   ]
  },
  {
   "cell_type": "code",
   "execution_count": 824,
   "metadata": {},
   "outputs": [],
   "source": [
    "#models\n",
    "models = {}"
   ]
  },
  {
   "cell_type": "code",
   "execution_count": 825,
   "metadata": {},
   "outputs": [],
   "source": [
    "train, test = train_test_split(pov_death_county, test_size=0.2, random_state=83)"
   ]
  },
  {
   "cell_type": "code",
   "execution_count": 826,
   "metadata": {},
   "outputs": [],
   "source": [
    "Y_train = train.iloc[:,4]\n",
    "Y_test = test.iloc[:,4]"
   ]
  },
  {
   "cell_type": "code",
   "execution_count": 827,
   "metadata": {},
   "outputs": [],
   "source": [
    "final_col = pov_death_county.columns.to_list()\n",
    "X_col = [final_col[3]]+final_col[5:62]\n",
    "X_train = train[X_col]\n",
    "X_test = test[X_col]"
   ]
  },
  {
   "cell_type": "code",
   "execution_count": 828,
   "metadata": {},
   "outputs": [],
   "source": [
    "from sklearn.preprocessing import StandardScaler\n",
    "X_train_norm = StandardScaler().fit_transform(X_train)"
   ]
  },
  {
   "cell_type": "code",
   "execution_count": 829,
   "metadata": {},
   "outputs": [
    {
     "data": {
      "text/plain": [
       "array([185.09814016,  -4.74076511,  -0.33931627, ..., 207.59659963,\n",
       "        -3.55483602,  -4.66267739])"
      ]
     },
     "execution_count": 829,
     "metadata": {},
     "output_type": "execute_result"
    }
   ],
   "source": [
    "our_model = Pipeline([\n",
    "        (\"SelectColumns\", ColumnTransformer([\n",
    "            (\"keep\", StandardScaler(), X_col),\n",
    "        ])),\n",
    "        (\"LinearModel\", LinearRegression())\n",
    "    ])\n",
    "\n",
    "our_model.fit(train,Y_train)\n",
    "our_model.predict(train)"
   ]
  },
  {
   "cell_type": "code",
   "execution_count": 830,
   "metadata": {},
   "outputs": [
    {
     "data": {
      "text/plain": [
       "<matplotlib.axes._subplots.AxesSubplot at 0x7fb77d1556d0>"
      ]
     },
     "execution_count": 830,
     "metadata": {},
     "output_type": "execute_result"
    },
    {
     "data": {
      "image/png": "[encoded data removed]",
      "text/plain": [
       "<Figure size 432x288 with 1 Axes>"
      ]
     },
     "metadata": {},
     "output_type": "display_data"
    }
   ],
   "source": [
    "sns.scatterplot(Y_train, our_model.predict(train))"
   ]
  },
  {
   "cell_type": "code",
   "execution_count": 831,
   "metadata": {},
   "outputs": [
    {
     "data": {
      "text/plain": [
       "<matplotlib.axes._subplots.AxesSubplot at 0x7fb77d11fc90>"
      ]
     },
     "execution_count": 831,
     "metadata": {},
     "output_type": "execute_result"
    },
    {
     "data": {
      "image/png": "[encoded data removed]",
      "text/plain": [
       "<Figure size 432x288 with 1 Axes>"
      ]
     },
     "metadata": {},
     "output_type": "display_data"
    }
   ],
   "source": [
    "#Residual plot\n",
    "sns.scatterplot(Y_train, Y_train - our_model.predict(train))"
   ]
  },
  {
   "cell_type": "code",
   "execution_count": 832,
   "metadata": {},
   "outputs": [],
   "source": [
    "def rmse(y, yhat):\n",
    "    return np.sqrt(np.mean((y - yhat)**2))"
   ]
  },
  {
   "cell_type": "code",
   "execution_count": 833,
   "metadata": {},
   "outputs": [
    {
     "name": "stdout",
     "output_type": "stream",
     "text": [
      "Training Error (RMSE): 28.105344951608995\n"
     ]
    }
   ],
   "source": [
    "print(\"Training Error (RMSE):\", rmse(Y_train, our_model.predict(train)))"
   ]
  },
  {
   "cell_type": "code",
   "execution_count": 834,
   "metadata": {},
   "outputs": [],
   "source": [
    "def rmse_score(model, X, y):\n",
    "    return np.sqrt(np.mean((y - model.predict(X))**2))"
   ]
  },
  {
   "cell_type": "code",
   "execution_count": 835,
   "metadata": {},
   "outputs": [
    {
     "data": {
      "text/plain": [
       "37.34299952496815"
      ]
     },
     "execution_count": 835,
     "metadata": {},
     "output_type": "execute_result"
    }
   ],
   "source": [
    "#this is totally overfitting lmao\n",
    "np.mean(cross_val_score(our_model, train, Y_train, scoring=rmse_score, cv=5))"
   ]
  },
  {
   "cell_type": "code",
   "execution_count": 836,
   "metadata": {},
   "outputs": [],
   "source": [
    "importance = our_model[\"LinearModel\"].coef_"
   ]
  },
  {
   "cell_type": "code",
   "execution_count": 837,
   "metadata": {},
   "outputs": [
    {
     "data": {
      "text/plain": [
       "array([ 1.01771807e+02,  1.43147222e+01, -2.23460340e+02,  5.11111918e+00,\n",
       "        1.71216151e+00, -2.97883172e+00,  2.75640137e+02, -3.38769648e+02,\n",
       "        8.91105151e-02,  1.11240467e+00,  6.98533739e-01, -2.31619028e+00,\n",
       "       -1.83191088e+00, -1.32234908e+01,  1.40004257e+01, -2.82526878e+00,\n",
       "       -5.37564122e-01, -3.70744730e+00, -2.84020821e+00, -2.88515550e+02,\n",
       "        1.66555609e+02,  1.59095790e+02,  7.99041293e+01, -1.61322764e+02,\n",
       "        9.55516931e+01, -6.81082195e+01, -5.76142229e+01, -3.61066133e+01,\n",
       "        8.38894087e+01,  6.08182525e+01, -6.28761563e+01, -2.04646272e+02,\n",
       "       -3.59268149e+01,  2.13395547e+02,  7.11616965e+01,  3.40970802e+01,\n",
       "       -3.24733263e+02,  1.89734987e+02,  1.85692096e+02, -3.21089780e+02,\n",
       "        4.37808427e+02,  1.11920996e+02, -2.30521702e+02,  1.04986449e+02,\n",
       "        8.61858087e+01,  8.54111243e+01, -1.02124800e+02,  2.69977513e-01,\n",
       "        7.96322431e-01,  5.78102889e-01,  9.37615751e-03,  3.43366038e-02,\n",
       "       -3.42270563e-01,  0.00000000e+00, -5.68434189e-14, -5.20646894e+00,\n",
       "        2.47811613e+00, -3.80961247e+00])"
      ]
     },
     "execution_count": 837,
     "metadata": {},
     "output_type": "execute_result"
    }
   ],
   "source": [
    "importance"
   ]
  },
  {
   "cell_type": "code",
   "execution_count": 838,
   "metadata": {},
   "outputs": [
    {
     "data": {
      "text/plain": [
       "'PopFmle60-642010'"
      ]
     },
     "execution_count": 838,
     "metadata": {},
     "output_type": "execute_result"
    }
   ],
   "source": [
    "X_col[np.argmax(importance)]"
   ]
  },
  {
   "cell_type": "code",
   "execution_count": 839,
   "metadata": {},
   "outputs": [],
   "source": [
    "list_impo = [x for x in importance]"
   ]
  },
  {
   "cell_type": "code",
   "execution_count": 840,
   "metadata": {},
   "outputs": [
    {
     "data": {
      "text/plain": [
       "[437.8084273350295,\n",
       " 275.6401373178751,\n",
       " 213.39554694425763,\n",
       " 189.7349870803676,\n",
       " 185.69209637318409,\n",
       " 166.5556092032931,\n",
       " 159.09579033270552,\n",
       " 111.92099608480436,\n",
       " 104.98644941668566,\n",
       " 101.77180745247603,\n",
       " 95.55169305174852,\n",
       " 86.18580874225827,\n",
       " 85.41112426887518,\n",
       " 83.88940873533917,\n",
       " 79.90412925272067,\n",
       " 71.16169646982922,\n",
       " 60.81825248744513,\n",
       " 34.09708015707348,\n",
       " 14.314722220861881,\n",
       " 14.000425729091745,\n",
       " 5.111119181102341,\n",
       " 2.478116125908514,\n",
       " 1.7121615074393275,\n",
       " 1.1124046707687825,\n",
       " 0.7963224308530812,\n",
       " 0.6985337387859758,\n",
       " 0.578102888635641,\n",
       " 0.2699775132690547,\n",
       " 0.08911051505746137,\n",
       " 0.03433660377874048,\n",
       " 0.009376157505116112,\n",
       " 0.0,\n",
       " -5.684341886080802e-14,\n",
       " -0.34227056330371397,\n",
       " -0.5375641224059251,\n",
       " -1.8319108821608694,\n",
       " -2.316190280837727,\n",
       " -2.825268784535101,\n",
       " -2.8402082101629986,\n",
       " -2.9788317245744844,\n",
       " -3.7074473006178223,\n",
       " -3.8096124724358233,\n",
       " -5.206468936148653,\n",
       " -13.223490766067213,\n",
       " -35.926814927459695,\n",
       " -36.10661327764976,\n",
       " -57.614222887319634,\n",
       " -62.87615632469405,\n",
       " -68.10821951618433,\n",
       " -102.12480043568587,\n",
       " -161.32276392711643,\n",
       " -204.64627159012574,\n",
       " -223.46034003668896,\n",
       " -230.52170199505326,\n",
       " -288.51554952560184,\n",
       " -321.08978015865034,\n",
       " -324.7332633905118,\n",
       " -338.7696482352933]"
      ]
     },
     "execution_count": 840,
     "metadata": {},
     "output_type": "execute_result"
    }
   ],
   "source": [
    "list_impo.sort(reverse=True)\n",
    "list_impo"
   ]
  },
  {
   "cell_type": "code",
   "execution_count": 841,
   "metadata": {},
   "outputs": [
    {
     "data": {
      "text/plain": [
       "<BarContainer object of 58 artists>"
      ]
     },
     "execution_count": 841,
     "metadata": {},
     "output_type": "execute_result"
    },
    {
     "data": {
      "image/png": "[encoded data removed]",
      "text/plain": [
       "<Figure size 1440x2880 with 1 Axes>"
      ]
     },
     "metadata": {},
     "output_type": "display_data"
    }
   ],
   "source": [
    "fig, ax = plt.subplots(figsize=(20, 40))\n",
    "\n",
    "plt.barh([x for x in X_col], importance)"
   ]
  },
  {
   "cell_type": "code",
   "execution_count": 842,
   "metadata": {},
   "outputs": [],
   "source": [
    "models['linear'] = our_model"
   ]
  },
  {
   "cell_type": "markdown",
   "metadata": {},
   "source": [
    "## add regularization"
   ]
  },
  {
   "cell_type": "code",
   "execution_count": 843,
   "metadata": {},
   "outputs": [],
   "source": [
    "from sklearn.pipeline import Pipeline\n",
    "from sklearn.compose import ColumnTransformer\n",
    "from sklearn.linear_model import Ridge"
   ]
  },
  {
   "cell_type": "code",
   "execution_count": 844,
   "metadata": {},
   "outputs": [],
   "source": [
    "ridge_model = Pipeline([\n",
    "    (\"SelectColumns\", ColumnTransformer([\n",
    "            (\"keep\", StandardScaler(), X_col),\n",
    "        ])),\n",
    "        (\"LinearModel\", Ridge(alpha=0.5\n",
    "                             ))\n",
    "    ])"
   ]
  },
  {
   "cell_type": "code",
   "execution_count": 854,
   "metadata": {},
   "outputs": [
    {
     "data": {
      "text/plain": [
       "Pipeline(memory=None,\n",
       "         steps=[('SelectColumns',\n",
       "                 ColumnTransformer(n_jobs=None, remainder='drop',\n",
       "                                   sparse_threshold=0.3,\n",
       "                                   transformer_weights=None,\n",
       "                                   transformers=[('keep',\n",
       "                                                  StandardScaler(copy=True,\n",
       "                                                                 with_mean=True,\n",
       "                                                                 with_std=True),\n",
       "                                                  ['cases',\n",
       "                                                   'PopulationEstimate2018',\n",
       "                                                   'PopulationEstimate65+2017',\n",
       "                                                   'PopulationDensityperSqMile2010',\n",
       "                                                   'CensusPopulation2010',\n",
       "                                                   'MedianAge2010',\n",
       "                                                   '...\n",
       "                                                   'PopMale5-92010',\n",
       "                                                   'PopFmle5-92010',\n",
       "                                                   'PopMale10-142010',\n",
       "                                                   'PopFmle10-142010',\n",
       "                                                   'PopMale15-192010',\n",
       "                                                   'PopFmle15-192010',\n",
       "                                                   'PopMale20-242010',\n",
       "                                                   'PopFmle20-242010',\n",
       "                                                   'PopMale25-292010', ...])],\n",
       "                                   verbose=False)),\n",
       "                ('LinearModel',\n",
       "                 Ridge(alpha=40.12658227848101, copy_X=True, fit_intercept=True,\n",
       "                       max_iter=None, normalize=False, random_state=None,\n",
       "                       solver='auto', tol=0.001))],\n",
       "         verbose=False)"
      ]
     },
     "execution_count": 854,
     "metadata": {},
     "output_type": "execute_result"
    }
   ],
   "source": [
    "ridge_model.fit(train, Y_train)"
   ]
  },
  {
   "cell_type": "code",
   "execution_count": 855,
   "metadata": {},
   "outputs": [
    {
     "name": "stdout",
     "output_type": "stream",
     "text": [
      "Training Error (RMSE): 33.515062203770476\n",
      "CV Error: 36.742055218564666\n"
     ]
    }
   ],
   "source": [
    "print(\"Training Error (RMSE):\", rmse(Y_train, ridge_model.predict(train)))\n",
    "print('CV Error:', np.mean(cross_val_score(ridge_model, train, Y_train, scoring=rmse_score, cv=5)))"
   ]
  },
  {
   "cell_type": "code",
   "execution_count": 856,
   "metadata": {},
   "outputs": [],
   "source": [
    "models['ridge'] = ridge_model"
   ]
  },
  {
   "cell_type": "code",
   "execution_count": 857,
   "metadata": {},
   "outputs": [],
   "source": [
    "alphas = np.linspace(10, 80, 80)\n",
    "cv_values = []\n",
    "train_values = []\n",
    "test_values = []\n",
    "for alpha in alphas:\n",
    "    ridge_model.set_params(LinearModel__alpha=alpha)\n",
    "    ridge_model.fit(train, Y_train)\n",
    "    cv_values.append(np.mean(cross_val_score(ridge_model, train, Y_train, scoring=rmse_score, cv=5)))\n",
    "    train_values.append(rmse_score(ridge_model, train, Y_train))"
   ]
  },
  {
   "cell_type": "code",
   "execution_count": 858,
   "metadata": {},
   "outputs": [
    {
     "data": {
      "text/html": [
       "        <script type=\"text/javascript\">\n",
       "        window.PlotlyConfig = {MathJaxConfig: 'local'};\n",
       "        if (window.MathJax) {MathJax.Hub.Config({SVG: {font: \"STIX-Web\"}});}\n",
       "        if (typeof require !== 'undefined') {\n",
       "        require.undef(\"plotly\");\n",
       "        requirejs.config({\n",
       "            paths: {\n",
       "                'plotly': ['https://cdn.plot.ly/plotly-latest.min']\n",
       "            }\n",
       "        });\n",
       "        require(['plotly'], function(Plotly) {\n",
       "            window._Plotly = Plotly;\n",
       "        });\n",
       "        }\n",
       "        </script>\n",
       "        "
      ]
     },
     "metadata": {},
     "output_type": "display_data"
    }
   ],
   "source": [
    "import plotly.offline as py\n",
    "import plotly.express as px\n",
    "import plotly.graph_objects as go\n",
    "from plotly.subplots import make_subplots\n",
    "import plotly.figure_factory as ff\n",
    "import cufflinks as cf\n",
    "cf.set_config_file(offline=True, sharing=False, theme='ggplot');"
   ]
  },
  {
   "cell_type": "code",
   "execution_count": 859,
   "metadata": {},
   "outputs": [
    {
     "data": {
      "application/vnd.plotly.v1+json": {
       "config": {
        "plotlyServerURL": "https://plot.ly"
       },
       "data": [
        {
         "mode": "lines+markers",
         "name": "Train",
         "type": "scatter",
         "x": [
          10,
          10.886075949367088,
          11.772151898734178,
          12.658227848101266,
          13.544303797468354,
          14.430379746835442,
          15.316455696202532,
          16.20253164556962,
          17.088607594936708,
          17.974683544303797,
          18.860759493670884,
          19.746835443037973,
          20.632911392405063,
          21.518987341772153,
          22.40506329113924,
          23.29113924050633,
          24.177215189873415,
          25.063291139240505,
          25.949367088607595,
          26.83544303797468,
          27.72151898734177,
          28.60759493670886,
          29.493670886075947,
          30.379746835443036,
          31.265822784810126,
          32.15189873417721,
          33.037974683544306,
          33.92405063291139,
          34.81012658227848,
          35.69620253164557,
          36.58227848101266,
          37.46835443037975,
          38.35443037974683,
          39.24050632911393,
          40.12658227848101,
          41.0126582278481,
          41.89873417721519,
          42.78481012658228,
          43.67088607594936,
          44.55696202531645,
          45.44303797468354,
          46.32911392405063,
          47.21518987341772,
          48.10126582278481,
          48.98734177215189,
          49.87341772151898,
          50.75949367088607,
          51.64556962025316,
          52.53164556962025,
          53.41772151898734,
          54.303797468354425,
          55.189873417721515,
          56.075949367088604,
          56.962025316455694,
          57.848101265822784,
          58.734177215189874,
          59.62025316455696,
          60.506329113924046,
          61.392405063291136,
          62.278481012658226,
          63.164556962025316,
          64.0506329113924,
          64.9367088607595,
          65.82278481012658,
          66.70886075949366,
          67.59493670886076,
          68.48101265822785,
          69.36708860759492,
          70.25316455696202,
          71.13924050632912,
          72.0253164556962,
          72.91139240506328,
          73.79746835443038,
          74.68354430379746,
          75.56962025316456,
          76.45569620253164,
          77.34177215189872,
          78.22784810126582,
          79.1139240506329,
          80
         ],
         "y": [
          32.26504571030801,
          32.34293323589264,
          32.41347448267623,
          32.477946061772684,
          32.53734248935739,
          32.592450372663485,
          32.64390027625077,
          32.692203750580134,
          32.73778026256714,
          32.7809771091365,
          32.82208436307669,
          32.861346242548926,
          32.89896986653779,
          32.93513207303703,
          32.96998478329693,
          33.00365926215465,
          33.03626953120785,
          33.06791512542175,
          33.09868333620252,
          33.128651049378114,
          33.15788626108098,
          33.18644933561826,
          33.21439405522425,
          33.24176850084181,
          33.26861579487492,
          33.29497473053319,
          33.32088030749023,
          33.34636418974734,
          33.371455098583354,
          33.396179151088,
          33.42056015287773,
          33.444619852073,
          33.46837816039289,
          33.49185334623081,
          33.515062203770476,
          33.53802020154197,
          33.56074161327745,
          33.58323963348036,
          33.605526479752356,
          33.62761348361635,
          33.6495111713176,
          33.67122933587047,
          33.69277710143927,
          33.71416298098842,
          33.7353949280104,
          33.75648038302996,
          33.77742631549091,
          33.79823926155248,
          33.818925358255115,
          33.83949037445672,
          33.85993973889119,
          33.880278565657875,
          33.90051167741257,
          33.92064362650015,
          33.94067871423883,
          33.96062100854333,
          33.980474360052725,
          34.000242416908684,
          34.019928638315896,
          34.03953630700064,
          34.05906854067101,
          34.07852830257202,
          34.097918411218465,
          34.11724154937992,
          34.13650027238474,
          34.155697015803305,
          34.174834102564354,
          34.193913749553296,
          34.212938073736765,
          34.23190909785233,
          34.25082875570069,
          34.26969889707169,
          34.28852129233471,
          34.30729763671965,
          34.32602955431311,
          34.34471860179263,
          34.363366271917975,
          34.38197399679937,
          34.40054315095838,
          34.419075054197904
         ]
        },
        {
         "mode": "lines+markers",
         "name": "CV",
         "type": "scatter",
         "x": [
          10,
          10.886075949367088,
          11.772151898734178,
          12.658227848101266,
          13.544303797468354,
          14.430379746835442,
          15.316455696202532,
          16.20253164556962,
          17.088607594936708,
          17.974683544303797,
          18.860759493670884,
          19.746835443037973,
          20.632911392405063,
          21.518987341772153,
          22.40506329113924,
          23.29113924050633,
          24.177215189873415,
          25.063291139240505,
          25.949367088607595,
          26.83544303797468,
          27.72151898734177,
          28.60759493670886,
          29.493670886075947,
          30.379746835443036,
          31.265822784810126,
          32.15189873417721,
          33.037974683544306,
          33.92405063291139,
          34.81012658227848,
          35.69620253164557,
          36.58227848101266,
          37.46835443037975,
          38.35443037974683,
          39.24050632911393,
          40.12658227848101,
          41.0126582278481,
          41.89873417721519,
          42.78481012658228,
          43.67088607594936,
          44.55696202531645,
          45.44303797468354,
          46.32911392405063,
          47.21518987341772,
          48.10126582278481,
          48.98734177215189,
          49.87341772151898,
          50.75949367088607,
          51.64556962025316,
          52.53164556962025,
          53.41772151898734,
          54.303797468354425,
          55.189873417721515,
          56.075949367088604,
          56.962025316455694,
          57.848101265822784,
          58.734177215189874,
          59.62025316455696,
          60.506329113924046,
          61.392405063291136,
          62.278481012658226,
          63.164556962025316,
          64.0506329113924,
          64.9367088607595,
          65.82278481012658,
          66.70886075949366,
          67.59493670886076,
          68.48101265822785,
          69.36708860759492,
          70.25316455696202,
          71.13924050632912,
          72.0253164556962,
          72.91139240506328,
          73.79746835443038,
          74.68354430379746,
          75.56962025316456,
          76.45569620253164,
          77.34177215189872,
          78.22784810126582,
          79.1139240506329,
          80
         ],
         "y": [
          37.529849280142756,
          37.4570873225696,
          37.390791750067365,
          37.330302036349046,
          37.2750346907802,
          37.22447695769519,
          37.17817887556604,
          37.135745295412306,
          37.09682852080745,
          37.06112179388092,
          37.028353651408295,
          36.9982830891679,
          36.97069544169153,
          36.94539887922425,
          36.922221429769245,
          36.90100844448247,
          36.88162043603704,
          36.86393123035994,
          36.84782638175552,
          36.83320180970456,
          36.819962622610916,
          36.80802209960383,
          36.797300806335684,
          36.78772582471412,
          36.77923007980633,
          36.77175174987356,
          36.76523374774621,
          36.75962326360655,
          36.75487136079311,
          36.75093261751901,
          36.747764808467124,
          36.745328621116585,
          36.74358740240241,
          36.74250693193871,
          36.742055218564666,
          36.74220231742007,
          36.742920165135935,
          36.74418243104728,
          36.74596438261035,
          36.74824276344048,
          36.750995682586876,
          36.75420251383509,
          36.75784380397363,
          36.76190118909247,
          36.76635731808922,
          36.771195782656825,
          36.77640105311012,
          36.78195841947997,
          36.787853937369604,
          36.79407437812158,
          36.8006071828932,
          36.80744042028182,
          36.814562747178165,
          36.82196337255964,
          36.82963202396492,
          36.83755891641765,
          36.84573472358905,
          36.8541505510111,
          36.8627979111692,
          36.871668700319994,
          36.88075517689478,
          36.8900499413609,
          36.899545917426906,
          36.909236334485584,
          36.91911471120012,
          36.929174840146466,
          36.93941077343178,
          36.94981680921707,
          36.96038747907748,
          36.97111753613909,
          36.98200194393704,
          36.99303586594313,
          37.00421465571655,
          37.01553384763423,
          37.02698914816089,
          37.03857642762215,
          37.05029171244754,
          37.062131177850986,
          37.07409114092098,
          37.08616805409342
         ]
        }
       ],
       "layout": {
        "template": {
         "data": {
          "bar": [
           {
            "error_x": {
             "color": "#2a3f5f"
            },
            "error_y": {
             "color": "#2a3f5f"
            },
            "marker": {
             "line": {
              "color": "#E5ECF6",
              "width": 0.5
             }
            },
            "type": "bar"
           }
          ],
          "barpolar": [
           {
            "marker": {
             "line": {
              "color": "#E5ECF6",
              "width": 0.5
             }
            },
            "type": "barpolar"
           }
          ],
          "carpet": [
           {
            "aaxis": {
             "endlinecolor": "#2a3f5f",
             "gridcolor": "white",
             "linecolor": "white",
             "minorgridcolor": "white",
             "startlinecolor": "#2a3f5f"
            },
            "baxis": {
             "endlinecolor": "#2a3f5f",
             "gridcolor": "white",
             "linecolor": "white",
             "minorgridcolor": "white",
             "startlinecolor": "#2a3f5f"
            },
            "type": "carpet"
           }
          ],
          "choropleth": [
           {
            "colorbar": {
             "outlinewidth": 0,
             "ticks": ""
            },
            "type": "choropleth"
           }
          ],
          "contour": [
           {
            "colorbar": {
             "outlinewidth": 0,
             "ticks": ""
            },
            "colorscale": [
             [
              0,
              "#0d0887"
             ],
             [
              0.1111111111111111,
              "#46039f"
             ],
             [
              0.2222222222222222,
              "#7201a8"
             ],
             [
              0.3333333333333333,
              "#9c179e"
             ],
             [
              0.4444444444444444,
              "#bd3786"
             ],
             [
              0.5555555555555556,
              "#d8576b"
             ],
             [
              0.6666666666666666,
              "#ed7953"
             ],
             [
              0.7777777777777778,
              "#fb9f3a"
             ],
             [
              0.8888888888888888,
              "#fdca26"
             ],
             [
              1,
              "#f0f921"
             ]
            ],
            "type": "contour"
           }
          ],
          "contourcarpet": [
           {
            "colorbar": {
             "outlinewidth": 0,
             "ticks": ""
            },
            "type": "contourcarpet"
           }
          ],
          "heatmap": [
           {
            "colorbar": {
             "outlinewidth": 0,
             "ticks": ""
            },
            "colorscale": [
             [
              0,
              "#0d0887"
             ],
             [
              0.1111111111111111,
              "#46039f"
             ],
             [
              0.2222222222222222,
              "#7201a8"
             ],
             [
              0.3333333333333333,
              "#9c179e"
             ],
             [
              0.4444444444444444,
              "#bd3786"
             ],
             [
              0.5555555555555556,
              "#d8576b"
             ],
             [
              0.6666666666666666,
              "#ed7953"
             ],
             [
              0.7777777777777778,
              "#fb9f3a"
             ],
             [
              0.8888888888888888,
              "#fdca26"
             ],
             [
              1,
              "#f0f921"
             ]
            ],
            "type": "heatmap"
           }
          ],
          "heatmapgl": [
           {
            "colorbar": {
             "outlinewidth": 0,
             "ticks": ""
            },
            "colorscale": [
             [
              0,
              "#0d0887"
             ],
             [
              0.1111111111111111,
              "#46039f"
             ],
             [
              0.2222222222222222,
              "#7201a8"
             ],
             [
              0.3333333333333333,
              "#9c179e"
             ],
             [
              0.4444444444444444,
              "#bd3786"
             ],
             [
              0.5555555555555556,
              "#d8576b"
             ],
             [
              0.6666666666666666,
              "#ed7953"
             ],
             [
              0.7777777777777778,
              "#fb9f3a"
             ],
             [
              0.8888888888888888,
              "#fdca26"
             ],
             [
              1,
              "#f0f921"
             ]
            ],
            "type": "heatmapgl"
           }
          ],
          "histogram": [
           {
            "marker": {
             "colorbar": {
              "outlinewidth": 0,
              "ticks": ""
             }
            },
            "type": "histogram"
           }
          ],
          "histogram2d": [
           {
            "colorbar": {
             "outlinewidth": 0,
             "ticks": ""
            },
            "colorscale": [
             [
              0,
              "#0d0887"
             ],
             [
              0.1111111111111111,
              "#46039f"
             ],
             [
              0.2222222222222222,
              "#7201a8"
             ],
             [
              0.3333333333333333,
              "#9c179e"
             ],
             [
              0.4444444444444444,
              "#bd3786"
             ],
             [
              0.5555555555555556,
              "#d8576b"
             ],
             [
              0.6666666666666666,
              "#ed7953"
             ],
             [
              0.7777777777777778,
              "#fb9f3a"
             ],
             [
              0.8888888888888888,
              "#fdca26"
             ],
             [
              1,
              "#f0f921"
             ]
            ],
            "type": "histogram2d"
           }
          ],
          "histogram2dcontour": [
           {
            "colorbar": {
             "outlinewidth": 0,
             "ticks": ""
            },
            "colorscale": [
             [
              0,
              "#0d0887"
             ],
             [
              0.1111111111111111,
              "#46039f"
             ],
             [
              0.2222222222222222,
              "#7201a8"
             ],
             [
              0.3333333333333333,
              "#9c179e"
             ],
             [
              0.4444444444444444,
              "#bd3786"
             ],
             [
              0.5555555555555556,
              "#d8576b"
             ],
             [
              0.6666666666666666,
              "#ed7953"
             ],
             [
              0.7777777777777778,
              "#fb9f3a"
             ],
             [
              0.8888888888888888,
              "#fdca26"
             ],
             [
              1,
              "#f0f921"
             ]
            ],
            "type": "histogram2dcontour"
           }
          ],
          "mesh3d": [
           {
            "colorbar": {
             "outlinewidth": 0,
             "ticks": ""
            },
            "type": "mesh3d"
           }
          ],
          "parcoords": [
           {
            "line": {
             "colorbar": {
              "outlinewidth": 0,
              "ticks": ""
             }
            },
            "type": "parcoords"
           }
          ],
          "pie": [
           {
            "automargin": true,
            "type": "pie"
           }
          ],
          "scatter": [
           {
            "marker": {
             "colorbar": {
              "outlinewidth": 0,
              "ticks": ""
             }
            },
            "type": "scatter"
           }
          ],
          "scatter3d": [
           {
            "line": {
             "colorbar": {
              "outlinewidth": 0,
              "ticks": ""
             }
            },
            "marker": {
             "colorbar": {
              "outlinewidth": 0,
              "ticks": ""
             }
            },
            "type": "scatter3d"
           }
          ],
          "scattercarpet": [
           {
            "marker": {
             "colorbar": {
              "outlinewidth": 0,
              "ticks": ""
             }
            },
            "type": "scattercarpet"
           }
          ],
          "scattergeo": [
           {
            "marker": {
             "colorbar": {
              "outlinewidth": 0,
              "ticks": ""
             }
            },
            "type": "scattergeo"
           }
          ],
          "scattergl": [
           {
            "marker": {
             "colorbar": {
              "outlinewidth": 0,
              "ticks": ""
             }
            },
            "type": "scattergl"
           }
          ],
          "scattermapbox": [
           {
            "marker": {
             "colorbar": {
              "outlinewidth": 0,
              "ticks": ""
             }
            },
            "type": "scattermapbox"
           }
          ],
          "scatterpolar": [
           {
            "marker": {
             "colorbar": {
              "outlinewidth": 0,
              "ticks": ""
             }
            },
            "type": "scatterpolar"
           }
          ],
          "scatterpolargl": [
           {
            "marker": {
             "colorbar": {
              "outlinewidth": 0,
              "ticks": ""
             }
            },
            "type": "scatterpolargl"
           }
          ],
          "scatterternary": [
           {
            "marker": {
             "colorbar": {
              "outlinewidth": 0,
              "ticks": ""
             }
            },
            "type": "scatterternary"
           }
          ],
          "surface": [
           {
            "colorbar": {
             "outlinewidth": 0,
             "ticks": ""
            },
            "colorscale": [
             [
              0,
              "#0d0887"
             ],
             [
              0.1111111111111111,
              "#46039f"
             ],
             [
              0.2222222222222222,
              "#7201a8"
             ],
             [
              0.3333333333333333,
              "#9c179e"
             ],
             [
              0.4444444444444444,
              "#bd3786"
             ],
             [
              0.5555555555555556,
              "#d8576b"
             ],
             [
              0.6666666666666666,
              "#ed7953"
             ],
             [
              0.7777777777777778,
              "#fb9f3a"
             ],
             [
              0.8888888888888888,
              "#fdca26"
             ],
             [
              1,
              "#f0f921"
             ]
            ],
            "type": "surface"
           }
          ],
          "table": [
           {
            "cells": {
             "fill": {
              "color": "#EBF0F8"
             },
             "line": {
              "color": "white"
             }
            },
            "header": {
             "fill": {
              "color": "#C8D4E3"
             },
             "line": {
              "color": "white"
             }
            },
            "type": "table"
           }
          ]
         },
         "layout": {
          "annotationdefaults": {
           "arrowcolor": "#2a3f5f",
           "arrowhead": 0,
           "arrowwidth": 1
          },
          "coloraxis": {
           "colorbar": {
            "outlinewidth": 0,
            "ticks": ""
           }
          },
          "colorscale": {
           "diverging": [
            [
             0,
             "#8e0152"
            ],
            [
             0.1,
             "#c51b7d"
            ],
            [
             0.2,
             "#de77ae"
            ],
            [
             0.3,
             "#f1b6da"
            ],
            [
             0.4,
             "#fde0ef"
            ],
            [
             0.5,
             "#f7f7f7"
            ],
            [
             0.6,
             "#e6f5d0"
            ],
            [
             0.7,
             "#b8e186"
            ],
            [
             0.8,
             "#7fbc41"
            ],
            [
             0.9,
             "#4d9221"
            ],
            [
             1,
             "#276419"
            ]
           ],
           "sequential": [
            [
             0,
             "#0d0887"
            ],
            [
             0.1111111111111111,
             "#46039f"
            ],
            [
             0.2222222222222222,
             "#7201a8"
            ],
            [
             0.3333333333333333,
             "#9c179e"
            ],
            [
             0.4444444444444444,
             "#bd3786"
            ],
            [
             0.5555555555555556,
             "#d8576b"
            ],
            [
             0.6666666666666666,
             "#ed7953"
            ],
            [
             0.7777777777777778,
             "#fb9f3a"
            ],
            [
             0.8888888888888888,
             "#fdca26"
            ],
            [
             1,
             "#f0f921"
            ]
           ],
           "sequentialminus": [
            [
             0,
             "#0d0887"
            ],
            [
             0.1111111111111111,
             "#46039f"
            ],
            [
             0.2222222222222222,
             "#7201a8"
            ],
            [
             0.3333333333333333,
             "#9c179e"
            ],
            [
             0.4444444444444444,
             "#bd3786"
            ],
            [
             0.5555555555555556,
             "#d8576b"
            ],
            [
             0.6666666666666666,
             "#ed7953"
            ],
            [
             0.7777777777777778,
             "#fb9f3a"
            ],
            [
             0.8888888888888888,
             "#fdca26"
            ],
            [
             1,
             "#f0f921"
            ]
           ]
          },
          "colorway": [
           "#636efa",
           "#EF553B",
           "#00cc96",
           "#ab63fa",
           "#FFA15A",
           "#19d3f3",
           "#FF6692",
           "#B6E880",
           "#FF97FF",
           "#FECB52"
          ],
          "font": {
           "color": "#2a3f5f"
          },
          "geo": {
           "bgcolor": "white",
           "lakecolor": "white",
           "landcolor": "#E5ECF6",
           "showlakes": true,
           "showland": true,
           "subunitcolor": "white"
          },
          "hoverlabel": {
           "align": "left"
          },
          "hovermode": "closest",
          "mapbox": {
           "style": "light"
          },
          "paper_bgcolor": "white",
          "plot_bgcolor": "#E5ECF6",
          "polar": {
           "angularaxis": {
            "gridcolor": "white",
            "linecolor": "white",
            "ticks": ""
           },
           "bgcolor": "#E5ECF6",
           "radialaxis": {
            "gridcolor": "white",
            "linecolor": "white",
            "ticks": ""
           }
          },
          "scene": {
           "xaxis": {
            "backgroundcolor": "#E5ECF6",
            "gridcolor": "white",
            "gridwidth": 2,
            "linecolor": "white",
            "showbackground": true,
            "ticks": "",
            "zerolinecolor": "white"
           },
           "yaxis": {
            "backgroundcolor": "#E5ECF6",
            "gridcolor": "white",
            "gridwidth": 2,
            "linecolor": "white",
            "showbackground": true,
            "ticks": "",
            "zerolinecolor": "white"
           },
           "zaxis": {
            "backgroundcolor": "#E5ECF6",
            "gridcolor": "white",
            "gridwidth": 2,
            "linecolor": "white",
            "showbackground": true,
            "ticks": "",
            "zerolinecolor": "white"
           }
          },
          "shapedefaults": {
           "line": {
            "color": "#2a3f5f"
           }
          },
          "ternary": {
           "aaxis": {
            "gridcolor": "white",
            "linecolor": "white",
            "ticks": ""
           },
           "baxis": {
            "gridcolor": "white",
            "linecolor": "white",
            "ticks": ""
           },
           "bgcolor": "#E5ECF6",
           "caxis": {
            "gridcolor": "white",
            "linecolor": "white",
            "ticks": ""
           }
          },
          "title": {
           "x": 0.05
          },
          "xaxis": {
           "automargin": true,
           "gridcolor": "white",
           "linecolor": "white",
           "ticks": "",
           "title": {
            "standoff": 15
           },
           "zerolinecolor": "white",
           "zerolinewidth": 2
          },
          "yaxis": {
           "automargin": true,
           "gridcolor": "white",
           "linecolor": "white",
           "ticks": "",
           "title": {
            "standoff": 15
           },
           "zerolinecolor": "white",
           "zerolinewidth": 2
          }
         }
        },
        "xaxis": {
         "title": {
          "text": "$\\alpha$"
         }
        },
        "yaxis": {
         "title": {
          "text": "CV RMSE"
         }
        }
       }
      },
      "text/html": [
       "<div>\n",
       "        \n",
       "        \n",
       "            <div id=\"3330b3af-37d9-49b6-8968-f30c15b9e0a1\" class=\"plotly-graph-div\" style=\"height:525px; width:100%;\"></div>\n",
       "            <script type=\"text/javascript\">\n",
       "                require([\"plotly\"], function(Plotly) {\n",
       "                    window.PLOTLYENV=window.PLOTLYENV || {};\n",
       "                    \n",
       "                if (document.getElementById(\"3330b3af-37d9-49b6-8968-f30c15b9e0a1\")) {\n",
       "                    Plotly.newPlot(\n",
       "                        '3330b3af-37d9-49b6-8968-f30c15b9e0a1',\n",
       "                        [{\"mode\": \"lines+markers\", \"name\": \"Train\", \"type\": \"scatter\", \"x\": [10.0, 10.886075949367088, 11.772151898734178, 12.658227848101266, 13.544303797468354, 14.430379746835442, 15.316455696202532, 16.20253164556962, 17.088607594936708, 17.974683544303797, 18.860759493670884, 19.746835443037973, 20.632911392405063, 21.518987341772153, 22.40506329113924, 23.29113924050633, 24.177215189873415, 25.063291139240505, 25.949367088607595, 26.83544303797468, 27.72151898734177, 28.60759493670886, 29.493670886075947, 30.379746835443036, 31.265822784810126, 32.15189873417721, 33.037974683544306, 33.92405063291139, 34.81012658227848, 35.69620253164557, 36.58227848101266, 37.46835443037975, 38.35443037974683, 39.24050632911393, 40.12658227848101, 41.0126582278481, 41.89873417721519, 42.78481012658228, 43.67088607594936, 44.55696202531645, 45.44303797468354, 46.32911392405063, 47.21518987341772, 48.10126582278481, 48.98734177215189, 49.87341772151898, 50.75949367088607, 51.64556962025316, 52.53164556962025, 53.41772151898734, 54.303797468354425, 55.189873417721515, 56.075949367088604, 56.962025316455694, 57.848101265822784, 58.734177215189874, 59.62025316455696, 60.506329113924046, 61.392405063291136, 62.278481012658226, 63.164556962025316, 64.0506329113924, 64.9367088607595, 65.82278481012658, 66.70886075949366, 67.59493670886076, 68.48101265822785, 69.36708860759492, 70.25316455696202, 71.13924050632912, 72.0253164556962, 72.91139240506328, 73.79746835443038, 74.68354430379746, 75.56962025316456, 76.45569620253164, 77.34177215189872, 78.22784810126582, 79.1139240506329, 80.0], \"y\": [32.26504571030801, 32.34293323589264, 32.41347448267623, 32.477946061772684, 32.53734248935739, 32.592450372663485, 32.64390027625077, 32.692203750580134, 32.73778026256714, 32.7809771091365, 32.82208436307669, 32.861346242548926, 32.89896986653779, 32.93513207303703, 32.96998478329693, 33.00365926215465, 33.03626953120785, 33.06791512542175, 33.09868333620252, 33.128651049378114, 33.15788626108098, 33.18644933561826, 33.21439405522425, 33.24176850084181, 33.26861579487492, 33.29497473053319, 33.32088030749023, 33.34636418974734, 33.371455098583354, 33.396179151088, 33.42056015287773, 33.444619852073, 33.46837816039289, 33.49185334623081, 33.515062203770476, 33.53802020154197, 33.56074161327745, 33.58323963348036, 33.605526479752356, 33.62761348361635, 33.6495111713176, 33.67122933587047, 33.69277710143927, 33.71416298098842, 33.7353949280104, 33.75648038302996, 33.77742631549091, 33.79823926155248, 33.818925358255115, 33.83949037445672, 33.85993973889119, 33.880278565657875, 33.90051167741257, 33.92064362650015, 33.94067871423883, 33.96062100854333, 33.980474360052725, 34.000242416908684, 34.019928638315896, 34.03953630700064, 34.05906854067101, 34.07852830257202, 34.097918411218465, 34.11724154937992, 34.13650027238474, 34.155697015803305, 34.174834102564354, 34.193913749553296, 34.212938073736765, 34.23190909785233, 34.25082875570069, 34.26969889707169, 34.28852129233471, 34.30729763671965, 34.32602955431311, 34.34471860179263, 34.363366271917975, 34.38197399679937, 34.40054315095838, 34.419075054197904]}, {\"mode\": \"lines+markers\", \"name\": \"CV\", \"type\": \"scatter\", \"x\": [10.0, 10.886075949367088, 11.772151898734178, 12.658227848101266, 13.544303797468354, 14.430379746835442, 15.316455696202532, 16.20253164556962, 17.088607594936708, 17.974683544303797, 18.860759493670884, 19.746835443037973, 20.632911392405063, 21.518987341772153, 22.40506329113924, 23.29113924050633, 24.177215189873415, 25.063291139240505, 25.949367088607595, 26.83544303797468, 27.72151898734177, 28.60759493670886, 29.493670886075947, 30.379746835443036, 31.265822784810126, 32.15189873417721, 33.037974683544306, 33.92405063291139, 34.81012658227848, 35.69620253164557, 36.58227848101266, 37.46835443037975, 38.35443037974683, 39.24050632911393, 40.12658227848101, 41.0126582278481, 41.89873417721519, 42.78481012658228, 43.67088607594936, 44.55696202531645, 45.44303797468354, 46.32911392405063, 47.21518987341772, 48.10126582278481, 48.98734177215189, 49.87341772151898, 50.75949367088607, 51.64556962025316, 52.53164556962025, 53.41772151898734, 54.303797468354425, 55.189873417721515, 56.075949367088604, 56.962025316455694, 57.848101265822784, 58.734177215189874, 59.62025316455696, 60.506329113924046, 61.392405063291136, 62.278481012658226, 63.164556962025316, 64.0506329113924, 64.9367088607595, 65.82278481012658, 66.70886075949366, 67.59493670886076, 68.48101265822785, 69.36708860759492, 70.25316455696202, 71.13924050632912, 72.0253164556962, 72.91139240506328, 73.79746835443038, 74.68354430379746, 75.56962025316456, 76.45569620253164, 77.34177215189872, 78.22784810126582, 79.1139240506329, 80.0], \"y\": [37.529849280142756, 37.4570873225696, 37.390791750067365, 37.330302036349046, 37.2750346907802, 37.22447695769519, 37.17817887556604, 37.135745295412306, 37.09682852080745, 37.06112179388092, 37.028353651408295, 36.9982830891679, 36.97069544169153, 36.94539887922425, 36.922221429769245, 36.90100844448247, 36.88162043603704, 36.86393123035994, 36.84782638175552, 36.83320180970456, 36.819962622610916, 36.80802209960383, 36.797300806335684, 36.78772582471412, 36.77923007980633, 36.77175174987356, 36.76523374774621, 36.75962326360655, 36.75487136079311, 36.75093261751901, 36.747764808467124, 36.745328621116585, 36.74358740240241, 36.74250693193871, 36.742055218564666, 36.74220231742007, 36.742920165135935, 36.74418243104728, 36.74596438261035, 36.74824276344048, 36.750995682586876, 36.75420251383509, 36.75784380397363, 36.76190118909247, 36.76635731808922, 36.771195782656825, 36.77640105311012, 36.78195841947997, 36.787853937369604, 36.79407437812158, 36.8006071828932, 36.80744042028182, 36.814562747178165, 36.82196337255964, 36.82963202396492, 36.83755891641765, 36.84573472358905, 36.8541505510111, 36.8627979111692, 36.871668700319994, 36.88075517689478, 36.8900499413609, 36.899545917426906, 36.909236334485584, 36.91911471120012, 36.929174840146466, 36.93941077343178, 36.94981680921707, 36.96038747907748, 36.97111753613909, 36.98200194393704, 36.99303586594313, 37.00421465571655, 37.01553384763423, 37.02698914816089, 37.03857642762215, 37.05029171244754, 37.062131177850986, 37.07409114092098, 37.08616805409342]}],\n",
       "                        {\"template\": {\"data\": {\"bar\": [{\"error_x\": {\"color\": \"#2a3f5f\"}, \"error_y\": {\"color\": \"#2a3f5f\"}, \"marker\": {\"line\": {\"color\": \"#E5ECF6\", \"width\": 0.5}}, \"type\": \"bar\"}], \"barpolar\": [{\"marker\": {\"line\": {\"color\": \"#E5ECF6\", \"width\": 0.5}}, \"type\": \"barpolar\"}], \"carpet\": [{\"aaxis\": {\"endlinecolor\": \"#2a3f5f\", \"gridcolor\": \"white\", \"linecolor\": \"white\", \"minorgridcolor\": \"white\", \"startlinecolor\": \"#2a3f5f\"}, \"baxis\": {\"endlinecolor\": \"#2a3f5f\", \"gridcolor\": \"white\", \"linecolor\": \"white\", \"minorgridcolor\": \"white\", \"startlinecolor\": \"#2a3f5f\"}, \"type\": \"carpet\"}], \"choropleth\": [{\"colorbar\": {\"outlinewidth\": 0, \"ticks\": \"\"}, \"type\": \"choropleth\"}], \"contour\": [{\"colorbar\": {\"outlinewidth\": 0, \"ticks\": \"\"}, \"colorscale\": [[0.0, \"#0d0887\"], [0.1111111111111111, \"#46039f\"], [0.2222222222222222, \"#7201a8\"], [0.3333333333333333, \"#9c179e\"], [0.4444444444444444, \"#bd3786\"], [0.5555555555555556, \"#d8576b\"], [0.6666666666666666, \"#ed7953\"], [0.7777777777777778, \"#fb9f3a\"], [0.8888888888888888, \"#fdca26\"], [1.0, \"#f0f921\"]], \"type\": \"contour\"}], \"contourcarpet\": [{\"colorbar\": {\"outlinewidth\": 0, \"ticks\": \"\"}, \"type\": \"contourcarpet\"}], \"heatmap\": [{\"colorbar\": {\"outlinewidth\": 0, \"ticks\": \"\"}, \"colorscale\": [[0.0, \"#0d0887\"], [0.1111111111111111, \"#46039f\"], [0.2222222222222222, \"#7201a8\"], [0.3333333333333333, \"#9c179e\"], [0.4444444444444444, \"#bd3786\"], [0.5555555555555556, \"#d8576b\"], [0.6666666666666666, \"#ed7953\"], [0.7777777777777778, \"#fb9f3a\"], [0.8888888888888888, \"#fdca26\"], [1.0, \"#f0f921\"]], \"type\": \"heatmap\"}], \"heatmapgl\": [{\"colorbar\": {\"outlinewidth\": 0, \"ticks\": \"\"}, \"colorscale\": [[0.0, \"#0d0887\"], [0.1111111111111111, \"#46039f\"], [0.2222222222222222, \"#7201a8\"], [0.3333333333333333, \"#9c179e\"], [0.4444444444444444, \"#bd3786\"], [0.5555555555555556, \"#d8576b\"], [0.6666666666666666, \"#ed7953\"], [0.7777777777777778, \"#fb9f3a\"], [0.8888888888888888, \"#fdca26\"], [1.0, \"#f0f921\"]], \"type\": \"heatmapgl\"}], \"histogram\": [{\"marker\": {\"colorbar\": {\"outlinewidth\": 0, \"ticks\": \"\"}}, \"type\": \"histogram\"}], \"histogram2d\": [{\"colorbar\": {\"outlinewidth\": 0, \"ticks\": \"\"}, \"colorscale\": [[0.0, \"#0d0887\"], [0.1111111111111111, \"#46039f\"], [0.2222222222222222, \"#7201a8\"], [0.3333333333333333, \"#9c179e\"], [0.4444444444444444, \"#bd3786\"], [0.5555555555555556, \"#d8576b\"], [0.6666666666666666, \"#ed7953\"], [0.7777777777777778, \"#fb9f3a\"], [0.8888888888888888, \"#fdca26\"], [1.0, \"#f0f921\"]], \"type\": \"histogram2d\"}], \"histogram2dcontour\": [{\"colorbar\": {\"outlinewidth\": 0, \"ticks\": \"\"}, \"colorscale\": [[0.0, \"#0d0887\"], [0.1111111111111111, \"#46039f\"], [0.2222222222222222, \"#7201a8\"], [0.3333333333333333, \"#9c179e\"], [0.4444444444444444, \"#bd3786\"], [0.5555555555555556, \"#d8576b\"], [0.6666666666666666, \"#ed7953\"], [0.7777777777777778, \"#fb9f3a\"], [0.8888888888888888, \"#fdca26\"], [1.0, \"#f0f921\"]], \"type\": \"histogram2dcontour\"}], \"mesh3d\": [{\"colorbar\": {\"outlinewidth\": 0, \"ticks\": \"\"}, \"type\": \"mesh3d\"}], \"parcoords\": [{\"line\": {\"colorbar\": {\"outlinewidth\": 0, \"ticks\": \"\"}}, \"type\": \"parcoords\"}], \"pie\": [{\"automargin\": true, \"type\": \"pie\"}], \"scatter\": [{\"marker\": {\"colorbar\": {\"outlinewidth\": 0, \"ticks\": \"\"}}, \"type\": \"scatter\"}], \"scatter3d\": [{\"line\": {\"colorbar\": {\"outlinewidth\": 0, \"ticks\": \"\"}}, \"marker\": {\"colorbar\": {\"outlinewidth\": 0, \"ticks\": \"\"}}, \"type\": \"scatter3d\"}], \"scattercarpet\": [{\"marker\": {\"colorbar\": {\"outlinewidth\": 0, \"ticks\": \"\"}}, \"type\": \"scattercarpet\"}], \"scattergeo\": [{\"marker\": {\"colorbar\": {\"outlinewidth\": 0, \"ticks\": \"\"}}, \"type\": \"scattergeo\"}], \"scattergl\": [{\"marker\": {\"colorbar\": {\"outlinewidth\": 0, \"ticks\": \"\"}}, \"type\": \"scattergl\"}], \"scattermapbox\": [{\"marker\": {\"colorbar\": {\"outlinewidth\": 0, \"ticks\": \"\"}}, \"type\": \"scattermapbox\"}], \"scatterpolar\": [{\"marker\": {\"colorbar\": {\"outlinewidth\": 0, \"ticks\": \"\"}}, \"type\": \"scatterpolar\"}], \"scatterpolargl\": [{\"marker\": {\"colorbar\": {\"outlinewidth\": 0, \"ticks\": \"\"}}, \"type\": \"scatterpolargl\"}], \"scatterternary\": [{\"marker\": {\"colorbar\": {\"outlinewidth\": 0, \"ticks\": \"\"}}, \"type\": \"scatterternary\"}], \"surface\": [{\"colorbar\": {\"outlinewidth\": 0, \"ticks\": \"\"}, \"colorscale\": [[0.0, \"#0d0887\"], [0.1111111111111111, \"#46039f\"], [0.2222222222222222, \"#7201a8\"], [0.3333333333333333, \"#9c179e\"], [0.4444444444444444, \"#bd3786\"], [0.5555555555555556, \"#d8576b\"], [0.6666666666666666, \"#ed7953\"], [0.7777777777777778, \"#fb9f3a\"], [0.8888888888888888, \"#fdca26\"], [1.0, \"#f0f921\"]], \"type\": \"surface\"}], \"table\": [{\"cells\": {\"fill\": {\"color\": \"#EBF0F8\"}, \"line\": {\"color\": \"white\"}}, \"header\": {\"fill\": {\"color\": \"#C8D4E3\"}, \"line\": {\"color\": \"white\"}}, \"type\": \"table\"}]}, \"layout\": {\"annotationdefaults\": {\"arrowcolor\": \"#2a3f5f\", \"arrowhead\": 0, \"arrowwidth\": 1}, \"coloraxis\": {\"colorbar\": {\"outlinewidth\": 0, \"ticks\": \"\"}}, \"colorscale\": {\"diverging\": [[0, \"#8e0152\"], [0.1, \"#c51b7d\"], [0.2, \"#de77ae\"], [0.3, \"#f1b6da\"], [0.4, \"#fde0ef\"], [0.5, \"#f7f7f7\"], [0.6, \"#e6f5d0\"], [0.7, \"#b8e186\"], [0.8, \"#7fbc41\"], [0.9, \"#4d9221\"], [1, \"#276419\"]], \"sequential\": [[0.0, \"#0d0887\"], [0.1111111111111111, \"#46039f\"], [0.2222222222222222, \"#7201a8\"], [0.3333333333333333, \"#9c179e\"], [0.4444444444444444, \"#bd3786\"], [0.5555555555555556, \"#d8576b\"], [0.6666666666666666, \"#ed7953\"], [0.7777777777777778, \"#fb9f3a\"], [0.8888888888888888, \"#fdca26\"], [1.0, \"#f0f921\"]], \"sequentialminus\": [[0.0, \"#0d0887\"], [0.1111111111111111, \"#46039f\"], [0.2222222222222222, \"#7201a8\"], [0.3333333333333333, \"#9c179e\"], [0.4444444444444444, \"#bd3786\"], [0.5555555555555556, \"#d8576b\"], [0.6666666666666666, \"#ed7953\"], [0.7777777777777778, \"#fb9f3a\"], [0.8888888888888888, \"#fdca26\"], [1.0, \"#f0f921\"]]}, \"colorway\": [\"#636efa\", \"#EF553B\", \"#00cc96\", \"#ab63fa\", \"#FFA15A\", \"#19d3f3\", \"#FF6692\", \"#B6E880\", \"#FF97FF\", \"#FECB52\"], \"font\": {\"color\": \"#2a3f5f\"}, \"geo\": {\"bgcolor\": \"white\", \"lakecolor\": \"white\", \"landcolor\": \"#E5ECF6\", \"showlakes\": true, \"showland\": true, \"subunitcolor\": \"white\"}, \"hoverlabel\": {\"align\": \"left\"}, \"hovermode\": \"closest\", \"mapbox\": {\"style\": \"light\"}, \"paper_bgcolor\": \"white\", \"plot_bgcolor\": \"#E5ECF6\", \"polar\": {\"angularaxis\": {\"gridcolor\": \"white\", \"linecolor\": \"white\", \"ticks\": \"\"}, \"bgcolor\": \"#E5ECF6\", \"radialaxis\": {\"gridcolor\": \"white\", \"linecolor\": \"white\", \"ticks\": \"\"}}, \"scene\": {\"xaxis\": {\"backgroundcolor\": \"#E5ECF6\", \"gridcolor\": \"white\", \"gridwidth\": 2, \"linecolor\": \"white\", \"showbackground\": true, \"ticks\": \"\", \"zerolinecolor\": \"white\"}, \"yaxis\": {\"backgroundcolor\": \"#E5ECF6\", \"gridcolor\": \"white\", \"gridwidth\": 2, \"linecolor\": \"white\", \"showbackground\": true, \"ticks\": \"\", \"zerolinecolor\": \"white\"}, \"zaxis\": {\"backgroundcolor\": \"#E5ECF6\", \"gridcolor\": \"white\", \"gridwidth\": 2, \"linecolor\": \"white\", \"showbackground\": true, \"ticks\": \"\", \"zerolinecolor\": \"white\"}}, \"shapedefaults\": {\"line\": {\"color\": \"#2a3f5f\"}}, \"ternary\": {\"aaxis\": {\"gridcolor\": \"white\", \"linecolor\": \"white\", \"ticks\": \"\"}, \"baxis\": {\"gridcolor\": \"white\", \"linecolor\": \"white\", \"ticks\": \"\"}, \"bgcolor\": \"#E5ECF6\", \"caxis\": {\"gridcolor\": \"white\", \"linecolor\": \"white\", \"ticks\": \"\"}}, \"title\": {\"x\": 0.05}, \"xaxis\": {\"automargin\": true, \"gridcolor\": \"white\", \"linecolor\": \"white\", \"ticks\": \"\", \"title\": {\"standoff\": 15}, \"zerolinecolor\": \"white\", \"zerolinewidth\": 2}, \"yaxis\": {\"automargin\": true, \"gridcolor\": \"white\", \"linecolor\": \"white\", \"ticks\": \"\", \"title\": {\"standoff\": 15}, \"zerolinecolor\": \"white\", \"zerolinewidth\": 2}}}, \"xaxis\": {\"title\": {\"text\": \"$\\\\alpha$\"}}, \"yaxis\": {\"title\": {\"text\": \"CV RMSE\"}}},\n",
       "                        {\"responsive\": true}\n",
       "                    ).then(function(){\n",
       "                            \n",
       "var gd = document.getElementById('3330b3af-37d9-49b6-8968-f30c15b9e0a1');\n",
       "var x = new MutationObserver(function (mutations, observer) {{\n",
       "        var display = window.getComputedStyle(gd).display;\n",
       "        if (!display || display === 'none') {{\n",
       "            console.log([gd, 'removed!']);\n",
       "            Plotly.purge(gd);\n",
       "            observer.disconnect();\n",
       "        }}\n",
       "}});\n",
       "\n",
       "// Listen for the removal of the full notebook cells\n",
       "var notebookContainer = gd.closest('#notebook-container');\n",
       "if (notebookContainer) {{\n",
       "    x.observe(notebookContainer, {childList: true});\n",
       "}}\n",
       "\n",
       "// Listen for the clearing of the current output cell\n",
       "var outputEl = gd.closest('.output');\n",
       "if (outputEl) {{\n",
       "    x.observe(outputEl, {childList: true});\n",
       "}}\n",
       "\n",
       "                        })\n",
       "                };\n",
       "                });\n",
       "            </script>\n",
       "        </div>"
      ]
     },
     "metadata": {},
     "output_type": "display_data"
    }
   ],
   "source": [
    "fig = go.Figure()\n",
    "fig.add_trace(go.Scatter(x = alphas, y = train_values, mode=\"lines+markers\", name=\"Train\"))\n",
    "fig.add_trace(go.Scatter(x = alphas, y = cv_values, mode=\"lines+markers\", name=\"CV\"))\n",
    "fig.update_layout(xaxis_title=r\"$\\alpha$\", yaxis_title=\"CV RMSE\")"
   ]
  },
  {
   "cell_type": "code",
   "execution_count": 860,
   "metadata": {},
   "outputs": [
    {
     "data": {
      "text/plain": [
       "40.12658227848101"
      ]
     },
     "execution_count": 860,
     "metadata": {},
     "output_type": "execute_result"
    }
   ],
   "source": [
    "best_alpha = alphas[np.argmin(cv_values)]\n",
    "best_alpha"
   ]
  },
  {
   "cell_type": "code",
   "execution_count": 861,
   "metadata": {},
   "outputs": [],
   "source": [
    "models[\"RidgeN(alpha_best)\"] = ridge_model"
   ]
  },
  {
   "cell_type": "code",
   "execution_count": 862,
   "metadata": {},
   "outputs": [
    {
     "data": {
      "image/png": "[encoded data removed]",
      "text/plain": [
       "<Figure size 432x288 with 1 Axes>"
      ]
     },
     "metadata": {},
     "output_type": "display_data"
    },
    {
     "name": "stdout",
     "output_type": "stream",
     "text": [
      "[28.105344951608995, 33.515062203770476, 33.515062203770476]\n"
     ]
    }
   ],
   "source": [
    "ridge_model.set_params(LinearModel__alpha=best_alpha)\n",
    "ridge_model.fit(train, Y_train)\n",
    "compare_models(models)"
   ]
  },
  {
   "cell_type": "markdown",
   "metadata": {},
   "source": [
    "## Lasso\n",
    "Lasso is prob good for selecting features? "
   ]
  },
  {
   "cell_type": "code",
   "execution_count": 863,
   "metadata": {},
   "outputs": [],
   "source": [
    "from sklearn.linear_model import Lasso, LassoCV"
   ]
  },
  {
   "cell_type": "code",
   "execution_count": 864,
   "metadata": {},
   "outputs": [],
   "source": [
    "lasso_model = Pipeline([\n",
    "    (\"SelectColumns\", ColumnTransformer([\n",
    "        (\"keep\", StandardScaler(), X_col)\n",
    "    ])),\n",
    "    (\"LinearModel\", Lasso())\n",
    "])"
   ]
  },
  {
   "cell_type": "code",
   "execution_count": 865,
   "metadata": {},
   "outputs": [
    {
     "name": "stderr",
     "output_type": "stream",
     "text": [
      "/srv/conda/envs/data100/lib/python3.7/site-packages/sklearn/compose/_column_transformer.py:430: FutureWarning:\n",
      "\n",
      "Given feature/column names or counts do not match the ones for the data given during fit. This will fail from v0.24.\n",
      "\n"
     ]
    },
    {
     "data": {
      "image/png": "[encoded data removed]",
      "text/plain": [
       "<Figure size 432x288 with 1 Axes>"
      ]
     },
     "metadata": {},
     "output_type": "display_data"
    },
    {
     "name": "stdout",
     "output_type": "stream",
     "text": [
      "[28.105344951608995, 33.515062203770476, 33.515062203770476, 35.586846259870654]\n"
     ]
    }
   ],
   "source": [
    "lasso_model.fit(X_train, Y_train)\n",
    "models[\"Lasso\"] = lasso_model\n",
    "compare_models(models)"
   ]
  },
  {
   "cell_type": "markdown",
   "metadata": {},
   "source": [
    "## find good features -- Use Lasso bc it's good to find features"
   ]
  },
  {
   "cell_type": "code",
   "execution_count": 874,
   "metadata": {},
   "outputs": [
    {
     "data": {
      "application/vnd.plotly.v1+json": {
       "config": {
        "plotlyServerURL": "https://plot.ly"
       },
       "data": [
        {
         "autobinx": false,
         "histnorm": "probability density",
         "legendgroup": "Lasso",
         "marker": {
          "color": "rgb(31, 119, 180)"
         },
         "name": "Lasso",
         "opacity": 0.7,
         "type": "histogram",
         "x": [
          101.67005616271959,
          0,
          0,
          3.7177969712661394,
          0,
          0,
          0,
          0,
          0,
          0.7517400074982162,
          0,
          0,
          0,
          0,
          0,
          0,
          0,
          0,
          0,
          0,
          0,
          0,
          0,
          0,
          0,
          0,
          0,
          0,
          0,
          -32.68475579466282,
          0,
          0,
          0,
          0,
          0,
          0,
          0,
          19.655460753798717,
          0,
          0,
          0,
          0,
          0,
          0,
          0,
          3.8202649677683023,
          5.207232224578849,
          0,
          0,
          0,
          0,
          0,
          0,
          0,
          0,
          0,
          0,
          0
         ],
         "xaxis": "x",
         "xbins": {
          "end": 101.67005616271959,
          "size": 2,
          "start": -32.68475579466282
         },
         "yaxis": "y"
        },
        {
         "autobinx": false,
         "histnorm": "probability density",
         "legendgroup": "Ridge",
         "marker": {
          "color": "rgb(255, 127, 14)"
         },
         "name": "Ridge",
         "opacity": 0.7,
         "type": "histogram",
         "x": [
          95.30207116982643,
          -5.243092264576142,
          -14.062318414717652,
          8.384686389650243,
          0.31282390923167774,
          -0.914625400316277,
          7.711505318498433,
          -6.780064545441444,
          -0.36691857153215657,
          2.2590402183651275,
          -0.037919326087145544,
          -1.2890054064822023,
          -0.21329402202820613,
          -1.3735680566238895,
          3.3039841511057912,
          -1.947342820723505,
          -2.5133721621674954,
          0.29310600906053114,
          -1.3545118481811322,
          -4.055685315609239,
          -3.36648808068222,
          6.821802164320313,
          5.205300023914758,
          4.932591744216259,
          5.02091641659137,
          6.168059656993405,
          8.559465264605508,
          -9.439437131566937,
          -3.879881263804265,
          -21.295699475802603,
          -21.465782709953917,
          -13.741235407939751,
          -11.344073373074663,
          2.5525763414523404,
          2.3048542827142247,
          8.79544690494416,
          4.473558744229155,
          19.19470956500333,
          13.164760669479922,
          14.847011804499653,
          12.768568842530998,
          -8.520203645360473,
          -13.55943186884018,
          -5.202571725444789,
          0.7852283890999457,
          10.961951648132349,
          8.542598766751645,
          0.45925871451609074,
          1.4763212772764411,
          -0.11374868828783771,
          -0.2113100352705184,
          -0.48726324286227357,
          -0.5387246629654886,
          0,
          0,
          -3.144830184740659,
          2.71224811043423,
          -3.3469904795984387
         ],
         "xaxis": "x",
         "xbins": {
          "end": 95.30207116982643,
          "size": 2,
          "start": -21.465782709953917
         },
         "yaxis": "y"
        },
        {
         "legendgroup": "Lasso",
         "marker": {
          "color": "rgb(31, 119, 180)"
         },
         "mode": "lines",
         "name": "Lasso",
         "showlegend": false,
         "type": "scatter",
         "x": [
          -32.68475579466282,
          -32.416046170748054,
          -32.14733654683329,
          -31.878626922918524,
          -31.60991729900376,
          -31.341207675088995,
          -31.072498051174232,
          -30.803788427259466,
          -30.535078803344703,
          -30.266369179429937,
          -29.99765955551517,
          -29.728949931600408,
          -29.46024030768564,
          -29.19153068377088,
          -28.922821059856112,
          -28.654111435941346,
          -28.385401812026583,
          -28.116692188111816,
          -27.847982564197054,
          -27.579272940282287,
          -27.31056331636752,
          -27.041853692452758,
          -26.773144068537995,
          -26.50443444462323,
          -26.235724820708462,
          -25.9670151967937,
          -25.698305572878933,
          -25.42959594896417,
          -25.160886325049404,
          -24.892176701134638,
          -24.623467077219875,
          -24.354757453305112,
          -24.086047829390345,
          -23.81733820547558,
          -23.548628581560813,
          -23.27991895764605,
          -23.011209333731287,
          -22.74249970981652,
          -22.473790085901754,
          -22.205080461986988,
          -21.936370838072225,
          -21.667661214157462,
          -21.398951590242696,
          -21.13024196632793,
          -20.861532342413167,
          -20.592822718498404,
          -20.324113094583637,
          -20.05540347066887,
          -19.786693846754105,
          -19.517984222839342,
          -19.24927459892458,
          -18.980564975009813,
          -18.711855351095046,
          -18.44314572718028,
          -18.174436103265517,
          -17.905726479350754,
          -17.637016855435988,
          -17.368307231521225,
          -17.09959760760646,
          -16.830887983691696,
          -16.56217835977693,
          -16.293468735862163,
          -16.0247591119474,
          -15.756049488032634,
          -15.487339864117871,
          -15.218630240203105,
          -14.949920616288338,
          -14.681210992373575,
          -14.412501368458809,
          -14.143791744544046,
          -13.87508212062928,
          -13.606372496714513,
          -13.33766287279975,
          -13.068953248884984,
          -12.800243624970221,
          -12.531534001055455,
          -12.262824377140689,
          -11.994114753225926,
          -11.72540512931116,
          -11.456695505396397,
          -11.18798588148163,
          -10.919276257566867,
          -10.650566633652105,
          -10.381857009737338,
          -10.113147385822575,
          -9.844437761907809,
          -9.575728137993043,
          -9.30701851407828,
          -9.038308890163513,
          -8.76959926624875,
          -8.500889642333984,
          -8.232180018419218,
          -7.963470394504455,
          -7.6947607705896885,
          -7.426051146674926,
          -7.157341522760159,
          -6.888631898845393,
          -6.61992227493063,
          -6.351212651015864,
          -6.082503027101101,
          -5.8137934031863345,
          -5.545083779271568,
          -5.276374155356805,
          -5.007664531442039,
          -4.738954907527276,
          -4.47024528361251,
          -4.201535659697743,
          -3.9328260357829805,
          -3.664116411868214,
          -3.3954067879534513,
          -3.126697164038685,
          -2.8579875401239185,
          -2.5892779162091593,
          -2.320568292294393,
          -2.05185866837963,
          -1.7831490444648637,
          -1.5144394205500973,
          -1.2457297966353345,
          -0.9770201727205681,
          -0.7083105488058052,
          -0.43960092489103886,
          -0.17089130097627248,
          0.0978183229384939,
          0.3665279468532532,
          0.6352375707680196,
          0.903947194682786,
          1.1726568185975523,
          1.4413664425123187,
          1.710076066427078,
          1.9787856903418444,
          2.2474953142566108,
          2.516204938171377,
          2.7849145620861435,
          3.053624186000903,
          3.322333809915669,
          3.5910434338304356,
          3.859753057745202,
          4.128462681659968,
          4.397172305574728,
          4.665881929489494,
          4.93459155340426,
          5.203301177319027,
          5.472010801233793,
          5.740720425148552,
          6.009430049063319,
          6.278139672978085,
          6.5468492968928516,
          6.815558920807618,
          7.084268544722377,
          7.352978168637144,
          7.62168779255191,
          7.890397416466676,
          8.159107040381443,
          8.427816664296202,
          8.696526288210968,
          8.965235912125735,
          9.233945536040501,
          9.502655159955268,
          9.771364783870027,
          10.040074407784793,
          10.30878403169956,
          10.577493655614319,
          10.846203279529085,
          11.114912903443845,
          11.383622527358611,
          11.652332151273377,
          11.921041775188144,
          12.18975139910291,
          12.45846102301767,
          12.727170646932436,
          12.995880270847202,
          13.264589894761968,
          13.533299518676735,
          13.802009142591494,
          14.07071876650626,
          14.339428390421027,
          14.608138014335793,
          14.87684763825056,
          15.145557262165319,
          15.414266886080085,
          15.682976509994852,
          15.951686133909618,
          16.220395757824384,
          16.489105381739144,
          16.75781500565391,
          17.026524629568677,
          17.295234253483443,
          17.56394387739821,
          17.83265350131297,
          18.101363125227735,
          18.3700727491425,
          18.638782373057268,
          18.907491996972034,
          19.176201620886793,
          19.44491124480156,
          19.713620868716326,
          19.982330492631093,
          20.25104011654586,
          20.519749740460618,
          20.788459364375385,
          21.05716898829015,
          21.325878612204917,
          21.594588236119684,
          21.863297860034443,
          22.13200748394921,
          22.400717107863976,
          22.669426731778742,
          22.93813635569351,
          23.206845979608268,
          23.475555603523034,
          23.7442652274378,
          24.012974851352567,
          24.281684475267333,
          24.550394099182093,
          24.81910372309686,
          25.087813347011625,
          25.35652297092639,
          25.625232594841158,
          25.893942218755917,
          26.162651842670684,
          26.43136146658545,
          26.700071090500217,
          26.968780714414983,
          27.237490338329742,
          27.5061999622445,
          27.774909586159268,
          28.043619210074034,
          28.3123288339888,
          28.58103845790356,
          28.849748081818326,
          29.118457705733093,
          29.38716732964786,
          29.655876953562625,
          29.924586577477385,
          30.19329620139215,
          30.462005825306917,
          30.730715449221684,
          30.99942507313645,
          31.26813469705121,
          31.536844320965983,
          31.805553944880742,
          32.0742635687955,
          32.342973192710275,
          32.611682816625034,
          32.88039244053981,
          33.14910206445457,
          33.417811688369326,
          33.6865213122841,
          33.95523093619886,
          34.22394056011363,
          34.49265018402839,
          34.76135980794315,
          35.030069431857925,
          35.298779055772684,
          35.56748867968746,
          35.83619830360222,
          36.104907927516976,
          36.37361755143175,
          36.64232717534651,
          36.91103679926128,
          37.17974642317604,
          37.4484560470908,
          37.717165671005574,
          37.98587529492033,
          38.25458491883511,
          38.523294542749866,
          38.792004166664626,
          39.0607137905794,
          39.32942341449416,
          39.59813303840893,
          39.86684266232369,
          40.13555228623845,
          40.404261910153224,
          40.67297153406798,
          40.94168115798276,
          41.210390781897516,
          41.479100405812275,
          41.74781002972705,
          42.01651965364181,
          42.28522927755658,
          42.55393890147134,
          42.8226485253861,
          43.09135814930087,
          43.36006777321563,
          43.628777397130406,
          43.897487021045166,
          44.166196644959925,
          44.4349062688747,
          44.70361589278946,
          44.97232551670423,
          45.24103514061899,
          45.50974476453375,
          45.77845438844852,
          46.04716401236328,
          46.315873636278056,
          46.584583260192815,
          46.853292884107574,
          47.12200250802235,
          47.39071213193711,
          47.65942175585188,
          47.92813137976664,
          48.1968410036814,
          48.46555062759617,
          48.73426025151093,
          49.002969875425705,
          49.271679499340465,
          49.540389123255224,
          49.80909874717,
          50.07780837108476,
          50.34651799499953,
          50.61522761891429,
          50.88393724282905,
          51.15264686674382,
          51.42135649065858,
          51.690066114573355,
          51.958775738488114,
          52.227485362402874,
          52.49619498631765,
          52.764904610232406,
          53.03361423414718,
          53.30232385806194,
          53.571033481976684,
          53.83974310589146,
          54.10845272980622,
          54.37716235372099,
          54.64587197763575,
          54.91458160155051,
          55.18329122546528,
          55.45200084938004,
          55.720710473294815,
          55.989420097209575,
          56.258129721124334,
          56.52683934503911,
          56.79554896895387,
          57.06425859286864,
          57.3329682167834,
          57.60167784069816,
          57.87038746461293,
          58.13909708852769,
          58.407806712442465,
          58.676516336357224,
          58.94522596027198,
          59.21393558418676,
          59.482645208101516,
          59.75135483201629,
          60.02006445593105,
          60.28877407984581,
          60.55748370376058,
          60.82619332767534,
          61.094902951590115,
          61.363612575504874,
          61.63232219941963,
          61.90103182333441,
          62.169741447249166,
          62.43845107116394,
          62.7071606950787,
          62.97587031899346,
          63.24457994290823,
          63.51328956682299,
          63.781999190737764,
          64.05070881465252,
          64.31941843856728,
          64.58812806248206,
          64.85683768639682,
          65.12554731031159,
          65.39425693422635,
          65.66296655814111,
          65.93167618205588,
          66.20038580597064,
          66.46909542988541,
          66.73780505380017,
          67.00651467771493,
          67.2752243016297,
          67.54393392554447,
          67.81264354945924,
          68.081353173374,
          68.35006279728876,
          68.61877242120353,
          68.88748204511829,
          69.15619166903306,
          69.42490129294782,
          69.69361091686258,
          69.96232054077736,
          70.23103016469211,
          70.49973978860689,
          70.76844941252165,
          71.0371590364364,
          71.30586866035118,
          71.57457828426594,
          71.84328790818071,
          72.11199753209547,
          72.38070715601023,
          72.649416779925,
          72.91812640383976,
          73.18683602775454,
          73.4555456516693,
          73.72425527558406,
          73.99296489949883,
          74.26167452341359,
          74.53038414732836,
          74.79909377124312,
          75.06780339515788,
          75.33651301907265,
          75.60522264298741,
          75.87393226690219,
          76.14264189081695,
          76.4113515147317,
          76.68006113864648,
          76.94877076256124,
          77.21748038647601,
          77.48619001039077,
          77.75489963430553,
          78.0236092582203,
          78.29231888213506,
          78.56102850604984,
          78.8297381299646,
          79.09844775387936,
          79.36715737779413,
          79.63586700170889,
          79.90457662562366,
          80.17328624953842,
          80.44199587345318,
          80.71070549736795,
          80.97941512128271,
          81.24812474519749,
          81.51683436911225,
          81.785543993027,
          82.05425361694178,
          82.32296324085654,
          82.59167286477131,
          82.86038248868607,
          83.12909211260083,
          83.3978017365156,
          83.66651136043036,
          83.93522098434514,
          84.2039306082599,
          84.47264023217465,
          84.74134985608943,
          85.01005948000419,
          85.27876910391896,
          85.54747872783372,
          85.81618835174848,
          86.08489797566325,
          86.35360759957801,
          86.62231722349279,
          86.89102684740755,
          87.1597364713223,
          87.42844609523708,
          87.69715571915182,
          87.9658653430666,
          88.23457496698136,
          88.50328459089611,
          88.77199421481089,
          89.04070383872565,
          89.30941346264042,
          89.57812308655518,
          89.84683271046994,
          90.11554233438471,
          90.38425195829947,
          90.65296158221425,
          90.921671206129,
          91.19038083004376,
          91.45909045395854,
          91.7278000778733,
          91.99650970178807,
          92.26521932570283,
          92.53392894961759,
          92.80263857353236,
          93.07134819744712,
          93.3400578213619,
          93.60876744527665,
          93.87747706919141,
          94.14618669310619,
          94.41489631702095,
          94.68360594093572,
          94.95231556485048,
          95.22102518876524,
          95.48973481268,
          95.75844443659479,
          96.02715406050955,
          96.2958636844243,
          96.56457330833906,
          96.83328293225382,
          97.10199255616861,
          97.37070218008337,
          97.63941180399813,
          97.90812142791289,
          98.17683105182765,
          98.44554067574244,
          98.7142502996572,
          98.98295992357195,
          99.25166954748671,
          99.52037917140147,
          99.78908879531626,
          100.05779841923102,
          100.32650804314578,
          100.59521766706054,
          100.8639272909753,
          101.13263691489009,
          101.40134653880484
         ],
         "xaxis": "x",
         "y": [
          0.0010830611558511594,
          0.0010821164505001352,
          0.0010792449700590843,
          0.0010744634722807923,
          0.0010677991724396796,
          0.001059289561732651,
          0.001048982146303974,
          0.001036934112118045,
          0.001023211922087958,
          0.0010078908529893968,
          0.000991054480734856,
          0.0009727941235402195,
          0.0009532082533736825,
          0.0009324018868275544,
          0.0009104859671892436,
          0.0008875767500045763,
          0.0008637952048209753,
          0.000839266446068991,
          0.0008141192061885377,
          0.0007884853641326236,
          0.0007624995422893914,
          0.0007362987846564408,
          0.0007100223287841907,
          0.0006838114835815204,
          0.000657809624551924,
          0.0006321623174050769,
          0.0006070175802707404,
          0.0005825262939305839,
          0.0005588427685797786,
          0.000536125474632927,
          0.0005145379439951733,
          0.0004942498470250059,
          0.0004754382491137513,
          0.00045828904939023215,
          0.00044299860251807444,
          0.0004297755228770302,
          0.0004188426685968464,
          0.00041043930093089415,
          0.00040482341230526026,
          0.0004022742140464345,
          0.00040309477226799397,
          0.0004076147776768139,
          0.00041619343213885235,
          0.00042922243172387664,
          0.0004471290226333037,
          0.0004703791029168598,
          0.0004994803392204835,
          0.0005349852640053884,
          0.0005774943147705778,
          0.0006276587728412149,
          0.0006861835553052297,
          0.0007538298097519949,
          0.0008314172576611107,
          0.0009198262286865981,
          0.0010199993247718068,
          0.0011329426501101377,
          0.001259726540541224,
          0.0014014857241511256,
          0.0015594188437430105,
          0.0017347872715770727,
          0.001928913147461424,
          0.0021431765730211927,
          0.0023790118978885633,
          0.0026379030377394145,
          0.0029213777696380345,
          0.0032310009571112947,
          0.0035683666658076533,
          0.003935089140535109,
          0.0043327926259188985,
          0.004763100025850345,
          0.00522762041125875,
          0.0057279354014388925,
          0.006265584461087459,
          0.006842049173182375,
          0.007458736566687354,
          0.008116961597548739,
          0.008817928901311238,
          0.009562713955615847,
          0.010352243810534708,
          0.011187277563791438,
          0.012068386776047239,
          0.012995936038213723,
          0.013970063917797731,
          0.014990664524197344,
          0.01605736994327104,
          0.0171695337990265,
          0.01832621620458081,
          0.019526170365324683,
          0.02076783109421019,
          0.022049305492068277,
          0.023368366034687053,
          0.024722446292960724,
          0.026108639492734925,
          0.027523700097082902,
          0.028964048565797963,
          0.030425779415094882,
          0.031904672665189315,
          0.03339620872495268,
          0.03489558672169015,
          0.0363977462407905,
          0.03789739239516357,
          0.0393890240986602,
          0.040866965371776816,
          0.04232539946261498,
          0.043758405522056544,
          0.045159997530197116,
          0.046524165132004365,
          0.04784491600467504,
          0.04911631934794389,
          0.05033255006228841,
          0.051487933159151615,
          0.05257698793244972,
          0.053594471412147515,
          0.05453542061885544,
          0.055395193143398504,
          0.05616950558721449,
          0.056854469418150116,
          0.0574466238216017,
          0.05794296515864417,
          0.05834097268040345,
          0.05863863019092018,
          0.05883444339846995,
          0.05892745274705352,
          0.058917241574709435,
          0.058803939502606206,
          0.0585882210176051,
          0.0582712992702303,
          0.05785491516879779,
          0.057341321907897404,
          0.05673326512460003,
          0.056033958927811135,
          0.055247058094318124,
          0.05437662676855895,
          0.05342710404134876,
          0.05240326681521157,
          0.05131019039014767,
          0.050153207223331386,
          0.04893786432919632,
          0.04766987979254751,
          0.046355098866827676,
          0.044999450122603805,
          0.04360890209803372,
          0.04218942088389559,
          0.040746929051191996,
          0.039287266299935175,
          0.03781615217409267,
          0.03633915115050254,
          0.03486164036956039,
          0.03338878023336944,
          0.03192548805356637,
          0.03047641488692381,
          0.029045925652792893,
          0.027638082583167124,
          0.026256632014249152,
          0.024904994488464855,
          0.023586258098413398,
          0.022303174969699142,
          0.021058160748348865,
          0.019853296930854757,
          0.01869033585102083,
          0.01757070811786475,
          0.01649553228289416,
          0.015465626503132376,
          0.014481521958224032,
          0.013543477775674696,
          0.012651497217569824,
          0.011805344884732949,
          0.011004564699945873,
          0.010248498440243734,
          0.009536304599084474,
          0.008866977372025218,
          0.00823936557405602,
          0.007652191312594028,
          0.007104068256972804,
          0.006593519362741053,
          0.006118993926892233,
          0.00567888386798717,
          0.005271539142739025,
          0.00489528222776355,
          0.004548421611649763,
          0.004229264258101458,
          0.003936127015494083,
          0.003667346961672102,
          0.0034212906850979836,
          0.003196362514502002,
          0.0029910117189469935,
          0.0028037387087118124,
          0.0026331002746326185,
          0.002477713909560498,
          0.002336261260452299,
          0.0022074907633774297,
          0.002090219516472884,
          0.0019833344476984827,
          0.0018857928352222397,
          0.0017966222384945055,
          0.0017149198976403616,
          0.0016398516578025348,
          0.0015706504735890454,
          0.0015066145469021382,
          0.001447105149224861,
          0.0013915441769888125,
          0.0013394114860042713,
          0.0012902420481589497,
          0.0012436229707329192,
          0.0011991904157774176,
          0.0011566264541006727,
          0.0011156558855235422,
          0.0010760430542369266,
          0.0010375886853300458,
          0.001000126765879005,
          0.0009635214913997161,
          0.0009276642959857839,
          0.0008924709820762756,
          0.0008578789635332818,
          0.0008238446335568589,
          0.0007903408669261328,
          0.0007573546641297643,
          0.0007248849431364911,
          0.0006929404828562728,
          0.0006615380207539755,
          0.0006307005055999809,
          0.0006004555049751858,
          0.0005708337658908944,
          0.0005418679257372759,
          0.0005135913697365045,
          0.0004860372301487981,
          0.0004592375216600817,
          0.0004332224066688865,
          0.0004080195835857292,
          0.0003836537907593265,
          0.00036014641824841983,
          0.000337515219362953,
          0.0003157741137006667,
          0.0002949330733006749,
          0.0002749980835197377,
          0.0002559711703043169,
          0.00023785048567616208,
          0.00022063044346473703,
          0.0002043018975991168,
          0.00018885235560789205,
          0.0001742662203603778,
          0.00016052505350821716,
          0.00014760785454554805,
          0.00013549134989026125,
          0.00012415028689102755,
          0.00011355772817721996,
          0.0001036853422845622,
          9.450368700177987e-05,
          8.598248238656283e-05,
          7.809087088732484e-05,
          7.079766247573343e-05,
          6.407156313951065e-05,
          5.788138550218771e-05,
          5.2196240723377395e-05,
          4.698571118768428e-05,
          4.222000381107137e-05,
          3.787008407948697e-05,
          3.390779118561999e-05,
          3.0305934846027367e-05,
          2.703837456337743e-05,
          2.4080082248371027e-05,
          2.140718923460277e-05,
          1.899701880911478e-05,
          1.682810544377762e-05,
          1.488020195023176e-05,
          1.3134275796379558e-05,
          1.1572495817816373e-05,
          1.0178210535692529e-05,
          8.935919255772263e-06,
          7.831237074363743e-06,
          6.850854857664686e-06,
          5.982495194103835e-06,
          5.214865246530426e-06,
          4.537607354488173e-06,
          3.941248158023609e-06,
          3.4171469350368734e-06,
          2.9574437654160203e-06,
          2.5550080582439437e-06,
          2.2033879041832133e-06,
          1.8967606445066512e-06,
          1.6298849817606463e-06,
          1.3980548951764706e-06,
          1.1970555669987341e-06,
          1.0231214740605808e-06,
          8.728967522767727e-07,
          7.433979002224432e-07,
          6.319788515054169e-07,
          5.36298414047849e-07,
          4.5429004743164475e-07,
          3.8413392685569734e-07,
          3.2423122369184833e-07,
          2.73180517780213e-07,
          2.297562451317279e-07,
          1.9288907626009548e-07,
          1.6164811460456056e-07,
          1.3522480109545615e-07,
          1.1291840953593729e-07,
          9.412301782349124e-08,
          7.831584183056017e-08,
          6.504682174444644e-08,
          5.392935459480092e-08,
          4.463207135827323e-08,
          3.687156223390223e-08,
          3.0405959261898595e-08,
          2.5029291267396703e-08,
          2.0566532025184008e-08,
          1.686926845669341e-08,
          1.3811921500186732e-08,
          1.1288457969022766e-08,
          9.209537176089458e-09,
          7.500041312975465e-09,
          6.096943499920703e-09,
          4.947472046819864e-09,
          4.007533774840535e-09,
          3.240363238156423e-09,
          2.6153683574046956e-09,
          2.107146337118114e-09,
          1.6946467987488713e-09,
          1.3604618320767601e-09,
          1.0902251660107936e-09,
          8.721049017224891e-10,
          6.963762542423647e-10,
          5.550625310585986e-10,
          4.416341558272944e-10,
          3.507569396749136e-10,
          2.780820288212243e-10,
          2.2007103170056302e-10,
          1.7385076685417399e-10,
          1.3709288907296294e-10,
          1.0791435902725215e-10,
          8.479533331466709e-11,
          6.651157882623126e-11,
          5.207896788386932e-11,
          4.070799805813523e-11,
          3.176661130947321e-11,
          2.4749868599426515e-11,
          1.9255275054829424e-11,
          1.496275304254138e-11,
          1.1618431333410046e-11,
          9.021562480321532e-12,
          7.014001617327774e-12,
          5.471781609611671e-12,
          4.2984049038638955e-12,
          3.419544208405271e-12,
          2.77890459311697e-12,
          2.33505076813742e-12,
          2.0590469557202573e-12,
          1.9327944831287576e-12,
          1.9479853999065603e-12,
          2.1056203337219477e-12,
          2.4160666232493662e-12,
          2.899659620591268e-12,
          3.587877027064716e-12,
          4.5251443057809935e-12,
          5.771359729236371e-12,
          7.405261665864169e-12,
          9.52879958479702e-12,
          1.2272715399938363e-11,
          1.5803594795703912e-11,
          2.0332710906029022e-11,
          2.6127057242304736e-11,
          3.352305547562135e-11,
          4.2943529317627633e-11,
          5.4918661461085736e-11,
          7.011179994501804e-11,
          8.935115752861797e-11,
          1.136686574022241e-10,
          1.4434742618623488e-10,
          1.8297972673324927e-10,
          2.3153746559291268e-10,
          2.924578107990742e-10,
          3.6874692347065616e-10,
          4.641053511095949e-10,
          5.830792619604235e-10,
          7.312424299289552e-10,
          9.154147209559483e-10,
          1.1439237980692305e-09,
          1.4269178682759433e-09,
          1.776738555647312e-09,
          2.2083644178902827e-09,
          2.73993724560448e-09,
          3.393385112014791e-09,
          4.195158194220763e-09,
          5.177095682808136e-09,
          6.377444652420732e-09,
          7.842054597991904e-09,
          9.62577446459881e-09,
          1.1794082425837715e-08,
          1.4424982405642978e-08,
          1.761120539696302e-08,
          2.1462758007956853e-08,
          2.610986535646318e-08,
          3.1706360422915664e-08,
          3.843357723829841e-08,
          4.6504810794332236e-08,
          5.6170412273079066e-08,
          6.772359404425976e-08,
          8.150702479702609e-08,
          9.792030106829051e-08,
          1.1742838719281084e-07,
          1.4057112120191578e-07,
          1.6797388928760796e-07,
          2.0035957595360086e-07,
          2.385619006984252e-07,
          2.8354025479783995e-07,
          3.363961532304678e-07,
          3.9839141675503824e-07,
          4.709681973105814e-07,
          5.557709559639173e-07,
          6.546704962457887e-07,
          7.697901465587583e-07,
          9.035341730594783e-07,
          1.058618488664251e-06,
          1.2381037042550674e-06,
          1.4454305444399565e-06,
          1.684457622035212e-06,
          1.959501532510028e-06,
          2.275379191729898e-06,
          2.6374522972768525e-06,
          3.051673745302434e-06,
          3.524635781257232e-06,
          4.063619604013674e-06,
          4.676646079036876e-06,
          5.372527147675773e-06,
          6.160917446793048e-06,
          7.052365576423411e-06,
          8.05836437371932e-06,
          9.191399470033936e-06,
          1.0464995325723134e-05,
          1.1893757855407e-05,
          1.3493412676483502e-05,
          1.528083793728097e-05,
          1.72740906101649e-05,
          1.9492425071141506e-05,
          2.1956302733097415e-05,
          2.4687391456961673e-05,
          2.7708553436030273e-05,
          3.104382023572067e-05,
          3.4718353676405635e-05,
          3.875839127291159e-05,
          4.319117499283877e-05,
          4.8044862169011094e-05,
          5.334841750074285e-05,
          5.913148520563728e-05,
          6.542424053931874e-05,
          7.225722008544439e-05,
          7.966113043269581e-05,
          8.766663509875284e-05,
          9.630411983253455e-05,
          0.00010560343672361242,
          0.00011559362786928638,
          0.00012630262969253074,
          0.00013775695936397303,
          0.0001499813851540828,
          0.00016299858292267785,
          0.00017682878133604767,
          0.00019148939878131557,
          0.00020699467531622807,
          0.00022335530334347285,
          0.00024057806102431359,
          0.0002586654527392835,
          0.0002776153611564335,
          0.00029742071567254576,
          0.0003180691821428576,
          0.0003395428789033989,
          0.00036181812411100204,
          0.00038486521937426373,
          0.00040864827451981195,
          0.00043312507812918023,
          0.0004582470181904749,
          0.00048395905683533343,
          0.0005101997626765777,
          0.0005369014037278301,
          0.0005639901032775744,
          0.0005913860604123802,
          0.0006190038361446406,
          0.0006467527053082655,
          0.0006745370735514361,
          0.0007022569578906422,
          0.0007298085284073379,
          0.0007570847077815885,
          0.0007839758244800459,
          0.0008103703145638271,
          0.000836155466269757,
          0.0008612182007612081,
          0.000885445881756691,
          0.0009087271461388425,
          0.0009309527471365443,
          0.0009520164012693661,
          0.0009718156299563898,
          0.0009902525865284196,
          0.00100723485934933,
          0.0010226762418527155,
          0.001036497460535025,
          0.0010486268523150777,
          0.0010590009831686312,
          0.0010675652005694741,
          0.0010742741130071994,
          0.0010790919906957413,
          0.001081993082523554
         ],
         "yaxis": "y"
        },
        {
         "legendgroup": "Ridge",
         "marker": {
          "color": "rgb(255, 127, 14)"
         },
         "mode": "lines",
         "name": "Ridge",
         "showlegend": false,
         "type": "scatter",
         "x": [
          -21.465782709953917,
          -21.232247002194356,
          -20.998711294434795,
          -20.765175586675234,
          -20.531639878915673,
          -20.298104171156112,
          -20.064568463396554,
          -19.831032755636993,
          -19.597497047877432,
          -19.36396134011787,
          -19.13042563235831,
          -18.89688992459875,
          -18.66335421683919,
          -18.429818509079627,
          -18.196282801320066,
          -17.962747093560505,
          -17.729211385800944,
          -17.495675678041387,
          -17.262139970281822,
          -17.028604262522265,
          -16.795068554762704,
          -16.561532847003143,
          -16.327997139243582,
          -16.09446143148402,
          -15.86092572372446,
          -15.627390015964899,
          -15.393854308205338,
          -15.160318600445777,
          -14.926782892686218,
          -14.693247184926657,
          -14.459711477167097,
          -14.226175769407536,
          -13.992640061647975,
          -13.759104353888414,
          -13.525568646128853,
          -13.292032938369292,
          -13.058497230609731,
          -12.824961522850172,
          -12.591425815090611,
          -12.35789010733105,
          -12.124354399571489,
          -11.890818691811928,
          -11.657282984052367,
          -11.423747276292808,
          -11.190211568533247,
          -10.956675860773686,
          -10.723140153014125,
          -10.489604445254564,
          -10.256068737495003,
          -10.022533029735444,
          -9.788997321975883,
          -9.555461614216322,
          -9.32192590645676,
          -9.0883901986972,
          -8.854854490937639,
          -8.62131878317808,
          -8.387783075418518,
          -8.154247367658957,
          -7.920711659899396,
          -7.687175952139835,
          -7.453640244380276,
          -7.220104536620715,
          -6.986568828861154,
          -6.753033121101593,
          -6.519497413342032,
          -6.285961705582473,
          -6.05242599782291,
          -5.818890290063351,
          -5.58535458230379,
          -5.351818874544229,
          -5.118283166784668,
          -4.884747459025107,
          -4.651211751265546,
          -4.417676043505988,
          -4.184140335746427,
          -3.9506046279868627,
          -3.7170689202273053,
          -3.4835332124677443,
          -3.2499975047081833,
          -3.0164617969486187,
          -2.7829260891890613,
          -2.5493903814295003,
          -2.3158546736699392,
          -2.082318965910382,
          -1.8487832581508172,
          -1.6152475503912562,
          -1.3817118426316988,
          -1.1481761348721378,
          -0.9146404271125768,
          -0.6811047193530122,
          -0.44756901159345475,
          -0.21403330383389374,
          0.019502403925667267,
          0.2530381116852247,
          0.4865738194447893,
          0.7201095272043503,
          0.9536452349639113,
          1.1871809427234687,
          1.4207166504830298,
          1.6542523582425943,
          1.8877880660021518,
          2.1213237737617128,
          2.354859481521274,
          2.588395189280835,
          2.821930897040396,
          3.055466604799957,
          3.289002312559518,
          3.5225380203190753,
          3.75607372807864,
          3.989609435838201,
          4.223145143597758,
          4.456680851357319,
          4.69021655911688,
          4.923752266876441,
          5.157287974636002,
          5.390823682395563,
          5.624359390155124,
          5.857895097914682,
          6.091430805674246,
          6.324966513433807,
          6.558502221193365,
          6.792037928952926,
          7.025573636712487,
          7.259109344472048,
          7.492645052231609,
          7.72618075999117,
          7.959716467750731,
          8.193252175510292,
          8.426787883269853,
          8.660323591029414,
          8.893859298788971,
          9.127395006548532,
          9.360930714308097,
          9.594466422067658,
          9.828002129827215,
          10.061537837586776,
          10.295073545346337,
          10.528609253105898,
          10.76214496086546,
          10.995680668625024,
          11.229216376384581,
          11.462752084144139,
          11.696287791903703,
          11.92982349966326,
          12.163359207422825,
          12.396894915182383,
          12.63043062294194,
          12.863966330701505,
          13.097502038461062,
          13.331037746220627,
          13.564573453980191,
          13.798109161739749,
          14.031644869499306,
          14.265180577258864,
          14.498716285018428,
          14.732251992777993,
          14.96578770053755,
          15.199323408297115,
          15.43285911605668,
          15.66639482381623,
          15.899930531575794,
          16.133466239335352,
          16.367001947094916,
          16.60053765485448,
          16.83407336261404,
          17.067609070373603,
          17.301144778133153,
          17.534680485892718,
          17.768216193652282,
          18.00175190141184,
          18.235287609171404,
          18.468823316930962,
          18.70235902469052,
          18.935894732450084,
          19.16943044020964,
          19.402966147969206,
          19.636501855728763,
          19.870037563488328,
          20.103573271247893,
          20.337108979007443,
          20.570644686767007,
          20.804180394526565,
          21.03771610228613,
          21.271251810045694,
          21.50478751780525,
          21.738323225564816,
          21.971858933324366,
          22.20539464108393,
          22.438930348843495,
          22.672466056603053,
          22.906001764362617,
          23.139537472122175,
          23.37307317988174,
          23.606608887641297,
          23.840144595400854,
          24.07368030316042,
          24.307216010919976,
          24.54075171867954,
          24.774287426439106,
          25.007823134198656,
          25.24135884195822,
          25.474894549717778,
          25.708430257477342,
          25.941965965236907,
          26.175501672996464,
          26.40903738075603,
          26.642573088515586,
          26.876108796275144,
          27.10964450403471,
          27.343180211794266,
          27.57671591955383,
          27.810251627313395,
          28.043787335072953,
          28.27732304283251,
          28.510858750592067,
          28.744394458351632,
          28.977930166111197,
          29.211465873870754,
          29.44500158163032,
          29.67853728938987,
          29.912072997149433,
          30.145608704908998,
          30.379144412668555,
          30.61268012042812,
          30.846215828187677,
          31.079751535947242,
          31.3132872437068,
          31.546822951466357,
          31.78035865922592,
          32.01389436698548,
          32.24743007474504,
          32.48096578250461,
          32.71450149026417,
          32.94803719802373,
          33.181572905783284,
          33.41510861354284,
          33.64864432130241,
          33.88218002906197,
          34.11571573682153,
          34.349251444581085,
          34.58278715234064,
          34.816322860100215,
          35.04985856785977,
          35.28339427561933,
          35.51692998337889,
          35.75046569113846,
          35.984001398898016,
          36.21753710665757,
          36.45107281441713,
          36.6846085221767,
          36.91814422993626,
          37.15167993769582,
          37.385215645455375,
          37.61875135321493,
          37.852287060974504,
          38.08582276873406,
          38.31935847649362,
          38.55289418425318,
          38.78642989201275,
          39.019965599772306,
          39.25350130753186,
          39.48703701529142,
          39.72057272305098,
          39.95410843081055,
          40.18764413857011,
          40.421179846329665,
          40.654715554089236,
          40.88825126184878,
          41.12178696960835,
          41.35532267736791,
          41.588858385127466,
          41.82239409288704,
          42.055929800646595,
          42.28946550840615,
          42.52300121616571,
          42.75653692392528,
          42.99007263168484,
          43.2236083394444,
          43.45714404720397,
          43.690679754963526,
          43.92421546272308,
          44.15775117048264,
          44.3912868782422,
          44.624822586001756,
          44.85835829376133,
          45.091894001520885,
          45.32542970928044,
          45.55896541704,
          45.79250112479957,
          46.02603683255913,
          46.259572540318686,
          46.493108248078244,
          46.7266439558378,
          46.96017966359737,
          47.19371537135693,
          47.4272510791165,
          47.660786786876045,
          47.8943224946356,
          48.127858202395174,
          48.36139391015473,
          48.5949296179143,
          48.82846532567385,
          49.06200103343342,
          49.295536741192976,
          49.52907244895253,
          49.762608156712105,
          49.99614386447165,
          50.22967957223122,
          50.46321527999078,
          50.69675098775035,
          50.930286695509906,
          51.16382240326945,
          51.39735811102902,
          51.63089381878858,
          51.86442952654815,
          52.09796523430771,
          52.33150094206728,
          52.56503664982682,
          52.79857235758638,
          53.03210806534595,
          53.26564377310551,
          53.49917948086508,
          53.732715188624624,
          53.966250896384196,
          54.19978660414375,
          54.43332231190331,
          54.66685801966288,
          54.900393727422426,
          55.133929435182,
          55.367465142941555,
          55.601000850701126,
          55.834536558460684,
          56.06807226622023,
          56.3016079739798,
          56.535143681739356,
          56.76867938949893,
          57.002215097258485,
          57.23575080501803,
          57.4692865127776,
          57.70282222053716,
          57.93635792829673,
          58.16989363605629,
          58.403429343815844,
          58.6369650515754,
          58.87050075933496,
          59.10403646709453,
          59.33757217485409,
          59.571107882613646,
          59.8046435903732,
          60.038179298132775,
          60.27171500589233,
          60.50525071365189,
          60.73878642141145,
          60.972322129171005,
          61.205857836930576,
          61.439393544690134,
          61.672929252449705,
          61.90646496020925,
          62.140000667968806,
          62.37353637572838,
          62.607072083487935,
          62.84060779124751,
          63.07414349900705,
          63.30767920676662,
          63.54121491452618,
          63.77475062228574,
          64.00828633004531,
          64.24182203780485,
          64.47535774556442,
          64.70889345332398,
          64.94242916108355,
          65.17596486884311,
          65.40950057660265,
          65.64303628436222,
          65.87657199212178,
          66.11010769988135,
          66.34364340764091,
          66.57717911540047,
          66.81071482316003,
          67.04425053091958,
          67.27778623867916,
          67.51132194643871,
          67.74485765419827,
          67.97839336195783,
          68.2119290697174,
          68.44546477747696,
          68.67900048523651,
          68.91253619299607,
          69.14607190075563,
          69.3796076085152,
          69.61314331627476,
          69.84667902403432,
          70.08021473179387,
          70.31375043955343,
          70.547286147313,
          70.78082185507256,
          71.01435756283213,
          71.24789327059167,
          71.48142897835123,
          71.7149646861108,
          71.94850039387036,
          72.18203610162993,
          72.41557180938948,
          72.64910751714905,
          72.8826432249086,
          73.11617893266816,
          73.34971464042773,
          73.58325034818728,
          73.81678605594685,
          74.0503217637064,
          74.28385747146598,
          74.51739317922554,
          74.7509288869851,
          74.98446459474465,
          75.21800030250421,
          75.45153601026378,
          75.68507171802334,
          75.91860742578291,
          76.15214313354245,
          76.38567884130201,
          76.61921454906158,
          76.85275025682114,
          77.08628596458071,
          77.31982167234025,
          77.55335738009983,
          77.78689308785938,
          78.02042879561894,
          78.25396450337851,
          78.48750021113806,
          78.72103591889763,
          78.95457162665718,
          79.18810733441676,
          79.42164304217631,
          79.65517874993586,
          79.88871445769543,
          80.12225016545499,
          80.35578587321456,
          80.58932158097412,
          80.82285728873366,
          81.05639299649323,
          81.28992870425279,
          81.52346441201236,
          81.75700011977192,
          81.99053582753147,
          82.22407153529103,
          82.45760724305059,
          82.69114295081016,
          82.92467865856972,
          83.15821436632928,
          83.39175007408883,
          83.6252857818484,
          83.85882148960796,
          84.09235719736752,
          84.32589290512708,
          84.55942861288663,
          84.7929643206462,
          85.02650002840576,
          85.26003573616534,
          85.49357144392488,
          85.72710715168444,
          85.96064285944401,
          86.19417856720356,
          86.42771427496314,
          86.66124998272268,
          86.89478569048225,
          87.12832139824181,
          87.36185710600137,
          87.59539281376094,
          87.82892852152048,
          88.06246422928005,
          88.29599993703961,
          88.52953564479918,
          88.76307135255874,
          88.99660706031828,
          89.23014276807785,
          89.46367847583741,
          89.69721418359698,
          89.93074989135654,
          90.1642855991161,
          90.39782130687566,
          90.63135701463521,
          90.86489272239479,
          91.09842843015434,
          91.3319641379139,
          91.56549984567346,
          91.79903555343303,
          92.03257126119259,
          92.26610696895214,
          92.4996426767117,
          92.73317838447126,
          92.96671409223083,
          93.20024979999039,
          93.43378550774995,
          93.6673212155095,
          93.90085692326906,
          94.13439263102863,
          94.36792833878819,
          94.60146404654776,
          94.83499975430732,
          95.06853546206686
         ],
         "xaxis": "x",
         "y": [
          0.004803526300363502,
          0.004957014247410821,
          0.005114169496086014,
          0.005275137617262137,
          0.005440073771600525,
          0.0056091427718040765,
          0.005782519100034475,
          0.005960386877571608,
          0.006142939783653186,
          0.006330380920288718,
          0.006522922619699178,
          0.006720786190898597,
          0.006924201601811906,
          0.007133407093222673,
          0.007348648720771232,
          0.007570179821187113,
          0.0077982603989462775,
          0.008033156429602208,
          0.008275139076158022,
          0.008524483815031172,
          0.008781469468421356,
          0.009046377140229822,
          0.009319489053102798,
          0.009601087284683929,
          0.00989145240176703,
          0.01019086199173958,
          0.010499589091502087,
          0.010817900514935232,
          0.01114605508096368,
          0.011484301745326919,
          0.011832877640307157,
          0.012192006027873228,
          0.012561894172966985,
          0.012942731144973364,
          0.013334685556762031,
          0.013737903252053218,
          0.01415250495322475,
          0.014578583883024378,
          0.015016203374961418,
          0.015465394488405351,
          0.015926153645595006,
          0.016398440308840717,
          0.016882174717162347,
          0.01737723570242844,
          0.017883458605726606,
          0.018400633315184597,
          0.018928502446758533,
          0.01946675968959374,
          0.020015048337432874,
          0.020572960027183198,
          0.02114003370515313,
          0.02171575484062168,
          0.022299554905310343,
          0.022890811135987305,
          0.02348884659585147,
          0.024092930548527194,
          0.024702279156459513,
          0.025316056513249433,
          0.02593337601702593,
          0.026553302089336577,
          0.027174852241275554,
          0.027796999485682768,
          0.028418675091268338,
          0.029038771671475484,
          0.0296561465978211,
          0.03026962572438521,
          0.030878007407087217,
          0.031480066798429046,
          0.03207456039553345,
          0.03266023081659701,
          0.03323581177834508,
          0.03380003324474993,
          0.03435162671518836,
          0.03488933061839335,
          0.03541189577702521,
          0.035918090906472064,
          0.03640670811060301,
          0.03687656833665968,
          0.03732652675128778,
          0.037755477999891096,
          0.03816236131203439,
          0.03854616541652846,
          0.038905933231092184,
          0.03924076629309185,
          0.03954982889979205,
          0.03983235192879441,
          0.04008763631186841,
          0.04031505613816367,
          0.04051406136580809,
          0.040684180124104206,
          0.040825020591906985,
          0.04093627244125801,
          0.04101770783892925,
          0.04106918200215261,
          0.041090633308442065,
          0.04108208296301112,
          0.04104363423081515,
          0.040975471243664796,
          0.040877857396130916,
          0.040751133347057183,
          0.04059571464638546,
          0.04041208900965341,
          0.04020081326491571,
          0.039962509998954926,
          0.03969786393146303,
          0.039407618047379966,
          0.039092569518760674,
          0.03875356544840404,
          0.038391498468011216,
          0.0380073022238554,
          0.037601946782841594,
          0.037176433991427706,
          0.03673179281917955,
          0.0362690747177591,
          0.03578934902491803,
          0.035293698441607714,
          0.03478321460865021,
          0.03425899380756257,
          0.03372213280812275,
          0.033173724883131264,
          0.03261485600859188,
          0.03204660126523238,
          0.03147002145494119,
          0.030886159943337148,
          0.03029603973734033,
          0.02970066080430023,
          0.029100997636984312,
          0.02849799706655787,
          0.027892576323614013,
          0.027285621345357648,
          0.02667798532522367,
          0.02607048749953072,
          0.02546391216424617,
          0.024859007913573594,
          0.024256487090875547,
          0.02365702544141464,
          0.023061261955534745,
          0.022469798890209506,
          0.021883201956354226,
          0.021302000658923605,
          0.02072668877659371,
          0.02015772496774478,
          0.0195955334895117,
          0.019040505016839713,
          0.018492997548763795,
          0.017953337389509615,
          0.017421820192476914,
          0.016898712055705308,
          0.016384250658019198,
          0.015878646425696866,
          0.01538208372019281,
          0.014894722038152643,
          0.01441669721568635,
          0.013948122629597423,
          0.013489090388994774,
          0.01303967251143182,
          0.01259992207841781,
          0.012169874365821811,
          0.011749547945336862,
          0.011338945753784082,
          0.010938056127612956,
          0.01054685380049095,
          0.01016530086237012,
          0.009793347678873496,
          0.009430933770254162,
          0.009077988649550535,
          0.008734432619890138,
          0.00840017753118353,
          0.008075127496702531,
          0.007759179570252921,
          0.007452224384835812,
          0.007154146753844452,
          0.006864826235968071,
          0.006584137665074242,
          0.006311951646417701,
          0.006048135020580356,
          0.005792551296586518,
          0.005545061055660559,
          0.005305522327105126,
          0.005073790937777104,
          0.004849720836628475,
          0.004633164395761506,
          0.004423972689422942,
          0.004221995752332881,
          0.004027082818709761,
          0.003839082543315911,
          0.003657843205808189,
          0.0034832128996357,
          0.0033150397066829466,
          0.0031531718588104917,
          0.0029974578873984623,
          0.0028477467619495533,
          0.0027038880187583666,
          0.0025657318806031016,
          0.0024331293683631933,
          0.0023059324054132925,
          0.002183993915589263,
          0.002067167915466235,
          0.0019553096016321505,
          0.0018482754335825123,
          0.0017459232128038708,
          0.0016481121585548415,
          0.001554702980794251,
          0.0014655579506473156,
          0.001380540968742014,
          0.0012995176316901982,
          0.0012223552969313736,
          0.0011489231461020459,
          0.0010790922470406451,
          0.0010127356144874044,
          0.0009497282694908528,
          0.0008899472974881808,
          0.0008332719049856798,
          0.000779583474728615,
          0.0007287656192170017,
          0.0006807042323954856,
          0.0006352875393217757,
          0.0005924061435991305,
          0.000551953072344306,
          0.0005138238184530872,
          0.0004779163799209684,
          0.00044413129597685474,
          0.0004123716797922153,
          0.00038254324753717186,
          0.00035455434356799505,
          0.000328315961547087,
          0.00030374176131663376,
          0.00028074808136996506,
          0.0002592539467902159,
          0.00023918107255339066,
          0.00022045386212213755,
          0.00020299940128693853,
          0.0001867474472425107,
          0.00017163041291858545,
          0.00015758334661551647,
          0.0001445439070258053,
          0.0001324523337523941,
          0.00012125141346300967,
          0.00011088644184665723,
          0.0001013051815632847,
          9.245781640039234e-05,
          8.429690187077612e-05,
          7.67773125034787e-05,
          6.985618609527431e-05,
          6.349286520254165e-05,
          5.7648836163147376e-05,
          5.2287665944972075e-05,
          4.737493712198224e-05,
          4.287818128038703e-05,
          3.8766811156462286e-05,
          3.5012051804258416e-05,
          3.158687108574385e-05,
          2.8465909768162148e-05,
          2.5625411503673702e-05,
          2.304315295491756e-05,
          2.069837431717215e-05,
          1.8571710473527092e-05,
          1.6645123004122927e-05,
          1.4901833254279549e-05,
          1.3326256649437218e-05,
          1.1903938427473775e-05,
          1.0621490941344947e-05,
          9.466532667293817e-06,
          8.427629036277731e-06,
          7.494235188920345e-06,
          6.656640737355231e-06,
          5.905916600926319e-06,
          5.233863966950344e-06,
          4.6329654127356175e-06,
          4.096338210870082e-06,
          3.6176898264982233e-06,
          3.191275602966374e-06,
          2.8118586208509686e-06,
          2.4746717050272075e-06,
          2.175381545092929e-06,
          1.910054886130502e-06,
          1.6751267394596123e-06,
          1.4673705566798943e-06,
          1.2838703048973585e-06,
          1.121994376531641e-06,
          9.79371263470702e-07,
          8.538669225264922e-07,
          7.43563757095657e-07,
          6.467411385897746e-07,
          5.618573905116231e-07,
          4.8753315795967e-07,
          4.2253608578379353e-07,
          3.657667295337803e-07,
          3.162456246807856e-07,
          2.731014412966949e-07,
          2.3556015339345874e-07,
          2.029351544044443e-07,
          1.7461825278459124e-07,
          1.5007148437187545e-07,
          1.28819680947876e-07,
          1.1044373732255297e-07,
          9.457452221335626e-08,
          8.088738116054672e-08,
          6.90971826917183e-08,
          5.895386189449919e-08,
          5.023841845637994e-08,
          4.275932906628233e-08,
          3.634933682865311e-08,
          3.0862583004944554e-08,
          2.6172048959098328e-08,
          2.2167278635332142e-08,
          1.8752354232191572e-08,
          1.5844099952629115e-08,
          1.3370490803477893e-08,
          1.1269245388272619e-08,
          9.486583485459227e-09,
          7.976130931135616e-09,
          6.697955934159567e-09,
          5.617722445004895e-09,
          4.705947582106794e-09,
          3.937351395069696e-09,
          3.290288417841054e-09,
          2.7462515419365216e-09,
          2.2894397253333635e-09,
          1.906381952174673e-09,
          1.5856106773945393e-09,
          1.3173787342313649e-09,
          1.0934143566967978e-09,
          9.067095786515593e-10,
          7.513378212984795e-10,
          6.222969765389019e-10,
          5.153747394679648e-10,
          4.270333438004658e-10,
          3.5431121350535414e-10,
          2.947393664417624e-10,
          2.462706951713333e-10,
          2.0722050999827234e-10,
          1.7621696307811134e-10,
          1.5216018336635848e-10,
          1.3418914329289181e-10,
          1.2165545222732842e-10,
          1.1410343177491072e-10,
          1.1125597631071636e-10,
          1.1300584140900424e-10,
          1.194121353470067e-10,
          1.3070191697737445e-10,
          1.47276929234935e-10,
          1.69725623600355e-10,
          1.988407591982502e-10,
          2.356429930749959e-10,
          2.814110178162932e-10,
          3.3771895129701085e-10,
          4.064818433281169e-10,
          4.900103376646071e-10,
          5.910757177287822e-10,
          7.129867730349689e-10,
          8.596801533196463e-10,
          1.0358261315253672e-09,
          1.2469519778976163e-09,
          1.499585458464022e-09,
          1.8014213150936254e-09,
          2.1615139642743878e-09,
          2.5905000708430044e-09,
          3.100855114331496e-09,
          3.70718857252364e-09,
          4.426582902377897e-09,
          5.2789821056938735e-09,
          6.287636328667583e-09,
          7.47960966345993e-09,
          8.886359098447878e-09,
          1.0544393403942498e-08,
          1.2496021643300118e-08,
          1.4790201966448168e-08,
          1.748350237403726e-08,
          2.064118623502173e-08,
          2.4338436496774976e-08,
          2.8661733741937804e-08,
          3.371040451591253e-08,
          3.959835766744944e-08,
          4.6456027804700975e-08,
          5.443254636109258e-08,
          6.369816217783834e-08,
          7.444693492926155e-08,
          8.689972612687941e-08,
          1.01307513819612e-07,
          1.1795505843863166e-07,
          1.371649484914039e-07,
          1.5930205596247316e-07,
          1.847784322971014e-07,
          2.140586766934704e-07,
          2.476658090717182e-07,
          2.86187680482194e-07,
          3.3028395381634855e-07,
          3.8069368744376446e-07,
          4.3824355376715103e-07,
          5.038567236102295e-07,
          5.785624457757884e-07,
          6.635063489748135e-07,
          7.59961490574473e-07,
          8.693401731829815e-07,
          9.932065459243484e-07,
          1.133290002298223e-06,
          1.291499380713024e-06,
          1.4699379670738779e-06,
          1.6709192911508762e-06,
          1.8969836998086e-06,
          2.1509156805094134e-06,
          2.4357618977853548e-06,
          2.7548498935948788e-06,
          3.1118073896348957e-06,
          3.5105821157834876e-06,
          3.955462073925254e-06,
          4.451096130511661e-06,
          5.002514814392772e-06,
          5.615151178809574e-06,
          6.2948615680689315e-06,
          7.047946110459313e-06,
          7.88116873956588e-06,
          8.801776526482651e-06,
          9.817518085705387e-06,
          1.0936660797949174e-05,
          1.2168006574027051e-05,
          1.3520905865528538e-05,
          1.5005269610651729e-05,
          1.663157878750059e-05,
          1.8410891232789735e-05,
          2.035484537158065e-05,
          2.2475660493764717e-05,
          2.4786133205889488e-05,
          2.7299629683002274e-05,
          3.0030073344807033e-05,
          3.299192758402264e-05,
          3.620017318270213e-05,
          3.967028006482479e-05,
          4.3418173050985986e-05,
          4.7460191303774345e-05,
          5.181304118072052e-05,
          5.6493742245652666e-05,
          6.151956622912471e-05,
          6.690796877428916e-05,
          7.267651385622289e-05,
          7.884279082019606e-05,
          8.542432404751738e-05,
          9.243847532619064e-05,
          9.990233907730129e-05,
          0.00010783263066639863,
          0.00011624556811162982,
          0.00012515674758633812,
          0.00013458101320259122,
          0.00014453232165277587,
          0.00015502360237811135,
          0.00016606661402465402,
          0.00017767179803805628,
          0.0001898481303368156,
          0.00020260297208883282,
          0.0002159419206965527,
          0.00022986866217047136,
          0.00024438482613816455,
          0.00025948984479480665,
          0.00027518081715033636,
          0.0002914523799666053,
          0.0003082965868039749,
          0.00032570279660985385,
          0.00034365757328050795,
          0.0003621445976115417,
          0.00038114459302074924,
          0.00040063526637934863,
          0.0004205912652233902,
          0.00044098415253625333,
          0.0004617824001958477,
          0.00048295140206636703,
          0.0005044535075851026,
          0.0005262480765502225,
          0.0005482915556569103,
          0.0005705375771577159,
          0.0005929370798399503,
          0.0006154384523201389,
          0.0006379876984544822,
          0.0006605286244573419,
          0.0006830030471087071,
          0.00070535102221903,
          0.000727511092307999,
          0.0007494205522450949,
          0.0007710157313970134,
          0.0007922322906323151,
          0.0008130055323499305,
          0.0008332707215275096,
          0.0008529634156306005,
          0.0008720198010864762,
          0.00089037703390902,
          0.0009079735819655144,
          0.0009247495663038497,
          0.0009406470989111038,
          0.0009556106142526289,
          0.0009695871919455475,
          0.000982526867952335,
          0.0009943829317390646,
          0.0010051122069287103,
          0.0010146753130920358,
          0.0010230369064561768,
          0.0010301658974727688,
          0.0010360356433718196,
          0.0010406241140326206,
          0.0010439140297266523,
          0.001045892969527303
         ],
         "yaxis": "y"
        },
        {
         "legendgroup": "Lasso",
         "marker": {
          "color": "rgb(31, 119, 180)",
          "symbol": "line-ns-open"
         },
         "mode": "markers",
         "name": "Lasso",
         "showlegend": false,
         "type": "scatter",
         "x": [
          101.67005616271959,
          0,
          0,
          3.7177969712661394,
          0,
          0,
          0,
          0,
          0,
          0.7517400074982162,
          0,
          0,
          0,
          0,
          0,
          0,
          0,
          0,
          0,
          0,
          0,
          0,
          0,
          0,
          0,
          0,
          0,
          0,
          0,
          -32.68475579466282,
          0,
          0,
          0,
          0,
          0,
          0,
          0,
          19.655460753798717,
          0,
          0,
          0,
          0,
          0,
          0,
          0,
          3.8202649677683023,
          5.207232224578849,
          0,
          0,
          0,
          0,
          0,
          0,
          0,
          0,
          0,
          0,
          0
         ],
         "xaxis": "x",
         "y": [
          "Lasso",
          "Lasso",
          "Lasso",
          "Lasso",
          "Lasso",
          "Lasso",
          "Lasso",
          "Lasso",
          "Lasso",
          "Lasso",
          "Lasso",
          "Lasso",
          "Lasso",
          "Lasso",
          "Lasso",
          "Lasso",
          "Lasso",
          "Lasso",
          "Lasso",
          "Lasso",
          "Lasso",
          "Lasso",
          "Lasso",
          "Lasso",
          "Lasso",
          "Lasso",
          "Lasso",
          "Lasso",
          "Lasso",
          "Lasso",
          "Lasso",
          "Lasso",
          "Lasso",
          "Lasso",
          "Lasso",
          "Lasso",
          "Lasso",
          "Lasso",
          "Lasso",
          "Lasso",
          "Lasso",
          "Lasso",
          "Lasso",
          "Lasso",
          "Lasso",
          "Lasso",
          "Lasso",
          "Lasso",
          "Lasso",
          "Lasso",
          "Lasso",
          "Lasso",
          "Lasso",
          "Lasso",
          "Lasso",
          "Lasso",
          "Lasso",
          "Lasso"
         ],
         "yaxis": "y2"
        },
        {
         "legendgroup": "Ridge",
         "marker": {
          "color": "rgb(255, 127, 14)",
          "symbol": "line-ns-open"
         },
         "mode": "markers",
         "name": "Ridge",
         "showlegend": false,
         "type": "scatter",
         "x": [
          95.30207116982643,
          -5.243092264576142,
          -14.062318414717652,
          8.384686389650243,
          0.31282390923167774,
          -0.914625400316277,
          7.711505318498433,
          -6.780064545441444,
          -0.36691857153215657,
          2.2590402183651275,
          -0.037919326087145544,
          -1.2890054064822023,
          -0.21329402202820613,
          -1.3735680566238895,
          3.3039841511057912,
          -1.947342820723505,
          -2.5133721621674954,
          0.29310600906053114,
          -1.3545118481811322,
          -4.055685315609239,
          -3.36648808068222,
          6.821802164320313,
          5.205300023914758,
          4.932591744216259,
          5.02091641659137,
          6.168059656993405,
          8.559465264605508,
          -9.439437131566937,
          -3.879881263804265,
          -21.295699475802603,
          -21.465782709953917,
          -13.741235407939751,
          -11.344073373074663,
          2.5525763414523404,
          2.3048542827142247,
          8.79544690494416,
          4.473558744229155,
          19.19470956500333,
          13.164760669479922,
          14.847011804499653,
          12.768568842530998,
          -8.520203645360473,
          -13.55943186884018,
          -5.202571725444789,
          0.7852283890999457,
          10.961951648132349,
          8.542598766751645,
          0.45925871451609074,
          1.4763212772764411,
          -0.11374868828783771,
          -0.2113100352705184,
          -0.48726324286227357,
          -0.5387246629654886,
          0,
          0,
          -3.144830184740659,
          2.71224811043423,
          -3.3469904795984387
         ],
         "xaxis": "x",
         "y": [
          "Ridge",
          "Ridge",
          "Ridge",
          "Ridge",
          "Ridge",
          "Ridge",
          "Ridge",
          "Ridge",
          "Ridge",
          "Ridge",
          "Ridge",
          "Ridge",
          "Ridge",
          "Ridge",
          "Ridge",
          "Ridge",
          "Ridge",
          "Ridge",
          "Ridge",
          "Ridge",
          "Ridge",
          "Ridge",
          "Ridge",
          "Ridge",
          "Ridge",
          "Ridge",
          "Ridge",
          "Ridge",
          "Ridge",
          "Ridge",
          "Ridge",
          "Ridge",
          "Ridge",
          "Ridge",
          "Ridge",
          "Ridge",
          "Ridge",
          "Ridge",
          "Ridge",
          "Ridge",
          "Ridge",
          "Ridge",
          "Ridge",
          "Ridge",
          "Ridge",
          "Ridge",
          "Ridge",
          "Ridge",
          "Ridge",
          "Ridge",
          "Ridge",
          "Ridge",
          "Ridge",
          "Ridge",
          "Ridge",
          "Ridge",
          "Ridge",
          "Ridge"
         ],
         "yaxis": "y2"
        }
       ],
       "layout": {
        "barmode": "overlay",
        "hovermode": "closest",
        "legend": {
         "traceorder": "reversed"
        },
        "template": {
         "data": {
          "bar": [
           {
            "error_x": {
             "color": "#2a3f5f"
            },
            "error_y": {
             "color": "#2a3f5f"
            },
            "marker": {
             "line": {
              "color": "#E5ECF6",
              "width": 0.5
             }
            },
            "type": "bar"
           }
          ],
          "barpolar": [
           {
            "marker": {
             "line": {
              "color": "#E5ECF6",
              "width": 0.5
             }
            },
            "type": "barpolar"
           }
          ],
          "carpet": [
           {
            "aaxis": {
             "endlinecolor": "#2a3f5f",
             "gridcolor": "white",
             "linecolor": "white",
             "minorgridcolor": "white",
             "startlinecolor": "#2a3f5f"
            },
            "baxis": {
             "endlinecolor": "#2a3f5f",
             "gridcolor": "white",
             "linecolor": "white",
             "minorgridcolor": "white",
             "startlinecolor": "#2a3f5f"
            },
            "type": "carpet"
           }
          ],
          "choropleth": [
           {
            "colorbar": {
             "outlinewidth": 0,
             "ticks": ""
            },
            "type": "choropleth"
           }
          ],
          "contour": [
           {
            "colorbar": {
             "outlinewidth": 0,
             "ticks": ""
            },
            "colorscale": [
             [
              0,
              "#0d0887"
             ],
             [
              0.1111111111111111,
              "#46039f"
             ],
             [
              0.2222222222222222,
              "#7201a8"
             ],
             [
              0.3333333333333333,
              "#9c179e"
             ],
             [
              0.4444444444444444,
              "#bd3786"
             ],
             [
              0.5555555555555556,
              "#d8576b"
             ],
             [
              0.6666666666666666,
              "#ed7953"
             ],
             [
              0.7777777777777778,
              "#fb9f3a"
             ],
             [
              0.8888888888888888,
              "#fdca26"
             ],
             [
              1,
              "#f0f921"
             ]
            ],
            "type": "contour"
           }
          ],
          "contourcarpet": [
           {
            "colorbar": {
             "outlinewidth": 0,
             "ticks": ""
            },
            "type": "contourcarpet"
           }
          ],
          "heatmap": [
           {
            "colorbar": {
             "outlinewidth": 0,
             "ticks": ""
            },
            "colorscale": [
             [
              0,
              "#0d0887"
             ],
             [
              0.1111111111111111,
              "#46039f"
             ],
             [
              0.2222222222222222,
              "#7201a8"
             ],
             [
              0.3333333333333333,
              "#9c179e"
             ],
             [
              0.4444444444444444,
              "#bd3786"
             ],
             [
              0.5555555555555556,
              "#d8576b"
             ],
             [
              0.6666666666666666,
              "#ed7953"
             ],
             [
              0.7777777777777778,
              "#fb9f3a"
             ],
             [
              0.8888888888888888,
              "#fdca26"
             ],
             [
              1,
              "#f0f921"
             ]
            ],
            "type": "heatmap"
           }
          ],
          "heatmapgl": [
           {
            "colorbar": {
             "outlinewidth": 0,
             "ticks": ""
            },
            "colorscale": [
             [
              0,
              "#0d0887"
             ],
             [
              0.1111111111111111,
              "#46039f"
             ],
             [
              0.2222222222222222,
              "#7201a8"
             ],
             [
              0.3333333333333333,
              "#9c179e"
             ],
             [
              0.4444444444444444,
              "#bd3786"
             ],
             [
              0.5555555555555556,
              "#d8576b"
             ],
             [
              0.6666666666666666,
              "#ed7953"
             ],
             [
              0.7777777777777778,
              "#fb9f3a"
             ],
             [
              0.8888888888888888,
              "#fdca26"
             ],
             [
              1,
              "#f0f921"
             ]
            ],
            "type": "heatmapgl"
           }
          ],
          "histogram": [
           {
            "marker": {
             "colorbar": {
              "outlinewidth": 0,
              "ticks": ""
             }
            },
            "type": "histogram"
           }
          ],
          "histogram2d": [
           {
            "colorbar": {
             "outlinewidth": 0,
             "ticks": ""
            },
            "colorscale": [
             [
              0,
              "#0d0887"
             ],
             [
              0.1111111111111111,
              "#46039f"
             ],
             [
              0.2222222222222222,
              "#7201a8"
             ],
             [
              0.3333333333333333,
              "#9c179e"
             ],
             [
              0.4444444444444444,
              "#bd3786"
             ],
             [
              0.5555555555555556,
              "#d8576b"
             ],
             [
              0.6666666666666666,
              "#ed7953"
             ],
             [
              0.7777777777777778,
              "#fb9f3a"
             ],
             [
              0.8888888888888888,
              "#fdca26"
             ],
             [
              1,
              "#f0f921"
             ]
            ],
            "type": "histogram2d"
           }
          ],
          "histogram2dcontour": [
           {
            "colorbar": {
             "outlinewidth": 0,
             "ticks": ""
            },
            "colorscale": [
             [
              0,
              "#0d0887"
             ],
             [
              0.1111111111111111,
              "#46039f"
             ],
             [
              0.2222222222222222,
              "#7201a8"
             ],
             [
              0.3333333333333333,
              "#9c179e"
             ],
             [
              0.4444444444444444,
              "#bd3786"
             ],
             [
              0.5555555555555556,
              "#d8576b"
             ],
             [
              0.6666666666666666,
              "#ed7953"
             ],
             [
              0.7777777777777778,
              "#fb9f3a"
             ],
             [
              0.8888888888888888,
              "#fdca26"
             ],
             [
              1,
              "#f0f921"
             ]
            ],
            "type": "histogram2dcontour"
           }
          ],
          "mesh3d": [
           {
            "colorbar": {
             "outlinewidth": 0,
             "ticks": ""
            },
            "type": "mesh3d"
           }
          ],
          "parcoords": [
           {
            "line": {
             "colorbar": {
              "outlinewidth": 0,
              "ticks": ""
             }
            },
            "type": "parcoords"
           }
          ],
          "pie": [
           {
            "automargin": true,
            "type": "pie"
           }
          ],
          "scatter": [
           {
            "marker": {
             "colorbar": {
              "outlinewidth": 0,
              "ticks": ""
             }
            },
            "type": "scatter"
           }
          ],
          "scatter3d": [
           {
            "line": {
             "colorbar": {
              "outlinewidth": 0,
              "ticks": ""
             }
            },
            "marker": {
             "colorbar": {
              "outlinewidth": 0,
              "ticks": ""
             }
            },
            "type": "scatter3d"
           }
          ],
          "scattercarpet": [
           {
            "marker": {
             "colorbar": {
              "outlinewidth": 0,
              "ticks": ""
             }
            },
            "type": "scattercarpet"
           }
          ],
          "scattergeo": [
           {
            "marker": {
             "colorbar": {
              "outlinewidth": 0,
              "ticks": ""
             }
            },
            "type": "scattergeo"
           }
          ],
          "scattergl": [
           {
            "marker": {
             "colorbar": {
              "outlinewidth": 0,
              "ticks": ""
             }
            },
            "type": "scattergl"
           }
          ],
          "scattermapbox": [
           {
            "marker": {
             "colorbar": {
              "outlinewidth": 0,
              "ticks": ""
             }
            },
            "type": "scattermapbox"
           }
          ],
          "scatterpolar": [
           {
            "marker": {
             "colorbar": {
              "outlinewidth": 0,
              "ticks": ""
             }
            },
            "type": "scatterpolar"
           }
          ],
          "scatterpolargl": [
           {
            "marker": {
             "colorbar": {
              "outlinewidth": 0,
              "ticks": ""
             }
            },
            "type": "scatterpolargl"
           }
          ],
          "scatterternary": [
           {
            "marker": {
             "colorbar": {
              "outlinewidth": 0,
              "ticks": ""
             }
            },
            "type": "scatterternary"
           }
          ],
          "surface": [
           {
            "colorbar": {
             "outlinewidth": 0,
             "ticks": ""
            },
            "colorscale": [
             [
              0,
              "#0d0887"
             ],
             [
              0.1111111111111111,
              "#46039f"
             ],
             [
              0.2222222222222222,
              "#7201a8"
             ],
             [
              0.3333333333333333,
              "#9c179e"
             ],
             [
              0.4444444444444444,
              "#bd3786"
             ],
             [
              0.5555555555555556,
              "#d8576b"
             ],
             [
              0.6666666666666666,
              "#ed7953"
             ],
             [
              0.7777777777777778,
              "#fb9f3a"
             ],
             [
              0.8888888888888888,
              "#fdca26"
             ],
             [
              1,
              "#f0f921"
             ]
            ],
            "type": "surface"
           }
          ],
          "table": [
           {
            "cells": {
             "fill": {
              "color": "#EBF0F8"
             },
             "line": {
              "color": "white"
             }
            },
            "header": {
             "fill": {
              "color": "#C8D4E3"
             },
             "line": {
              "color": "white"
             }
            },
            "type": "table"
           }
          ]
         },
         "layout": {
          "annotationdefaults": {
           "arrowcolor": "#2a3f5f",
           "arrowhead": 0,
           "arrowwidth": 1
          },
          "coloraxis": {
           "colorbar": {
            "outlinewidth": 0,
            "ticks": ""
           }
          },
          "colorscale": {
           "diverging": [
            [
             0,
             "#8e0152"
            ],
            [
             0.1,
             "#c51b7d"
            ],
            [
             0.2,
             "#de77ae"
            ],
            [
             0.3,
             "#f1b6da"
            ],
            [
             0.4,
             "#fde0ef"
            ],
            [
             0.5,
             "#f7f7f7"
            ],
            [
             0.6,
             "#e6f5d0"
            ],
            [
             0.7,
             "#b8e186"
            ],
            [
             0.8,
             "#7fbc41"
            ],
            [
             0.9,
             "#4d9221"
            ],
            [
             1,
             "#276419"
            ]
           ],
           "sequential": [
            [
             0,
             "#0d0887"
            ],
            [
             0.1111111111111111,
             "#46039f"
            ],
            [
             0.2222222222222222,
             "#7201a8"
            ],
            [
             0.3333333333333333,
             "#9c179e"
            ],
            [
             0.4444444444444444,
             "#bd3786"
            ],
            [
             0.5555555555555556,
             "#d8576b"
            ],
            [
             0.6666666666666666,
             "#ed7953"
            ],
            [
             0.7777777777777778,
             "#fb9f3a"
            ],
            [
             0.8888888888888888,
             "#fdca26"
            ],
            [
             1,
             "#f0f921"
            ]
           ],
           "sequentialminus": [
            [
             0,
             "#0d0887"
            ],
            [
             0.1111111111111111,
             "#46039f"
            ],
            [
             0.2222222222222222,
             "#7201a8"
            ],
            [
             0.3333333333333333,
             "#9c179e"
            ],
            [
             0.4444444444444444,
             "#bd3786"
            ],
            [
             0.5555555555555556,
             "#d8576b"
            ],
            [
             0.6666666666666666,
             "#ed7953"
            ],
            [
             0.7777777777777778,
             "#fb9f3a"
            ],
            [
             0.8888888888888888,
             "#fdca26"
            ],
            [
             1,
             "#f0f921"
            ]
           ]
          },
          "colorway": [
           "#636efa",
           "#EF553B",
           "#00cc96",
           "#ab63fa",
           "#FFA15A",
           "#19d3f3",
           "#FF6692",
           "#B6E880",
           "#FF97FF",
           "#FECB52"
          ],
          "font": {
           "color": "#2a3f5f"
          },
          "geo": {
           "bgcolor": "white",
           "lakecolor": "white",
           "landcolor": "#E5ECF6",
           "showlakes": true,
           "showland": true,
           "subunitcolor": "white"
          },
          "hoverlabel": {
           "align": "left"
          },
          "hovermode": "closest",
          "mapbox": {
           "style": "light"
          },
          "paper_bgcolor": "white",
          "plot_bgcolor": "#E5ECF6",
          "polar": {
           "angularaxis": {
            "gridcolor": "white",
            "linecolor": "white",
            "ticks": ""
           },
           "bgcolor": "#E5ECF6",
           "radialaxis": {
            "gridcolor": "white",
            "linecolor": "white",
            "ticks": ""
           }
          },
          "scene": {
           "xaxis": {
            "backgroundcolor": "#E5ECF6",
            "gridcolor": "white",
            "gridwidth": 2,
            "linecolor": "white",
            "showbackground": true,
            "ticks": "",
            "zerolinecolor": "white"
           },
           "yaxis": {
            "backgroundcolor": "#E5ECF6",
            "gridcolor": "white",
            "gridwidth": 2,
            "linecolor": "white",
            "showbackground": true,
            "ticks": "",
            "zerolinecolor": "white"
           },
           "zaxis": {
            "backgroundcolor": "#E5ECF6",
            "gridcolor": "white",
            "gridwidth": 2,
            "linecolor": "white",
            "showbackground": true,
            "ticks": "",
            "zerolinecolor": "white"
           }
          },
          "shapedefaults": {
           "line": {
            "color": "#2a3f5f"
           }
          },
          "ternary": {
           "aaxis": {
            "gridcolor": "white",
            "linecolor": "white",
            "ticks": ""
           },
           "baxis": {
            "gridcolor": "white",
            "linecolor": "white",
            "ticks": ""
           },
           "bgcolor": "#E5ECF6",
           "caxis": {
            "gridcolor": "white",
            "linecolor": "white",
            "ticks": ""
           }
          },
          "title": {
           "x": 0.05
          },
          "xaxis": {
           "automargin": true,
           "gridcolor": "white",
           "linecolor": "white",
           "ticks": "",
           "title": {
            "standoff": 15
           },
           "zerolinecolor": "white",
           "zerolinewidth": 2
          },
          "yaxis": {
           "automargin": true,
           "gridcolor": "white",
           "linecolor": "white",
           "ticks": "",
           "title": {
            "standoff": 15
           },
           "zerolinecolor": "white",
           "zerolinewidth": 2
          }
         }
        },
        "xaxis": {
         "anchor": "y2",
         "domain": [
          0,
          1
         ],
         "zeroline": false
        },
        "yaxis": {
         "anchor": "free",
         "domain": [
          0.35,
          1
         ],
         "position": 0
        },
        "yaxis2": {
         "anchor": "x",
         "domain": [
          0,
          0.25
         ],
         "dtick": 1,
         "showticklabels": false
        }
       }
      },
      "text/html": [
       "<div>\n",
       "        \n",
       "        \n",
       "            <div id=\"d53ca1c9-0229-4b5c-85cf-9e73f3cfb800\" class=\"plotly-graph-div\" style=\"height:525px; width:100%;\"></div>\n",
       "            <script type=\"text/javascript\">\n",
       "                require([\"plotly\"], function(Plotly) {\n",
       "                    window.PLOTLYENV=window.PLOTLYENV || {};\n",
       "                    \n",
       "                if (document.getElementById(\"d53ca1c9-0229-4b5c-85cf-9e73f3cfb800\")) {\n",
       "                    Plotly.newPlot(\n",
       "                        'd53ca1c9-0229-4b5c-85cf-9e73f3cfb800',\n",
       "                        [{\"autobinx\": false, \"histnorm\": \"probability density\", \"legendgroup\": \"Lasso\", \"marker\": {\"color\": \"rgb(31, 119, 180)\"}, \"name\": \"Lasso\", \"opacity\": 0.7, \"type\": \"histogram\", \"x\": [101.67005616271959, 0.0, 0.0, 3.7177969712661394, 0.0, 0.0, 0.0, 0.0, -0.0, 0.7517400074982162, 0.0, 0.0, -0.0, -0.0, -0.0, -0.0, -0.0, -0.0, -0.0, -0.0, -0.0, 0.0, 0.0, 0.0, 0.0, 0.0, 0.0, -0.0, -0.0, -32.68475579466282, -0.0, -0.0, -0.0, 0.0, 0.0, 0.0, 0.0, 19.655460753798717, 0.0, 0.0, 0.0, 0.0, 0.0, 0.0, 0.0, 3.8202649677683023, 5.207232224578849, -0.0, 0.0, 0.0, -0.0, -0.0, -0.0, 0.0, 0.0, -0.0, 0.0, 0.0], \"xaxis\": \"x\", \"xbins\": {\"end\": 101.67005616271959, \"size\": 2, \"start\": -32.68475579466282}, \"yaxis\": \"y\"}, {\"autobinx\": false, \"histnorm\": \"probability density\", \"legendgroup\": \"Ridge\", \"marker\": {\"color\": \"rgb(255, 127, 14)\"}, \"name\": \"Ridge\", \"opacity\": 0.7, \"type\": \"histogram\", \"x\": [95.30207116982643, -5.243092264576142, -14.062318414717652, 8.384686389650243, 0.31282390923167774, -0.914625400316277, 7.711505318498433, -6.780064545441444, -0.36691857153215657, 2.2590402183651275, -0.037919326087145544, -1.2890054064822023, -0.21329402202820613, -1.3735680566238895, 3.3039841511057912, -1.947342820723505, -2.5133721621674954, 0.29310600906053114, -1.3545118481811322, -4.055685315609239, -3.36648808068222, 6.821802164320313, 5.205300023914758, 4.932591744216259, 5.02091641659137, 6.168059656993405, 8.559465264605508, -9.439437131566937, -3.879881263804265, -21.295699475802603, -21.465782709953917, -13.741235407939751, -11.344073373074663, 2.5525763414523404, 2.3048542827142247, 8.79544690494416, 4.473558744229155, 19.19470956500333, 13.164760669479922, 14.847011804499653, 12.768568842530998, -8.520203645360473, -13.55943186884018, -5.202571725444789, 0.7852283890999457, 10.961951648132349, 8.542598766751645, 0.45925871451609074, 1.4763212772764411, -0.11374868828783771, -0.2113100352705184, -0.48726324286227357, -0.5387246629654886, 0.0, 0.0, -3.144830184740659, 2.71224811043423, -3.3469904795984387], \"xaxis\": \"x\", \"xbins\": {\"end\": 95.30207116982643, \"size\": 2, \"start\": -21.465782709953917}, \"yaxis\": \"y\"}, {\"legendgroup\": \"Lasso\", \"marker\": {\"color\": \"rgb(31, 119, 180)\"}, \"mode\": \"lines\", \"name\": \"Lasso\", \"showlegend\": false, \"type\": \"scatter\", \"x\": [-32.68475579466282, -32.416046170748054, -32.14733654683329, -31.878626922918524, -31.60991729900376, -31.341207675088995, -31.072498051174232, -30.803788427259466, -30.535078803344703, -30.266369179429937, -29.99765955551517, -29.728949931600408, -29.46024030768564, -29.19153068377088, -28.922821059856112, -28.654111435941346, -28.385401812026583, -28.116692188111816, -27.847982564197054, -27.579272940282287, -27.31056331636752, -27.041853692452758, -26.773144068537995, -26.50443444462323, -26.235724820708462, -25.9670151967937, -25.698305572878933, -25.42959594896417, -25.160886325049404, -24.892176701134638, -24.623467077219875, -24.354757453305112, -24.086047829390345, -23.81733820547558, -23.548628581560813, -23.27991895764605, -23.011209333731287, -22.74249970981652, -22.473790085901754, -22.205080461986988, -21.936370838072225, -21.667661214157462, -21.398951590242696, -21.13024196632793, -20.861532342413167, -20.592822718498404, -20.324113094583637, -20.05540347066887, -19.786693846754105, -19.517984222839342, -19.24927459892458, -18.980564975009813, -18.711855351095046, -18.44314572718028, -18.174436103265517, -17.905726479350754, -17.637016855435988, -17.368307231521225, -17.09959760760646, -16.830887983691696, -16.56217835977693, -16.293468735862163, -16.0247591119474, -15.756049488032634, -15.487339864117871, -15.218630240203105, -14.949920616288338, -14.681210992373575, -14.412501368458809, -14.143791744544046, -13.87508212062928, -13.606372496714513, -13.33766287279975, -13.068953248884984, -12.800243624970221, -12.531534001055455, -12.262824377140689, -11.994114753225926, -11.72540512931116, -11.456695505396397, -11.18798588148163, -10.919276257566867, -10.650566633652105, -10.381857009737338, -10.113147385822575, -9.844437761907809, -9.575728137993043, -9.30701851407828, -9.038308890163513, -8.76959926624875, -8.500889642333984, -8.232180018419218, -7.963470394504455, -7.6947607705896885, -7.426051146674926, -7.157341522760159, -6.888631898845393, -6.61992227493063, -6.351212651015864, -6.082503027101101, -5.8137934031863345, -5.545083779271568, -5.276374155356805, -5.007664531442039, -4.738954907527276, -4.47024528361251, -4.201535659697743, -3.9328260357829805, -3.664116411868214, -3.3954067879534513, -3.126697164038685, -2.8579875401239185, -2.5892779162091593, -2.320568292294393, -2.05185866837963, -1.7831490444648637, -1.5144394205500973, -1.2457297966353345, -0.9770201727205681, -0.7083105488058052, -0.43960092489103886, -0.17089130097627248, 0.0978183229384939, 0.3665279468532532, 0.6352375707680196, 0.903947194682786, 1.1726568185975523, 1.4413664425123187, 1.710076066427078, 1.9787856903418444, 2.2474953142566108, 2.516204938171377, 2.7849145620861435, 3.053624186000903, 3.322333809915669, 3.5910434338304356, 3.859753057745202, 4.128462681659968, 4.397172305574728, 4.665881929489494, 4.93459155340426, 5.203301177319027, 5.472010801233793, 5.740720425148552, 6.009430049063319, 6.278139672978085, 6.5468492968928516, 6.815558920807618, 7.084268544722377, 7.352978168637144, 7.62168779255191, 7.890397416466676, 8.159107040381443, 8.427816664296202, 8.696526288210968, 8.965235912125735, 9.233945536040501, 9.502655159955268, 9.771364783870027, 10.040074407784793, 10.30878403169956, 10.577493655614319, 10.846203279529085, 11.114912903443845, 11.383622527358611, 11.652332151273377, 11.921041775188144, 12.18975139910291, 12.45846102301767, 12.727170646932436, 12.995880270847202, 13.264589894761968, 13.533299518676735, 13.802009142591494, 14.07071876650626, 14.339428390421027, 14.608138014335793, 14.87684763825056, 15.145557262165319, 15.414266886080085, 15.682976509994852, 15.951686133909618, 16.220395757824384, 16.489105381739144, 16.75781500565391, 17.026524629568677, 17.295234253483443, 17.56394387739821, 17.83265350131297, 18.101363125227735, 18.3700727491425, 18.638782373057268, 18.907491996972034, 19.176201620886793, 19.44491124480156, 19.713620868716326, 19.982330492631093, 20.25104011654586, 20.519749740460618, 20.788459364375385, 21.05716898829015, 21.325878612204917, 21.594588236119684, 21.863297860034443, 22.13200748394921, 22.400717107863976, 22.669426731778742, 22.93813635569351, 23.206845979608268, 23.475555603523034, 23.7442652274378, 24.012974851352567, 24.281684475267333, 24.550394099182093, 24.81910372309686, 25.087813347011625, 25.35652297092639, 25.625232594841158, 25.893942218755917, 26.162651842670684, 26.43136146658545, 26.700071090500217, 26.968780714414983, 27.237490338329742, 27.5061999622445, 27.774909586159268, 28.043619210074034, 28.3123288339888, 28.58103845790356, 28.849748081818326, 29.118457705733093, 29.38716732964786, 29.655876953562625, 29.924586577477385, 30.19329620139215, 30.462005825306917, 30.730715449221684, 30.99942507313645, 31.26813469705121, 31.536844320965983, 31.805553944880742, 32.0742635687955, 32.342973192710275, 32.611682816625034, 32.88039244053981, 33.14910206445457, 33.417811688369326, 33.6865213122841, 33.95523093619886, 34.22394056011363, 34.49265018402839, 34.76135980794315, 35.030069431857925, 35.298779055772684, 35.56748867968746, 35.83619830360222, 36.104907927516976, 36.37361755143175, 36.64232717534651, 36.91103679926128, 37.17974642317604, 37.4484560470908, 37.717165671005574, 37.98587529492033, 38.25458491883511, 38.523294542749866, 38.792004166664626, 39.0607137905794, 39.32942341449416, 39.59813303840893, 39.86684266232369, 40.13555228623845, 40.404261910153224, 40.67297153406798, 40.94168115798276, 41.210390781897516, 41.479100405812275, 41.74781002972705, 42.01651965364181, 42.28522927755658, 42.55393890147134, 42.8226485253861, 43.09135814930087, 43.36006777321563, 43.628777397130406, 43.897487021045166, 44.166196644959925, 44.4349062688747, 44.70361589278946, 44.97232551670423, 45.24103514061899, 45.50974476453375, 45.77845438844852, 46.04716401236328, 46.315873636278056, 46.584583260192815, 46.853292884107574, 47.12200250802235, 47.39071213193711, 47.65942175585188, 47.92813137976664, 48.1968410036814, 48.46555062759617, 48.73426025151093, 49.002969875425705, 49.271679499340465, 49.540389123255224, 49.80909874717, 50.07780837108476, 50.34651799499953, 50.61522761891429, 50.88393724282905, 51.15264686674382, 51.42135649065858, 51.690066114573355, 51.958775738488114, 52.227485362402874, 52.49619498631765, 52.764904610232406, 53.03361423414718, 53.30232385806194, 53.571033481976684, 53.83974310589146, 54.10845272980622, 54.37716235372099, 54.64587197763575, 54.91458160155051, 55.18329122546528, 55.45200084938004, 55.720710473294815, 55.989420097209575, 56.258129721124334, 56.52683934503911, 56.79554896895387, 57.06425859286864, 57.3329682167834, 57.60167784069816, 57.87038746461293, 58.13909708852769, 58.407806712442465, 58.676516336357224, 58.94522596027198, 59.21393558418676, 59.482645208101516, 59.75135483201629, 60.02006445593105, 60.28877407984581, 60.55748370376058, 60.82619332767534, 61.094902951590115, 61.363612575504874, 61.63232219941963, 61.90103182333441, 62.169741447249166, 62.43845107116394, 62.7071606950787, 62.97587031899346, 63.24457994290823, 63.51328956682299, 63.781999190737764, 64.05070881465252, 64.31941843856728, 64.58812806248206, 64.85683768639682, 65.12554731031159, 65.39425693422635, 65.66296655814111, 65.93167618205588, 66.20038580597064, 66.46909542988541, 66.73780505380017, 67.00651467771493, 67.2752243016297, 67.54393392554447, 67.81264354945924, 68.081353173374, 68.35006279728876, 68.61877242120353, 68.88748204511829, 69.15619166903306, 69.42490129294782, 69.69361091686258, 69.96232054077736, 70.23103016469211, 70.49973978860689, 70.76844941252165, 71.0371590364364, 71.30586866035118, 71.57457828426594, 71.84328790818071, 72.11199753209547, 72.38070715601023, 72.649416779925, 72.91812640383976, 73.18683602775454, 73.4555456516693, 73.72425527558406, 73.99296489949883, 74.26167452341359, 74.53038414732836, 74.79909377124312, 75.06780339515788, 75.33651301907265, 75.60522264298741, 75.87393226690219, 76.14264189081695, 76.4113515147317, 76.68006113864648, 76.94877076256124, 77.21748038647601, 77.48619001039077, 77.75489963430553, 78.0236092582203, 78.29231888213506, 78.56102850604984, 78.8297381299646, 79.09844775387936, 79.36715737779413, 79.63586700170889, 79.90457662562366, 80.17328624953842, 80.44199587345318, 80.71070549736795, 80.97941512128271, 81.24812474519749, 81.51683436911225, 81.785543993027, 82.05425361694178, 82.32296324085654, 82.59167286477131, 82.86038248868607, 83.12909211260083, 83.3978017365156, 83.66651136043036, 83.93522098434514, 84.2039306082599, 84.47264023217465, 84.74134985608943, 85.01005948000419, 85.27876910391896, 85.54747872783372, 85.81618835174848, 86.08489797566325, 86.35360759957801, 86.62231722349279, 86.89102684740755, 87.1597364713223, 87.42844609523708, 87.69715571915182, 87.9658653430666, 88.23457496698136, 88.50328459089611, 88.77199421481089, 89.04070383872565, 89.30941346264042, 89.57812308655518, 89.84683271046994, 90.11554233438471, 90.38425195829947, 90.65296158221425, 90.921671206129, 91.19038083004376, 91.45909045395854, 91.7278000778733, 91.99650970178807, 92.26521932570283, 92.53392894961759, 92.80263857353236, 93.07134819744712, 93.3400578213619, 93.60876744527665, 93.87747706919141, 94.14618669310619, 94.41489631702095, 94.68360594093572, 94.95231556485048, 95.22102518876524, 95.48973481268, 95.75844443659479, 96.02715406050955, 96.2958636844243, 96.56457330833906, 96.83328293225382, 97.10199255616861, 97.37070218008337, 97.63941180399813, 97.90812142791289, 98.17683105182765, 98.44554067574244, 98.7142502996572, 98.98295992357195, 99.25166954748671, 99.52037917140147, 99.78908879531626, 100.05779841923102, 100.32650804314578, 100.59521766706054, 100.8639272909753, 101.13263691489009, 101.40134653880484], \"xaxis\": \"x\", \"y\": [0.0010830611558511594, 0.0010821164505001352, 0.0010792449700590843, 0.0010744634722807923, 0.0010677991724396796, 0.001059289561732651, 0.001048982146303974, 0.001036934112118045, 0.001023211922087958, 0.0010078908529893968, 0.000991054480734856, 0.0009727941235402195, 0.0009532082533736825, 0.0009324018868275544, 0.0009104859671892436, 0.0008875767500045763, 0.0008637952048209753, 0.000839266446068991, 0.0008141192061885377, 0.0007884853641326236, 0.0007624995422893914, 0.0007362987846564408, 0.0007100223287841907, 0.0006838114835815204, 0.000657809624551924, 0.0006321623174050769, 0.0006070175802707404, 0.0005825262939305839, 0.0005588427685797786, 0.000536125474632927, 0.0005145379439951733, 0.0004942498470250059, 0.0004754382491137513, 0.00045828904939023215, 0.00044299860251807444, 0.0004297755228770302, 0.0004188426685968464, 0.00041043930093089415, 0.00040482341230526026, 0.0004022742140464345, 0.00040309477226799397, 0.0004076147776768139, 0.00041619343213885235, 0.00042922243172387664, 0.0004471290226333037, 0.0004703791029168598, 0.0004994803392204835, 0.0005349852640053884, 0.0005774943147705778, 0.0006276587728412149, 0.0006861835553052297, 0.0007538298097519949, 0.0008314172576611107, 0.0009198262286865981, 0.0010199993247718068, 0.0011329426501101377, 0.001259726540541224, 0.0014014857241511256, 0.0015594188437430105, 0.0017347872715770727, 0.001928913147461424, 0.0021431765730211927, 0.0023790118978885633, 0.0026379030377394145, 0.0029213777696380345, 0.0032310009571112947, 0.0035683666658076533, 0.003935089140535109, 0.0043327926259188985, 0.004763100025850345, 0.00522762041125875, 0.0057279354014388925, 0.006265584461087459, 0.006842049173182375, 0.007458736566687354, 0.008116961597548739, 0.008817928901311238, 0.009562713955615847, 0.010352243810534708, 0.011187277563791438, 0.012068386776047239, 0.012995936038213723, 0.013970063917797731, 0.014990664524197344, 0.01605736994327104, 0.0171695337990265, 0.01832621620458081, 0.019526170365324683, 0.02076783109421019, 0.022049305492068277, 0.023368366034687053, 0.024722446292960724, 0.026108639492734925, 0.027523700097082902, 0.028964048565797963, 0.030425779415094882, 0.031904672665189315, 0.03339620872495268, 0.03489558672169015, 0.0363977462407905, 0.03789739239516357, 0.0393890240986602, 0.040866965371776816, 0.04232539946261498, 0.043758405522056544, 0.045159997530197116, 0.046524165132004365, 0.04784491600467504, 0.04911631934794389, 0.05033255006228841, 0.051487933159151615, 0.05257698793244972, 0.053594471412147515, 0.05453542061885544, 0.055395193143398504, 0.05616950558721449, 0.056854469418150116, 0.0574466238216017, 0.05794296515864417, 0.05834097268040345, 0.05863863019092018, 0.05883444339846995, 0.05892745274705352, 0.058917241574709435, 0.058803939502606206, 0.0585882210176051, 0.0582712992702303, 0.05785491516879779, 0.057341321907897404, 0.05673326512460003, 0.056033958927811135, 0.055247058094318124, 0.05437662676855895, 0.05342710404134876, 0.05240326681521157, 0.05131019039014767, 0.050153207223331386, 0.04893786432919632, 0.04766987979254751, 0.046355098866827676, 0.044999450122603805, 0.04360890209803372, 0.04218942088389559, 0.040746929051191996, 0.039287266299935175, 0.03781615217409267, 0.03633915115050254, 0.03486164036956039, 0.03338878023336944, 0.03192548805356637, 0.03047641488692381, 0.029045925652792893, 0.027638082583167124, 0.026256632014249152, 0.024904994488464855, 0.023586258098413398, 0.022303174969699142, 0.021058160748348865, 0.019853296930854757, 0.01869033585102083, 0.01757070811786475, 0.01649553228289416, 0.015465626503132376, 0.014481521958224032, 0.013543477775674696, 0.012651497217569824, 0.011805344884732949, 0.011004564699945873, 0.010248498440243734, 0.009536304599084474, 0.008866977372025218, 0.00823936557405602, 0.007652191312594028, 0.007104068256972804, 0.006593519362741053, 0.006118993926892233, 0.00567888386798717, 0.005271539142739025, 0.00489528222776355, 0.004548421611649763, 0.004229264258101458, 0.003936127015494083, 0.003667346961672102, 0.0034212906850979836, 0.003196362514502002, 0.0029910117189469935, 0.0028037387087118124, 0.0026331002746326185, 0.002477713909560498, 0.002336261260452299, 0.0022074907633774297, 0.002090219516472884, 0.0019833344476984827, 0.0018857928352222397, 0.0017966222384945055, 0.0017149198976403616, 0.0016398516578025348, 0.0015706504735890454, 0.0015066145469021382, 0.001447105149224861, 0.0013915441769888125, 0.0013394114860042713, 0.0012902420481589497, 0.0012436229707329192, 0.0011991904157774176, 0.0011566264541006727, 0.0011156558855235422, 0.0010760430542369266, 0.0010375886853300458, 0.001000126765879005, 0.0009635214913997161, 0.0009276642959857839, 0.0008924709820762756, 0.0008578789635332818, 0.0008238446335568589, 0.0007903408669261328, 0.0007573546641297643, 0.0007248849431364911, 0.0006929404828562728, 0.0006615380207539755, 0.0006307005055999809, 0.0006004555049751858, 0.0005708337658908944, 0.0005418679257372759, 0.0005135913697365045, 0.0004860372301487981, 0.0004592375216600817, 0.0004332224066688865, 0.0004080195835857292, 0.0003836537907593265, 0.00036014641824841983, 0.000337515219362953, 0.0003157741137006667, 0.0002949330733006749, 0.0002749980835197377, 0.0002559711703043169, 0.00023785048567616208, 0.00022063044346473703, 0.0002043018975991168, 0.00018885235560789205, 0.0001742662203603778, 0.00016052505350821716, 0.00014760785454554805, 0.00013549134989026125, 0.00012415028689102755, 0.00011355772817721996, 0.0001036853422845622, 9.450368700177987e-05, 8.598248238656283e-05, 7.809087088732484e-05, 7.079766247573343e-05, 6.407156313951065e-05, 5.788138550218771e-05, 5.2196240723377395e-05, 4.698571118768428e-05, 4.222000381107137e-05, 3.787008407948697e-05, 3.390779118561999e-05, 3.0305934846027367e-05, 2.703837456337743e-05, 2.4080082248371027e-05, 2.140718923460277e-05, 1.899701880911478e-05, 1.682810544377762e-05, 1.488020195023176e-05, 1.3134275796379558e-05, 1.1572495817816373e-05, 1.0178210535692529e-05, 8.935919255772263e-06, 7.831237074363743e-06, 6.850854857664686e-06, 5.982495194103835e-06, 5.214865246530426e-06, 4.537607354488173e-06, 3.941248158023609e-06, 3.4171469350368734e-06, 2.9574437654160203e-06, 2.5550080582439437e-06, 2.2033879041832133e-06, 1.8967606445066512e-06, 1.6298849817606463e-06, 1.3980548951764706e-06, 1.1970555669987341e-06, 1.0231214740605808e-06, 8.728967522767727e-07, 7.433979002224432e-07, 6.319788515054169e-07, 5.36298414047849e-07, 4.5429004743164475e-07, 3.8413392685569734e-07, 3.2423122369184833e-07, 2.73180517780213e-07, 2.297562451317279e-07, 1.9288907626009548e-07, 1.6164811460456056e-07, 1.3522480109545615e-07, 1.1291840953593729e-07, 9.412301782349124e-08, 7.831584183056017e-08, 6.504682174444644e-08, 5.392935459480092e-08, 4.463207135827323e-08, 3.687156223390223e-08, 3.0405959261898595e-08, 2.5029291267396703e-08, 2.0566532025184008e-08, 1.686926845669341e-08, 1.3811921500186732e-08, 1.1288457969022766e-08, 9.209537176089458e-09, 7.500041312975465e-09, 6.096943499920703e-09, 4.947472046819864e-09, 4.007533774840535e-09, 3.240363238156423e-09, 2.6153683574046956e-09, 2.107146337118114e-09, 1.6946467987488713e-09, 1.3604618320767601e-09, 1.0902251660107936e-09, 8.721049017224891e-10, 6.963762542423647e-10, 5.550625310585986e-10, 4.416341558272944e-10, 3.507569396749136e-10, 2.780820288212243e-10, 2.2007103170056302e-10, 1.7385076685417399e-10, 1.3709288907296294e-10, 1.0791435902725215e-10, 8.479533331466709e-11, 6.651157882623126e-11, 5.207896788386932e-11, 4.070799805813523e-11, 3.176661130947321e-11, 2.4749868599426515e-11, 1.9255275054829424e-11, 1.496275304254138e-11, 1.1618431333410046e-11, 9.021562480321532e-12, 7.014001617327774e-12, 5.471781609611671e-12, 4.2984049038638955e-12, 3.419544208405271e-12, 2.77890459311697e-12, 2.33505076813742e-12, 2.0590469557202573e-12, 1.9327944831287576e-12, 1.9479853999065603e-12, 2.1056203337219477e-12, 2.4160666232493662e-12, 2.899659620591268e-12, 3.587877027064716e-12, 4.5251443057809935e-12, 5.771359729236371e-12, 7.405261665864169e-12, 9.52879958479702e-12, 1.2272715399938363e-11, 1.5803594795703912e-11, 2.0332710906029022e-11, 2.6127057242304736e-11, 3.352305547562135e-11, 4.2943529317627633e-11, 5.4918661461085736e-11, 7.011179994501804e-11, 8.935115752861797e-11, 1.136686574022241e-10, 1.4434742618623488e-10, 1.8297972673324927e-10, 2.3153746559291268e-10, 2.924578107990742e-10, 3.6874692347065616e-10, 4.641053511095949e-10, 5.830792619604235e-10, 7.312424299289552e-10, 9.154147209559483e-10, 1.1439237980692305e-09, 1.4269178682759433e-09, 1.776738555647312e-09, 2.2083644178902827e-09, 2.73993724560448e-09, 3.393385112014791e-09, 4.195158194220763e-09, 5.177095682808136e-09, 6.377444652420732e-09, 7.842054597991904e-09, 9.62577446459881e-09, 1.1794082425837715e-08, 1.4424982405642978e-08, 1.761120539696302e-08, 2.1462758007956853e-08, 2.610986535646318e-08, 3.1706360422915664e-08, 3.843357723829841e-08, 4.6504810794332236e-08, 5.6170412273079066e-08, 6.772359404425976e-08, 8.150702479702609e-08, 9.792030106829051e-08, 1.1742838719281084e-07, 1.4057112120191578e-07, 1.6797388928760796e-07, 2.0035957595360086e-07, 2.385619006984252e-07, 2.8354025479783995e-07, 3.363961532304678e-07, 3.9839141675503824e-07, 4.709681973105814e-07, 5.557709559639173e-07, 6.546704962457887e-07, 7.697901465587583e-07, 9.035341730594783e-07, 1.058618488664251e-06, 1.2381037042550674e-06, 1.4454305444399565e-06, 1.684457622035212e-06, 1.959501532510028e-06, 2.275379191729898e-06, 2.6374522972768525e-06, 3.051673745302434e-06, 3.524635781257232e-06, 4.063619604013674e-06, 4.676646079036876e-06, 5.372527147675773e-06, 6.160917446793048e-06, 7.052365576423411e-06, 8.05836437371932e-06, 9.191399470033936e-06, 1.0464995325723134e-05, 1.1893757855407e-05, 1.3493412676483502e-05, 1.528083793728097e-05, 1.72740906101649e-05, 1.9492425071141506e-05, 2.1956302733097415e-05, 2.4687391456961673e-05, 2.7708553436030273e-05, 3.104382023572067e-05, 3.4718353676405635e-05, 3.875839127291159e-05, 4.319117499283877e-05, 4.8044862169011094e-05, 5.334841750074285e-05, 5.913148520563728e-05, 6.542424053931874e-05, 7.225722008544439e-05, 7.966113043269581e-05, 8.766663509875284e-05, 9.630411983253455e-05, 0.00010560343672361242, 0.00011559362786928638, 0.00012630262969253074, 0.00013775695936397303, 0.0001499813851540828, 0.00016299858292267785, 0.00017682878133604767, 0.00019148939878131557, 0.00020699467531622807, 0.00022335530334347285, 0.00024057806102431359, 0.0002586654527392835, 0.0002776153611564335, 0.00029742071567254576, 0.0003180691821428576, 0.0003395428789033989, 0.00036181812411100204, 0.00038486521937426373, 0.00040864827451981195, 0.00043312507812918023, 0.0004582470181904749, 0.00048395905683533343, 0.0005101997626765777, 0.0005369014037278301, 0.0005639901032775744, 0.0005913860604123802, 0.0006190038361446406, 0.0006467527053082655, 0.0006745370735514361, 0.0007022569578906422, 0.0007298085284073379, 0.0007570847077815885, 0.0007839758244800459, 0.0008103703145638271, 0.000836155466269757, 0.0008612182007612081, 0.000885445881756691, 0.0009087271461388425, 0.0009309527471365443, 0.0009520164012693661, 0.0009718156299563898, 0.0009902525865284196, 0.00100723485934933, 0.0010226762418527155, 0.001036497460535025, 0.0010486268523150777, 0.0010590009831686312, 0.0010675652005694741, 0.0010742741130071994, 0.0010790919906957413, 0.001081993082523554], \"yaxis\": \"y\"}, {\"legendgroup\": \"Ridge\", \"marker\": {\"color\": \"rgb(255, 127, 14)\"}, \"mode\": \"lines\", \"name\": \"Ridge\", \"showlegend\": false, \"type\": \"scatter\", \"x\": [-21.465782709953917, -21.232247002194356, -20.998711294434795, -20.765175586675234, -20.531639878915673, -20.298104171156112, -20.064568463396554, -19.831032755636993, -19.597497047877432, -19.36396134011787, -19.13042563235831, -18.89688992459875, -18.66335421683919, -18.429818509079627, -18.196282801320066, -17.962747093560505, -17.729211385800944, -17.495675678041387, -17.262139970281822, -17.028604262522265, -16.795068554762704, -16.561532847003143, -16.327997139243582, -16.09446143148402, -15.86092572372446, -15.627390015964899, -15.393854308205338, -15.160318600445777, -14.926782892686218, -14.693247184926657, -14.459711477167097, -14.226175769407536, -13.992640061647975, -13.759104353888414, -13.525568646128853, -13.292032938369292, -13.058497230609731, -12.824961522850172, -12.591425815090611, -12.35789010733105, -12.124354399571489, -11.890818691811928, -11.657282984052367, -11.423747276292808, -11.190211568533247, -10.956675860773686, -10.723140153014125, -10.489604445254564, -10.256068737495003, -10.022533029735444, -9.788997321975883, -9.555461614216322, -9.32192590645676, -9.0883901986972, -8.854854490937639, -8.62131878317808, -8.387783075418518, -8.154247367658957, -7.920711659899396, -7.687175952139835, -7.453640244380276, -7.220104536620715, -6.986568828861154, -6.753033121101593, -6.519497413342032, -6.285961705582473, -6.05242599782291, -5.818890290063351, -5.58535458230379, -5.351818874544229, -5.118283166784668, -4.884747459025107, -4.651211751265546, -4.417676043505988, -4.184140335746427, -3.9506046279868627, -3.7170689202273053, -3.4835332124677443, -3.2499975047081833, -3.0164617969486187, -2.7829260891890613, -2.5493903814295003, -2.3158546736699392, -2.082318965910382, -1.8487832581508172, -1.6152475503912562, -1.3817118426316988, -1.1481761348721378, -0.9146404271125768, -0.6811047193530122, -0.44756901159345475, -0.21403330383389374, 0.019502403925667267, 0.2530381116852247, 0.4865738194447893, 0.7201095272043503, 0.9536452349639113, 1.1871809427234687, 1.4207166504830298, 1.6542523582425943, 1.8877880660021518, 2.1213237737617128, 2.354859481521274, 2.588395189280835, 2.821930897040396, 3.055466604799957, 3.289002312559518, 3.5225380203190753, 3.75607372807864, 3.989609435838201, 4.223145143597758, 4.456680851357319, 4.69021655911688, 4.923752266876441, 5.157287974636002, 5.390823682395563, 5.624359390155124, 5.857895097914682, 6.091430805674246, 6.324966513433807, 6.558502221193365, 6.792037928952926, 7.025573636712487, 7.259109344472048, 7.492645052231609, 7.72618075999117, 7.959716467750731, 8.193252175510292, 8.426787883269853, 8.660323591029414, 8.893859298788971, 9.127395006548532, 9.360930714308097, 9.594466422067658, 9.828002129827215, 10.061537837586776, 10.295073545346337, 10.528609253105898, 10.76214496086546, 10.995680668625024, 11.229216376384581, 11.462752084144139, 11.696287791903703, 11.92982349966326, 12.163359207422825, 12.396894915182383, 12.63043062294194, 12.863966330701505, 13.097502038461062, 13.331037746220627, 13.564573453980191, 13.798109161739749, 14.031644869499306, 14.265180577258864, 14.498716285018428, 14.732251992777993, 14.96578770053755, 15.199323408297115, 15.43285911605668, 15.66639482381623, 15.899930531575794, 16.133466239335352, 16.367001947094916, 16.60053765485448, 16.83407336261404, 17.067609070373603, 17.301144778133153, 17.534680485892718, 17.768216193652282, 18.00175190141184, 18.235287609171404, 18.468823316930962, 18.70235902469052, 18.935894732450084, 19.16943044020964, 19.402966147969206, 19.636501855728763, 19.870037563488328, 20.103573271247893, 20.337108979007443, 20.570644686767007, 20.804180394526565, 21.03771610228613, 21.271251810045694, 21.50478751780525, 21.738323225564816, 21.971858933324366, 22.20539464108393, 22.438930348843495, 22.672466056603053, 22.906001764362617, 23.139537472122175, 23.37307317988174, 23.606608887641297, 23.840144595400854, 24.07368030316042, 24.307216010919976, 24.54075171867954, 24.774287426439106, 25.007823134198656, 25.24135884195822, 25.474894549717778, 25.708430257477342, 25.941965965236907, 26.175501672996464, 26.40903738075603, 26.642573088515586, 26.876108796275144, 27.10964450403471, 27.343180211794266, 27.57671591955383, 27.810251627313395, 28.043787335072953, 28.27732304283251, 28.510858750592067, 28.744394458351632, 28.977930166111197, 29.211465873870754, 29.44500158163032, 29.67853728938987, 29.912072997149433, 30.145608704908998, 30.379144412668555, 30.61268012042812, 30.846215828187677, 31.079751535947242, 31.3132872437068, 31.546822951466357, 31.78035865922592, 32.01389436698548, 32.24743007474504, 32.48096578250461, 32.71450149026417, 32.94803719802373, 33.181572905783284, 33.41510861354284, 33.64864432130241, 33.88218002906197, 34.11571573682153, 34.349251444581085, 34.58278715234064, 34.816322860100215, 35.04985856785977, 35.28339427561933, 35.51692998337889, 35.75046569113846, 35.984001398898016, 36.21753710665757, 36.45107281441713, 36.6846085221767, 36.91814422993626, 37.15167993769582, 37.385215645455375, 37.61875135321493, 37.852287060974504, 38.08582276873406, 38.31935847649362, 38.55289418425318, 38.78642989201275, 39.019965599772306, 39.25350130753186, 39.48703701529142, 39.72057272305098, 39.95410843081055, 40.18764413857011, 40.421179846329665, 40.654715554089236, 40.88825126184878, 41.12178696960835, 41.35532267736791, 41.588858385127466, 41.82239409288704, 42.055929800646595, 42.28946550840615, 42.52300121616571, 42.75653692392528, 42.99007263168484, 43.2236083394444, 43.45714404720397, 43.690679754963526, 43.92421546272308, 44.15775117048264, 44.3912868782422, 44.624822586001756, 44.85835829376133, 45.091894001520885, 45.32542970928044, 45.55896541704, 45.79250112479957, 46.02603683255913, 46.259572540318686, 46.493108248078244, 46.7266439558378, 46.96017966359737, 47.19371537135693, 47.4272510791165, 47.660786786876045, 47.8943224946356, 48.127858202395174, 48.36139391015473, 48.5949296179143, 48.82846532567385, 49.06200103343342, 49.295536741192976, 49.52907244895253, 49.762608156712105, 49.99614386447165, 50.22967957223122, 50.46321527999078, 50.69675098775035, 50.930286695509906, 51.16382240326945, 51.39735811102902, 51.63089381878858, 51.86442952654815, 52.09796523430771, 52.33150094206728, 52.56503664982682, 52.79857235758638, 53.03210806534595, 53.26564377310551, 53.49917948086508, 53.732715188624624, 53.966250896384196, 54.19978660414375, 54.43332231190331, 54.66685801966288, 54.900393727422426, 55.133929435182, 55.367465142941555, 55.601000850701126, 55.834536558460684, 56.06807226622023, 56.3016079739798, 56.535143681739356, 56.76867938949893, 57.002215097258485, 57.23575080501803, 57.4692865127776, 57.70282222053716, 57.93635792829673, 58.16989363605629, 58.403429343815844, 58.6369650515754, 58.87050075933496, 59.10403646709453, 59.33757217485409, 59.571107882613646, 59.8046435903732, 60.038179298132775, 60.27171500589233, 60.50525071365189, 60.73878642141145, 60.972322129171005, 61.205857836930576, 61.439393544690134, 61.672929252449705, 61.90646496020925, 62.140000667968806, 62.37353637572838, 62.607072083487935, 62.84060779124751, 63.07414349900705, 63.30767920676662, 63.54121491452618, 63.77475062228574, 64.00828633004531, 64.24182203780485, 64.47535774556442, 64.70889345332398, 64.94242916108355, 65.17596486884311, 65.40950057660265, 65.64303628436222, 65.87657199212178, 66.11010769988135, 66.34364340764091, 66.57717911540047, 66.81071482316003, 67.04425053091958, 67.27778623867916, 67.51132194643871, 67.74485765419827, 67.97839336195783, 68.2119290697174, 68.44546477747696, 68.67900048523651, 68.91253619299607, 69.14607190075563, 69.3796076085152, 69.61314331627476, 69.84667902403432, 70.08021473179387, 70.31375043955343, 70.547286147313, 70.78082185507256, 71.01435756283213, 71.24789327059167, 71.48142897835123, 71.7149646861108, 71.94850039387036, 72.18203610162993, 72.41557180938948, 72.64910751714905, 72.8826432249086, 73.11617893266816, 73.34971464042773, 73.58325034818728, 73.81678605594685, 74.0503217637064, 74.28385747146598, 74.51739317922554, 74.7509288869851, 74.98446459474465, 75.21800030250421, 75.45153601026378, 75.68507171802334, 75.91860742578291, 76.15214313354245, 76.38567884130201, 76.61921454906158, 76.85275025682114, 77.08628596458071, 77.31982167234025, 77.55335738009983, 77.78689308785938, 78.02042879561894, 78.25396450337851, 78.48750021113806, 78.72103591889763, 78.95457162665718, 79.18810733441676, 79.42164304217631, 79.65517874993586, 79.88871445769543, 80.12225016545499, 80.35578587321456, 80.58932158097412, 80.82285728873366, 81.05639299649323, 81.28992870425279, 81.52346441201236, 81.75700011977192, 81.99053582753147, 82.22407153529103, 82.45760724305059, 82.69114295081016, 82.92467865856972, 83.15821436632928, 83.39175007408883, 83.6252857818484, 83.85882148960796, 84.09235719736752, 84.32589290512708, 84.55942861288663, 84.7929643206462, 85.02650002840576, 85.26003573616534, 85.49357144392488, 85.72710715168444, 85.96064285944401, 86.19417856720356, 86.42771427496314, 86.66124998272268, 86.89478569048225, 87.12832139824181, 87.36185710600137, 87.59539281376094, 87.82892852152048, 88.06246422928005, 88.29599993703961, 88.52953564479918, 88.76307135255874, 88.99660706031828, 89.23014276807785, 89.46367847583741, 89.69721418359698, 89.93074989135654, 90.1642855991161, 90.39782130687566, 90.63135701463521, 90.86489272239479, 91.09842843015434, 91.3319641379139, 91.56549984567346, 91.79903555343303, 92.03257126119259, 92.26610696895214, 92.4996426767117, 92.73317838447126, 92.96671409223083, 93.20024979999039, 93.43378550774995, 93.6673212155095, 93.90085692326906, 94.13439263102863, 94.36792833878819, 94.60146404654776, 94.83499975430732, 95.06853546206686], \"xaxis\": \"x\", \"y\": [0.004803526300363502, 0.004957014247410821, 0.005114169496086014, 0.005275137617262137, 0.005440073771600525, 0.0056091427718040765, 0.005782519100034475, 0.005960386877571608, 0.006142939783653186, 0.006330380920288718, 0.006522922619699178, 0.006720786190898597, 0.006924201601811906, 0.007133407093222673, 0.007348648720771232, 0.007570179821187113, 0.0077982603989462775, 0.008033156429602208, 0.008275139076158022, 0.008524483815031172, 0.008781469468421356, 0.009046377140229822, 0.009319489053102798, 0.009601087284683929, 0.00989145240176703, 0.01019086199173958, 0.010499589091502087, 0.010817900514935232, 0.01114605508096368, 0.011484301745326919, 0.011832877640307157, 0.012192006027873228, 0.012561894172966985, 0.012942731144973364, 0.013334685556762031, 0.013737903252053218, 0.01415250495322475, 0.014578583883024378, 0.015016203374961418, 0.015465394488405351, 0.015926153645595006, 0.016398440308840717, 0.016882174717162347, 0.01737723570242844, 0.017883458605726606, 0.018400633315184597, 0.018928502446758533, 0.01946675968959374, 0.020015048337432874, 0.020572960027183198, 0.02114003370515313, 0.02171575484062168, 0.022299554905310343, 0.022890811135987305, 0.02348884659585147, 0.024092930548527194, 0.024702279156459513, 0.025316056513249433, 0.02593337601702593, 0.026553302089336577, 0.027174852241275554, 0.027796999485682768, 0.028418675091268338, 0.029038771671475484, 0.0296561465978211, 0.03026962572438521, 0.030878007407087217, 0.031480066798429046, 0.03207456039553345, 0.03266023081659701, 0.03323581177834508, 0.03380003324474993, 0.03435162671518836, 0.03488933061839335, 0.03541189577702521, 0.035918090906472064, 0.03640670811060301, 0.03687656833665968, 0.03732652675128778, 0.037755477999891096, 0.03816236131203439, 0.03854616541652846, 0.038905933231092184, 0.03924076629309185, 0.03954982889979205, 0.03983235192879441, 0.04008763631186841, 0.04031505613816367, 0.04051406136580809, 0.040684180124104206, 0.040825020591906985, 0.04093627244125801, 0.04101770783892925, 0.04106918200215261, 0.041090633308442065, 0.04108208296301112, 0.04104363423081515, 0.040975471243664796, 0.040877857396130916, 0.040751133347057183, 0.04059571464638546, 0.04041208900965341, 0.04020081326491571, 0.039962509998954926, 0.03969786393146303, 0.039407618047379966, 0.039092569518760674, 0.03875356544840404, 0.038391498468011216, 0.0380073022238554, 0.037601946782841594, 0.037176433991427706, 0.03673179281917955, 0.0362690747177591, 0.03578934902491803, 0.035293698441607714, 0.03478321460865021, 0.03425899380756257, 0.03372213280812275, 0.033173724883131264, 0.03261485600859188, 0.03204660126523238, 0.03147002145494119, 0.030886159943337148, 0.03029603973734033, 0.02970066080430023, 0.029100997636984312, 0.02849799706655787, 0.027892576323614013, 0.027285621345357648, 0.02667798532522367, 0.02607048749953072, 0.02546391216424617, 0.024859007913573594, 0.024256487090875547, 0.02365702544141464, 0.023061261955534745, 0.022469798890209506, 0.021883201956354226, 0.021302000658923605, 0.02072668877659371, 0.02015772496774478, 0.0195955334895117, 0.019040505016839713, 0.018492997548763795, 0.017953337389509615, 0.017421820192476914, 0.016898712055705308, 0.016384250658019198, 0.015878646425696866, 0.01538208372019281, 0.014894722038152643, 0.01441669721568635, 0.013948122629597423, 0.013489090388994774, 0.01303967251143182, 0.01259992207841781, 0.012169874365821811, 0.011749547945336862, 0.011338945753784082, 0.010938056127612956, 0.01054685380049095, 0.01016530086237012, 0.009793347678873496, 0.009430933770254162, 0.009077988649550535, 0.008734432619890138, 0.00840017753118353, 0.008075127496702531, 0.007759179570252921, 0.007452224384835812, 0.007154146753844452, 0.006864826235968071, 0.006584137665074242, 0.006311951646417701, 0.006048135020580356, 0.005792551296586518, 0.005545061055660559, 0.005305522327105126, 0.005073790937777104, 0.004849720836628475, 0.004633164395761506, 0.004423972689422942, 0.004221995752332881, 0.004027082818709761, 0.003839082543315911, 0.003657843205808189, 0.0034832128996357, 0.0033150397066829466, 0.0031531718588104917, 0.0029974578873984623, 0.0028477467619495533, 0.0027038880187583666, 0.0025657318806031016, 0.0024331293683631933, 0.0023059324054132925, 0.002183993915589263, 0.002067167915466235, 0.0019553096016321505, 0.0018482754335825123, 0.0017459232128038708, 0.0016481121585548415, 0.001554702980794251, 0.0014655579506473156, 0.001380540968742014, 0.0012995176316901982, 0.0012223552969313736, 0.0011489231461020459, 0.0010790922470406451, 0.0010127356144874044, 0.0009497282694908528, 0.0008899472974881808, 0.0008332719049856798, 0.000779583474728615, 0.0007287656192170017, 0.0006807042323954856, 0.0006352875393217757, 0.0005924061435991305, 0.000551953072344306, 0.0005138238184530872, 0.0004779163799209684, 0.00044413129597685474, 0.0004123716797922153, 0.00038254324753717186, 0.00035455434356799505, 0.000328315961547087, 0.00030374176131663376, 0.00028074808136996506, 0.0002592539467902159, 0.00023918107255339066, 0.00022045386212213755, 0.00020299940128693853, 0.0001867474472425107, 0.00017163041291858545, 0.00015758334661551647, 0.0001445439070258053, 0.0001324523337523941, 0.00012125141346300967, 0.00011088644184665723, 0.0001013051815632847, 9.245781640039234e-05, 8.429690187077612e-05, 7.67773125034787e-05, 6.985618609527431e-05, 6.349286520254165e-05, 5.7648836163147376e-05, 5.2287665944972075e-05, 4.737493712198224e-05, 4.287818128038703e-05, 3.8766811156462286e-05, 3.5012051804258416e-05, 3.158687108574385e-05, 2.8465909768162148e-05, 2.5625411503673702e-05, 2.304315295491756e-05, 2.069837431717215e-05, 1.8571710473527092e-05, 1.6645123004122927e-05, 1.4901833254279549e-05, 1.3326256649437218e-05, 1.1903938427473775e-05, 1.0621490941344947e-05, 9.466532667293817e-06, 8.427629036277731e-06, 7.494235188920345e-06, 6.656640737355231e-06, 5.905916600926319e-06, 5.233863966950344e-06, 4.6329654127356175e-06, 4.096338210870082e-06, 3.6176898264982233e-06, 3.191275602966374e-06, 2.8118586208509686e-06, 2.4746717050272075e-06, 2.175381545092929e-06, 1.910054886130502e-06, 1.6751267394596123e-06, 1.4673705566798943e-06, 1.2838703048973585e-06, 1.121994376531641e-06, 9.79371263470702e-07, 8.538669225264922e-07, 7.43563757095657e-07, 6.467411385897746e-07, 5.618573905116231e-07, 4.8753315795967e-07, 4.2253608578379353e-07, 3.657667295337803e-07, 3.162456246807856e-07, 2.731014412966949e-07, 2.3556015339345874e-07, 2.029351544044443e-07, 1.7461825278459124e-07, 1.5007148437187545e-07, 1.28819680947876e-07, 1.1044373732255297e-07, 9.457452221335626e-08, 8.088738116054672e-08, 6.90971826917183e-08, 5.895386189449919e-08, 5.023841845637994e-08, 4.275932906628233e-08, 3.634933682865311e-08, 3.0862583004944554e-08, 2.6172048959098328e-08, 2.2167278635332142e-08, 1.8752354232191572e-08, 1.5844099952629115e-08, 1.3370490803477893e-08, 1.1269245388272619e-08, 9.486583485459227e-09, 7.976130931135616e-09, 6.697955934159567e-09, 5.617722445004895e-09, 4.705947582106794e-09, 3.937351395069696e-09, 3.290288417841054e-09, 2.7462515419365216e-09, 2.2894397253333635e-09, 1.906381952174673e-09, 1.5856106773945393e-09, 1.3173787342313649e-09, 1.0934143566967978e-09, 9.067095786515593e-10, 7.513378212984795e-10, 6.222969765389019e-10, 5.153747394679648e-10, 4.270333438004658e-10, 3.5431121350535414e-10, 2.947393664417624e-10, 2.462706951713333e-10, 2.0722050999827234e-10, 1.7621696307811134e-10, 1.5216018336635848e-10, 1.3418914329289181e-10, 1.2165545222732842e-10, 1.1410343177491072e-10, 1.1125597631071636e-10, 1.1300584140900424e-10, 1.194121353470067e-10, 1.3070191697737445e-10, 1.47276929234935e-10, 1.69725623600355e-10, 1.988407591982502e-10, 2.356429930749959e-10, 2.814110178162932e-10, 3.3771895129701085e-10, 4.064818433281169e-10, 4.900103376646071e-10, 5.910757177287822e-10, 7.129867730349689e-10, 8.596801533196463e-10, 1.0358261315253672e-09, 1.2469519778976163e-09, 1.499585458464022e-09, 1.8014213150936254e-09, 2.1615139642743878e-09, 2.5905000708430044e-09, 3.100855114331496e-09, 3.70718857252364e-09, 4.426582902377897e-09, 5.2789821056938735e-09, 6.287636328667583e-09, 7.47960966345993e-09, 8.886359098447878e-09, 1.0544393403942498e-08, 1.2496021643300118e-08, 1.4790201966448168e-08, 1.748350237403726e-08, 2.064118623502173e-08, 2.4338436496774976e-08, 2.8661733741937804e-08, 3.371040451591253e-08, 3.959835766744944e-08, 4.6456027804700975e-08, 5.443254636109258e-08, 6.369816217783834e-08, 7.444693492926155e-08, 8.689972612687941e-08, 1.01307513819612e-07, 1.1795505843863166e-07, 1.371649484914039e-07, 1.5930205596247316e-07, 1.847784322971014e-07, 2.140586766934704e-07, 2.476658090717182e-07, 2.86187680482194e-07, 3.3028395381634855e-07, 3.8069368744376446e-07, 4.3824355376715103e-07, 5.038567236102295e-07, 5.785624457757884e-07, 6.635063489748135e-07, 7.59961490574473e-07, 8.693401731829815e-07, 9.932065459243484e-07, 1.133290002298223e-06, 1.291499380713024e-06, 1.4699379670738779e-06, 1.6709192911508762e-06, 1.8969836998086e-06, 2.1509156805094134e-06, 2.4357618977853548e-06, 2.7548498935948788e-06, 3.1118073896348957e-06, 3.5105821157834876e-06, 3.955462073925254e-06, 4.451096130511661e-06, 5.002514814392772e-06, 5.615151178809574e-06, 6.2948615680689315e-06, 7.047946110459313e-06, 7.88116873956588e-06, 8.801776526482651e-06, 9.817518085705387e-06, 1.0936660797949174e-05, 1.2168006574027051e-05, 1.3520905865528538e-05, 1.5005269610651729e-05, 1.663157878750059e-05, 1.8410891232789735e-05, 2.035484537158065e-05, 2.2475660493764717e-05, 2.4786133205889488e-05, 2.7299629683002274e-05, 3.0030073344807033e-05, 3.299192758402264e-05, 3.620017318270213e-05, 3.967028006482479e-05, 4.3418173050985986e-05, 4.7460191303774345e-05, 5.181304118072052e-05, 5.6493742245652666e-05, 6.151956622912471e-05, 6.690796877428916e-05, 7.267651385622289e-05, 7.884279082019606e-05, 8.542432404751738e-05, 9.243847532619064e-05, 9.990233907730129e-05, 0.00010783263066639863, 0.00011624556811162982, 0.00012515674758633812, 0.00013458101320259122, 0.00014453232165277587, 0.00015502360237811135, 0.00016606661402465402, 0.00017767179803805628, 0.0001898481303368156, 0.00020260297208883282, 0.0002159419206965527, 0.00022986866217047136, 0.00024438482613816455, 0.00025948984479480665, 0.00027518081715033636, 0.0002914523799666053, 0.0003082965868039749, 0.00032570279660985385, 0.00034365757328050795, 0.0003621445976115417, 0.00038114459302074924, 0.00040063526637934863, 0.0004205912652233902, 0.00044098415253625333, 0.0004617824001958477, 0.00048295140206636703, 0.0005044535075851026, 0.0005262480765502225, 0.0005482915556569103, 0.0005705375771577159, 0.0005929370798399503, 0.0006154384523201389, 0.0006379876984544822, 0.0006605286244573419, 0.0006830030471087071, 0.00070535102221903, 0.000727511092307999, 0.0007494205522450949, 0.0007710157313970134, 0.0007922322906323151, 0.0008130055323499305, 0.0008332707215275096, 0.0008529634156306005, 0.0008720198010864762, 0.00089037703390902, 0.0009079735819655144, 0.0009247495663038497, 0.0009406470989111038, 0.0009556106142526289, 0.0009695871919455475, 0.000982526867952335, 0.0009943829317390646, 0.0010051122069287103, 0.0010146753130920358, 0.0010230369064561768, 0.0010301658974727688, 0.0010360356433718196, 0.0010406241140326206, 0.0010439140297266523, 0.001045892969527303], \"yaxis\": \"y\"}, {\"legendgroup\": \"Lasso\", \"marker\": {\"color\": \"rgb(31, 119, 180)\", \"symbol\": \"line-ns-open\"}, \"mode\": \"markers\", \"name\": \"Lasso\", \"showlegend\": false, \"type\": \"scatter\", \"x\": [101.67005616271959, 0.0, 0.0, 3.7177969712661394, 0.0, 0.0, 0.0, 0.0, -0.0, 0.7517400074982162, 0.0, 0.0, -0.0, -0.0, -0.0, -0.0, -0.0, -0.0, -0.0, -0.0, -0.0, 0.0, 0.0, 0.0, 0.0, 0.0, 0.0, -0.0, -0.0, -32.68475579466282, -0.0, -0.0, -0.0, 0.0, 0.0, 0.0, 0.0, 19.655460753798717, 0.0, 0.0, 0.0, 0.0, 0.0, 0.0, 0.0, 3.8202649677683023, 5.207232224578849, -0.0, 0.0, 0.0, -0.0, -0.0, -0.0, 0.0, 0.0, -0.0, 0.0, 0.0], \"xaxis\": \"x\", \"y\": [\"Lasso\", \"Lasso\", \"Lasso\", \"Lasso\", \"Lasso\", \"Lasso\", \"Lasso\", \"Lasso\", \"Lasso\", \"Lasso\", \"Lasso\", \"Lasso\", \"Lasso\", \"Lasso\", \"Lasso\", \"Lasso\", \"Lasso\", \"Lasso\", \"Lasso\", \"Lasso\", \"Lasso\", \"Lasso\", \"Lasso\", \"Lasso\", \"Lasso\", \"Lasso\", \"Lasso\", \"Lasso\", \"Lasso\", \"Lasso\", \"Lasso\", \"Lasso\", \"Lasso\", \"Lasso\", \"Lasso\", \"Lasso\", \"Lasso\", \"Lasso\", \"Lasso\", \"Lasso\", \"Lasso\", \"Lasso\", \"Lasso\", \"Lasso\", \"Lasso\", \"Lasso\", \"Lasso\", \"Lasso\", \"Lasso\", \"Lasso\", \"Lasso\", \"Lasso\", \"Lasso\", \"Lasso\", \"Lasso\", \"Lasso\", \"Lasso\", \"Lasso\"], \"yaxis\": \"y2\"}, {\"legendgroup\": \"Ridge\", \"marker\": {\"color\": \"rgb(255, 127, 14)\", \"symbol\": \"line-ns-open\"}, \"mode\": \"markers\", \"name\": \"Ridge\", \"showlegend\": false, \"type\": \"scatter\", \"x\": [95.30207116982643, -5.243092264576142, -14.062318414717652, 8.384686389650243, 0.31282390923167774, -0.914625400316277, 7.711505318498433, -6.780064545441444, -0.36691857153215657, 2.2590402183651275, -0.037919326087145544, -1.2890054064822023, -0.21329402202820613, -1.3735680566238895, 3.3039841511057912, -1.947342820723505, -2.5133721621674954, 0.29310600906053114, -1.3545118481811322, -4.055685315609239, -3.36648808068222, 6.821802164320313, 5.205300023914758, 4.932591744216259, 5.02091641659137, 6.168059656993405, 8.559465264605508, -9.439437131566937, -3.879881263804265, -21.295699475802603, -21.465782709953917, -13.741235407939751, -11.344073373074663, 2.5525763414523404, 2.3048542827142247, 8.79544690494416, 4.473558744229155, 19.19470956500333, 13.164760669479922, 14.847011804499653, 12.768568842530998, -8.520203645360473, -13.55943186884018, -5.202571725444789, 0.7852283890999457, 10.961951648132349, 8.542598766751645, 0.45925871451609074, 1.4763212772764411, -0.11374868828783771, -0.2113100352705184, -0.48726324286227357, -0.5387246629654886, 0.0, 0.0, -3.144830184740659, 2.71224811043423, -3.3469904795984387], \"xaxis\": \"x\", \"y\": [\"Ridge\", \"Ridge\", \"Ridge\", \"Ridge\", \"Ridge\", \"Ridge\", \"Ridge\", \"Ridge\", \"Ridge\", \"Ridge\", \"Ridge\", \"Ridge\", \"Ridge\", \"Ridge\", \"Ridge\", \"Ridge\", \"Ridge\", \"Ridge\", \"Ridge\", \"Ridge\", \"Ridge\", \"Ridge\", \"Ridge\", \"Ridge\", \"Ridge\", \"Ridge\", \"Ridge\", \"Ridge\", \"Ridge\", \"Ridge\", \"Ridge\", \"Ridge\", \"Ridge\", \"Ridge\", \"Ridge\", \"Ridge\", \"Ridge\", \"Ridge\", \"Ridge\", \"Ridge\", \"Ridge\", \"Ridge\", \"Ridge\", \"Ridge\", \"Ridge\", \"Ridge\", \"Ridge\", \"Ridge\", \"Ridge\", \"Ridge\", \"Ridge\", \"Ridge\", \"Ridge\", \"Ridge\", \"Ridge\", \"Ridge\", \"Ridge\", \"Ridge\"], \"yaxis\": \"y2\"}],\n",
       "                        {\"barmode\": \"overlay\", \"hovermode\": \"closest\", \"legend\": {\"traceorder\": \"reversed\"}, \"template\": {\"data\": {\"bar\": [{\"error_x\": {\"color\": \"#2a3f5f\"}, \"error_y\": {\"color\": \"#2a3f5f\"}, \"marker\": {\"line\": {\"color\": \"#E5ECF6\", \"width\": 0.5}}, \"type\": \"bar\"}], \"barpolar\": [{\"marker\": {\"line\": {\"color\": \"#E5ECF6\", \"width\": 0.5}}, \"type\": \"barpolar\"}], \"carpet\": [{\"aaxis\": {\"endlinecolor\": \"#2a3f5f\", \"gridcolor\": \"white\", \"linecolor\": \"white\", \"minorgridcolor\": \"white\", \"startlinecolor\": \"#2a3f5f\"}, \"baxis\": {\"endlinecolor\": \"#2a3f5f\", \"gridcolor\": \"white\", \"linecolor\": \"white\", \"minorgridcolor\": \"white\", \"startlinecolor\": \"#2a3f5f\"}, \"type\": \"carpet\"}], \"choropleth\": [{\"colorbar\": {\"outlinewidth\": 0, \"ticks\": \"\"}, \"type\": \"choropleth\"}], \"contour\": [{\"colorbar\": {\"outlinewidth\": 0, \"ticks\": \"\"}, \"colorscale\": [[0.0, \"#0d0887\"], [0.1111111111111111, \"#46039f\"], [0.2222222222222222, \"#7201a8\"], [0.3333333333333333, \"#9c179e\"], [0.4444444444444444, \"#bd3786\"], [0.5555555555555556, \"#d8576b\"], [0.6666666666666666, \"#ed7953\"], [0.7777777777777778, \"#fb9f3a\"], [0.8888888888888888, \"#fdca26\"], [1.0, \"#f0f921\"]], \"type\": \"contour\"}], \"contourcarpet\": [{\"colorbar\": {\"outlinewidth\": 0, \"ticks\": \"\"}, \"type\": \"contourcarpet\"}], \"heatmap\": [{\"colorbar\": {\"outlinewidth\": 0, \"ticks\": \"\"}, \"colorscale\": [[0.0, \"#0d0887\"], [0.1111111111111111, \"#46039f\"], [0.2222222222222222, \"#7201a8\"], [0.3333333333333333, \"#9c179e\"], [0.4444444444444444, \"#bd3786\"], [0.5555555555555556, \"#d8576b\"], [0.6666666666666666, \"#ed7953\"], [0.7777777777777778, \"#fb9f3a\"], [0.8888888888888888, \"#fdca26\"], [1.0, \"#f0f921\"]], \"type\": \"heatmap\"}], \"heatmapgl\": [{\"colorbar\": {\"outlinewidth\": 0, \"ticks\": \"\"}, \"colorscale\": [[0.0, \"#0d0887\"], [0.1111111111111111, \"#46039f\"], [0.2222222222222222, \"#7201a8\"], [0.3333333333333333, \"#9c179e\"], [0.4444444444444444, \"#bd3786\"], [0.5555555555555556, \"#d8576b\"], [0.6666666666666666, \"#ed7953\"], [0.7777777777777778, \"#fb9f3a\"], [0.8888888888888888, \"#fdca26\"], [1.0, \"#f0f921\"]], \"type\": \"heatmapgl\"}], \"histogram\": [{\"marker\": {\"colorbar\": {\"outlinewidth\": 0, \"ticks\": \"\"}}, \"type\": \"histogram\"}], \"histogram2d\": [{\"colorbar\": {\"outlinewidth\": 0, \"ticks\": \"\"}, \"colorscale\": [[0.0, \"#0d0887\"], [0.1111111111111111, \"#46039f\"], [0.2222222222222222, \"#7201a8\"], [0.3333333333333333, \"#9c179e\"], [0.4444444444444444, \"#bd3786\"], [0.5555555555555556, \"#d8576b\"], [0.6666666666666666, \"#ed7953\"], [0.7777777777777778, \"#fb9f3a\"], [0.8888888888888888, \"#fdca26\"], [1.0, \"#f0f921\"]], \"type\": \"histogram2d\"}], \"histogram2dcontour\": [{\"colorbar\": {\"outlinewidth\": 0, \"ticks\": \"\"}, \"colorscale\": [[0.0, \"#0d0887\"], [0.1111111111111111, \"#46039f\"], [0.2222222222222222, \"#7201a8\"], [0.3333333333333333, \"#9c179e\"], [0.4444444444444444, \"#bd3786\"], [0.5555555555555556, \"#d8576b\"], [0.6666666666666666, \"#ed7953\"], [0.7777777777777778, \"#fb9f3a\"], [0.8888888888888888, \"#fdca26\"], [1.0, \"#f0f921\"]], \"type\": \"histogram2dcontour\"}], \"mesh3d\": [{\"colorbar\": {\"outlinewidth\": 0, \"ticks\": \"\"}, \"type\": \"mesh3d\"}], \"parcoords\": [{\"line\": {\"colorbar\": {\"outlinewidth\": 0, \"ticks\": \"\"}}, \"type\": \"parcoords\"}], \"pie\": [{\"automargin\": true, \"type\": \"pie\"}], \"scatter\": [{\"marker\": {\"colorbar\": {\"outlinewidth\": 0, \"ticks\": \"\"}}, \"type\": \"scatter\"}], \"scatter3d\": [{\"line\": {\"colorbar\": {\"outlinewidth\": 0, \"ticks\": \"\"}}, \"marker\": {\"colorbar\": {\"outlinewidth\": 0, \"ticks\": \"\"}}, \"type\": \"scatter3d\"}], \"scattercarpet\": [{\"marker\": {\"colorbar\": {\"outlinewidth\": 0, \"ticks\": \"\"}}, \"type\": \"scattercarpet\"}], \"scattergeo\": [{\"marker\": {\"colorbar\": {\"outlinewidth\": 0, \"ticks\": \"\"}}, \"type\": \"scattergeo\"}], \"scattergl\": [{\"marker\": {\"colorbar\": {\"outlinewidth\": 0, \"ticks\": \"\"}}, \"type\": \"scattergl\"}], \"scattermapbox\": [{\"marker\": {\"colorbar\": {\"outlinewidth\": 0, \"ticks\": \"\"}}, \"type\": \"scattermapbox\"}], \"scatterpolar\": [{\"marker\": {\"colorbar\": {\"outlinewidth\": 0, \"ticks\": \"\"}}, \"type\": \"scatterpolar\"}], \"scatterpolargl\": [{\"marker\": {\"colorbar\": {\"outlinewidth\": 0, \"ticks\": \"\"}}, \"type\": \"scatterpolargl\"}], \"scatterternary\": [{\"marker\": {\"colorbar\": {\"outlinewidth\": 0, \"ticks\": \"\"}}, \"type\": \"scatterternary\"}], \"surface\": [{\"colorbar\": {\"outlinewidth\": 0, \"ticks\": \"\"}, \"colorscale\": [[0.0, \"#0d0887\"], [0.1111111111111111, \"#46039f\"], [0.2222222222222222, \"#7201a8\"], [0.3333333333333333, \"#9c179e\"], [0.4444444444444444, \"#bd3786\"], [0.5555555555555556, \"#d8576b\"], [0.6666666666666666, \"#ed7953\"], [0.7777777777777778, \"#fb9f3a\"], [0.8888888888888888, \"#fdca26\"], [1.0, \"#f0f921\"]], \"type\": \"surface\"}], \"table\": [{\"cells\": {\"fill\": {\"color\": \"#EBF0F8\"}, \"line\": {\"color\": \"white\"}}, \"header\": {\"fill\": {\"color\": \"#C8D4E3\"}, \"line\": {\"color\": \"white\"}}, \"type\": \"table\"}]}, \"layout\": {\"annotationdefaults\": {\"arrowcolor\": \"#2a3f5f\", \"arrowhead\": 0, \"arrowwidth\": 1}, \"coloraxis\": {\"colorbar\": {\"outlinewidth\": 0, \"ticks\": \"\"}}, \"colorscale\": {\"diverging\": [[0, \"#8e0152\"], [0.1, \"#c51b7d\"], [0.2, \"#de77ae\"], [0.3, \"#f1b6da\"], [0.4, \"#fde0ef\"], [0.5, \"#f7f7f7\"], [0.6, \"#e6f5d0\"], [0.7, \"#b8e186\"], [0.8, \"#7fbc41\"], [0.9, \"#4d9221\"], [1, \"#276419\"]], \"sequential\": [[0.0, \"#0d0887\"], [0.1111111111111111, \"#46039f\"], [0.2222222222222222, \"#7201a8\"], [0.3333333333333333, \"#9c179e\"], [0.4444444444444444, \"#bd3786\"], [0.5555555555555556, \"#d8576b\"], [0.6666666666666666, \"#ed7953\"], [0.7777777777777778, \"#fb9f3a\"], [0.8888888888888888, \"#fdca26\"], [1.0, \"#f0f921\"]], \"sequentialminus\": [[0.0, \"#0d0887\"], [0.1111111111111111, \"#46039f\"], [0.2222222222222222, \"#7201a8\"], [0.3333333333333333, \"#9c179e\"], [0.4444444444444444, \"#bd3786\"], [0.5555555555555556, \"#d8576b\"], [0.6666666666666666, \"#ed7953\"], [0.7777777777777778, \"#fb9f3a\"], [0.8888888888888888, \"#fdca26\"], [1.0, \"#f0f921\"]]}, \"colorway\": [\"#636efa\", \"#EF553B\", \"#00cc96\", \"#ab63fa\", \"#FFA15A\", \"#19d3f3\", \"#FF6692\", \"#B6E880\", \"#FF97FF\", \"#FECB52\"], \"font\": {\"color\": \"#2a3f5f\"}, \"geo\": {\"bgcolor\": \"white\", \"lakecolor\": \"white\", \"landcolor\": \"#E5ECF6\", \"showlakes\": true, \"showland\": true, \"subunitcolor\": \"white\"}, \"hoverlabel\": {\"align\": \"left\"}, \"hovermode\": \"closest\", \"mapbox\": {\"style\": \"light\"}, \"paper_bgcolor\": \"white\", \"plot_bgcolor\": \"#E5ECF6\", \"polar\": {\"angularaxis\": {\"gridcolor\": \"white\", \"linecolor\": \"white\", \"ticks\": \"\"}, \"bgcolor\": \"#E5ECF6\", \"radialaxis\": {\"gridcolor\": \"white\", \"linecolor\": \"white\", \"ticks\": \"\"}}, \"scene\": {\"xaxis\": {\"backgroundcolor\": \"#E5ECF6\", \"gridcolor\": \"white\", \"gridwidth\": 2, \"linecolor\": \"white\", \"showbackground\": true, \"ticks\": \"\", \"zerolinecolor\": \"white\"}, \"yaxis\": {\"backgroundcolor\": \"#E5ECF6\", \"gridcolor\": \"white\", \"gridwidth\": 2, \"linecolor\": \"white\", \"showbackground\": true, \"ticks\": \"\", \"zerolinecolor\": \"white\"}, \"zaxis\": {\"backgroundcolor\": \"#E5ECF6\", \"gridcolor\": \"white\", \"gridwidth\": 2, \"linecolor\": \"white\", \"showbackground\": true, \"ticks\": \"\", \"zerolinecolor\": \"white\"}}, \"shapedefaults\": {\"line\": {\"color\": \"#2a3f5f\"}}, \"ternary\": {\"aaxis\": {\"gridcolor\": \"white\", \"linecolor\": \"white\", \"ticks\": \"\"}, \"baxis\": {\"gridcolor\": \"white\", \"linecolor\": \"white\", \"ticks\": \"\"}, \"bgcolor\": \"#E5ECF6\", \"caxis\": {\"gridcolor\": \"white\", \"linecolor\": \"white\", \"ticks\": \"\"}}, \"title\": {\"x\": 0.05}, \"xaxis\": {\"automargin\": true, \"gridcolor\": \"white\", \"linecolor\": \"white\", \"ticks\": \"\", \"title\": {\"standoff\": 15}, \"zerolinecolor\": \"white\", \"zerolinewidth\": 2}, \"yaxis\": {\"automargin\": true, \"gridcolor\": \"white\", \"linecolor\": \"white\", \"ticks\": \"\", \"title\": {\"standoff\": 15}, \"zerolinecolor\": \"white\", \"zerolinewidth\": 2}}}, \"xaxis\": {\"anchor\": \"y2\", \"domain\": [0.0, 1.0], \"zeroline\": false}, \"yaxis\": {\"anchor\": \"free\", \"domain\": [0.35, 1], \"position\": 0.0}, \"yaxis2\": {\"anchor\": \"x\", \"domain\": [0, 0.25], \"dtick\": 1, \"showticklabels\": false}},\n",
       "                        {\"responsive\": true}\n",
       "                    ).then(function(){\n",
       "                            \n",
       "var gd = document.getElementById('d53ca1c9-0229-4b5c-85cf-9e73f3cfb800');\n",
       "var x = new MutationObserver(function (mutations, observer) {{\n",
       "        var display = window.getComputedStyle(gd).display;\n",
       "        if (!display || display === 'none') {{\n",
       "            console.log([gd, 'removed!']);\n",
       "            Plotly.purge(gd);\n",
       "            observer.disconnect();\n",
       "        }}\n",
       "}});\n",
       "\n",
       "// Listen for the removal of the full notebook cells\n",
       "var notebookContainer = gd.closest('#notebook-container');\n",
       "if (notebookContainer) {{\n",
       "    x.observe(notebookContainer, {childList: true});\n",
       "}}\n",
       "\n",
       "// Listen for the clearing of the current output cell\n",
       "var outputEl = gd.closest('.output');\n",
       "if (outputEl) {{\n",
       "    x.observe(outputEl, {childList: true});\n",
       "}}\n",
       "\n",
       "                        })\n",
       "                };\n",
       "                });\n",
       "            </script>\n",
       "        </div>"
      ]
     },
     "metadata": {},
     "output_type": "display_data"
    }
   ],
   "source": [
    "ff.create_distplot([\n",
    "    models['Lasso'][\"LinearModel\"].coef_, \n",
    "    models['ridge'][\"LinearModel\"].coef_],\n",
    "    [\"Lasso\", \"Ridge\"], bin_size=2)"
   ]
  },
  {
   "cell_type": "code",
   "execution_count": 875,
   "metadata": {},
   "outputs": [
    {
     "name": "stdout",
     "output_type": "stream",
     "text": [
      "['cases' 'PopulationEstimate2018' 'PopulationEstimate65+2017'\n",
      " 'PopulationDensityperSqMile2010' 'CensusPopulation2010' 'MedianAge2010'\n",
      " '#EligibleforMedicare2018' 'MedicareEnrollment,AgedTot2017'\n",
      " 'DiabetesPercentage' 'HeartDiseaseMortality' 'StrokeMortality'\n",
      " 'Smokers_Percentage' 'RespMortalityRate2014' '#FTEHospitalTotal2017'\n",
      " \"TotalM.D.'s,TotNon-FedandFed2017\" '#HospParticipatinginNetwork2017'\n",
      " '#Hospitals' '#ICU_beds' 'dem_to_rep_ratio' 'PopMale<52010'\n",
      " 'PopFmle<52010' 'PopMale5-92010' 'PopFmle5-92010' 'PopMale10-142010'\n",
      " 'PopFmle10-142010' 'PopMale15-192010' 'PopFmle15-192010'\n",
      " 'PopMale20-242010' 'PopFmle20-242010' 'PopMale25-292010'\n",
      " 'PopFmle25-292010' 'PopMale30-342010' 'PopFmle30-342010'\n",
      " 'PopMale35-442010' 'PopFmle35-442010' 'PopMale45-542010'\n",
      " 'PopFmle45-542010' 'PopMale55-592010' 'PopFmle55-592010'\n",
      " 'PopMale60-642010' 'PopFmle60-642010' 'PopMale65-742010'\n",
      " 'PopFmle65-742010' 'PopMale75-842010' 'PopFmle75-842010' 'PopMale>842010'\n",
      " 'PopFmle>842010' 'stay at home' '>50 gatherings' '>500 gatherings'\n",
      " 'public schools' 'restaurant dine-in' 'entertainment/gym'\n",
      " 'federal guidelines' 'foreign travel ban' 'SVIPercentile'\n",
      " 'Poverty Pct All Ages 2018' 'Median Household Income 2018']\n"
     ]
    }
   ],
   "source": [
    "ct = models['Lasso']['SelectColumns']\n",
    "feature_names = np.array(X_col)\n",
    "print(feature_names)"
   ]
  },
  {
   "cell_type": "code",
   "execution_count": 876,
   "metadata": {},
   "outputs": [
    {
     "data": {
      "text/plain": [
       "array([101.67005616,   0.        ,   0.        ,   3.71779697,\n",
       "         0.        ,   0.        ,   0.        ,   0.        ,\n",
       "        -0.        ,   0.75174001,   0.        ,   0.        ,\n",
       "        -0.        ,  -0.        ,  -0.        ,  -0.        ,\n",
       "        -0.        ,  -0.        ,  -0.        ,  -0.        ,\n",
       "        -0.        ,   0.        ,   0.        ,   0.        ,\n",
       "         0.        ,   0.        ,   0.        ,  -0.        ,\n",
       "        -0.        , -32.68475579,  -0.        ,  -0.        ,\n",
       "        -0.        ,   0.        ,   0.        ,   0.        ,\n",
       "         0.        ,  19.65546075,   0.        ,   0.        ,\n",
       "         0.        ,   0.        ,   0.        ,   0.        ,\n",
       "         0.        ,   3.82026497,   5.20723222,  -0.        ,\n",
       "         0.        ,   0.        ,  -0.        ,  -0.        ,\n",
       "        -0.        ,   0.        ,   0.        ,  -0.        ,\n",
       "         0.        ,   0.        ])"
      ]
     },
     "execution_count": 876,
     "metadata": {},
     "output_type": "execute_result"
    }
   ],
   "source": [
    "models['Lasso'][\"LinearModel\"].coef_"
   ]
  },
  {
   "cell_type": "code",
   "execution_count": 872,
   "metadata": {},
   "outputs": [
    {
     "data": {
      "text/plain": [
       "array(['cases', 'PopulationDensityperSqMile2010', 'HeartDiseaseMortality',\n",
       "       'PopMale25-292010', 'PopMale55-592010', 'PopMale>842010',\n",
       "       'PopFmle>842010'], dtype='<U32')"
      ]
     },
     "execution_count": 872,
     "metadata": {},
     "output_type": "execute_result"
    }
   ],
   "source": [
    "kept = ~np.isclose(models['Lasso'][\"LinearModel\"].coef_, 0)\n",
    "feature_names[kept]"
   ]
  },
  {
   "cell_type": "code",
   "execution_count": 882,
   "metadata": {},
   "outputs": [
    {
     "data": {
      "text/plain": [
       "array(['cases', 'PopulationEstimate2018', 'PopulationEstimate65+2017',\n",
       "       'PopulationDensityperSqMile2010', 'CensusPopulation2010',\n",
       "       'MedianAge2010', '#EligibleforMedicare2018',\n",
       "       'MedicareEnrollment,AgedTot2017', 'DiabetesPercentage',\n",
       "       'HeartDiseaseMortality', 'StrokeMortality', 'Smokers_Percentage',\n",
       "       'RespMortalityRate2014', '#FTEHospitalTotal2017',\n",
       "       \"TotalM.D.'s,TotNon-FedandFed2017\",\n",
       "       '#HospParticipatinginNetwork2017', '#Hospitals', '#ICU_beds',\n",
       "       'dem_to_rep_ratio', 'PopMale<52010', 'PopFmle<52010',\n",
       "       'PopMale5-92010', 'PopFmle5-92010', 'PopMale10-142010',\n",
       "       'PopFmle10-142010', 'PopMale15-192010', 'PopFmle15-192010',\n",
       "       'PopMale20-242010', 'PopFmle20-242010', 'PopMale25-292010',\n",
       "       'PopFmle25-292010', 'PopMale30-342010', 'PopFmle30-342010',\n",
       "       'PopMale35-442010', 'PopFmle35-442010', 'PopMale45-542010',\n",
       "       'PopFmle45-542010', 'PopMale55-592010', 'PopFmle55-592010',\n",
       "       'PopMale60-642010', 'PopFmle60-642010', 'PopMale65-742010',\n",
       "       'PopFmle65-742010', 'PopMale75-842010', 'PopFmle75-842010',\n",
       "       'PopMale>842010', 'PopFmle>842010', 'stay at home',\n",
       "       '>50 gatherings', '>500 gatherings', 'public schools',\n",
       "       'restaurant dine-in', 'entertainment/gym', 'SVIPercentile',\n",
       "       'Poverty Pct All Ages 2018', 'Median Household Income 2018'],\n",
       "      dtype='<U32')"
      ]
     },
     "execution_count": 882,
     "metadata": {},
     "output_type": "execute_result"
    }
   ],
   "source": [
    "kept2 = ~np.isclose(models['RidgeN(alpha_best)'][\"LinearModel\"].coef_, 0)\n",
    "feature_names[kept2]"
   ]
  },
  {
   "cell_type": "code",
   "execution_count": 890,
   "metadata": {},
   "outputs": [
    {
     "data": {
      "text/plain": [
       "array(['cases', 'PopulationEstimate2018', 'PopulationEstimate65+2017',\n",
       "       'PopulationDensityperSqMile2010', 'CensusPopulation2010',\n",
       "       'MedianAge2010', '#EligibleforMedicare2018',\n",
       "       'MedicareEnrollment,AgedTot2017', 'DiabetesPercentage',\n",
       "       'HeartDiseaseMortality', 'StrokeMortality', 'Smokers_Percentage',\n",
       "       'RespMortalityRate2014', '#FTEHospitalTotal2017',\n",
       "       \"TotalM.D.'s,TotNon-FedandFed2017\",\n",
       "       '#HospParticipatinginNetwork2017', '#Hospitals', '#ICU_beds',\n",
       "       'dem_to_rep_ratio', 'PopMale<52010', 'PopFmle<52010',\n",
       "       'PopMale5-92010', 'PopFmle5-92010', 'PopMale10-142010',\n",
       "       'PopFmle10-142010', 'PopMale15-192010', 'PopFmle15-192010',\n",
       "       'PopMale20-242010', 'PopFmle20-242010', 'PopMale25-292010',\n",
       "       'PopFmle25-292010', 'PopMale30-342010', 'PopFmle30-342010',\n",
       "       'PopMale35-442010', 'PopFmle35-442010', 'PopMale45-542010',\n",
       "       'PopFmle45-542010', 'PopMale55-592010', 'PopFmle55-592010',\n",
       "       'PopMale60-642010', 'PopFmle60-642010', 'PopMale65-742010',\n",
       "       'PopFmle65-742010', 'PopMale75-842010', 'PopFmle75-842010',\n",
       "       'PopMale>842010', 'PopFmle>842010', 'stay at home',\n",
       "       '>50 gatherings', '>500 gatherings', 'public schools',\n",
       "       'restaurant dine-in', 'entertainment/gym', 'SVIPercentile',\n",
       "       'Poverty Pct All Ages 2018', 'Median Household Income 2018'],\n",
       "      dtype='<U32')"
      ]
     },
     "execution_count": 890,
     "metadata": {},
     "output_type": "execute_result"
    }
   ],
   "source": [
    "kept3 = ~np.isclose(models['linear'][\"LinearModel\"].coef_, 0)\n",
    "feature_names[kept3]"
   ]
  },
  {
   "cell_type": "code",
   "execution_count": null,
   "metadata": {},
   "outputs": [],
   "source": []
  }
 ],
 "metadata": {
  "kernelspec": {
   "display_name": "Python 3",
   "language": "python",
   "name": "python3"
  },
  "language_info": {
   "codemirror_mode": {
    "name": "ipython",
    "version": 3
   },
   "file_extension": ".py",
   "mimetype": "text/x-python",
   "name": "python",
   "nbconvert_exporter": "python",
   "pygments_lexer": "ipython3",
   "version": "3.7.6"
  }
 },
 "nbformat": 4,
 "nbformat_minor": 4
}
